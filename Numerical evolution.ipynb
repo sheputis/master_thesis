{
 "cells": [
  {
   "cell_type": "markdown",
   "metadata": {},
   "source": [
    "This is a numerical solution of the evolution of a density matrix"
   ]
  },
  {
   "cell_type": "code",
   "execution_count": 1,
   "metadata": {},
   "outputs": [],
   "source": [
    "#imorting dependencies\n",
    "import numpy as np\n",
    "import sympy as sp\n",
    "from scipy.integrate import odeint\n",
    "import matplotlib.pyplot as plt\n"
   ]
  },
  {
   "cell_type": "code",
   "execution_count": 2,
   "metadata": {},
   "outputs": [],
   "source": [
    "#defining symbols\n",
    "rho_cc = sp.Symbol(\"rho_cc\")\n",
    "rho_bb = sp.Symbol(\"rho_bb\")\n",
    "rho_aa = sp.Symbol(\"rho_aa\")\n",
    "rho_cb = sp.Symbol(\"rho_cb\")\n",
    "rho_ca = sp.Symbol(\"rho_ca\")\n",
    "rho_ba = sp.Symbol(\"rho_ba\")\n",
    "rho_bc = sp.Symbol(\"rho_bc\")\n",
    "rho_ac = sp.Symbol(\"rho_ac\")\n",
    "rho_ab = sp.Symbol(\"rho_ab\")\n",
    "\n",
    "E_c    = sp.Symbol(\"E_c\")\n",
    "E_b    = sp.Symbol(\"E_b\")\n",
    "E_a    = sp.Symbol(\"E_a\")\n",
    "\n",
    "h      = sp.Symbol(\"h\")\n",
    "Om_cb  = sp.Symbol(\"\\Omega_{cb}\")\n",
    "Om_ba  = sp.Symbol(\"\\Omega_{ba}\")\n",
    "V_cb   = h*Om_cb/2\n",
    "V_ba   = h*Om_ba/2\n",
    "om_cb  = sp.Symbol(\"\\omega_{L'}\")\n",
    "om_ba  = sp.Symbol(\"\\omega_{L}\")\n",
    "I      = sp.Symbol(\"I\")\n",
    "t      = sp.Symbol(\"t\")\n",
    "e_cb_lower   = sp.exp(I*om_cb*t)\n",
    "e_cb_upper   = sp.exp(-I*om_cb*t)\n",
    "e_ba_lower   = sp.exp(I*om_ba*t)\n",
    "e_ba_upper   = sp.exp(-I*om_ba*t)\n",
    "\n",
    "values = [(E_c,50),(E_b,40),(E_a,10),(h,1),(Om_cb,1),(Om_ba,1),(om_cb,10),(om_ba,30),(I,1j)]"
   ]
  },
  {
   "cell_type": "code",
   "execution_count": 3,
   "metadata": {},
   "outputs": [],
   "source": [
    "#defining matrices\n",
    "rho = sp.Matrix([\n",
    "    [rho_cc,rho_cb,rho_ca],\n",
    "    [rho_bc,rho_bb,rho_ba],\n",
    "    [rho_ac,rho_ab,rho_aa]\n",
    "])\n",
    "H_A =sp.Matrix([\n",
    "    [E_c,0,0],\n",
    "    [0,E_b,0],\n",
    "    [0,0,E_a]\n",
    "])\n",
    "\n",
    "V_1 =V_cb*sp.Matrix([\n",
    "    [0,         e_cb_upper,0],\n",
    "    [e_cb_lower,0         ,0],\n",
    "    [0,         0         ,0]\n",
    "])\n",
    "V_2 =V_ba*sp.Matrix([\n",
    "    [0, 0,                 0],\n",
    "    [0,0         ,e_ba_upper],\n",
    "    [0,e_ba_lower         ,0]\n",
    "])"
   ]
  },
  {
   "cell_type": "code",
   "execution_count": 4,
   "metadata": {},
   "outputs": [
    {
     "data": {
      "text/latex": [
       "$\\displaystyle \\left[\\begin{matrix}0 & \\frac{\\Omega_{cb} h e^{- I \\omega_{L'} t}}{2} & 0\\\\\\frac{\\Omega_{cb} h e^{I \\omega_{L'} t}}{2} & 0 & 0\\\\0 & 0 & 0\\end{matrix}\\right]$"
      ],
      "text/plain": [
       "Matrix([\n",
       "[                                   0, \\Omega_{cb}*h*exp(-I*\\omega_{L'}*t)/2, 0],\n",
       "[\\Omega_{cb}*h*exp(I*\\omega_{L'}*t)/2,                                     0, 0],\n",
       "[                                   0,                                     0, 0]])"
      ]
     },
     "execution_count": 4,
     "metadata": {},
     "output_type": "execute_result"
    }
   ],
   "source": [
    "V_1"
   ]
  },
  {
   "cell_type": "code",
   "execution_count": 5,
   "metadata": {},
   "outputs": [],
   "source": [
    "first = H_A*rho-rho*H_A\n",
    "second= V_1*rho-rho*V_1\n",
    "third = V_2*rho-rho*V_2"
   ]
  },
  {
   "cell_type": "code",
   "execution_count": 6,
   "metadata": {},
   "outputs": [
    {
     "data": {
      "text/latex": [
       "$\\displaystyle \\left[\\begin{matrix}0 & - \\frac{i \\left(- E_{b} \\rho_{cb} + E_{c} \\rho_{cb}\\right)}{h} & - \\frac{i \\left(- E_{a} \\rho_{ca} + E_{c} \\rho_{ca}\\right)}{h}\\\\- \\frac{i \\left(E_{b} \\rho_{bc} - E_{c} \\rho_{bc}\\right)}{h} & 0 & - \\frac{i \\left(- E_{a} \\rho_{ba} + E_{b} \\rho_{ba}\\right)}{h}\\\\- \\frac{i \\left(E_{a} \\rho_{ac} - E_{c} \\rho_{ac}\\right)}{h} & - \\frac{i \\left(E_{a} \\rho_{ab} - E_{b} \\rho_{ab}\\right)}{h} & 0\\end{matrix}\\right]$"
      ],
      "text/plain": [
       "Matrix([\n",
       "[                             0, -I*(-E_b*rho_cb + E_c*rho_cb)/h, -I*(-E_a*rho_ca + E_c*rho_ca)/h],\n",
       "[-I*(E_b*rho_bc - E_c*rho_bc)/h,                               0, -I*(-E_a*rho_ba + E_b*rho_ba)/h],\n",
       "[-I*(E_a*rho_ac - E_c*rho_ac)/h,  -I*(E_a*rho_ab - E_b*rho_ab)/h,                               0]])"
      ]
     },
     "execution_count": 6,
     "metadata": {},
     "output_type": "execute_result"
    }
   ],
   "source": [
    "first_=(-sp.I/h)*first\n",
    "first_"
   ]
  },
  {
   "cell_type": "code",
   "execution_count": 7,
   "metadata": {},
   "outputs": [
    {
     "data": {
      "text/latex": [
       "$\\displaystyle \\left[\\begin{matrix}- \\frac{i \\left(\\frac{\\Omega_{cb} h \\rho_{bc} e^{- I \\omega_{L'} t}}{2} - \\frac{\\Omega_{cb} h \\rho_{cb} e^{I \\omega_{L'} t}}{2}\\right)}{h} & - \\frac{i \\left(\\frac{\\Omega_{cb} h \\rho_{bb} e^{- I \\omega_{L'} t}}{2} - \\frac{\\Omega_{cb} h \\rho_{cc} e^{- I \\omega_{L'} t}}{2}\\right)}{h} & - \\frac{i \\Omega_{cb} \\rho_{ba} e^{- I \\omega_{L'} t}}{2}\\\\- \\frac{i \\left(- \\frac{\\Omega_{cb} h \\rho_{bb} e^{I \\omega_{L'} t}}{2} + \\frac{\\Omega_{cb} h \\rho_{cc} e^{I \\omega_{L'} t}}{2}\\right)}{h} & - \\frac{i \\left(- \\frac{\\Omega_{cb} h \\rho_{bc} e^{- I \\omega_{L'} t}}{2} + \\frac{\\Omega_{cb} h \\rho_{cb} e^{I \\omega_{L'} t}}{2}\\right)}{h} & - \\frac{i \\Omega_{cb} \\rho_{ca} e^{I \\omega_{L'} t}}{2}\\\\\\frac{i \\Omega_{cb} \\rho_{ab} e^{I \\omega_{L'} t}}{2} & \\frac{i \\Omega_{cb} \\rho_{ac} e^{- I \\omega_{L'} t}}{2} & 0\\end{matrix}\\right]$"
      ],
      "text/plain": [
       "Matrix([\n",
       "[-I*(\\Omega_{cb}*h*rho_bc*exp(-I*\\omega_{L'}*t)/2 - \\Omega_{cb}*h*rho_cb*exp(I*\\omega_{L'}*t)/2)/h, -I*(\\Omega_{cb}*h*rho_bb*exp(-I*\\omega_{L'}*t)/2 - \\Omega_{cb}*h*rho_cc*exp(-I*\\omega_{L'}*t)/2)/h, -I*\\Omega_{cb}*rho_ba*exp(-I*\\omega_{L'}*t)/2],\n",
       "[-I*(-\\Omega_{cb}*h*rho_bb*exp(I*\\omega_{L'}*t)/2 + \\Omega_{cb}*h*rho_cc*exp(I*\\omega_{L'}*t)/2)/h, -I*(-\\Omega_{cb}*h*rho_bc*exp(-I*\\omega_{L'}*t)/2 + \\Omega_{cb}*h*rho_cb*exp(I*\\omega_{L'}*t)/2)/h,  -I*\\Omega_{cb}*rho_ca*exp(I*\\omega_{L'}*t)/2],\n",
       "[                                                      I*\\Omega_{cb}*rho_ab*exp(I*\\omega_{L'}*t)/2,                                                       I*\\Omega_{cb}*rho_ac*exp(-I*\\omega_{L'}*t)/2,                                             0]])"
      ]
     },
     "execution_count": 7,
     "metadata": {},
     "output_type": "execute_result"
    }
   ],
   "source": [
    "second_=(-sp.I/h)*second\n",
    "second_"
   ]
  },
  {
   "cell_type": "code",
   "execution_count": 8,
   "metadata": {},
   "outputs": [
    {
     "data": {
      "text/latex": [
       "$\\displaystyle \\left[\\begin{matrix}0 & \\frac{i \\Omega_{ba} \\rho_{ca} e^{I \\omega_{L} t}}{2} & \\frac{i \\Omega_{ba} \\rho_{cb} e^{- I \\omega_{L} t}}{2}\\\\- \\frac{i \\Omega_{ba} \\rho_{ac} e^{- I \\omega_{L} t}}{2} & - \\frac{i \\left(\\frac{\\Omega_{ba} h \\rho_{ab} e^{- I \\omega_{L} t}}{2} - \\frac{\\Omega_{ba} h \\rho_{ba} e^{I \\omega_{L} t}}{2}\\right)}{h} & - \\frac{i \\left(\\frac{\\Omega_{ba} h \\rho_{aa} e^{- I \\omega_{L} t}}{2} - \\frac{\\Omega_{ba} h \\rho_{bb} e^{- I \\omega_{L} t}}{2}\\right)}{h}\\\\- \\frac{i \\Omega_{ba} \\rho_{bc} e^{I \\omega_{L} t}}{2} & - \\frac{i \\left(- \\frac{\\Omega_{ba} h \\rho_{aa} e^{I \\omega_{L} t}}{2} + \\frac{\\Omega_{ba} h \\rho_{bb} e^{I \\omega_{L} t}}{2}\\right)}{h} & - \\frac{i \\left(- \\frac{\\Omega_{ba} h \\rho_{ab} e^{- I \\omega_{L} t}}{2} + \\frac{\\Omega_{ba} h \\rho_{ba} e^{I \\omega_{L} t}}{2}\\right)}{h}\\end{matrix}\\right]$"
      ],
      "text/plain": [
       "Matrix([\n",
       "[                                           0,                                                      I*\\Omega_{ba}*rho_ca*exp(I*\\omega_{L}*t)/2,                                                      I*\\Omega_{ba}*rho_cb*exp(-I*\\omega_{L}*t)/2],\n",
       "[-I*\\Omega_{ba}*rho_ac*exp(-I*\\omega_{L}*t)/2, -I*(\\Omega_{ba}*h*rho_ab*exp(-I*\\omega_{L}*t)/2 - \\Omega_{ba}*h*rho_ba*exp(I*\\omega_{L}*t)/2)/h, -I*(\\Omega_{ba}*h*rho_aa*exp(-I*\\omega_{L}*t)/2 - \\Omega_{ba}*h*rho_bb*exp(-I*\\omega_{L}*t)/2)/h],\n",
       "[ -I*\\Omega_{ba}*rho_bc*exp(I*\\omega_{L}*t)/2, -I*(-\\Omega_{ba}*h*rho_aa*exp(I*\\omega_{L}*t)/2 + \\Omega_{ba}*h*rho_bb*exp(I*\\omega_{L}*t)/2)/h, -I*(-\\Omega_{ba}*h*rho_ab*exp(-I*\\omega_{L}*t)/2 + \\Omega_{ba}*h*rho_ba*exp(I*\\omega_{L}*t)/2)/h]])"
      ]
     },
     "execution_count": 8,
     "metadata": {},
     "output_type": "execute_result"
    }
   ],
   "source": [
    "third_=(-sp.I/h)*third\n",
    "third_"
   ]
  },
  {
   "cell_type": "code",
   "execution_count": 9,
   "metadata": {},
   "outputs": [],
   "source": [
    "def simplify_matrix(M):\n",
    "    R = M.copy()\n",
    "    for i in range(len(M)):\n",
    "        R[i] = sp.factor(sp.simplify(R[i]))\n",
    "    return R"
   ]
  },
  {
   "cell_type": "code",
   "execution_count": 10,
   "metadata": {},
   "outputs": [
    {
     "data": {
      "text/latex": [
       "$\\displaystyle \\left[\\begin{matrix}0 & \\frac{i \\rho_{cb} \\left(E_{b} - E_{c}\\right)}{h} & \\frac{i \\rho_{ca} \\left(E_{a} - E_{c}\\right)}{h}\\\\- \\frac{i \\rho_{bc} \\left(E_{b} - E_{c}\\right)}{h} & 0 & \\frac{i \\rho_{ba} \\left(E_{a} - E_{b}\\right)}{h}\\\\- \\frac{i \\rho_{ac} \\left(E_{a} - E_{c}\\right)}{h} & - \\frac{i \\rho_{ab} \\left(E_{a} - E_{b}\\right)}{h} & 0\\end{matrix}\\right]$"
      ],
      "text/plain": [
       "Matrix([\n",
       "[                      0,  I*rho_cb*(E_b - E_c)/h, I*rho_ca*(E_a - E_c)/h],\n",
       "[-I*rho_bc*(E_b - E_c)/h,                       0, I*rho_ba*(E_a - E_b)/h],\n",
       "[-I*rho_ac*(E_a - E_c)/h, -I*rho_ab*(E_a - E_b)/h,                      0]])"
      ]
     },
     "execution_count": 10,
     "metadata": {},
     "output_type": "execute_result"
    }
   ],
   "source": [
    "simplify_matrix(first_)"
   ]
  },
  {
   "cell_type": "code",
   "execution_count": 11,
   "metadata": {},
   "outputs": [
    {
     "data": {
      "text/latex": [
       "$\\displaystyle \\left[\\begin{matrix}\\frac{i \\Omega_{cb} \\left(- \\rho_{bc} + \\rho_{cb} e^{2 I \\omega_{L'} t}\\right) e^{- I \\omega_{L'} t}}{2} & - \\frac{i \\Omega_{cb} \\left(\\rho_{bb} - \\rho_{cc}\\right) e^{- I \\omega_{L'} t}}{2} & - \\frac{i \\Omega_{cb} \\rho_{ba} e^{- I \\omega_{L'} t}}{2}\\\\\\frac{i \\Omega_{cb} \\left(\\rho_{bb} - \\rho_{cc}\\right) e^{I \\omega_{L'} t}}{2} & - \\frac{i \\Omega_{cb} \\left(- \\rho_{bc} + \\rho_{cb} e^{2 I \\omega_{L'} t}\\right) e^{- I \\omega_{L'} t}}{2} & - \\frac{i \\Omega_{cb} \\rho_{ca} e^{I \\omega_{L'} t}}{2}\\\\\\frac{i \\Omega_{cb} \\rho_{ab} e^{I \\omega_{L'} t}}{2} & \\frac{i \\Omega_{cb} \\rho_{ac} e^{- I \\omega_{L'} t}}{2} & 0\\end{matrix}\\right]$"
      ],
      "text/plain": [
       "Matrix([\n",
       "[I*\\Omega_{cb}*(-rho_bc + rho_cb*exp(2*I*\\omega_{L'}*t))*exp(-I*\\omega_{L'}*t)/2,                         -I*\\Omega_{cb}*(rho_bb - rho_cc)*exp(-I*\\omega_{L'}*t)/2, -I*\\Omega_{cb}*rho_ba*exp(-I*\\omega_{L'}*t)/2],\n",
       "[                         I*\\Omega_{cb}*(rho_bb - rho_cc)*exp(I*\\omega_{L'}*t)/2, -I*\\Omega_{cb}*(-rho_bc + rho_cb*exp(2*I*\\omega_{L'}*t))*exp(-I*\\omega_{L'}*t)/2,  -I*\\Omega_{cb}*rho_ca*exp(I*\\omega_{L'}*t)/2],\n",
       "[                                    I*\\Omega_{cb}*rho_ab*exp(I*\\omega_{L'}*t)/2,                                     I*\\Omega_{cb}*rho_ac*exp(-I*\\omega_{L'}*t)/2,                                             0]])"
      ]
     },
     "execution_count": 11,
     "metadata": {},
     "output_type": "execute_result"
    }
   ],
   "source": [
    "simplify_matrix(second_)"
   ]
  },
  {
   "cell_type": "code",
   "execution_count": 12,
   "metadata": {},
   "outputs": [
    {
     "data": {
      "text/latex": [
       "$\\displaystyle \\left[\\begin{matrix}0 & \\frac{i \\Omega_{ba} \\rho_{ca} e^{I \\omega_{L} t}}{2} & \\frac{i \\Omega_{ba} \\rho_{cb} e^{- I \\omega_{L} t}}{2}\\\\- \\frac{i \\Omega_{ba} \\rho_{ac} e^{- I \\omega_{L} t}}{2} & \\frac{i \\Omega_{ba} \\left(- \\rho_{ab} + \\rho_{ba} e^{2 I \\omega_{L} t}\\right) e^{- I \\omega_{L} t}}{2} & - \\frac{i \\Omega_{ba} \\left(\\rho_{aa} - \\rho_{bb}\\right) e^{- I \\omega_{L} t}}{2}\\\\- \\frac{i \\Omega_{ba} \\rho_{bc} e^{I \\omega_{L} t}}{2} & \\frac{i \\Omega_{ba} \\left(\\rho_{aa} - \\rho_{bb}\\right) e^{I \\omega_{L} t}}{2} & - \\frac{i \\Omega_{ba} \\left(- \\rho_{ab} + \\rho_{ba} e^{2 I \\omega_{L} t}\\right) e^{- I \\omega_{L} t}}{2}\\end{matrix}\\right]$"
      ],
      "text/plain": [
       "Matrix([\n",
       "[                                           0,                                    I*\\Omega_{ba}*rho_ca*exp(I*\\omega_{L}*t)/2,                                    I*\\Omega_{ba}*rho_cb*exp(-I*\\omega_{L}*t)/2],\n",
       "[-I*\\Omega_{ba}*rho_ac*exp(-I*\\omega_{L}*t)/2, I*\\Omega_{ba}*(-rho_ab + rho_ba*exp(2*I*\\omega_{L}*t))*exp(-I*\\omega_{L}*t)/2,                        -I*\\Omega_{ba}*(rho_aa - rho_bb)*exp(-I*\\omega_{L}*t)/2],\n",
       "[ -I*\\Omega_{ba}*rho_bc*exp(I*\\omega_{L}*t)/2,                         I*\\Omega_{ba}*(rho_aa - rho_bb)*exp(I*\\omega_{L}*t)/2, -I*\\Omega_{ba}*(-rho_ab + rho_ba*exp(2*I*\\omega_{L}*t))*exp(-I*\\omega_{L}*t)/2]])"
      ]
     },
     "execution_count": 12,
     "metadata": {},
     "output_type": "execute_result"
    }
   ],
   "source": [
    "simplify_matrix(third_)\n"
   ]
  },
  {
   "cell_type": "code",
   "execution_count": 13,
   "metadata": {},
   "outputs": [
    {
     "data": {
      "text/latex": [
       "$\\displaystyle \\left[\\begin{matrix}\\frac{i \\Omega_{cb} \\left(- \\rho_{bc} + \\rho_{cb} e^{2 I \\omega_{L'} t}\\right) e^{- I \\omega_{L'} t}}{2} & \\frac{i \\Omega_{ba} \\rho_{ca} e^{I \\omega_{L} t}}{2} - \\frac{i \\Omega_{cb} \\left(\\rho_{bb} - \\rho_{cc}\\right) e^{- I \\omega_{L'} t}}{2} + \\frac{i \\rho_{cb} \\left(E_{b} - E_{c}\\right)}{h} & \\frac{i \\Omega_{ba} \\rho_{cb} e^{- I \\omega_{L} t}}{2} - \\frac{i \\Omega_{cb} \\rho_{ba} e^{- I \\omega_{L'} t}}{2} + \\frac{i \\rho_{ca} \\left(E_{a} - E_{c}\\right)}{h}\\\\- \\frac{i \\Omega_{ba} \\rho_{ac} e^{- I \\omega_{L} t}}{2} + \\frac{i \\Omega_{cb} \\left(\\rho_{bb} - \\rho_{cc}\\right) e^{I \\omega_{L'} t}}{2} - \\frac{i \\rho_{bc} \\left(E_{b} - E_{c}\\right)}{h} & \\frac{i \\Omega_{ba} \\left(- \\rho_{ab} + \\rho_{ba} e^{2 I \\omega_{L} t}\\right) e^{- I \\omega_{L} t}}{2} - \\frac{i \\Omega_{cb} \\left(- \\rho_{bc} + \\rho_{cb} e^{2 I \\omega_{L'} t}\\right) e^{- I \\omega_{L'} t}}{2} & - \\frac{i \\Omega_{ba} \\left(\\rho_{aa} - \\rho_{bb}\\right) e^{- I \\omega_{L} t}}{2} - \\frac{i \\Omega_{cb} \\rho_{ca} e^{I \\omega_{L'} t}}{2} + \\frac{i \\rho_{ba} \\left(E_{a} - E_{b}\\right)}{h}\\\\- \\frac{i \\Omega_{ba} \\rho_{bc} e^{I \\omega_{L} t}}{2} + \\frac{i \\Omega_{cb} \\rho_{ab} e^{I \\omega_{L'} t}}{2} - \\frac{i \\rho_{ac} \\left(E_{a} - E_{c}\\right)}{h} & \\frac{i \\Omega_{ba} \\left(\\rho_{aa} - \\rho_{bb}\\right) e^{I \\omega_{L} t}}{2} + \\frac{i \\Omega_{cb} \\rho_{ac} e^{- I \\omega_{L'} t}}{2} - \\frac{i \\rho_{ab} \\left(E_{a} - E_{b}\\right)}{h} & - \\frac{i \\Omega_{ba} \\left(- \\rho_{ab} + \\rho_{ba} e^{2 I \\omega_{L} t}\\right) e^{- I \\omega_{L} t}}{2}\\end{matrix}\\right]$"
      ],
      "text/plain": [
       "Matrix([\n",
       "[                                               I*\\Omega_{cb}*(-rho_bc + rho_cb*exp(2*I*\\omega_{L'}*t))*exp(-I*\\omega_{L'}*t)/2,                                   I*\\Omega_{ba}*rho_ca*exp(I*\\omega_{L}*t)/2 - I*\\Omega_{cb}*(rho_bb - rho_cc)*exp(-I*\\omega_{L'}*t)/2 + I*rho_cb*(E_b - E_c)/h,            I*\\Omega_{ba}*rho_cb*exp(-I*\\omega_{L}*t)/2 - I*\\Omega_{cb}*rho_ba*exp(-I*\\omega_{L'}*t)/2 + I*rho_ca*(E_a - E_c)/h],\n",
       "[-I*\\Omega_{ba}*rho_ac*exp(-I*\\omega_{L}*t)/2 + I*\\Omega_{cb}*(rho_bb - rho_cc)*exp(I*\\omega_{L'}*t)/2 - I*rho_bc*(E_b - E_c)/h, I*\\Omega_{ba}*(-rho_ab + rho_ba*exp(2*I*\\omega_{L}*t))*exp(-I*\\omega_{L}*t)/2 - I*\\Omega_{cb}*(-rho_bc + rho_cb*exp(2*I*\\omega_{L'}*t))*exp(-I*\\omega_{L'}*t)/2, -I*\\Omega_{ba}*(rho_aa - rho_bb)*exp(-I*\\omega_{L}*t)/2 - I*\\Omega_{cb}*rho_ca*exp(I*\\omega_{L'}*t)/2 + I*rho_ba*(E_a - E_b)/h],\n",
       "[            -I*\\Omega_{ba}*rho_bc*exp(I*\\omega_{L}*t)/2 + I*\\Omega_{cb}*rho_ab*exp(I*\\omega_{L'}*t)/2 - I*rho_ac*(E_a - E_c)/h,                                   I*\\Omega_{ba}*(rho_aa - rho_bb)*exp(I*\\omega_{L}*t)/2 + I*\\Omega_{cb}*rho_ac*exp(-I*\\omega_{L'}*t)/2 - I*rho_ab*(E_a - E_b)/h,                                                 -I*\\Omega_{ba}*(-rho_ab + rho_ba*exp(2*I*\\omega_{L}*t))*exp(-I*\\omega_{L}*t)/2]])"
      ]
     },
     "execution_count": 13,
     "metadata": {},
     "output_type": "execute_result"
    }
   ],
   "source": [
    "full_comm = simplify_matrix(first_) + simplify_matrix(second_) + simplify_matrix(third_)\n",
    "full_comm"
   ]
  },
  {
   "cell_type": "code",
   "execution_count": 14,
   "metadata": {},
   "outputs": [],
   "source": [
    "\n",
    "#a = just_rot[1].subs(values)\n",
    "#c = sp.Symbol(\"c\")\n",
    "#d = sp.Symbol(\"d\")\n",
    "#l = c+1j*d\n",
    "#l\n",
    "#a=a.subs(rho_cb,l)\n",
    "#sp.simplify(a)\n",
    "class odeint_complex:\n",
    "    def __init__(self,rho_expr_l):\n",
    "        self.rho_expr_l_eval =[]\n",
    "        for i in range(len(rho_expr_l)):\n",
    "            self.rho_expr_l_eval.append(rho_expr_l[i].subs(values))\n",
    "        #print(self.rho_expr_l_eval)\n",
    "        #self.a = sp.Symbol(\"a\")\n",
    "        # self.b = sp.Symbol(\"b\")\n",
    "        # rho = self.a+1j*self.b\n",
    "        #self.rhodt = sp.simplify(self.rhodt.subs(rho_cb,rho))\n",
    "        # print(self.rhodt)\n",
    "        #print(sp.re(self.rhodt).subs(rho_cb,1+2j))\n",
    "    def model_real(self,z,t_): #a model for the real part of rhodt\n",
    "        return self.l[0].subs(t,t_)\n",
    "    def model_comp(self,z,t_): #a model for the complex part of rhodt\n",
    "        \n",
    "        return self.l[1].subs(t,t_)\n",
    "    def odeint_comp(self,rho_tpl_l,tspan):\n",
    "        self.rho_tpl_l = rho_tpl_l\n",
    "        rho_val_l_op=[]\n",
    "        for i in range(len(self.rho_tpl_l)):\n",
    "            self.l=(sp.simplify(self.rho_expr_l_eval[i].subs(self.rho_tpl_l))).as_real_imag()\n",
    "            \n",
    "            real = odeint(self.model_real,np.real(self.rho_tpl_l[i][1]),tspan)[1][0]\n",
    "            comp = odeint(self.model_comp,np.imag(self.rho_tpl_l[i][1]),tspan)[1][0]\n",
    "            rho_val_l_op.append(real+1j*comp)    \n",
    "        return rho_val_l_op\n",
    "    \n",
    "just_rot = simplify_matrix(full_comm)\n",
    "just_rot\n",
    "ins= odeint_complex(just_rot)\n"
   ]
  },
  {
   "cell_type": "code",
   "execution_count": 15,
   "metadata": {},
   "outputs": [],
   "source": [
    "def gen_tuple(rho_val_l):\n",
    "    rho_sym_l=[rho_cc,rho_cb,rho_ca,rho_bc,rho_bb,rho_ba,rho_ac,rho_ab,rho_aa]\n",
    "    rho_tpl_l=[]\n",
    "    for i in range(len(rho_val_l)):\n",
    "        rho_tpl_l.append((rho_sym_l[i],rho_val_l[i]))\n",
    "    return rho_tpl_l\n",
    "rho_val_l = [np.complex(0),np.complex(1),np.complex(0),np.complex(0),np.complex(0),np.complex(0),np.complex(0),np.complex(0),np.complex(0)]\n",
    "rho_tpl_l = gen_tuple(rho_val_l)\n"
   ]
  },
  {
   "cell_type": "code",
   "execution_count": 16,
   "metadata": {},
   "outputs": [
    {
     "data": {
      "text/plain": [
       "'import time\\ndef test_1():\\n    expr =t**2\\n    expr.subs(t,1)\\ndef in_test_2(t):\\n    return t**2\\ndef test_2():\\n    in_test_2(1)\\n\\n# ins.odeint_comp(rho_tpl_l,[1,2])\\nt1=time.time()\\nfor i in range(50000):\\n    test_1()\\nt2=time.time()\\nprint(t2-t1)\\nt3=time.time()\\nfor i in range(50000):\\n    test_2()\\nt4=time.time()\\nprint(t4-t3)'"
      ]
     },
     "execution_count": 16,
     "metadata": {},
     "output_type": "execute_result"
    }
   ],
   "source": [
    "#testing the speed of a function:\n",
    "\"\"\"import time\n",
    "def test_1():\n",
    "    expr =t**2\n",
    "    expr.subs(t,1)\n",
    "def in_test_2(t):\n",
    "    return t**2\n",
    "def test_2():\n",
    "    in_test_2(1)\n",
    "\n",
    "# ins.odeint_comp(rho_tpl_l,[1,2])\n",
    "t1=time.time()\n",
    "for i in range(50000):\n",
    "    test_1()\n",
    "t2=time.time()\n",
    "print(t2-t1)\n",
    "t3=time.time()\n",
    "for i in range(50000):\n",
    "    test_2()\n",
    "t4=time.time()\n",
    "print(t4-t3)\"\"\""
   ]
  },
  {
   "cell_type": "code",
   "execution_count": null,
   "metadata": {},
   "outputs": [
    {
     "name": "stdout",
     "output_type": "stream",
     "text": [
      "10.0\n",
      "[None None None ... None None None]\n"
     ]
    }
   ],
   "source": [
    "#time\n",
    "N=10000\n",
    "dt=0.001\n",
    "T=N*dt\n",
    "t_array=np.linspace(0,T,N)\n",
    "print(T)\n",
    "\n",
    "\n",
    "#initial values\n",
    "rho_val_l = [np.complex(0),np.complex(1),np.complex(0),np.complex(0),np.complex(0),np.complex(0),np.complex(0),np.complex(0),np.complex(0)]\n",
    "rho_tpl_l = gen_tuple(rho_val_l)\n",
    "rho_val_l_0=rho_val_l\n",
    "rho_matrix =np.empty(N,dtype=list)\n",
    "print(rho_matrix)\n",
    "rho_matrix[0]=rho_val_l_0\n",
    "\n",
    "for i in range(1,N):\n",
    "    tspan = [t_array[i-1],t_array[i]]\n",
    "    rho_matrix[i]=ins.odeint_comp(gen_tuple(rho_matrix[i-1]),tspan) \n",
    "\n",
    "    \n",
    "#print(rho_matrix)\n",
    "a=np.array([el[0] for el in rho_matrix])\n",
    "b=np.array([el[1] for el in rho_matrix])\n",
    "plt.plot(t_array,np.real(b),'g:',label='real')\n",
    "plt.plot(t_array,np.imag(b),'b-',label='imag')\n",
    "plt.figure()\n",
    "plt.plot(t_array,np.real(a),'r:',label='real')\n",
    "plt.plot(t_array,np.imag(a),'y-',label='imag')\n",
    "plt.ylabel('values')\n",
    "plt.xlabel('time')\n",
    "plt.legend(loc='best')\n",
    "plt.show()"
   ]
  }
 ],
 "metadata": {
  "kernelspec": {
   "display_name": "Python 3",
   "language": "python",
   "name": "python3"
  },
  "language_info": {
   "codemirror_mode": {
    "name": "ipython",
    "version": 3
   },
   "file_extension": ".py",
   "mimetype": "text/x-python",
   "name": "python",
   "nbconvert_exporter": "python",
   "pygments_lexer": "ipython3",
   "version": "3.7.3"
  }
 },
 "nbformat": 4,
 "nbformat_minor": 2
}
