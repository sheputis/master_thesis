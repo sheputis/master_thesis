{
 "cells": [
  {
   "cell_type": "markdown",
   "metadata": {},
   "source": [
    "This is a numerical solution of the evolution of a density matrix"
   ]
  },
  {
   "cell_type": "code",
   "execution_count": 1,
   "metadata": {},
   "outputs": [],
   "source": [
    "#imorting dependencies\n",
    "import numpy as np\n",
    "import sympy as sp\n",
    "from scipy.integrate import odeint\n",
    "import matplotlib.pyplot as plt\n",
    "from sympy.utilities.lambdify import lambdify #used to make functions out of sympy expressions for\n",
    "                                              #speeding up the numerical evaluations"
   ]
  },
  {
   "cell_type": "code",
   "execution_count": 2,
   "metadata": {},
   "outputs": [],
   "source": [
    "#defining symbols\n",
    "rho_cc = sp.Symbol(\"rho_cc\")\n",
    "rho_bb = sp.Symbol(\"rho_bb\")\n",
    "rho_aa = sp.Symbol(\"rho_aa\")\n",
    "rho_cb = sp.Symbol(\"rho_cb\")\n",
    "rho_ca = sp.Symbol(\"rho_ca\")\n",
    "rho_ba = sp.Symbol(\"rho_ba\")\n",
    "rho_bc = sp.Symbol(\"rho_bc\")\n",
    "rho_ac = sp.Symbol(\"rho_ac\")\n",
    "rho_ab = sp.Symbol(\"rho_ab\")\n",
    "\n",
    "E_c    = sp.Symbol(\"E_c\")\n",
    "E_b    = sp.Symbol(\"E_b\")\n",
    "E_a    = sp.Symbol(\"E_a\")\n",
    "\n",
    "h      = sp.Symbol(\"h\")\n",
    "Om_cb  = sp.Symbol(\"\\Omega_{cb}\")\n",
    "Om_ba  = sp.Symbol(\"\\Omega_{ba}\")\n",
    "V_cb   = h*Om_cb/2\n",
    "V_ba   = h*Om_ba/2\n",
    "om_cb  = sp.Symbol(\"\\omega_{L'}\")\n",
    "om_ba  = sp.Symbol(\"\\omega_{L}\")\n",
    "I      = sp.Symbol(\"I\")\n",
    "t      = sp.Symbol(\"t\")\n",
    "e_cb_lower   = sp.exp(I*om_cb*t)\n",
    "e_cb_upper   = sp.exp(-I*om_cb*t)\n",
    "e_ba_lower   = sp.exp(I*om_ba*t)\n",
    "e_ba_upper   = sp.exp(-I*om_ba*t)\n",
    "\n",
    "values = [(E_c,5),(E_b,4),(E_a,1),(h,1),(Om_cb,0.05),(Om_ba,0.2),(om_cb,1.1),(om_ba,3),(I,1j)]\n",
    "rho_sym_l_ex=[sp.re(rho_cc),sp.re(rho_cb),sp.re(rho_ca),\n",
    "              sp.re(rho_bc),sp.re(rho_bb),sp.re(rho_ba),\n",
    "              sp.re(rho_ac),sp.re(rho_ab),sp.re(rho_aa),\n",
    "              sp.im(rho_cc),sp.im(rho_cb),sp.im(rho_ca),\n",
    "              sp.im(rho_bc),sp.im(rho_bb),sp.im(rho_ba),\n",
    "              sp.im(rho_ac),sp.im(rho_ab),sp.im(rho_aa)]\n"
   ]
  },
  {
   "cell_type": "code",
   "execution_count": 3,
   "metadata": {},
   "outputs": [],
   "source": [
    "#defining matrices\n",
    "rho = sp.Matrix([\n",
    "    [rho_cc,rho_cb,rho_ca],\n",
    "    [rho_bc,rho_bb,rho_ba],\n",
    "    [rho_ac,rho_ab,rho_aa]\n",
    "])\n",
    "RHO =sp.Matrix([\n",
    "    [sp.re(rho_cc),sp.re(rho_cb)+sp.I*sp.im(rho_cb),sp.re(rho_ca)+sp.I*sp.im(rho_ca)],\n",
    "    [sp.re(rho_cb)-sp.I*sp.im(rho_cb),sp.re(rho_bb),sp.re(rho_ba)+sp.I*sp.im(rho_ba)],\n",
    "    [sp.re(rho_ca)-sp.I*sp.im(rho_ca),sp.re(rho_ba)-sp.I*sp.im(rho_ba),sp.re(rho_aa)]\n",
    "])\n",
    "\n",
    "H_A =sp.Matrix([\n",
    "    [E_c,0,0],\n",
    "    [0,E_b,0],\n",
    "    [0,0,E_a]\n",
    "])\n",
    "\n",
    "V_1 =V_cb*sp.Matrix([\n",
    "    [0,         e_cb_upper,0],\n",
    "    [e_cb_lower,0         ,0],\n",
    "    [0,         0         ,0]\n",
    "])\n",
    "V_2 =V_ba*sp.Matrix([\n",
    "    [0, 0,                 0],\n",
    "    [0,0         ,e_ba_upper],\n",
    "    [0,e_ba_lower         ,0]\n",
    "])"
   ]
  },
  {
   "cell_type": "code",
   "execution_count": 4,
   "metadata": {},
   "outputs": [
    {
     "data": {
      "text/latex": [
       "$\\displaystyle \\left[\\begin{matrix}0 & \\frac{\\Omega_{cb} h e^{- I \\omega_{L'} t}}{2} & 0\\\\\\frac{\\Omega_{cb} h e^{I \\omega_{L'} t}}{2} & 0 & 0\\\\0 & 0 & 0\\end{matrix}\\right]$"
      ],
      "text/plain": [
       "Matrix([\n",
       "[                                   0, \\Omega_{cb}*h*exp(-I*\\omega_{L'}*t)/2, 0],\n",
       "[\\Omega_{cb}*h*exp(I*\\omega_{L'}*t)/2,                                     0, 0],\n",
       "[                                   0,                                     0, 0]])"
      ]
     },
     "execution_count": 4,
     "metadata": {},
     "output_type": "execute_result"
    }
   ],
   "source": [
    "V_1\n"
   ]
  },
  {
   "cell_type": "code",
   "execution_count": 5,
   "metadata": {},
   "outputs": [],
   "source": [
    "def simplify_matrix(M):\n",
    "    R = M.copy()\n",
    "    for i in range(len(M)):\n",
    "        R[i] = sp.factor(sp.simplify(R[i]))\n",
    "    return R"
   ]
  },
  {
   "cell_type": "code",
   "execution_count": 6,
   "metadata": {},
   "outputs": [],
   "source": [
    "first = simplify_matrix((-sp.I/h)*(H_A*rho-rho*H_A))\n",
    "second= simplify_matrix((-sp.I/h)*(V_1*rho-rho*V_1))\n",
    "third = simplify_matrix((-sp.I/h)*(V_2*rho-rho*V_2))\n",
    "\n",
    "FIRST = simplify_matrix((-sp.I/h)*(H_A*RHO-RHO*H_A))\n",
    "SECOND= simplify_matrix((-sp.I/h)*(V_1*RHO-RHO*V_1))\n",
    "THIRD = simplify_matrix((-sp.I/h)*(V_2*RHO-RHO*V_2))\n",
    "\n",
    "full_comm = simplify_matrix(first+second+third)\n",
    "FULL_COMM = simplify_matrix(FIRST + SECOND + THIRD)"
   ]
  },
  {
   "cell_type": "code",
   "execution_count": 7,
   "metadata": {},
   "outputs": [
    {
     "data": {
      "text/latex": [
       "$\\displaystyle \\left[\\begin{matrix}\\frac{i \\Omega_{cb} \\left(- \\rho_{bc} + \\rho_{cb} e^{2 I \\omega_{L'} t}\\right) e^{- I \\omega_{L'} t}}{2} & \\frac{i \\left(2 E_{b} \\rho_{cb} e^{I \\omega_{L'} t} - 2 E_{c} \\rho_{cb} e^{I \\omega_{L'} t} + \\Omega_{ba} h \\rho_{ca} e^{I \\omega_{L'} t} e^{I \\omega_{L} t} - \\Omega_{cb} h \\rho_{bb} + \\Omega_{cb} h \\rho_{cc}\\right) e^{- I \\omega_{L'} t}}{2 h} & \\frac{i \\left(2 E_{a} \\rho_{ca} e^{I \\omega_{L'} t} e^{I \\omega_{L} t} - 2 E_{c} \\rho_{ca} e^{I \\omega_{L'} t} e^{I \\omega_{L} t} + \\Omega_{ba} h \\rho_{cb} e^{I \\omega_{L'} t} - \\Omega_{cb} h \\rho_{ba} e^{I \\omega_{L} t}\\right) e^{- I \\omega_{L'} t} e^{- I \\omega_{L} t}}{2 h}\\\\- \\frac{i \\left(2 E_{b} \\rho_{bc} e^{I \\omega_{L} t} - 2 E_{c} \\rho_{bc} e^{I \\omega_{L} t} + \\Omega_{ba} h \\rho_{ac} - \\Omega_{cb} h \\rho_{bb} e^{I \\omega_{L'} t} e^{I \\omega_{L} t} + \\Omega_{cb} h \\rho_{cc} e^{I \\omega_{L'} t} e^{I \\omega_{L} t}\\right) e^{- I \\omega_{L} t}}{2 h} & \\frac{i \\left(- \\Omega_{ba} \\rho_{ab} e^{I \\omega_{L'} t} + \\Omega_{ba} \\rho_{ba} e^{I \\omega_{L'} t} e^{2 I \\omega_{L} t} + \\Omega_{cb} \\rho_{bc} e^{I \\omega_{L} t} - \\Omega_{cb} \\rho_{cb} e^{2 I \\omega_{L'} t} e^{I \\omega_{L} t}\\right) e^{- I \\omega_{L'} t} e^{- I \\omega_{L} t}}{2} & - \\frac{i \\left(- 2 E_{a} \\rho_{ba} e^{I \\omega_{L} t} + 2 E_{b} \\rho_{ba} e^{I \\omega_{L} t} + \\Omega_{ba} h \\rho_{aa} - \\Omega_{ba} h \\rho_{bb} + \\Omega_{cb} h \\rho_{ca} e^{I \\omega_{L'} t} e^{I \\omega_{L} t}\\right) e^{- I \\omega_{L} t}}{2 h}\\\\- \\frac{i \\left(2 E_{a} \\rho_{ac} - 2 E_{c} \\rho_{ac} + \\Omega_{ba} h \\rho_{bc} e^{I \\omega_{L} t} - \\Omega_{cb} h \\rho_{ab} e^{I \\omega_{L'} t}\\right)}{2 h} & \\frac{i \\left(- 2 E_{a} \\rho_{ab} e^{I \\omega_{L'} t} + 2 E_{b} \\rho_{ab} e^{I \\omega_{L'} t} + \\Omega_{ba} h \\rho_{aa} e^{I \\omega_{L'} t} e^{I \\omega_{L} t} - \\Omega_{ba} h \\rho_{bb} e^{I \\omega_{L'} t} e^{I \\omega_{L} t} + \\Omega_{cb} h \\rho_{ac}\\right) e^{- I \\omega_{L'} t}}{2 h} & - \\frac{i \\Omega_{ba} \\left(- \\rho_{ab} + \\rho_{ba} e^{2 I \\omega_{L} t}\\right) e^{- I \\omega_{L} t}}{2}\\end{matrix}\\right]$"
      ],
      "text/plain": [
       "Matrix([\n",
       "[                                                                                                                                                                           I*\\Omega_{cb}*(-rho_bc + rho_cb*exp(2*I*\\omega_{L'}*t))*exp(-I*\\omega_{L'}*t)/2,                                                I*(2*E_b*rho_cb*exp(I*\\omega_{L'}*t) - 2*E_c*rho_cb*exp(I*\\omega_{L'}*t) + \\Omega_{ba}*h*rho_ca*exp(I*\\omega_{L'}*t)*exp(I*\\omega_{L}*t) - \\Omega_{cb}*h*rho_bb + \\Omega_{cb}*h*rho_cc)*exp(-I*\\omega_{L'}*t)/(2*h), I*(2*E_a*rho_ca*exp(I*\\omega_{L'}*t)*exp(I*\\omega_{L}*t) - 2*E_c*rho_ca*exp(I*\\omega_{L'}*t)*exp(I*\\omega_{L}*t) + \\Omega_{ba}*h*rho_cb*exp(I*\\omega_{L'}*t) - \\Omega_{cb}*h*rho_ba*exp(I*\\omega_{L}*t))*exp(-I*\\omega_{L'}*t)*exp(-I*\\omega_{L}*t)/(2*h)],\n",
       "[-I*(2*E_b*rho_bc*exp(I*\\omega_{L}*t) - 2*E_c*rho_bc*exp(I*\\omega_{L}*t) + \\Omega_{ba}*h*rho_ac - \\Omega_{cb}*h*rho_bb*exp(I*\\omega_{L'}*t)*exp(I*\\omega_{L}*t) + \\Omega_{cb}*h*rho_cc*exp(I*\\omega_{L'}*t)*exp(I*\\omega_{L}*t))*exp(-I*\\omega_{L}*t)/(2*h), I*(-\\Omega_{ba}*rho_ab*exp(I*\\omega_{L'}*t) + \\Omega_{ba}*rho_ba*exp(I*\\omega_{L'}*t)*exp(2*I*\\omega_{L}*t) + \\Omega_{cb}*rho_bc*exp(I*\\omega_{L}*t) - \\Omega_{cb}*rho_cb*exp(2*I*\\omega_{L'}*t)*exp(I*\\omega_{L}*t))*exp(-I*\\omega_{L'}*t)*exp(-I*\\omega_{L}*t)/2,                                        -I*(-2*E_a*rho_ba*exp(I*\\omega_{L}*t) + 2*E_b*rho_ba*exp(I*\\omega_{L}*t) + \\Omega_{ba}*h*rho_aa - \\Omega_{ba}*h*rho_bb + \\Omega_{cb}*h*rho_ca*exp(I*\\omega_{L'}*t)*exp(I*\\omega_{L}*t))*exp(-I*\\omega_{L}*t)/(2*h)],\n",
       "[                                                                                                                             -I*(2*E_a*rho_ac - 2*E_c*rho_ac + \\Omega_{ba}*h*rho_bc*exp(I*\\omega_{L}*t) - \\Omega_{cb}*h*rho_ab*exp(I*\\omega_{L'}*t))/(2*h),      I*(-2*E_a*rho_ab*exp(I*\\omega_{L'}*t) + 2*E_b*rho_ab*exp(I*\\omega_{L'}*t) + \\Omega_{ba}*h*rho_aa*exp(I*\\omega_{L'}*t)*exp(I*\\omega_{L}*t) - \\Omega_{ba}*h*rho_bb*exp(I*\\omega_{L'}*t)*exp(I*\\omega_{L}*t) + \\Omega_{cb}*h*rho_ac)*exp(-I*\\omega_{L'}*t)/(2*h),                                                                                                                                                                            -I*\\Omega_{ba}*(-rho_ab + rho_ba*exp(2*I*\\omega_{L}*t))*exp(-I*\\omega_{L}*t)/2]])"
      ]
     },
     "execution_count": 7,
     "metadata": {},
     "output_type": "execute_result"
    }
   ],
   "source": [
    "full_comm"
   ]
  },
  {
   "cell_type": "code",
   "execution_count": 17,
   "metadata": {},
   "outputs": [
    {
     "data": {
      "text/latex": [
       "$\\displaystyle \\frac{2 \\left(E_{a}^{2} \\rho_{ab} \\rho_{ba} + E_{a}^{2} \\rho_{ac} \\rho_{ca} - 2 E_{a} E_{b} \\rho_{ab} \\rho_{ba} - 2 E_{a} E_{c} \\rho_{ac} \\rho_{ca} + E_{b}^{2} \\rho_{ab} \\rho_{ba} + E_{b}^{2} \\rho_{bc} \\rho_{cb} - 2 E_{b} E_{c} \\rho_{bc} \\rho_{cb} + E_{c}^{2} \\rho_{ac} \\rho_{ca} + E_{c}^{2} \\rho_{bc} \\rho_{cb}\\right)}{h^{2}}$"
      ],
      "text/plain": [
       "2*(E_a**2*rho_ab*rho_ba + E_a**2*rho_ac*rho_ca - 2*E_a*E_b*rho_ab*rho_ba - 2*E_a*E_c*rho_ac*rho_ca + E_b**2*rho_ab*rho_ba + E_b**2*rho_bc*rho_cb - 2*E_b*E_c*rho_bc*rho_cb + E_c**2*rho_ac*rho_ca + E_c**2*rho_bc*rho_cb)/h**2"
      ]
     },
     "execution_count": 17,
     "metadata": {},
     "output_type": "execute_result"
    }
   ],
   "source": []
  },
  {
   "cell_type": "code",
   "execution_count": 8,
   "metadata": {},
   "outputs": [],
   "source": [
    "\n",
    "class odeint_complex:\n",
    "    def __init__(self,rho,rho_expr,values):\n",
    "        #makes a list of evaluated expressions, except for the variables and time variable\n",
    "        self.values     =values\n",
    "        self.rho_l      =self.gen_UpTrn_re(rho)\n",
    "        self.rho_expr_l =self.gen_UpTrn_re(rho_expr)\n",
    "        self.rho_expr_l_eval =[]\n",
    "        for i in range(len(self.rho_expr_l)):\n",
    "            self.rho_expr_l_eval.append(self.rho_expr_l[i].subs(self.values))\n",
    "        self.rho_expr_l_eval = np.array(self.rho_expr_l_eval)\n",
    "        self.define_model_function()\n",
    "        \n",
    "    def gen_UpTrn_re(self,M):\n",
    "        M_=np.array(M)\n",
    "        M_u=M_[np.triu_indices(M_.shape[0])]\n",
    "        #M_l=M_[np.tril_indices(M_.shape[0],-1)]\n",
    "        M_1=np.array([sp.re(M_u[i]) for i in range(len(M_u))])\n",
    "        M_2=np.array([sp.im(M_u[i]) for i in range(len(M_u))])\n",
    "        M_ =np.concatenate((M_1,M_2),axis=0)\n",
    "        return M_\n",
    "\n",
    "    def define_model_function(self):\n",
    "        N=len(self.rho_expr_l_eval)\n",
    "        self.sub_f_re =[lambdify([self.rho_l,t],self.rho_expr_l_eval[i]) for i in range(int(N/2))]\n",
    "        self.sub_f_im =[lambdify([self.rho_l,t],self.rho_expr_l_eval[i]) for i in range(int(N/2),N)]\n",
    "        \n",
    "    def model(self,rho_val_l,t):\n",
    "        out = []\n",
    "        for el in self.sub_f_re:\n",
    "            out.append(el(rho_val_l,t))\n",
    "        for el in self.sub_f_im:\n",
    "            out.append(el(rho_val_l,t))\n",
    "        return out\n",
    "\n",
    "\n",
    "\n",
    "    def odeint_comp(self,rho_val_l,tspan):\n",
    "        rho_val_l_out = odeint(self.model,rho_val_l,tspan)[1]  \n",
    "        return rho_val_l_out\n",
    "    "
   ]
  },
  {
   "cell_type": "code",
   "execution_count": 9,
   "metadata": {},
   "outputs": [
    {
     "name": "stdout",
     "output_type": "stream",
     "text": [
      "time\n",
      "500.0\n"
     ]
    },
    {
     "ename": "KeyboardInterrupt",
     "evalue": "",
     "output_type": "error",
     "traceback": [
      "\u001b[1;31m---------------------------------------------------------------------------\u001b[0m",
      "\u001b[1;31mKeyboardInterrupt\u001b[0m                         Traceback (most recent call last)",
      "\u001b[1;32m<ipython-input-9-dfd5a16f917c>\u001b[0m in \u001b[0;36m<module>\u001b[1;34m\u001b[0m\n\u001b[0;32m     16\u001b[0m \u001b[0mval_\u001b[0m \u001b[1;33m=\u001b[0m \u001b[0mvalues\u001b[0m\u001b[1;33m.\u001b[0m\u001b[0mcopy\u001b[0m\u001b[1;33m(\u001b[0m\u001b[1;33m)\u001b[0m\u001b[1;33m\u001b[0m\u001b[1;33m\u001b[0m\u001b[0m\n\u001b[0;32m     17\u001b[0m \u001b[0mval_\u001b[0m\u001b[1;33m[\u001b[0m\u001b[1;36m6\u001b[0m\u001b[1;33m]\u001b[0m \u001b[1;33m=\u001b[0m \u001b[1;33m(\u001b[0m\u001b[0mom_cb\u001b[0m\u001b[1;33m,\u001b[0m \u001b[1;36m0.9\u001b[0m\u001b[1;33m)\u001b[0m\u001b[1;33m\u001b[0m\u001b[1;33m\u001b[0m\u001b[0m\n\u001b[1;32m---> 18\u001b[1;33m \u001b[0mrho_evol\u001b[0m \u001b[1;33m=\u001b[0m \u001b[0mevolve_rho\u001b[0m\u001b[1;33m(\u001b[0m\u001b[0mrho_val_l\u001b[0m\u001b[1;33m,\u001b[0m\u001b[0mvalues\u001b[0m\u001b[1;33m,\u001b[0m\u001b[1;36m5000\u001b[0m\u001b[1;33m,\u001b[0m\u001b[1;36m0.1\u001b[0m\u001b[1;33m)\u001b[0m\u001b[1;33m\u001b[0m\u001b[1;33m\u001b[0m\u001b[0m\n\u001b[0m\u001b[0;32m     19\u001b[0m \"\"\"\n\u001b[0;32m     20\u001b[0m \u001b[0ma\u001b[0m\u001b[1;33m=\u001b[0m\u001b[0mnp\u001b[0m\u001b[1;33m.\u001b[0m\u001b[0marray\u001b[0m\u001b[1;33m(\u001b[0m\u001b[1;33m[\u001b[0m\u001b[0mel\u001b[0m\u001b[1;33m[\u001b[0m\u001b[1;36m1\u001b[0m\u001b[1;33m]\u001b[0m \u001b[1;32mfor\u001b[0m \u001b[0mel\u001b[0m \u001b[1;32min\u001b[0m \u001b[0mrho_evol\u001b[0m\u001b[1;33m]\u001b[0m\u001b[1;33m)\u001b[0m\u001b[1;33m\u001b[0m\u001b[1;33m\u001b[0m\u001b[0m\n",
      "\u001b[1;32m<ipython-input-9-dfd5a16f917c>\u001b[0m in \u001b[0;36mevolve_rho\u001b[1;34m(init_rho_val, values, N, dt)\u001b[0m\n\u001b[0;32m     12\u001b[0m     \u001b[1;32mfor\u001b[0m \u001b[0mi\u001b[0m \u001b[1;32min\u001b[0m \u001b[0mrange\u001b[0m\u001b[1;33m(\u001b[0m\u001b[1;36m1\u001b[0m\u001b[1;33m,\u001b[0m\u001b[0mN\u001b[0m\u001b[1;33m)\u001b[0m\u001b[1;33m:\u001b[0m\u001b[1;33m\u001b[0m\u001b[1;33m\u001b[0m\u001b[0m\n\u001b[0;32m     13\u001b[0m         \u001b[0mtspan\u001b[0m \u001b[1;33m=\u001b[0m \u001b[1;33m[\u001b[0m\u001b[0mt_array\u001b[0m\u001b[1;33m[\u001b[0m\u001b[0mi\u001b[0m\u001b[1;33m-\u001b[0m\u001b[1;36m1\u001b[0m\u001b[1;33m]\u001b[0m\u001b[1;33m,\u001b[0m\u001b[0mt_array\u001b[0m\u001b[1;33m[\u001b[0m\u001b[0mi\u001b[0m\u001b[1;33m]\u001b[0m\u001b[1;33m]\u001b[0m\u001b[1;33m\u001b[0m\u001b[1;33m\u001b[0m\u001b[0m\n\u001b[1;32m---> 14\u001b[1;33m         \u001b[0mrho_evol\u001b[0m\u001b[1;33m[\u001b[0m\u001b[0mi\u001b[0m\u001b[1;33m]\u001b[0m\u001b[1;33m=\u001b[0m\u001b[0mins\u001b[0m\u001b[1;33m.\u001b[0m\u001b[0modeint_comp\u001b[0m\u001b[1;33m(\u001b[0m\u001b[0mrho_evol\u001b[0m\u001b[1;33m[\u001b[0m\u001b[0mi\u001b[0m\u001b[1;33m-\u001b[0m\u001b[1;36m1\u001b[0m\u001b[1;33m]\u001b[0m\u001b[1;33m,\u001b[0m\u001b[0mtspan\u001b[0m\u001b[1;33m)\u001b[0m\u001b[1;33m\u001b[0m\u001b[1;33m\u001b[0m\u001b[0m\n\u001b[0m\u001b[0;32m     15\u001b[0m     \u001b[1;32mreturn\u001b[0m \u001b[0mrho_evol\u001b[0m\u001b[1;33m\u001b[0m\u001b[1;33m\u001b[0m\u001b[0m\n\u001b[0;32m     16\u001b[0m \u001b[0mval_\u001b[0m \u001b[1;33m=\u001b[0m \u001b[0mvalues\u001b[0m\u001b[1;33m.\u001b[0m\u001b[0mcopy\u001b[0m\u001b[1;33m(\u001b[0m\u001b[1;33m)\u001b[0m\u001b[1;33m\u001b[0m\u001b[1;33m\u001b[0m\u001b[0m\n",
      "\u001b[1;32m<ipython-input-8-1d0974982fae>\u001b[0m in \u001b[0;36modeint_comp\u001b[1;34m(self, rho_val_l, tspan)\u001b[0m\n\u001b[0;32m     36\u001b[0m \u001b[1;33m\u001b[0m\u001b[0m\n\u001b[0;32m     37\u001b[0m     \u001b[1;32mdef\u001b[0m \u001b[0modeint_comp\u001b[0m\u001b[1;33m(\u001b[0m\u001b[0mself\u001b[0m\u001b[1;33m,\u001b[0m\u001b[0mrho_val_l\u001b[0m\u001b[1;33m,\u001b[0m\u001b[0mtspan\u001b[0m\u001b[1;33m)\u001b[0m\u001b[1;33m:\u001b[0m\u001b[1;33m\u001b[0m\u001b[1;33m\u001b[0m\u001b[0m\n\u001b[1;32m---> 38\u001b[1;33m         \u001b[0mrho_val_l_out\u001b[0m \u001b[1;33m=\u001b[0m \u001b[0modeint\u001b[0m\u001b[1;33m(\u001b[0m\u001b[0mself\u001b[0m\u001b[1;33m.\u001b[0m\u001b[0mmodel\u001b[0m\u001b[1;33m,\u001b[0m\u001b[0mrho_val_l\u001b[0m\u001b[1;33m,\u001b[0m\u001b[0mtspan\u001b[0m\u001b[1;33m)\u001b[0m\u001b[1;33m[\u001b[0m\u001b[1;36m1\u001b[0m\u001b[1;33m]\u001b[0m\u001b[1;33m\u001b[0m\u001b[1;33m\u001b[0m\u001b[0m\n\u001b[0m\u001b[0;32m     39\u001b[0m         \u001b[1;32mreturn\u001b[0m \u001b[0mrho_val_l_out\u001b[0m\u001b[1;33m\u001b[0m\u001b[1;33m\u001b[0m\u001b[0m\n\u001b[0;32m     40\u001b[0m \u001b[1;33m\u001b[0m\u001b[0m\n",
      "\u001b[1;32m~\\Anaconda3\\lib\\site-packages\\scipy\\integrate\\odepack.py\u001b[0m in \u001b[0;36modeint\u001b[1;34m(func, y0, t, args, Dfun, col_deriv, full_output, ml, mu, rtol, atol, tcrit, h0, hmax, hmin, ixpr, mxstep, mxhnil, mxordn, mxords, printmessg, tfirst)\u001b[0m\n\u001b[0;32m    242\u001b[0m                              \u001b[0mfull_output\u001b[0m\u001b[1;33m,\u001b[0m \u001b[0mrtol\u001b[0m\u001b[1;33m,\u001b[0m \u001b[0matol\u001b[0m\u001b[1;33m,\u001b[0m \u001b[0mtcrit\u001b[0m\u001b[1;33m,\u001b[0m \u001b[0mh0\u001b[0m\u001b[1;33m,\u001b[0m \u001b[0mhmax\u001b[0m\u001b[1;33m,\u001b[0m \u001b[0mhmin\u001b[0m\u001b[1;33m,\u001b[0m\u001b[1;33m\u001b[0m\u001b[1;33m\u001b[0m\u001b[0m\n\u001b[0;32m    243\u001b[0m                              \u001b[0mixpr\u001b[0m\u001b[1;33m,\u001b[0m \u001b[0mmxstep\u001b[0m\u001b[1;33m,\u001b[0m \u001b[0mmxhnil\u001b[0m\u001b[1;33m,\u001b[0m \u001b[0mmxordn\u001b[0m\u001b[1;33m,\u001b[0m \u001b[0mmxords\u001b[0m\u001b[1;33m,\u001b[0m\u001b[1;33m\u001b[0m\u001b[1;33m\u001b[0m\u001b[0m\n\u001b[1;32m--> 244\u001b[1;33m                              int(bool(tfirst)))\n\u001b[0m\u001b[0;32m    245\u001b[0m     \u001b[1;32mif\u001b[0m \u001b[0moutput\u001b[0m\u001b[1;33m[\u001b[0m\u001b[1;33m-\u001b[0m\u001b[1;36m1\u001b[0m\u001b[1;33m]\u001b[0m \u001b[1;33m<\u001b[0m \u001b[1;36m0\u001b[0m\u001b[1;33m:\u001b[0m\u001b[1;33m\u001b[0m\u001b[1;33m\u001b[0m\u001b[0m\n\u001b[0;32m    246\u001b[0m         \u001b[0mwarning_msg\u001b[0m \u001b[1;33m=\u001b[0m \u001b[0m_msgs\u001b[0m\u001b[1;33m[\u001b[0m\u001b[0moutput\u001b[0m\u001b[1;33m[\u001b[0m\u001b[1;33m-\u001b[0m\u001b[1;36m1\u001b[0m\u001b[1;33m]\u001b[0m\u001b[1;33m]\u001b[0m \u001b[1;33m+\u001b[0m \u001b[1;34m\" Run with full_output = 1 to get quantitative information.\"\u001b[0m\u001b[1;33m\u001b[0m\u001b[1;33m\u001b[0m\u001b[0m\n",
      "\u001b[1;32m<ipython-input-8-1d0974982fae>\u001b[0m in \u001b[0;36mmodel\u001b[1;34m(self, rho_val_l, t)\u001b[0m\n\u001b[0;32m     30\u001b[0m             \u001b[0mout\u001b[0m\u001b[1;33m.\u001b[0m\u001b[0mappend\u001b[0m\u001b[1;33m(\u001b[0m\u001b[0mel\u001b[0m\u001b[1;33m(\u001b[0m\u001b[0mrho_val_l\u001b[0m\u001b[1;33m,\u001b[0m\u001b[0mt\u001b[0m\u001b[1;33m)\u001b[0m\u001b[1;33m)\u001b[0m\u001b[1;33m\u001b[0m\u001b[1;33m\u001b[0m\u001b[0m\n\u001b[0;32m     31\u001b[0m         \u001b[1;32mfor\u001b[0m \u001b[0mel\u001b[0m \u001b[1;32min\u001b[0m \u001b[0mself\u001b[0m\u001b[1;33m.\u001b[0m\u001b[0msub_f_im\u001b[0m\u001b[1;33m:\u001b[0m\u001b[1;33m\u001b[0m\u001b[1;33m\u001b[0m\u001b[0m\n\u001b[1;32m---> 32\u001b[1;33m             \u001b[0mout\u001b[0m\u001b[1;33m.\u001b[0m\u001b[0mappend\u001b[0m\u001b[1;33m(\u001b[0m\u001b[0mel\u001b[0m\u001b[1;33m(\u001b[0m\u001b[0mrho_val_l\u001b[0m\u001b[1;33m,\u001b[0m\u001b[0mt\u001b[0m\u001b[1;33m)\u001b[0m\u001b[1;33m)\u001b[0m\u001b[1;33m\u001b[0m\u001b[1;33m\u001b[0m\u001b[0m\n\u001b[0m\u001b[0;32m     33\u001b[0m         \u001b[1;32mreturn\u001b[0m \u001b[0mout\u001b[0m\u001b[1;33m\u001b[0m\u001b[1;33m\u001b[0m\u001b[0m\n\u001b[0;32m     34\u001b[0m \u001b[1;33m\u001b[0m\u001b[0m\n",
      "\u001b[1;32m<lambdifygenerated-8>\u001b[0m in \u001b[0;36m_lambdifygenerated\u001b[1;34m(_Dummy_315, t)\u001b[0m\n\u001b[0;32m      1\u001b[0m \u001b[1;32mdef\u001b[0m \u001b[0m_lambdifygenerated\u001b[0m\u001b[1;33m(\u001b[0m\u001b[0m_Dummy_315\u001b[0m\u001b[1;33m,\u001b[0m \u001b[0mt\u001b[0m\u001b[1;33m)\u001b[0m\u001b[1;33m:\u001b[0m\u001b[1;33m\u001b[0m\u001b[1;33m\u001b[0m\u001b[0m\n\u001b[0;32m      2\u001b[0m     \u001b[1;33m[\u001b[0m\u001b[0m_Dummy_309\u001b[0m\u001b[1;33m,\u001b[0m \u001b[0m_Dummy_310\u001b[0m\u001b[1;33m,\u001b[0m \u001b[0m_Dummy_311\u001b[0m\u001b[1;33m,\u001b[0m \u001b[0m_Dummy_312\u001b[0m\u001b[1;33m,\u001b[0m \u001b[0m_Dummy_313\u001b[0m\u001b[1;33m,\u001b[0m \u001b[0m_Dummy_314\u001b[0m\u001b[1;33m,\u001b[0m \u001b[0m_Dummy_303\u001b[0m\u001b[1;33m,\u001b[0m \u001b[0m_Dummy_304\u001b[0m\u001b[1;33m,\u001b[0m \u001b[0m_Dummy_305\u001b[0m\u001b[1;33m,\u001b[0m \u001b[0m_Dummy_306\u001b[0m\u001b[1;33m,\u001b[0m \u001b[0m_Dummy_307\u001b[0m\u001b[1;33m,\u001b[0m \u001b[0m_Dummy_308\u001b[0m\u001b[1;33m]\u001b[0m \u001b[1;33m=\u001b[0m \u001b[0m_Dummy_315\u001b[0m\u001b[1;33m\u001b[0m\u001b[1;33m\u001b[0m\u001b[0m\n\u001b[1;32m----> 3\u001b[1;33m     \u001b[1;32mreturn\u001b[0m \u001b[1;33m(\u001b[0m\u001b[1;33m-\u001b[0m\u001b[1;36m1\u001b[0m\u001b[1;33m/\u001b[0m\u001b[1;36m2\u001b[0m\u001b[1;33m*\u001b[0m\u001b[1;33m(\u001b[0m\u001b[1;36m2\u001b[0m\u001b[1;33m*\u001b[0m\u001b[0m_Dummy_304\u001b[0m\u001b[1;33m*\u001b[0m\u001b[0mexp\u001b[0m\u001b[1;33m(\u001b[0m\u001b[1;33m-\u001b[0m\u001b[1;36m1.1\u001b[0m\u001b[1;33m*\u001b[0m\u001b[0mimag\u001b[0m\u001b[1;33m(\u001b[0m\u001b[0mt\u001b[0m\u001b[1;33m)\u001b[0m\u001b[1;33m)\u001b[0m\u001b[1;33m*\u001b[0m\u001b[0mcos\u001b[0m\u001b[1;33m(\u001b[0m\u001b[1;36m1.1\u001b[0m\u001b[1;33m*\u001b[0m\u001b[0mreal\u001b[0m\u001b[1;33m(\u001b[0m\u001b[0mt\u001b[0m\u001b[1;33m)\u001b[0m\u001b[1;33m)\u001b[0m \u001b[1;33m-\u001b[0m \u001b[1;36m0.2\u001b[0m\u001b[1;33m*\u001b[0m\u001b[0m_Dummy_305\u001b[0m\u001b[1;33m*\u001b[0m\u001b[0mexp\u001b[0m\u001b[1;33m(\u001b[0m\u001b[1;33m-\u001b[0m\u001b[1;36m4.1\u001b[0m\u001b[1;33m*\u001b[0m\u001b[0mimag\u001b[0m\u001b[1;33m(\u001b[0m\u001b[0mt\u001b[0m\u001b[1;33m)\u001b[0m\u001b[1;33m)\u001b[0m\u001b[1;33m*\u001b[0m\u001b[0mcos\u001b[0m\u001b[1;33m(\u001b[0m\u001b[1;36m4.1\u001b[0m\u001b[1;33m*\u001b[0m\u001b[0mreal\u001b[0m\u001b[1;33m(\u001b[0m\u001b[0mt\u001b[0m\u001b[1;33m)\u001b[0m\u001b[1;33m)\u001b[0m \u001b[1;33m+\u001b[0m \u001b[1;36m2\u001b[0m\u001b[1;33m*\u001b[0m\u001b[0m_Dummy_310\u001b[0m\u001b[1;33m*\u001b[0m\u001b[0mexp\u001b[0m\u001b[1;33m(\u001b[0m\u001b[1;33m-\u001b[0m\u001b[1;36m1.1\u001b[0m\u001b[1;33m*\u001b[0m\u001b[0mimag\u001b[0m\u001b[1;33m(\u001b[0m\u001b[0mt\u001b[0m\u001b[1;33m)\u001b[0m\u001b[1;33m)\u001b[0m\u001b[1;33m*\u001b[0m\u001b[0msin\u001b[0m\u001b[1;33m(\u001b[0m\u001b[1;36m1.1\u001b[0m\u001b[1;33m*\u001b[0m\u001b[0mreal\u001b[0m\u001b[1;33m(\u001b[0m\u001b[0mt\u001b[0m\u001b[1;33m)\u001b[0m\u001b[1;33m)\u001b[0m \u001b[1;33m-\u001b[0m \u001b[1;36m0.2\u001b[0m\u001b[1;33m*\u001b[0m\u001b[0m_Dummy_311\u001b[0m\u001b[1;33m*\u001b[0m\u001b[0mexp\u001b[0m\u001b[1;33m(\u001b[0m\u001b[1;33m-\u001b[0m\u001b[1;36m4.1\u001b[0m\u001b[1;33m*\u001b[0m\u001b[0mimag\u001b[0m\u001b[1;33m(\u001b[0m\u001b[0mt\u001b[0m\u001b[1;33m)\u001b[0m\u001b[1;33m)\u001b[0m\u001b[1;33m*\u001b[0m\u001b[0msin\u001b[0m\u001b[1;33m(\u001b[0m\u001b[1;36m4.1\u001b[0m\u001b[1;33m*\u001b[0m\u001b[0mreal\u001b[0m\u001b[1;33m(\u001b[0m\u001b[0mt\u001b[0m\u001b[1;33m)\u001b[0m\u001b[1;33m)\u001b[0m\u001b[1;33m)\u001b[0m\u001b[1;33m*\u001b[0m\u001b[0mexp\u001b[0m\u001b[1;33m(\u001b[0m\u001b[1;36m1.1\u001b[0m\u001b[1;33m*\u001b[0m\u001b[0mimag\u001b[0m\u001b[1;33m(\u001b[0m\u001b[0mt\u001b[0m\u001b[1;33m)\u001b[0m\u001b[1;33m)\u001b[0m\u001b[1;33m*\u001b[0m\u001b[0msin\u001b[0m\u001b[1;33m(\u001b[0m\u001b[1;36m1.1\u001b[0m\u001b[1;33m*\u001b[0m\u001b[0mreal\u001b[0m\u001b[1;33m(\u001b[0m\u001b[0mt\u001b[0m\u001b[1;33m)\u001b[0m\u001b[1;33m)\u001b[0m \u001b[1;33m+\u001b[0m \u001b[1;33m(\u001b[0m\u001b[1;36m1\u001b[0m\u001b[1;33m/\u001b[0m\u001b[1;36m2\u001b[0m\u001b[1;33m)\u001b[0m\u001b[1;33m*\u001b[0m\u001b[1;33m(\u001b[0m\u001b[1;36m2\u001b[0m\u001b[1;33m*\u001b[0m\u001b[0m_Dummy_304\u001b[0m\u001b[1;33m*\u001b[0m\u001b[0mexp\u001b[0m\u001b[1;33m(\u001b[0m\u001b[1;33m-\u001b[0m\u001b[1;36m1.1\u001b[0m\u001b[1;33m*\u001b[0m\u001b[0mimag\u001b[0m\u001b[1;33m(\u001b[0m\u001b[0mt\u001b[0m\u001b[1;33m)\u001b[0m\u001b[1;33m)\u001b[0m\u001b[1;33m*\u001b[0m\u001b[0msin\u001b[0m\u001b[1;33m(\u001b[0m\u001b[1;36m1.1\u001b[0m\u001b[1;33m*\u001b[0m\u001b[0mreal\u001b[0m\u001b[1;33m(\u001b[0m\u001b[0mt\u001b[0m\u001b[1;33m)\u001b[0m\u001b[1;33m)\u001b[0m \u001b[1;33m-\u001b[0m \u001b[1;36m0.2\u001b[0m\u001b[1;33m*\u001b[0m\u001b[0m_Dummy_305\u001b[0m\u001b[1;33m*\u001b[0m\u001b[0mexp\u001b[0m\u001b[1;33m(\u001b[0m\u001b[1;33m-\u001b[0m\u001b[1;36m4.1\u001b[0m\u001b[1;33m*\u001b[0m\u001b[0mimag\u001b[0m\u001b[1;33m(\u001b[0m\u001b[0mt\u001b[0m\u001b[1;33m)\u001b[0m\u001b[1;33m)\u001b[0m\u001b[1;33m*\u001b[0m\u001b[0msin\u001b[0m\u001b[1;33m(\u001b[0m\u001b[1;36m4.1\u001b[0m\u001b[1;33m*\u001b[0m\u001b[0mreal\u001b[0m\u001b[1;33m(\u001b[0m\u001b[0mt\u001b[0m\u001b[1;33m)\u001b[0m\u001b[1;33m)\u001b[0m \u001b[1;33m+\u001b[0m \u001b[1;36m0.05\u001b[0m\u001b[1;33m*\u001b[0m\u001b[0m_Dummy_309\u001b[0m \u001b[1;33m-\u001b[0m \u001b[1;36m2\u001b[0m\u001b[1;33m*\u001b[0m\u001b[0m_Dummy_310\u001b[0m\u001b[1;33m*\u001b[0m\u001b[0mexp\u001b[0m\u001b[1;33m(\u001b[0m\u001b[1;33m-\u001b[0m\u001b[1;36m1.1\u001b[0m\u001b[1;33m*\u001b[0m\u001b[0mimag\u001b[0m\u001b[1;33m(\u001b[0m\u001b[0mt\u001b[0m\u001b[1;33m)\u001b[0m\u001b[1;33m)\u001b[0m\u001b[1;33m*\u001b[0m\u001b[0mcos\u001b[0m\u001b[1;33m(\u001b[0m\u001b[1;36m1.1\u001b[0m\u001b[1;33m*\u001b[0m\u001b[0mreal\u001b[0m\u001b[1;33m(\u001b[0m\u001b[0mt\u001b[0m\u001b[1;33m)\u001b[0m\u001b[1;33m)\u001b[0m \u001b[1;33m+\u001b[0m \u001b[1;36m0.2\u001b[0m\u001b[1;33m*\u001b[0m\u001b[0m_Dummy_311\u001b[0m\u001b[1;33m*\u001b[0m\u001b[0mexp\u001b[0m\u001b[1;33m(\u001b[0m\u001b[1;33m-\u001b[0m\u001b[1;36m4.1\u001b[0m\u001b[1;33m*\u001b[0m\u001b[0mimag\u001b[0m\u001b[1;33m(\u001b[0m\u001b[0mt\u001b[0m\u001b[1;33m)\u001b[0m\u001b[1;33m)\u001b[0m\u001b[1;33m*\u001b[0m\u001b[0mcos\u001b[0m\u001b[1;33m(\u001b[0m\u001b[1;36m4.1\u001b[0m\u001b[1;33m*\u001b[0m\u001b[0mreal\u001b[0m\u001b[1;33m(\u001b[0m\u001b[0mt\u001b[0m\u001b[1;33m)\u001b[0m\u001b[1;33m)\u001b[0m \u001b[1;33m-\u001b[0m \u001b[1;36m0.05\u001b[0m\u001b[1;33m*\u001b[0m\u001b[0m_Dummy_312\u001b[0m\u001b[1;33m)\u001b[0m\u001b[1;33m*\u001b[0m\u001b[0mexp\u001b[0m\u001b[1;33m(\u001b[0m\u001b[1;36m1.1\u001b[0m\u001b[1;33m*\u001b[0m\u001b[0mimag\u001b[0m\u001b[1;33m(\u001b[0m\u001b[0mt\u001b[0m\u001b[1;33m)\u001b[0m\u001b[1;33m)\u001b[0m\u001b[1;33m*\u001b[0m\u001b[0mcos\u001b[0m\u001b[1;33m(\u001b[0m\u001b[1;36m1.1\u001b[0m\u001b[1;33m*\u001b[0m\u001b[0mreal\u001b[0m\u001b[1;33m(\u001b[0m\u001b[0mt\u001b[0m\u001b[1;33m)\u001b[0m\u001b[1;33m)\u001b[0m\u001b[1;33m)\u001b[0m\u001b[1;33m\u001b[0m\u001b[1;33m\u001b[0m\u001b[0m\n\u001b[0m",
      "\u001b[1;31mKeyboardInterrupt\u001b[0m: "
     ]
    }
   ],
   "source": [
    "\n",
    "\n",
    "rho_val_l = [0,0,0,1,0,0,0,0,0,0,0,0]\n",
    "def evolve_rho(init_rho_val,values,N,dt):\n",
    "    #time\n",
    "    T=N*dt\n",
    "    t_array=np.linspace(0,T,N)\n",
    "    print(\"time\")\n",
    "    print(T)\n",
    "    ins = odeint_complex(rho,FULL_COMM,values)\n",
    "    #initial values\n",
    "    rho_evol =np.empty(N,dtype=list)\n",
    "    rho_evol[0]=init_rho_val\n",
    "    for i in range(1,N):\n",
    "        tspan = [t_array[i-1],t_array[i]]\n",
    "        rho_evol[i]=ins.odeint_comp(rho_evol[i-1],tspan) \n",
    "    return rho_evol\n",
    "val_ = values.copy()\n",
    "val_[6] = (om_cb, 0.9)\n",
    "rho_evol = evolve_rho(rho_val_l,values,5000,0.1)\n",
    "\"\"\"\n",
    "a=np.array([el[1] for el in rho_evol])\n",
    "b=np.array([el[7] for el in rho_evol])\n",
    "A=np.array([el[0] for el in rho_evol])\n",
    "B=np.array([el[3] for el in rho_evol])\n",
    "C=np.array([el[5] for el in rho_evol])\n",
    "plt.figure()\n",
    "plt.plot(t_array,a,'r:',label='real')\n",
    "plt.plot(t_array,b,'y-',label='imag')\n",
    "plt.ylabel('values')\n",
    "plt.xlabel('time')\n",
    "plt.legend(loc='best')\n",
    "plt.show()\n",
    "\n",
    "plt.figure()\n",
    "\n",
    "plt.plot(t_array,A,'g:',label='A')\n",
    "plt.plot(t_array,B,'b-',label='B')\n",
    "plt.plot(t_array,C,'g-',label='C')\n",
    "plt.show()\"\"\""
   ]
  },
  {
   "cell_type": "code",
   "execution_count": null,
   "metadata": {},
   "outputs": [],
   "source": [
    "class plotting_m:\n",
    "    def __init__(self,rho_evol):\n",
    "        self.rho_evol = rho_evol\n",
    "        rho_cc_re=np.array([el[0] for el in self.rho_evol])\n",
    "        rho_cb_re=np.array([el[1] for el in self.rho_evol])\n",
    "        rho_ca_re=np.array([el[2] for el in self.rho_evol])\n",
    "        rho_bb_re=np.array([el[3] for el in self.rho_evol])\n",
    "        rho_ba_re=np.array([el[4] for el in self.rho_evol])\n",
    "        rho_aa_re=np.array([el[5] for el in self.rho_evol])\n",
    "        \n",
    "        rho_cb_im=np.array([el[7] for el in self.rho_evol])\n",
    "        rho_ca_im=np.array([el[8] for el in self.rho_evol])\n",
    "        \n",
    "        rho_ba_im=np.array([el[10] for el in self.rho_evol])\n",
    "        \n",
    "        m_8 = (1/2)*(1-3*rho_aa_re)\n",
    "        m_3 = (1/(2*np.sqrt(3)))*(rho_cc_re-rho_bb_re)\n",
    "        \n",
    "        plt.figure(figsize=[10, 10])\n",
    "        plt.plot(m_3,m_8,'g:')\n",
    "        \n",
    "        plt.plot([-1./(2*np.sqrt(3)),1./(2*np.sqrt(3))],[1/2,1/2],'b')\n",
    "        plt.plot([0,-1/(2*np.sqrt(3))],[-1,1/2],'b')\n",
    "        plt.plot([0,1/(2*np.sqrt(3))],[-1,1/2],'b')\n",
    "        plt.text(1./(2*np.sqrt(3))+0.01, 1/2, 'state C', fontsize=12)\n",
    "        plt.text(-1./(2*np.sqrt(3))-0.14, 1/2, 'state B', fontsize=12)\n",
    "        plt.text(-0.045, -1-0.1, 'state A', fontsize=12)\n",
    "        D = 0.0 #the displacement size of the plot\n",
    "        plt.axis([-1/2-D, 1/2+D, -1.2-D, 2/3+D])\n",
    "        plt.xlabel(\"m_3\",fontsize=16)\n",
    "        plt.ylabel(\"m_8\",fontsize=16)\n",
    "        plt.title(\"Evolution of a 3-level quantum system\",fontsize=16)\n",
    "        plt.show()\n",
    "plotting_m(rho_evol)\n"
   ]
  },
  {
   "cell_type": "code",
   "execution_count": null,
   "metadata": {},
   "outputs": [],
   "source": [
    "freq = [0.5,0.7,0.9,1,1.1,1.3]\n",
    "for fr in freq:\n",
    "    print(fr)\n",
    "    val_ = values.copy()\n",
    "    val_[6] = (om_cb, fr)\n",
    "    rho_evol = evolve_rho(rho_val_l,val_,1000,0.1)\n",
    "    plotting_m(rho_evol)"
   ]
  }
 ],
 "metadata": {
  "kernelspec": {
   "display_name": "Python 3",
   "language": "python",
   "name": "python3"
  },
  "language_info": {
   "codemirror_mode": {
    "name": "ipython",
    "version": 3
   },
   "file_extension": ".py",
   "mimetype": "text/x-python",
   "name": "python",
   "nbconvert_exporter": "python",
   "pygments_lexer": "ipython3",
   "version": "3.7.3"
  }
 },
 "nbformat": 4,
 "nbformat_minor": 2
}
