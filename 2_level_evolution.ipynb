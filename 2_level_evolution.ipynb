{
 "cells": [
  {
   "cell_type": "code",
   "execution_count": 1,
   "metadata": {},
   "outputs": [],
   "source": [
    "from qutip import *\n",
    "import numpy as np\n",
    "B=Bloch3d()\n",
    "\n",
    "G = 1\n",
    "mx = 1/np.sqrt(2)\n",
    "my = 0\n",
    "mz = 1/np.sqrt(2)\n",
    "Omega = 3\n",
    "def fx(th):\n",
    "    return np.exp(-0.5*G*th)*(mx*np.cos(Omega*th) + my*np.sin(Omega*th))\n",
    "def fy(th):\n",
    "    return np.exp(-0.5*G*th)*(my*np.cos(Omega*th) - mx*np.sin(Omega*th))\n",
    "def fz(th):\n",
    "    return np.exp(-G*th)*(mz+1)-1"
   ]
  },
  {
   "cell_type": "code",
   "execution_count": 2,
   "metadata": {},
   "outputs": [],
   "source": [
    "N = 200\n",
    "\n",
    "def RUNN():\n",
    "    t = np.linspace(0,5,N)\n",
    "    for th in t:\n",
    "        a = [fx(th),fy(th),fz(th)]\n",
    "        B.add_points(a)\n",
    "    B.show()\n",
    "RUNN()"
   ]
  },
  {
   "cell_type": "code",
   "execution_count": null,
   "metadata": {},
   "outputs": [],
   "source": []
  }
 ],
 "metadata": {
  "kernelspec": {
   "display_name": "Python 3",
   "language": "python",
   "name": "python3"
  },
  "language_info": {
   "codemirror_mode": {
    "name": "ipython",
    "version": 3
   },
   "file_extension": ".py",
   "mimetype": "text/x-python",
   "name": "python",
   "nbconvert_exporter": "python",
   "pygments_lexer": "ipython3",
   "version": "3.7.3"
  }
 },
 "nbformat": 4,
 "nbformat_minor": 2
}
