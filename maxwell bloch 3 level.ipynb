{
 "cells": [
  {
   "cell_type": "code",
   "execution_count": 2,
   "metadata": {},
   "outputs": [],
   "source": [
    "from scipy.integrate import odeint\n",
    "import matplotlib.pyplot as plt\n",
    "import numpy as np\n",
    "from qutip import *\n",
    "\n",
    "import sympy as sp"
   ]
  },
  {
   "cell_type": "code",
   "execution_count": null,
   "metadata": {},
   "outputs": [],
   "source": []
  },
  {
   "cell_type": "code",
   "execution_count": 97,
   "metadata": {},
   "outputs": [],
   "source": [
    "I = lambda_0 = sp.Matrix([\n",
    "        [1,0,0],\n",
    "        [0,1,0],\n",
    "        [0,0,1]\n",
    "    ])\n",
    "lambda_1 = sp.Matrix([\n",
    "        [0,1,0],\n",
    "        [1,0,0],\n",
    "        [0,0,0]\n",
    "    ])\n",
    "lambda_2 = sp.Matrix([\n",
    "        [0,-1j,0],\n",
    "        [1j,0,0],\n",
    "        [0,0,0]\n",
    "    ])\n",
    "lambda_3 = sp.Matrix([\n",
    "        [1,0,0],\n",
    "        [0,-1,0],\n",
    "        [0,0,0]\n",
    "    ])\n",
    "lambda_4 = sp.Matrix([\n",
    "        [0,0,1],\n",
    "        [0,0,0],\n",
    "        [1,0,0]\n",
    "    ])\n",
    "lambda_5 = sp.Matrix([\n",
    "        [0,0,-1j],\n",
    "        [0,0,0],\n",
    "        [1j,0,0]\n",
    "    ])\n",
    "lambda_6 = sp.Matrix([\n",
    "        [0,0,0],\n",
    "        [0,0,1],\n",
    "        [0,1,0]\n",
    "    ])\n",
    "lambda_7 = sp.Matrix([\n",
    "        [0,0,0],\n",
    "        [0,0,-1j],\n",
    "        [0,1j,0]\n",
    "    ])\n",
    "lambda_8 = (1/sp.sqrt(3))*sp.Matrix([\n",
    "        [1,0,0],\n",
    "        [0,1,0],\n",
    "        [0,0,-2]\n",
    "    ])\n",
    "m_1 = sp.Symbol(\"m_1\",real=True)\n",
    "m_2 = sp.Symbol(\"m_2\",real=True)\n",
    "m_3 = sp.Symbol(\"m_3\",real=True)\n",
    "m_4 = sp.Symbol(\"m_4\",real=True)\n",
    "m_5 = sp.Symbol(\"m_5\",real=True)\n",
    "m_6 = sp.Symbol(\"m_6\",real=True)\n",
    "m_7 = sp.Symbol(\"m_7\",real=True)\n",
    "m_8 = sp.Symbol(\"m_8\",real=True)\n",
    "\n",
    "rho_cc = sp.Symbol(\"rho_cc\")\n",
    "rho_bb = sp.Symbol(\"rho_bb\")\n",
    "rho_aa = sp.Symbol(\"rho_aa\")\n",
    "rho_cb = sp.Symbol(\"rho_cb\")\n",
    "rho_ca = sp.Symbol(\"rho_ca\")\n",
    "rho_ba = sp.Symbol(\"rho_ba\")\n",
    "rho_bc = sp.Symbol(\"rho_bc\")\n",
    "rho_ac = sp.Symbol(\"rho_ac\")\n",
    "rho_ab = sp.Symbol(\"rho_ab\")\n",
    "rho = sp.Matrix([\n",
    "    [rho_cc,rho_cb,rho_ca],\n",
    "    [rho_bc,rho_bb,rho_ba],\n",
    "    [rho_ac,rho_ab,rho_aa]\n",
    "])\n",
    "\n",
    "G_c_to_b = sp.Symbol(\"\\Gamma_{c \\Rightarrow b}\",real=True)\n",
    "G_c_to_a = sp.Symbol(\"\\Gamma_{c \\Rightarrow a}\",real=True)\n",
    "G_b_to_a = sp.Symbol(\"\\Gamma_{b \\Rightarrow a}\",real=True)\n",
    "\n",
    "G_ba = G_b_to_a/2\n",
    "G_ac = (G_c_to_b + G_c_to_a)/2\n",
    "G_bc = (G_b_to_a + G_c_to_b + G_c_to_a)/2\n",
    "\n",
    "Rho_cc = (sp.sqrt(3)*m_3+m_8+1)/3\n",
    "Rho_bb = (-sp.sqrt(3)*m_3+m_8+1)/3\n",
    "Rho_aa = (1-2*m_8)/3\n",
    "Rho_cb = (m_1-sp.I*m_2)/sp.sqrt(3)\n",
    "Rho_bc = (m_1+sp.I*m_2)/sp.sqrt(3)\n",
    "Rho_ca = (m_4-sp.I*m_5)/sp.sqrt(3)\n",
    "Rho_ac = (m_4+sp.I*m_5)/sp.sqrt(3)\n",
    "Rho_ba = (m_6-sp.I*m_7)/sp.sqrt(3)\n",
    "Rho_ab = (m_6+sp.I*m_7)/sp.sqrt(3)\n",
    "\n",
    "d_cb   = sp.Symbol(\"\\delta_{cb}\",real=True)\n",
    "d_ba   = sp.Symbol(\"\\delta_{ba}\",real=True)\n",
    "w      = sp.Symbol(\"\\omega\",real=True)"
   ]
  },
  {
   "cell_type": "code",
   "execution_count": 41,
   "metadata": {},
   "outputs": [],
   "source": [
    "E_c = sp.Symbol(\"E_c\")\n",
    "E_b = sp.Symbol(\"E_b\")\n",
    "E_a = sp.Symbol(\"E_a\")\n",
    "H_A =  sp.Matrix([\n",
    "        [E_c,0,0],\n",
    "        [0,E_b,0],\n",
    "        [0,0,E_a]\n",
    "    ])\n",
    "om_L_ = sp.Symbol(\"\\omega_{L'}\",real=True)\n",
    "om_L = sp.Symbol(\"\\omega_{L}\",real=True)\n",
    "Om_cb = sp.Symbol(\"\\Omega_{cb}\",real=True)\n",
    "Om_ba = sp.Symbol(\"\\Omega_{ba}\",real=True)\n",
    "t = sp.Symbol(\"t\",real=True)\n",
    "h = sp.Symbol(\"h\",real=True)\n",
    "H_cb = (1/sp.sympify(2))*h*Om_cb*sp.Matrix([\n",
    "        [0,0,0],\n",
    "        [0,0,sp.exp(-sp.I*om_L_*t)],\n",
    "        [0,sp.exp(sp.I*om_L_*t),0]\n",
    "    ])\n",
    "H_ba = (1/sp.sympify(2))*h*Om_ba*sp.Matrix([\n",
    "        [0,sp.exp(-sp.I*om_L*t),0],\n",
    "        [sp.exp(sp.I*om_L*t),0,0],\n",
    "        [0,0,0]\n",
    "    ])\n"
   ]
  },
  {
   "cell_type": "code",
   "execution_count": 7,
   "metadata": {},
   "outputs": [
    {
     "data": {
      "text/latex": [
       "$\\displaystyle \\left[\\begin{matrix}\\frac{i \\Omega_{ba} \\left(- \\rho_{bc} + \\rho_{cb} e^{2 i \\omega_{L} t}\\right) e^{- i \\omega_{L} t}}{2} & \\frac{i \\left(- \\Omega_{ba} \\rho_{bb} + \\Omega_{ba} \\rho_{cc} + \\Omega_{cb} \\rho_{ca} e^{i t \\left(\\omega_{L'} + \\omega_{L}\\right)}\\right) e^{- i \\omega_{L} t}}{2} & - \\frac{i \\Omega_{ba} \\rho_{ba} e^{- i \\omega_{L} t}}{2} + \\frac{i \\Omega_{cb} \\rho_{cb} e^{- i \\omega_{L'} t}}{2}\\\\\\frac{i \\left(\\Omega_{ba} \\left(\\rho_{bb} - \\rho_{cc}\\right) e^{i t \\left(\\omega_{L'} + \\omega_{L}\\right)} - \\Omega_{cb} \\rho_{ac}\\right) e^{- i \\omega_{L'} t}}{2} & \\frac{i \\Omega_{ba} \\rho_{bc} e^{- i \\omega_{L} t}}{2} - \\frac{i \\Omega_{ba} \\rho_{cb} e^{i \\omega_{L} t}}{2} - \\frac{i \\Omega_{cb} \\rho_{ab} e^{- i \\omega_{L'} t}}{2} + \\frac{i \\Omega_{cb} \\rho_{ba} e^{i \\omega_{L'} t}}{2} & \\frac{i \\left(- \\Omega_{ba} \\rho_{ca} e^{i t \\left(\\omega_{L'} + \\omega_{L}\\right)} - \\Omega_{cb} \\rho_{aa} + \\Omega_{cb} \\rho_{bb}\\right) e^{- i \\omega_{L'} t}}{2}\\\\\\frac{i \\left(\\Omega_{ba} \\rho_{ab} e^{i \\omega_{L} t} - \\Omega_{cb} \\rho_{bc} e^{i \\omega_{L'} t}\\right)}{2} & \\frac{i \\left(\\Omega_{ba} \\rho_{ac} + \\Omega_{cb} \\left(\\rho_{aa} - \\rho_{bb}\\right) e^{i t \\left(\\omega_{L'} + \\omega_{L}\\right)}\\right) e^{- i \\omega_{L} t}}{2} & \\frac{i \\Omega_{cb} \\left(\\rho_{ab} - \\rho_{ba} e^{2 i \\omega_{L'} t}\\right) e^{- i \\omega_{L'} t}}{2}\\end{matrix}\\right]$"
      ],
      "text/plain": [
       "Matrix([\n",
       "[                                     I*\\Omega_{ba}*(-rho_bc + rho_cb*exp(2*I*\\omega_{L}*t))*exp(-I*\\omega_{L}*t)/2,                                                          I*(-\\Omega_{ba}*rho_bb + \\Omega_{ba}*rho_cc + \\Omega_{cb}*rho_ca*exp(I*t*(\\omega_{L'} + \\omega_{L})))*exp(-I*\\omega_{L}*t)/2,                                   -I*\\Omega_{ba}*rho_ba*exp(-I*\\omega_{L}*t)/2 + I*\\Omega_{cb}*rho_cb*exp(-I*\\omega_{L'}*t)/2],\n",
       "[I*(\\Omega_{ba}*(rho_bb - rho_cc)*exp(I*t*(\\omega_{L'} + \\omega_{L})) - \\Omega_{cb}*rho_ac)*exp(-I*\\omega_{L'}*t)/2, I*\\Omega_{ba}*rho_bc*exp(-I*\\omega_{L}*t)/2 - I*\\Omega_{ba}*rho_cb*exp(I*\\omega_{L}*t)/2 - I*\\Omega_{cb}*rho_ab*exp(-I*\\omega_{L'}*t)/2 + I*\\Omega_{cb}*rho_ba*exp(I*\\omega_{L'}*t)/2, I*(-\\Omega_{ba}*rho_ca*exp(I*t*(\\omega_{L'} + \\omega_{L})) - \\Omega_{cb}*rho_aa + \\Omega_{cb}*rho_bb)*exp(-I*\\omega_{L'}*t)/2],\n",
       "[                            I*(\\Omega_{ba}*rho_ab*exp(I*\\omega_{L}*t) - \\Omega_{cb}*rho_bc*exp(I*\\omega_{L'}*t))/2,                                                                     I*(\\Omega_{ba}*rho_ac + \\Omega_{cb}*(rho_aa - rho_bb)*exp(I*t*(\\omega_{L'} + \\omega_{L})))*exp(-I*\\omega_{L}*t)/2,                                                I*\\Omega_{cb}*(rho_ab - rho_ba*exp(2*I*\\omega_{L'}*t))*exp(-I*\\omega_{L'}*t)/2]])"
      ]
     },
     "execution_count": 7,
     "metadata": {},
     "output_type": "execute_result"
    }
   ],
   "source": [
    "H =  H_cb + H_ba\n",
    "sp.simplify((1/(sp.I*h))*(H*rho - rho*H))"
   ]
  },
  {
   "cell_type": "code",
   "execution_count": 100,
   "metadata": {},
   "outputs": [],
   "source": [
    "sigma_cc =sp.simplify(sp.I*(Om_ba/2)*(Rho_cb - Rho_bc) - (G_c_to_b + G_c_to_a)*Rho_cc)\n",
    "sigma_bb =sp.simplify(-sp.I*(Om_ba/2)*(Rho_cb - Rho_bc)+sp.I*(Om_cb/2)*(Rho_ba - Rho_ab) + G_c_to_b*Rho_cc - G_b_to_a*Rho_bb)\n",
    "sigma_aa =sp.simplify(-sp.I*(Om_cb/2)*(Rho_ba - Rho_ab)+G_c_to_a*Rho_cc + G_b_to_a*Rho_bb)\n",
    "sigma_cb = -sp.I*(Om_ba/2)*(Rho_cc-Rho_bb) +(sp.I/2)*Om_cb*Rho_ca + sp.I*d_cb*Rho_cb - G_bc*Rho_cb\n",
    "sigma_ca = sp.I*w*Rho_ca -(sp.I/2)*Om_ba*Rho_ba + (sp.I/2)*Om_cb*Rho_cb - G_ac*Rho_ca\n",
    "sigma_ba = (sp.I/2)*Om_cb*(Rho_bb-Rho_aa) -(sp.I/2)*Om_ba*Rho_ca + sp.I*d_ba*Rho_ba -G_ba*Rho_ba\n",
    "sigma_cb_R, sigma_cb_I = sigma_cb.as_real_imag()\n",
    "sigma_ca_R, sigma_ca_I = sigma_ca.as_real_imag()\n",
    "sigma_ba_R, sigma_ba_I = sigma_ba.as_real_imag()\n",
    "\n"
   ]
  },
  {
   "cell_type": "code",
   "execution_count": 101,
   "metadata": {},
   "outputs": [
    {
     "name": "stdout",
     "output_type": "stream",
     "text": [
      "sigma_cc\n"
     ]
    },
    {
     "data": {
      "text/latex": [
       "$\\displaystyle \\frac{\\sqrt{3} \\Omega_{ba} m_{2}}{3} - \\frac{\\left(\\Gamma_{c \\Rightarrow a} + \\Gamma_{c \\Rightarrow b}\\right) \\left(\\sqrt{3} m_{3} + m_{8} + 1\\right)}{3}$"
      ],
      "text/plain": [
       "sqrt(3)*\\Omega_{ba}*m_2/3 - (\\Gamma_{c \\Rightarrow a} + \\Gamma_{c \\Rightarrow b})*(sqrt(3)*m_3 + m_8 + 1)/3"
      ]
     },
     "metadata": {},
     "output_type": "display_data"
    },
    {
     "name": "stdout",
     "output_type": "stream",
     "text": [
      "sigma_bb\n"
     ]
    },
    {
     "data": {
      "text/latex": [
       "$\\displaystyle - \\frac{\\Gamma_{b \\Rightarrow a} \\left(- \\sqrt{3} m_{3} + m_{8} + 1\\right)}{3} + \\frac{\\Gamma_{c \\Rightarrow b} \\left(\\sqrt{3} m_{3} + m_{8} + 1\\right)}{3} - \\frac{\\sqrt{3} \\Omega_{ba} m_{2}}{3} + \\frac{\\sqrt{3} \\Omega_{cb} m_{7}}{3}$"
      ],
      "text/plain": [
       "-\\Gamma_{b \\Rightarrow a}*(-sqrt(3)*m_3 + m_8 + 1)/3 + \\Gamma_{c \\Rightarrow b}*(sqrt(3)*m_3 + m_8 + 1)/3 - sqrt(3)*\\Omega_{ba}*m_2/3 + sqrt(3)*\\Omega_{cb}*m_7/3"
      ]
     },
     "metadata": {},
     "output_type": "display_data"
    },
    {
     "name": "stdout",
     "output_type": "stream",
     "text": [
      "sigma_aa\n"
     ]
    },
    {
     "data": {
      "text/latex": [
       "$\\displaystyle \\frac{\\Gamma_{b \\Rightarrow a} \\left(- \\sqrt{3} m_{3} + m_{8} + 1\\right)}{3} + \\frac{\\Gamma_{c \\Rightarrow a} \\left(\\sqrt{3} m_{3} + m_{8} + 1\\right)}{3} - \\frac{\\sqrt{3} \\Omega_{cb} m_{7}}{3}$"
      ],
      "text/plain": [
       "\\Gamma_{b \\Rightarrow a}*(-sqrt(3)*m_3 + m_8 + 1)/3 + \\Gamma_{c \\Rightarrow a}*(sqrt(3)*m_3 + m_8 + 1)/3 - sqrt(3)*\\Omega_{cb}*m_7/3"
      ]
     },
     "metadata": {},
     "output_type": "display_data"
    },
    {
     "name": "stdout",
     "output_type": "stream",
     "text": [
      "sigma_cb_R\n"
     ]
    },
    {
     "data": {
      "text/latex": [
       "$\\displaystyle \\frac{\\sqrt{3} \\Omega_{cb} m_{5}}{6} + \\frac{\\sqrt{3} \\delta_{cb} m_{2}}{3} - \\frac{\\sqrt{3} m_{1} \\left(\\frac{\\Gamma_{b \\Rightarrow a}}{2} + \\frac{\\Gamma_{c \\Rightarrow a}}{2} + \\frac{\\Gamma_{c \\Rightarrow b}}{2}\\right)}{3}$"
      ],
      "text/plain": [
       "sqrt(3)*\\Omega_{cb}*m_5/6 + sqrt(3)*\\delta_{cb}*m_2/3 - sqrt(3)*m_1*(\\Gamma_{b \\Rightarrow a}/2 + \\Gamma_{c \\Rightarrow a}/2 + \\Gamma_{c \\Rightarrow b}/2)/3"
      ]
     },
     "metadata": {},
     "output_type": "display_data"
    },
    {
     "name": "stdout",
     "output_type": "stream",
     "text": [
      "sigma_cb_I\n"
     ]
    },
    {
     "data": {
      "text/latex": [
       "$\\displaystyle - \\frac{\\sqrt{3} \\Omega_{ba} m_{3}}{3} + \\frac{\\sqrt{3} \\Omega_{cb} m_{4}}{6} + \\frac{\\sqrt{3} \\delta_{cb} m_{1}}{3} + \\frac{\\sqrt{3} m_{2} \\left(\\frac{\\Gamma_{b \\Rightarrow a}}{2} + \\frac{\\Gamma_{c \\Rightarrow a}}{2} + \\frac{\\Gamma_{c \\Rightarrow b}}{2}\\right)}{3}$"
      ],
      "text/plain": [
       "-sqrt(3)*\\Omega_{ba}*m_3/3 + sqrt(3)*\\Omega_{cb}*m_4/6 + sqrt(3)*\\delta_{cb}*m_1/3 + sqrt(3)*m_2*(\\Gamma_{b \\Rightarrow a}/2 + \\Gamma_{c \\Rightarrow a}/2 + \\Gamma_{c \\Rightarrow b}/2)/3"
      ]
     },
     "metadata": {},
     "output_type": "display_data"
    },
    {
     "name": "stdout",
     "output_type": "stream",
     "text": [
      "sigma_ca_R\n"
     ]
    },
    {
     "data": {
      "text/latex": [
       "$\\displaystyle - \\frac{\\sqrt{3} \\Omega_{ba} m_{7}}{6} + \\frac{\\sqrt{3} \\Omega_{cb} m_{2}}{6} + \\frac{\\sqrt{3} \\omega m_{5}}{3} - \\frac{\\sqrt{3} m_{4} \\left(\\frac{\\Gamma_{c \\Rightarrow a}}{2} + \\frac{\\Gamma_{c \\Rightarrow b}}{2}\\right)}{3}$"
      ],
      "text/plain": [
       "-sqrt(3)*\\Omega_{ba}*m_7/6 + sqrt(3)*\\Omega_{cb}*m_2/6 + sqrt(3)*\\omega*m_5/3 - sqrt(3)*m_4*(\\Gamma_{c \\Rightarrow a}/2 + \\Gamma_{c \\Rightarrow b}/2)/3"
      ]
     },
     "metadata": {},
     "output_type": "display_data"
    },
    {
     "name": "stdout",
     "output_type": "stream",
     "text": [
      "sigma_ca_I\n"
     ]
    },
    {
     "data": {
      "text/latex": [
       "$\\displaystyle - \\frac{\\sqrt{3} \\Omega_{ba} m_{6}}{6} + \\frac{\\sqrt{3} \\Omega_{cb} m_{1}}{6} + \\frac{\\sqrt{3} \\omega m_{4}}{3} + \\frac{\\sqrt{3} m_{5} \\left(\\frac{\\Gamma_{c \\Rightarrow a}}{2} + \\frac{\\Gamma_{c \\Rightarrow b}}{2}\\right)}{3}$"
      ],
      "text/plain": [
       "-sqrt(3)*\\Omega_{ba}*m_6/6 + sqrt(3)*\\Omega_{cb}*m_1/6 + sqrt(3)*\\omega*m_4/3 + sqrt(3)*m_5*(\\Gamma_{c \\Rightarrow a}/2 + \\Gamma_{c \\Rightarrow b}/2)/3"
      ]
     },
     "metadata": {},
     "output_type": "display_data"
    },
    {
     "name": "stdout",
     "output_type": "stream",
     "text": [
      "sigma_ba_R\n"
     ]
    },
    {
     "data": {
      "text/latex": [
       "$\\displaystyle - \\frac{\\sqrt{3} \\Gamma_{b \\Rightarrow a} m_{6}}{6} - \\frac{\\sqrt{3} \\Omega_{ba} m_{5}}{6} + \\frac{\\sqrt{3} \\delta_{ba} m_{7}}{3}$"
      ],
      "text/plain": [
       "-sqrt(3)*\\Gamma_{b \\Rightarrow a}*m_6/6 - sqrt(3)*\\Omega_{ba}*m_5/6 + sqrt(3)*\\delta_{ba}*m_7/3"
      ]
     },
     "metadata": {},
     "output_type": "display_data"
    },
    {
     "name": "stdout",
     "output_type": "stream",
     "text": [
      "sigma_ba_I\n"
     ]
    },
    {
     "data": {
      "text/latex": [
       "$\\displaystyle \\frac{\\sqrt{3} \\Gamma_{b \\Rightarrow a} m_{7}}{6} - \\frac{\\sqrt{3} \\Omega_{ba} m_{4}}{6} - \\frac{\\Omega_{cb} \\left(\\sqrt{3} m_{3} - 3 m_{8}\\right)}{6} + \\frac{\\sqrt{3} \\delta_{ba} m_{6}}{3}$"
      ],
      "text/plain": [
       "sqrt(3)*\\Gamma_{b \\Rightarrow a}*m_7/6 - sqrt(3)*\\Omega_{ba}*m_4/6 - \\Omega_{cb}*(sqrt(3)*m_3 - 3*m_8)/6 + sqrt(3)*\\delta_{ba}*m_6/3"
      ]
     },
     "metadata": {},
     "output_type": "display_data"
    }
   ],
   "source": [
    "print(\"sigma_cc\")\n",
    "display(sigma_cc)\n",
    "print(\"sigma_bb\")\n",
    "display(sigma_bb)\n",
    "print(\"sigma_aa\")\n",
    "display(sigma_aa)\n",
    "\n",
    "print(\"sigma_cb_R\")\n",
    "display(sigma_cb_R)\n",
    "print(\"sigma_cb_I\")\n",
    "display(sigma_cb_I)\n",
    "print(\"sigma_ca_R\")\n",
    "display(sigma_ca_R)\n",
    "print(\"sigma_ca_I\")\n",
    "display(sigma_ca_I)\n",
    "print(\"sigma_ba_R\")\n",
    "display(sigma_ba_R)\n",
    "print(\"sigma_ba_I\")\n",
    "display(sp.simplify(sigma_ba_I))"
   ]
  },
  {
   "cell_type": "code",
   "execution_count": null,
   "metadata": {},
   "outputs": [],
   "source": [
    "eqns = [sigma_cc,sigma_bb,sigma_aa,sigma_cb_R,sigma_cb_I,sigma_ca_R,sigma_ca_I,sigma_ba_R,sigma_ba_I]\n",
    "varis= [m_1,m_2,m_3,m_4,m_5,m_6,m_7,m_8]\n",
    "A,b = sp.linear_eq_to_matrix(eqns,varis)\n",
    "D =sp.linsolve((A,b),varis)\n"
   ]
  },
  {
   "cell_type": "code",
   "execution_count": 94,
   "metadata": {},
   "outputs": [],
   "source": [
    "ans_3 = sp.simplify((list(D)[0])[2])\n",
    "ans_8 = sp.simplify((list(D)[0])[7])"
   ]
  },
  {
   "cell_type": "code",
   "execution_count": 96,
   "metadata": {},
   "outputs": [
    {
     "data": {
      "text/latex": [
       "$\\displaystyle \\frac{\\sqrt{3} \\Omega_{cb}^{2} \\left(4 \\Gamma_{b \\Rightarrow a}^{2} \\Gamma_{c \\Rightarrow a} \\Gamma_{c \\Rightarrow b} \\Omega_{ba}^{2} + \\Gamma_{b \\Rightarrow a}^{2} \\Omega_{ba}^{2} \\Omega_{cb}^{2} - 4 \\Gamma_{b \\Rightarrow a}^{2} \\Omega_{ba}^{2} \\delta_{cb} \\omega - 16 \\Gamma_{b \\Rightarrow a} \\Gamma_{c \\Rightarrow a}^{3} \\Gamma_{c \\Rightarrow b}^{2} - 16 \\Gamma_{b \\Rightarrow a} \\Gamma_{c \\Rightarrow a}^{3} \\delta_{cb}^{2} - 16 \\Gamma_{b \\Rightarrow a} \\Gamma_{c \\Rightarrow a}^{2} \\Gamma_{c \\Rightarrow b}^{3} + 4 \\Gamma_{b \\Rightarrow a} \\Gamma_{c \\Rightarrow a}^{2} \\Gamma_{c \\Rightarrow b} \\Omega_{ba}^{2} - 8 \\Gamma_{b \\Rightarrow a} \\Gamma_{c \\Rightarrow a}^{2} \\Gamma_{c \\Rightarrow b} \\Omega_{cb}^{2} - 16 \\Gamma_{b \\Rightarrow a} \\Gamma_{c \\Rightarrow a}^{2} \\Gamma_{c \\Rightarrow b} \\delta_{cb}^{2} - 8 \\Gamma_{b \\Rightarrow a} \\Gamma_{c \\Rightarrow a} \\Gamma_{c \\Rightarrow b}^{2} \\Omega_{cb}^{2} - 16 \\Gamma_{b \\Rightarrow a} \\Gamma_{c \\Rightarrow a} \\Gamma_{c \\Rightarrow b}^{2} \\omega^{2} + \\Gamma_{b \\Rightarrow a} \\Gamma_{c \\Rightarrow a} \\Omega_{ba}^{2} \\Omega_{cb}^{2} - 4 \\Gamma_{b \\Rightarrow a} \\Gamma_{c \\Rightarrow a} \\Omega_{ba}^{2} \\delta_{ba} \\delta_{cb} - 4 \\Gamma_{b \\Rightarrow a} \\Gamma_{c \\Rightarrow a} \\Omega_{ba}^{2} \\delta_{cb} \\omega - \\Gamma_{b \\Rightarrow a} \\Gamma_{c \\Rightarrow a} \\Omega_{cb}^{4} + 8 \\Gamma_{b \\Rightarrow a} \\Gamma_{c \\Rightarrow a} \\Omega_{cb}^{2} \\delta_{cb} \\omega - 16 \\Gamma_{b \\Rightarrow a} \\Gamma_{c \\Rightarrow a} \\delta_{cb}^{2} \\omega^{2} - 16 \\Gamma_{b \\Rightarrow a} \\Gamma_{c \\Rightarrow b}^{3} \\omega^{2} + \\Gamma_{b \\Rightarrow a} \\Gamma_{c \\Rightarrow b} \\Omega_{ba}^{4} - 4 \\Gamma_{b \\Rightarrow a} \\Gamma_{c \\Rightarrow b} \\Omega_{ba}^{2} \\delta_{ba} \\omega - \\Gamma_{b \\Rightarrow a} \\Gamma_{c \\Rightarrow b} \\Omega_{cb}^{4} + 8 \\Gamma_{b \\Rightarrow a} \\Gamma_{c \\Rightarrow b} \\Omega_{cb}^{2} \\delta_{cb} \\omega - 16 \\Gamma_{b \\Rightarrow a} \\Gamma_{c \\Rightarrow b} \\delta_{cb}^{2} \\omega^{2} - 4 \\Gamma_{c \\Rightarrow a}^{2} \\Gamma_{c \\Rightarrow b}^{2} \\Omega_{ba}^{2} - 4 \\Gamma_{c \\Rightarrow a}^{2} \\Omega_{ba}^{2} \\delta_{ba} \\delta_{cb} - 4 \\Gamma_{c \\Rightarrow a}^{2} \\Omega_{ba}^{2} \\delta_{cb}^{2} - 4 \\Gamma_{c \\Rightarrow a} \\Gamma_{c \\Rightarrow b}^{3} \\Omega_{ba}^{2} + \\Gamma_{c \\Rightarrow a} \\Gamma_{c \\Rightarrow b} \\Omega_{ba}^{4} - \\Gamma_{c \\Rightarrow a} \\Gamma_{c \\Rightarrow b} \\Omega_{ba}^{2} \\Omega_{cb}^{2} - 4 \\Gamma_{c \\Rightarrow a} \\Gamma_{c \\Rightarrow b} \\Omega_{ba}^{2} \\delta_{ba} \\omega - 4 \\Gamma_{c \\Rightarrow a} \\Gamma_{c \\Rightarrow b} \\Omega_{ba}^{2} \\delta_{cb}^{2} - \\Gamma_{c \\Rightarrow b}^{2} \\Omega_{ba}^{2} \\Omega_{cb}^{2}\\right)}{2 \\left(32 \\Gamma_{b \\Rightarrow a}^{3} \\Gamma_{c \\Rightarrow a}^{3} \\Gamma_{c \\Rightarrow b}^{2} + 32 \\Gamma_{b \\Rightarrow a}^{3} \\Gamma_{c \\Rightarrow a}^{3} \\delta_{cb}^{2} + 32 \\Gamma_{b \\Rightarrow a}^{3} \\Gamma_{c \\Rightarrow a}^{2} \\Gamma_{c \\Rightarrow b}^{3} - 16 \\Gamma_{b \\Rightarrow a}^{3} \\Gamma_{c \\Rightarrow a}^{2} \\Gamma_{c \\Rightarrow b} \\Omega_{ba}^{2} + 16 \\Gamma_{b \\Rightarrow a}^{3} \\Gamma_{c \\Rightarrow a}^{2} \\Gamma_{c \\Rightarrow b} \\Omega_{cb}^{2} + 32 \\Gamma_{b \\Rightarrow a}^{3} \\Gamma_{c \\Rightarrow a}^{2} \\Gamma_{c \\Rightarrow b} \\delta_{cb}^{2} + 16 \\Gamma_{b \\Rightarrow a}^{3} \\Gamma_{c \\Rightarrow a} \\Gamma_{c \\Rightarrow b}^{2} \\Omega_{cb}^{2} + 32 \\Gamma_{b \\Rightarrow a}^{3} \\Gamma_{c \\Rightarrow a} \\Gamma_{c \\Rightarrow b}^{2} \\omega^{2} - 4 \\Gamma_{b \\Rightarrow a}^{3} \\Gamma_{c \\Rightarrow a} \\Omega_{ba}^{2} \\Omega_{cb}^{2} + 2 \\Gamma_{b \\Rightarrow a}^{3} \\Gamma_{c \\Rightarrow a} \\Omega_{cb}^{4} - 16 \\Gamma_{b \\Rightarrow a}^{3} \\Gamma_{c \\Rightarrow a} \\Omega_{cb}^{2} \\delta_{cb} \\omega + 32 \\Gamma_{b \\Rightarrow a}^{3} \\Gamma_{c \\Rightarrow a} \\delta_{cb}^{2} \\omega^{2} + 32 \\Gamma_{b \\Rightarrow a}^{3} \\Gamma_{c \\Rightarrow b}^{3} \\omega^{2} - 16 \\Gamma_{b \\Rightarrow a}^{3} \\Gamma_{c \\Rightarrow b} \\Omega_{ba}^{2} \\omega^{2} + 2 \\Gamma_{b \\Rightarrow a}^{3} \\Gamma_{c \\Rightarrow b} \\Omega_{cb}^{4} - 16 \\Gamma_{b \\Rightarrow a}^{3} \\Gamma_{c \\Rightarrow b} \\Omega_{cb}^{2} \\delta_{cb} \\omega + 32 \\Gamma_{b \\Rightarrow a}^{3} \\Gamma_{c \\Rightarrow b} \\delta_{cb}^{2} \\omega^{2} - 16 \\Gamma_{b \\Rightarrow a}^{2} \\Gamma_{c \\Rightarrow a}^{3} \\Gamma_{c \\Rightarrow b} \\Omega_{ba}^{2} + 16 \\Gamma_{b \\Rightarrow a}^{2} \\Gamma_{c \\Rightarrow a}^{2} \\Gamma_{c \\Rightarrow b}^{2} \\Omega_{ba}^{2} - 4 \\Gamma_{b \\Rightarrow a}^{2} \\Gamma_{c \\Rightarrow a}^{2} \\Omega_{ba}^{2} \\Omega_{cb}^{2} + 16 \\Gamma_{b \\Rightarrow a}^{2} \\Gamma_{c \\Rightarrow a}^{2} \\Omega_{ba}^{2} \\delta_{cb}^{2} + 16 \\Gamma_{b \\Rightarrow a}^{2} \\Gamma_{c \\Rightarrow a} \\Gamma_{c \\Rightarrow b}^{3} \\Omega_{ba}^{2} - 8 \\Gamma_{b \\Rightarrow a}^{2} \\Gamma_{c \\Rightarrow a} \\Gamma_{c \\Rightarrow b} \\Omega_{ba}^{4} + 8 \\Gamma_{b \\Rightarrow a}^{2} \\Gamma_{c \\Rightarrow a} \\Gamma_{c \\Rightarrow b} \\Omega_{ba}^{2} \\Omega_{cb}^{2} + 16 \\Gamma_{b \\Rightarrow a}^{2} \\Gamma_{c \\Rightarrow a} \\Gamma_{c \\Rightarrow b} \\Omega_{ba}^{2} \\delta_{cb}^{2} - 16 \\Gamma_{b \\Rightarrow a}^{2} \\Gamma_{c \\Rightarrow a} \\Gamma_{c \\Rightarrow b} \\Omega_{ba}^{2} \\omega^{2} + 4 \\Gamma_{b \\Rightarrow a}^{2} \\Gamma_{c \\Rightarrow b}^{2} \\Omega_{ba}^{2} \\Omega_{cb}^{2} - \\Gamma_{b \\Rightarrow a}^{2} \\Omega_{ba}^{4} \\Omega_{cb}^{2} + \\Gamma_{b \\Rightarrow a}^{2} \\Omega_{ba}^{2} \\Omega_{cb}^{4} - 4 \\Gamma_{b \\Rightarrow a}^{2} \\Omega_{ba}^{2} \\Omega_{cb}^{2} \\delta_{cb} \\omega + 32 \\Gamma_{b \\Rightarrow a} \\Gamma_{c \\Rightarrow a}^{3} \\Gamma_{c \\Rightarrow b}^{2} \\Omega_{cb}^{2} + 32 \\Gamma_{b \\Rightarrow a} \\Gamma_{c \\Rightarrow a}^{3} \\Gamma_{c \\Rightarrow b}^{2} \\delta_{ba}^{2} + 32 \\Gamma_{b \\Rightarrow a} \\Gamma_{c \\Rightarrow a}^{3} \\Omega_{cb}^{2} \\delta_{cb}^{2} + 32 \\Gamma_{b \\Rightarrow a} \\Gamma_{c \\Rightarrow a}^{3} \\delta_{ba}^{2} \\delta_{cb}^{2} + 32 \\Gamma_{b \\Rightarrow a} \\Gamma_{c \\Rightarrow a}^{2} \\Gamma_{c \\Rightarrow b}^{3} \\Omega_{cb}^{2} + 32 \\Gamma_{b \\Rightarrow a} \\Gamma_{c \\Rightarrow a}^{2} \\Gamma_{c \\Rightarrow b}^{3} \\delta_{ba}^{2} - 8 \\Gamma_{b \\Rightarrow a} \\Gamma_{c \\Rightarrow a}^{2} \\Gamma_{c \\Rightarrow b} \\Omega_{ba}^{4} - 28 \\Gamma_{b \\Rightarrow a} \\Gamma_{c \\Rightarrow a}^{2} \\Gamma_{c \\Rightarrow b} \\Omega_{ba}^{2} \\Omega_{cb}^{2} - 16 \\Gamma_{b \\Rightarrow a} \\Gamma_{c \\Rightarrow a}^{2} \\Gamma_{c \\Rightarrow b} \\Omega_{ba}^{2} \\delta_{ba}^{2} + 16 \\Gamma_{b \\Rightarrow a} \\Gamma_{c \\Rightarrow a}^{2} \\Gamma_{c \\Rightarrow b} \\Omega_{cb}^{4} + 16 \\Gamma_{b \\Rightarrow a} \\Gamma_{c \\Rightarrow a}^{2} \\Gamma_{c \\Rightarrow b} \\Omega_{cb}^{2} \\delta_{ba}^{2} + 32 \\Gamma_{b \\Rightarrow a} \\Gamma_{c \\Rightarrow a}^{2} \\Gamma_{c \\Rightarrow b} \\Omega_{cb}^{2} \\delta_{cb}^{2} + 32 \\Gamma_{b \\Rightarrow a} \\Gamma_{c \\Rightarrow a}^{2} \\Gamma_{c \\Rightarrow b} \\delta_{ba}^{2} \\delta_{cb}^{2} + 2 \\Gamma_{b \\Rightarrow a} \\Gamma_{c \\Rightarrow a} \\Gamma_{c \\Rightarrow b}^{2} \\Omega_{ba}^{4} + 4 \\Gamma_{b \\Rightarrow a} \\Gamma_{c \\Rightarrow a} \\Gamma_{c \\Rightarrow b}^{2} \\Omega_{ba}^{2} \\Omega_{cb}^{2} - 16 \\Gamma_{b \\Rightarrow a} \\Gamma_{c \\Rightarrow a} \\Gamma_{c \\Rightarrow b}^{2} \\Omega_{ba}^{2} \\delta_{ba} \\omega + 16 \\Gamma_{b \\Rightarrow a} \\Gamma_{c \\Rightarrow a} \\Gamma_{c \\Rightarrow b}^{2} \\Omega_{cb}^{4} + 16 \\Gamma_{b \\Rightarrow a} \\Gamma_{c \\Rightarrow a} \\Gamma_{c \\Rightarrow b}^{2} \\Omega_{cb}^{2} \\delta_{ba}^{2} + 32 \\Gamma_{b \\Rightarrow a} \\Gamma_{c \\Rightarrow a} \\Gamma_{c \\Rightarrow b}^{2} \\Omega_{cb}^{2} \\omega^{2} + 32 \\Gamma_{b \\Rightarrow a} \\Gamma_{c \\Rightarrow a} \\Gamma_{c \\Rightarrow b}^{2} \\delta_{ba}^{2} \\omega^{2} - \\Gamma_{b \\Rightarrow a} \\Gamma_{c \\Rightarrow a} \\Omega_{ba}^{4} \\Omega_{cb}^{2} + 2 \\Gamma_{b \\Rightarrow a} \\Gamma_{c \\Rightarrow a} \\Omega_{ba}^{4} \\delta_{cb}^{2} - 7 \\Gamma_{b \\Rightarrow a} \\Gamma_{c \\Rightarrow a} \\Omega_{ba}^{2} \\Omega_{cb}^{4} - 4 \\Gamma_{b \\Rightarrow a} \\Gamma_{c \\Rightarrow a} \\Omega_{ba}^{2} \\Omega_{cb}^{2} \\delta_{ba}^{2} + 4 \\Gamma_{b \\Rightarrow a} \\Gamma_{c \\Rightarrow a} \\Omega_{ba}^{2} \\Omega_{cb}^{2} \\delta_{cb} \\omega - 16 \\Gamma_{b \\Rightarrow a} \\Gamma_{c \\Rightarrow a} \\Omega_{ba}^{2} \\delta_{ba} \\delta_{cb}^{2} \\omega + 2 \\Gamma_{b \\Rightarrow a} \\Gamma_{c \\Rightarrow a} \\Omega_{cb}^{6} + 2 \\Gamma_{b \\Rightarrow a} \\Gamma_{c \\Rightarrow a} \\Omega_{cb}^{4} \\delta_{ba}^{2} - 16 \\Gamma_{b \\Rightarrow a} \\Gamma_{c \\Rightarrow a} \\Omega_{cb}^{4} \\delta_{cb} \\omega - 16 \\Gamma_{b \\Rightarrow a} \\Gamma_{c \\Rightarrow a} \\Omega_{cb}^{2} \\delta_{ba}^{2} \\delta_{cb} \\omega + 32 \\Gamma_{b \\Rightarrow a} \\Gamma_{c \\Rightarrow a} \\Omega_{cb}^{2} \\delta_{cb}^{2} \\omega^{2} + 32 \\Gamma_{b \\Rightarrow a} \\Gamma_{c \\Rightarrow a} \\delta_{ba}^{2} \\delta_{cb}^{2} \\omega^{2} + 2 \\Gamma_{b \\Rightarrow a} \\Gamma_{c \\Rightarrow b}^{3} \\Omega_{ba}^{4} - 16 \\Gamma_{b \\Rightarrow a} \\Gamma_{c \\Rightarrow b}^{3} \\Omega_{ba}^{2} \\delta_{ba} \\omega + 32 \\Gamma_{b \\Rightarrow a} \\Gamma_{c \\Rightarrow b}^{3} \\Omega_{cb}^{2} \\omega^{2} + 32 \\Gamma_{b \\Rightarrow a} \\Gamma_{c \\Rightarrow b}^{3} \\delta_{ba}^{2} \\omega^{2} - \\Gamma_{b \\Rightarrow a} \\Gamma_{c \\Rightarrow b} \\Omega_{ba}^{6} + \\Gamma_{b \\Rightarrow a} \\Gamma_{c \\Rightarrow b} \\Omega_{ba}^{4} \\Omega_{cb}^{2} + 8 \\Gamma_{b \\Rightarrow a} \\Gamma_{c \\Rightarrow b} \\Omega_{ba}^{4} \\delta_{ba} \\omega + 2 \\Gamma_{b \\Rightarrow a} \\Gamma_{c \\Rightarrow b} \\Omega_{ba}^{4} \\delta_{cb}^{2} + \\Gamma_{b \\Rightarrow a} \\Gamma_{c \\Rightarrow b} \\Omega_{ba}^{2} \\Omega_{cb}^{4} + 4 \\Gamma_{b \\Rightarrow a} \\Gamma_{c \\Rightarrow b} \\Omega_{ba}^{2} \\Omega_{cb}^{2} \\delta_{ba} \\delta_{cb} - 4 \\Gamma_{b \\Rightarrow a} \\Gamma_{c \\Rightarrow b} \\Omega_{ba}^{2} \\Omega_{cb}^{2} \\delta_{ba} \\omega - 4 \\Gamma_{b \\Rightarrow a} \\Gamma_{c \\Rightarrow b} \\Omega_{ba}^{2} \\Omega_{cb}^{2} \\delta_{cb} \\omega - 24 \\Gamma_{b \\Rightarrow a} \\Gamma_{c \\Rightarrow b} \\Omega_{ba}^{2} \\Omega_{cb}^{2} \\omega^{2} - 16 \\Gamma_{b \\Rightarrow a} \\Gamma_{c \\Rightarrow b} \\Omega_{ba}^{2} \\delta_{ba}^{2} \\omega^{2} - 16 \\Gamma_{b \\Rightarrow a} \\Gamma_{c \\Rightarrow b} \\Omega_{ba}^{2} \\delta_{ba} \\delta_{cb}^{2} \\omega + 2 \\Gamma_{b \\Rightarrow a} \\Gamma_{c \\Rightarrow b} \\Omega_{cb}^{6} + 2 \\Gamma_{b \\Rightarrow a} \\Gamma_{c \\Rightarrow b} \\Omega_{cb}^{4} \\delta_{ba}^{2} - 16 \\Gamma_{b \\Rightarrow a} \\Gamma_{c \\Rightarrow b} \\Omega_{cb}^{4} \\delta_{cb} \\omega - 16 \\Gamma_{b \\Rightarrow a} \\Gamma_{c \\Rightarrow b} \\Omega_{cb}^{2} \\delta_{ba}^{2} \\delta_{cb} \\omega + 32 \\Gamma_{b \\Rightarrow a} \\Gamma_{c \\Rightarrow b} \\Omega_{cb}^{2} \\delta_{cb}^{2} \\omega^{2} + 32 \\Gamma_{b \\Rightarrow a} \\Gamma_{c \\Rightarrow b} \\delta_{ba}^{2} \\delta_{cb}^{2} \\omega^{2} - 16 \\Gamma_{c \\Rightarrow a}^{3} \\Gamma_{c \\Rightarrow b} \\Omega_{ba}^{2} \\delta_{ba}^{2} + 8 \\Gamma_{c \\Rightarrow a}^{2} \\Gamma_{c \\Rightarrow b}^{2} \\Omega_{ba}^{2} \\Omega_{cb}^{2} - 4 \\Gamma_{c \\Rightarrow a}^{2} \\Omega_{ba}^{2} \\Omega_{cb}^{2} \\delta_{ba}^{2} + 4 \\Gamma_{c \\Rightarrow a}^{2} \\Omega_{ba}^{2} \\Omega_{cb}^{2} \\delta_{ba} \\delta_{cb} + 8 \\Gamma_{c \\Rightarrow a}^{2} \\Omega_{ba}^{2} \\Omega_{cb}^{2} \\delta_{cb}^{2} + 8 \\Gamma_{c \\Rightarrow a} \\Gamma_{c \\Rightarrow b}^{3} \\Omega_{ba}^{2} \\Omega_{cb}^{2} - \\Gamma_{c \\Rightarrow a} \\Gamma_{c \\Rightarrow b} \\Omega_{ba}^{6} - 7 \\Gamma_{c \\Rightarrow a} \\Gamma_{c \\Rightarrow b} \\Omega_{ba}^{4} \\Omega_{cb}^{2} + 8 \\Gamma_{c \\Rightarrow a} \\Gamma_{c \\Rightarrow b} \\Omega_{ba}^{4} \\delta_{ba} \\omega + 2 \\Gamma_{c \\Rightarrow a} \\Gamma_{c \\Rightarrow b} \\Omega_{ba}^{2} \\Omega_{cb}^{4} - 4 \\Gamma_{c \\Rightarrow a} \\Gamma_{c \\Rightarrow b} \\Omega_{ba}^{2} \\Omega_{cb}^{2} \\delta_{ba} \\delta_{cb} + 4 \\Gamma_{c \\Rightarrow a} \\Gamma_{c \\Rightarrow b} \\Omega_{ba}^{2} \\Omega_{cb}^{2} \\delta_{ba} \\omega + 8 \\Gamma_{c \\Rightarrow a} \\Gamma_{c \\Rightarrow b} \\Omega_{ba}^{2} \\Omega_{cb}^{2} \\delta_{cb}^{2} - 16 \\Gamma_{c \\Rightarrow a} \\Gamma_{c \\Rightarrow b} \\Omega_{ba}^{2} \\delta_{ba}^{2} \\omega^{2} + \\Gamma_{c \\Rightarrow b}^{2} \\Omega_{ba}^{4} \\Omega_{cb}^{2} + 2 \\Gamma_{c \\Rightarrow b}^{2} \\Omega_{ba}^{2} \\Omega_{cb}^{4} - 4 \\Gamma_{c \\Rightarrow b}^{2} \\Omega_{ba}^{2} \\Omega_{cb}^{2} \\delta_{ba} \\omega\\right)}$"
      ],
      "text/plain": [
       "sqrt(3)*\\Omega_{cb}**2*(4*\\Gamma_{b \\Rightarrow a}**2*\\Gamma_{c \\Rightarrow a}*\\Gamma_{c \\Rightarrow b}*\\Omega_{ba}**2 + \\Gamma_{b \\Rightarrow a}**2*\\Omega_{ba}**2*\\Omega_{cb}**2 - 4*\\Gamma_{b \\Rightarrow a}**2*\\Omega_{ba}**2*\\delta_{cb}*\\omega - 16*\\Gamma_{b \\Rightarrow a}*\\Gamma_{c \\Rightarrow a}**3*\\Gamma_{c \\Rightarrow b}**2 - 16*\\Gamma_{b \\Rightarrow a}*\\Gamma_{c \\Rightarrow a}**3*\\delta_{cb}**2 - 16*\\Gamma_{b \\Rightarrow a}*\\Gamma_{c \\Rightarrow a}**2*\\Gamma_{c \\Rightarrow b}**3 + 4*\\Gamma_{b \\Rightarrow a}*\\Gamma_{c \\Rightarrow a}**2*\\Gamma_{c \\Rightarrow b}*\\Omega_{ba}**2 - 8*\\Gamma_{b \\Rightarrow a}*\\Gamma_{c \\Rightarrow a}**2*\\Gamma_{c \\Rightarrow b}*\\Omega_{cb}**2 - 16*\\Gamma_{b \\Rightarrow a}*\\Gamma_{c \\Rightarrow a}**2*\\Gamma_{c \\Rightarrow b}*\\delta_{cb}**2 - 8*\\Gamma_{b \\Rightarrow a}*\\Gamma_{c \\Rightarrow a}*\\Gamma_{c \\Rightarrow b}**2*\\Omega_{cb}**2 - 16*\\Gamma_{b \\Rightarrow a}*\\Gamma_{c \\Rightarrow a}*\\Gamma_{c \\Rightarrow b}**2*\\omega**2 + \\Gamma_{b \\Rightarrow a}*\\Gamma_{c \\Rightarrow a}*\\Omega_{ba}**2*\\Omega_{cb}**2 - 4*\\Gamma_{b \\Rightarrow a}*\\Gamma_{c \\Rightarrow a}*\\Omega_{ba}**2*\\delta_{ba}*\\delta_{cb} - 4*\\Gamma_{b \\Rightarrow a}*\\Gamma_{c \\Rightarrow a}*\\Omega_{ba}**2*\\delta_{cb}*\\omega - \\Gamma_{b \\Rightarrow a}*\\Gamma_{c \\Rightarrow a}*\\Omega_{cb}**4 + 8*\\Gamma_{b \\Rightarrow a}*\\Gamma_{c \\Rightarrow a}*\\Omega_{cb}**2*\\delta_{cb}*\\omega - 16*\\Gamma_{b \\Rightarrow a}*\\Gamma_{c \\Rightarrow a}*\\delta_{cb}**2*\\omega**2 - 16*\\Gamma_{b \\Rightarrow a}*\\Gamma_{c \\Rightarrow b}**3*\\omega**2 + \\Gamma_{b \\Rightarrow a}*\\Gamma_{c \\Rightarrow b}*\\Omega_{ba}**4 - 4*\\Gamma_{b \\Rightarrow a}*\\Gamma_{c \\Rightarrow b}*\\Omega_{ba}**2*\\delta_{ba}*\\omega - \\Gamma_{b \\Rightarrow a}*\\Gamma_{c \\Rightarrow b}*\\Omega_{cb}**4 + 8*\\Gamma_{b \\Rightarrow a}*\\Gamma_{c \\Rightarrow b}*\\Omega_{cb}**2*\\delta_{cb}*\\omega - 16*\\Gamma_{b \\Rightarrow a}*\\Gamma_{c \\Rightarrow b}*\\delta_{cb}**2*\\omega**2 - 4*\\Gamma_{c \\Rightarrow a}**2*\\Gamma_{c \\Rightarrow b}**2*\\Omega_{ba}**2 - 4*\\Gamma_{c \\Rightarrow a}**2*\\Omega_{ba}**2*\\delta_{ba}*\\delta_{cb} - 4*\\Gamma_{c \\Rightarrow a}**2*\\Omega_{ba}**2*\\delta_{cb}**2 - 4*\\Gamma_{c \\Rightarrow a}*\\Gamma_{c \\Rightarrow b}**3*\\Omega_{ba}**2 + \\Gamma_{c \\Rightarrow a}*\\Gamma_{c \\Rightarrow b}*\\Omega_{ba}**4 - \\Gamma_{c \\Rightarrow a}*\\Gamma_{c \\Rightarrow b}*\\Omega_{ba}**2*\\Omega_{cb}**2 - 4*\\Gamma_{c \\Rightarrow a}*\\Gamma_{c \\Rightarrow b}*\\Omega_{ba}**2*\\delta_{ba}*\\omega - 4*\\Gamma_{c \\Rightarrow a}*\\Gamma_{c \\Rightarrow b}*\\Omega_{ba}**2*\\delta_{cb}**2 - \\Gamma_{c \\Rightarrow b}**2*\\Omega_{ba}**2*\\Omega_{cb}**2)/(2*(32*\\Gamma_{b \\Rightarrow a}**3*\\Gamma_{c \\Rightarrow a}**3*\\Gamma_{c \\Rightarrow b}**2 + 32*\\Gamma_{b \\Rightarrow a}**3*\\Gamma_{c \\Rightarrow a}**3*\\delta_{cb}**2 + 32*\\Gamma_{b \\Rightarrow a}**3*\\Gamma_{c \\Rightarrow a}**2*\\Gamma_{c \\Rightarrow b}**3 - 16*\\Gamma_{b \\Rightarrow a}**3*\\Gamma_{c \\Rightarrow a}**2*\\Gamma_{c \\Rightarrow b}*\\Omega_{ba}**2 + 16*\\Gamma_{b \\Rightarrow a}**3*\\Gamma_{c \\Rightarrow a}**2*\\Gamma_{c \\Rightarrow b}*\\Omega_{cb}**2 + 32*\\Gamma_{b \\Rightarrow a}**3*\\Gamma_{c \\Rightarrow a}**2*\\Gamma_{c \\Rightarrow b}*\\delta_{cb}**2 + 16*\\Gamma_{b \\Rightarrow a}**3*\\Gamma_{c \\Rightarrow a}*\\Gamma_{c \\Rightarrow b}**2*\\Omega_{cb}**2 + 32*\\Gamma_{b \\Rightarrow a}**3*\\Gamma_{c \\Rightarrow a}*\\Gamma_{c \\Rightarrow b}**2*\\omega**2 - 4*\\Gamma_{b \\Rightarrow a}**3*\\Gamma_{c \\Rightarrow a}*\\Omega_{ba}**2*\\Omega_{cb}**2 + 2*\\Gamma_{b \\Rightarrow a}**3*\\Gamma_{c \\Rightarrow a}*\\Omega_{cb}**4 - 16*\\Gamma_{b \\Rightarrow a}**3*\\Gamma_{c \\Rightarrow a}*\\Omega_{cb}**2*\\delta_{cb}*\\omega + 32*\\Gamma_{b \\Rightarrow a}**3*\\Gamma_{c \\Rightarrow a}*\\delta_{cb}**2*\\omega**2 + 32*\\Gamma_{b \\Rightarrow a}**3*\\Gamma_{c \\Rightarrow b}**3*\\omega**2 - 16*\\Gamma_{b \\Rightarrow a}**3*\\Gamma_{c \\Rightarrow b}*\\Omega_{ba}**2*\\omega**2 + 2*\\Gamma_{b \\Rightarrow a}**3*\\Gamma_{c \\Rightarrow b}*\\Omega_{cb}**4 - 16*\\Gamma_{b \\Rightarrow a}**3*\\Gamma_{c \\Rightarrow b}*\\Omega_{cb}**2*\\delta_{cb}*\\omega + 32*\\Gamma_{b \\Rightarrow a}**3*\\Gamma_{c \\Rightarrow b}*\\delta_{cb}**2*\\omega**2 - 16*\\Gamma_{b \\Rightarrow a}**2*\\Gamma_{c \\Rightarrow a}**3*\\Gamma_{c \\Rightarrow b}*\\Omega_{ba}**2 + 16*\\Gamma_{b \\Rightarrow a}**2*\\Gamma_{c \\Rightarrow a}**2*\\Gamma_{c \\Rightarrow b}**2*\\Omega_{ba}**2 - 4*\\Gamma_{b \\Rightarrow a}**2*\\Gamma_{c \\Rightarrow a}**2*\\Omega_{ba}**2*\\Omega_{cb}**2 + 16*\\Gamma_{b \\Rightarrow a}**2*\\Gamma_{c \\Rightarrow a}**2*\\Omega_{ba}**2*\\delta_{cb}**2 + 16*\\Gamma_{b \\Rightarrow a}**2*\\Gamma_{c \\Rightarrow a}*\\Gamma_{c \\Rightarrow b}**3*\\Omega_{ba}**2 - 8*\\Gamma_{b \\Rightarrow a}**2*\\Gamma_{c \\Rightarrow a}*\\Gamma_{c \\Rightarrow b}*\\Omega_{ba}**4 + 8*\\Gamma_{b \\Rightarrow a}**2*\\Gamma_{c \\Rightarrow a}*\\Gamma_{c \\Rightarrow b}*\\Omega_{ba}**2*\\Omega_{cb}**2 + 16*\\Gamma_{b \\Rightarrow a}**2*\\Gamma_{c \\Rightarrow a}*\\Gamma_{c \\Rightarrow b}*\\Omega_{ba}**2*\\delta_{cb}**2 - 16*\\Gamma_{b \\Rightarrow a}**2*\\Gamma_{c \\Rightarrow a}*\\Gamma_{c \\Rightarrow b}*\\Omega_{ba}**2*\\omega**2 + 4*\\Gamma_{b \\Rightarrow a}**2*\\Gamma_{c \\Rightarrow b}**2*\\Omega_{ba}**2*\\Omega_{cb}**2 - \\Gamma_{b \\Rightarrow a}**2*\\Omega_{ba}**4*\\Omega_{cb}**2 + \\Gamma_{b \\Rightarrow a}**2*\\Omega_{ba}**2*\\Omega_{cb}**4 - 4*\\Gamma_{b \\Rightarrow a}**2*\\Omega_{ba}**2*\\Omega_{cb}**2*\\delta_{cb}*\\omega + 32*\\Gamma_{b \\Rightarrow a}*\\Gamma_{c \\Rightarrow a}**3*\\Gamma_{c \\Rightarrow b}**2*\\Omega_{cb}**2 + 32*\\Gamma_{b \\Rightarrow a}*\\Gamma_{c \\Rightarrow a}**3*\\Gamma_{c \\Rightarrow b}**2*\\delta_{ba}**2 + 32*\\Gamma_{b \\Rightarrow a}*\\Gamma_{c \\Rightarrow a}**3*\\Omega_{cb}**2*\\delta_{cb}**2 + 32*\\Gamma_{b \\Rightarrow a}*\\Gamma_{c \\Rightarrow a}**3*\\delta_{ba}**2*\\delta_{cb}**2 + 32*\\Gamma_{b \\Rightarrow a}*\\Gamma_{c \\Rightarrow a}**2*\\Gamma_{c \\Rightarrow b}**3*\\Omega_{cb}**2 + 32*\\Gamma_{b \\Rightarrow a}*\\Gamma_{c \\Rightarrow a}**2*\\Gamma_{c \\Rightarrow b}**3*\\delta_{ba}**2 - 8*\\Gamma_{b \\Rightarrow a}*\\Gamma_{c \\Rightarrow a}**2*\\Gamma_{c \\Rightarrow b}*\\Omega_{ba}**4 - 28*\\Gamma_{b \\Rightarrow a}*\\Gamma_{c \\Rightarrow a}**2*\\Gamma_{c \\Rightarrow b}*\\Omega_{ba}**2*\\Omega_{cb}**2 - 16*\\Gamma_{b \\Rightarrow a}*\\Gamma_{c \\Rightarrow a}**2*\\Gamma_{c \\Rightarrow b}*\\Omega_{ba}**2*\\delta_{ba}**2 + 16*\\Gamma_{b \\Rightarrow a}*\\Gamma_{c \\Rightarrow a}**2*\\Gamma_{c \\Rightarrow b}*\\Omega_{cb}**4 + 16*\\Gamma_{b \\Rightarrow a}*\\Gamma_{c \\Rightarrow a}**2*\\Gamma_{c \\Rightarrow b}*\\Omega_{cb}**2*\\delta_{ba}**2 + 32*\\Gamma_{b \\Rightarrow a}*\\Gamma_{c \\Rightarrow a}**2*\\Gamma_{c \\Rightarrow b}*\\Omega_{cb}**2*\\delta_{cb}**2 + 32*\\Gamma_{b \\Rightarrow a}*\\Gamma_{c \\Rightarrow a}**2*\\Gamma_{c \\Rightarrow b}*\\delta_{ba}**2*\\delta_{cb}**2 + 2*\\Gamma_{b \\Rightarrow a}*\\Gamma_{c \\Rightarrow a}*\\Gamma_{c \\Rightarrow b}**2*\\Omega_{ba}**4 + 4*\\Gamma_{b \\Rightarrow a}*\\Gamma_{c \\Rightarrow a}*\\Gamma_{c \\Rightarrow b}**2*\\Omega_{ba}**2*\\Omega_{cb}**2 - 16*\\Gamma_{b \\Rightarrow a}*\\Gamma_{c \\Rightarrow a}*\\Gamma_{c \\Rightarrow b}**2*\\Omega_{ba}**2*\\delta_{ba}*\\omega + 16*\\Gamma_{b \\Rightarrow a}*\\Gamma_{c \\Rightarrow a}*\\Gamma_{c \\Rightarrow b}**2*\\Omega_{cb}**4 + 16*\\Gamma_{b \\Rightarrow a}*\\Gamma_{c \\Rightarrow a}*\\Gamma_{c \\Rightarrow b}**2*\\Omega_{cb}**2*\\delta_{ba}**2 + 32*\\Gamma_{b \\Rightarrow a}*\\Gamma_{c \\Rightarrow a}*\\Gamma_{c \\Rightarrow b}**2*\\Omega_{cb}**2*\\omega**2 + 32*\\Gamma_{b \\Rightarrow a}*\\Gamma_{c \\Rightarrow a}*\\Gamma_{c \\Rightarrow b}**2*\\delta_{ba}**2*\\omega**2 - \\Gamma_{b \\Rightarrow a}*\\Gamma_{c \\Rightarrow a}*\\Omega_{ba}**4*\\Omega_{cb}**2 + 2*\\Gamma_{b \\Rightarrow a}*\\Gamma_{c \\Rightarrow a}*\\Omega_{ba}**4*\\delta_{cb}**2 - 7*\\Gamma_{b \\Rightarrow a}*\\Gamma_{c \\Rightarrow a}*\\Omega_{ba}**2*\\Omega_{cb}**4 - 4*\\Gamma_{b \\Rightarrow a}*\\Gamma_{c \\Rightarrow a}*\\Omega_{ba}**2*\\Omega_{cb}**2*\\delta_{ba}**2 + 4*\\Gamma_{b \\Rightarrow a}*\\Gamma_{c \\Rightarrow a}*\\Omega_{ba}**2*\\Omega_{cb}**2*\\delta_{cb}*\\omega - 16*\\Gamma_{b \\Rightarrow a}*\\Gamma_{c \\Rightarrow a}*\\Omega_{ba}**2*\\delta_{ba}*\\delta_{cb}**2*\\omega + 2*\\Gamma_{b \\Rightarrow a}*\\Gamma_{c \\Rightarrow a}*\\Omega_{cb}**6 + 2*\\Gamma_{b \\Rightarrow a}*\\Gamma_{c \\Rightarrow a}*\\Omega_{cb}**4*\\delta_{ba}**2 - 16*\\Gamma_{b \\Rightarrow a}*\\Gamma_{c \\Rightarrow a}*\\Omega_{cb}**4*\\delta_{cb}*\\omega - 16*\\Gamma_{b \\Rightarrow a}*\\Gamma_{c \\Rightarrow a}*\\Omega_{cb}**2*\\delta_{ba}**2*\\delta_{cb}*\\omega + 32*\\Gamma_{b \\Rightarrow a}*\\Gamma_{c \\Rightarrow a}*\\Omega_{cb}**2*\\delta_{cb}**2*\\omega**2 + 32*\\Gamma_{b \\Rightarrow a}*\\Gamma_{c \\Rightarrow a}*\\delta_{ba}**2*\\delta_{cb}**2*\\omega**2 + 2*\\Gamma_{b \\Rightarrow a}*\\Gamma_{c \\Rightarrow b}**3*\\Omega_{ba}**4 - 16*\\Gamma_{b \\Rightarrow a}*\\Gamma_{c \\Rightarrow b}**3*\\Omega_{ba}**2*\\delta_{ba}*\\omega + 32*\\Gamma_{b \\Rightarrow a}*\\Gamma_{c \\Rightarrow b}**3*\\Omega_{cb}**2*\\omega**2 + 32*\\Gamma_{b \\Rightarrow a}*\\Gamma_{c \\Rightarrow b}**3*\\delta_{ba}**2*\\omega**2 - \\Gamma_{b \\Rightarrow a}*\\Gamma_{c \\Rightarrow b}*\\Omega_{ba}**6 + \\Gamma_{b \\Rightarrow a}*\\Gamma_{c \\Rightarrow b}*\\Omega_{ba}**4*\\Omega_{cb}**2 + 8*\\Gamma_{b \\Rightarrow a}*\\Gamma_{c \\Rightarrow b}*\\Omega_{ba}**4*\\delta_{ba}*\\omega + 2*\\Gamma_{b \\Rightarrow a}*\\Gamma_{c \\Rightarrow b}*\\Omega_{ba}**4*\\delta_{cb}**2 + \\Gamma_{b \\Rightarrow a}*\\Gamma_{c \\Rightarrow b}*\\Omega_{ba}**2*\\Omega_{cb}**4 + 4*\\Gamma_{b \\Rightarrow a}*\\Gamma_{c \\Rightarrow b}*\\Omega_{ba}**2*\\Omega_{cb}**2*\\delta_{ba}*\\delta_{cb} - 4*\\Gamma_{b \\Rightarrow a}*\\Gamma_{c \\Rightarrow b}*\\Omega_{ba}**2*\\Omega_{cb}**2*\\delta_{ba}*\\omega - 4*\\Gamma_{b \\Rightarrow a}*\\Gamma_{c \\Rightarrow b}*\\Omega_{ba}**2*\\Omega_{cb}**2*\\delta_{cb}*\\omega - 24*\\Gamma_{b \\Rightarrow a}*\\Gamma_{c \\Rightarrow b}*\\Omega_{ba}**2*\\Omega_{cb}**2*\\omega**2 - 16*\\Gamma_{b \\Rightarrow a}*\\Gamma_{c \\Rightarrow b}*\\Omega_{ba}**2*\\delta_{ba}**2*\\omega**2 - 16*\\Gamma_{b \\Rightarrow a}*\\Gamma_{c \\Rightarrow b}*\\Omega_{ba}**2*\\delta_{ba}*\\delta_{cb}**2*\\omega + 2*\\Gamma_{b \\Rightarrow a}*\\Gamma_{c \\Rightarrow b}*\\Omega_{cb}**6 + 2*\\Gamma_{b \\Rightarrow a}*\\Gamma_{c \\Rightarrow b}*\\Omega_{cb}**4*\\delta_{ba}**2 - 16*\\Gamma_{b \\Rightarrow a}*\\Gamma_{c \\Rightarrow b}*\\Omega_{cb}**4*\\delta_{cb}*\\omega - 16*\\Gamma_{b \\Rightarrow a}*\\Gamma_{c \\Rightarrow b}*\\Omega_{cb}**2*\\delta_{ba}**2*\\delta_{cb}*\\omega + 32*\\Gamma_{b \\Rightarrow a}*\\Gamma_{c \\Rightarrow b}*\\Omega_{cb}**2*\\delta_{cb}**2*\\omega**2 + 32*\\Gamma_{b \\Rightarrow a}*\\Gamma_{c \\Rightarrow b}*\\delta_{ba}**2*\\delta_{cb}**2*\\omega**2 - 16*\\Gamma_{c \\Rightarrow a}**3*\\Gamma_{c \\Rightarrow b}*\\Omega_{ba}**2*\\delta_{ba}**2 + 8*\\Gamma_{c \\Rightarrow a}**2*\\Gamma_{c \\Rightarrow b}**2*\\Omega_{ba}**2*\\Omega_{cb}**2 - 4*\\Gamma_{c \\Rightarrow a}**2*\\Omega_{ba}**2*\\Omega_{cb}**2*\\delta_{ba}**2 + 4*\\Gamma_{c \\Rightarrow a}**2*\\Omega_{ba}**2*\\Omega_{cb}**2*\\delta_{ba}*\\delta_{cb} + 8*\\Gamma_{c \\Rightarrow a}**2*\\Omega_{ba}**2*\\Omega_{cb}**2*\\delta_{cb}**2 + 8*\\Gamma_{c \\Rightarrow a}*\\Gamma_{c \\Rightarrow b}**3*\\Omega_{ba}**2*\\Omega_{cb}**2 - \\Gamma_{c \\Rightarrow a}*\\Gamma_{c \\Rightarrow b}*\\Omega_{ba}**6 - 7*\\Gamma_{c \\Rightarrow a}*\\Gamma_{c \\Rightarrow b}*\\Omega_{ba}**4*\\Omega_{cb}**2 + 8*\\Gamma_{c \\Rightarrow a}*\\Gamma_{c \\Rightarrow b}*\\Omega_{ba}**4*\\delta_{ba}*\\omega + 2*\\Gamma_{c \\Rightarrow a}*\\Gamma_{c \\Rightarrow b}*\\Omega_{ba}**2*\\Omega_{cb}**4 - 4*\\Gamma_{c \\Rightarrow a}*\\Gamma_{c \\Rightarrow b}*\\Omega_{ba}**2*\\Omega_{cb}**2*\\delta_{ba}*\\delta_{cb} + 4*\\Gamma_{c \\Rightarrow a}*\\Gamma_{c \\Rightarrow b}*\\Omega_{ba}**2*\\Omega_{cb}**2*\\delta_{ba}*\\omega + 8*\\Gamma_{c \\Rightarrow a}*\\Gamma_{c \\Rightarrow b}*\\Omega_{ba}**2*\\Omega_{cb}**2*\\delta_{cb}**2 - 16*\\Gamma_{c \\Rightarrow a}*\\Gamma_{c \\Rightarrow b}*\\Omega_{ba}**2*\\delta_{ba}**2*\\omega**2 + \\Gamma_{c \\Rightarrow b}**2*\\Omega_{ba}**4*\\Omega_{cb}**2 + 2*\\Gamma_{c \\Rightarrow b}**2*\\Omega_{ba}**2*\\Omega_{cb}**4 - 4*\\Gamma_{c \\Rightarrow b}**2*\\Omega_{ba}**2*\\Omega_{cb}**2*\\delta_{ba}*\\omega))"
      ]
     },
     "execution_count": 96,
     "metadata": {},
     "output_type": "execute_result"
    }
   ],
   "source": [
    "def subb(expr):\n",
    "    l = [[G_b_to_a,1],G_c_to_a,1],[G_c_to_b,1],[Om_ba,1],[Om_cb,0.1]]\n",
    "    for el in l:\n",
    "        expr = expr.subs(el[0],el[1])\n",
    "    return expr"
   ]
  }
 ],
 "metadata": {
  "kernelspec": {
   "display_name": "Python 3",
   "language": "python",
   "name": "python3"
  },
  "language_info": {
   "codemirror_mode": {
    "name": "ipython",
    "version": 3
   },
   "file_extension": ".py",
   "mimetype": "text/x-python",
   "name": "python",
   "nbconvert_exporter": "python",
   "pygments_lexer": "ipython3",
   "version": "3.7.3"
  }
 },
 "nbformat": 4,
 "nbformat_minor": 2
}
