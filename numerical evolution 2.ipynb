{
 "cells": [
  {
   "cell_type": "code",
   "execution_count": 2,
   "metadata": {},
   "outputs": [],
   "source": [
    "from scipy.integrate import odeint\n",
    "import matplotlib.pyplot as plt\n",
    "import numpy as np\n",
    "from qutip import *\n",
    "\n",
    "import sympy as sp"
   ]
  },
  {
   "cell_type": "code",
   "execution_count": 3,
   "metadata": {},
   "outputs": [
    {
     "data": {
      "text/plain": [
       "'b = Bloch3d()\\nt= np.linspace(0,1,10)\\nx = np.cos(t)\\ny = np.sin(t)\\nz = np.exp(-t)\\npnt = np.array([x,y,z])\\nb.add_points(pnt,meth=\"s\")\\n#b.add_vectors(pnt)\\n#b.add_states(vac,kind=\"vector\")\\nb.show()'"
      ]
     },
     "execution_count": 3,
     "metadata": {},
     "output_type": "execute_result"
    }
   ],
   "source": [
    "\"\"\"b = Bloch3d()\n",
    "t= np.linspace(0,1,10)\n",
    "x = np.cos(t)\n",
    "y = np.sin(t)\n",
    "z = np.exp(-t)\n",
    "pnt = np.array([x,y,z])\n",
    "b.add_points(pnt,meth=\"s\")\n",
    "#b.add_vectors(pnt)\n",
    "#b.add_states(vac,kind=\"vector\")\n",
    "b.show()\"\"\"\n"
   ]
  },
  {
   "cell_type": "code",
   "execution_count": 4,
   "metadata": {},
   "outputs": [],
   "source": [
    "Gamma =1\n",
    "Rabi = 0.0001\n",
    "d_L = 0\n",
    "\n"
   ]
  },
  {
   "cell_type": "code",
   "execution_count": 5,
   "metadata": {},
   "outputs": [],
   "source": [
    "def model_2_l(rho,t):\n",
    "    rho_bb, rho_aa, a, b = rho[0],rho[1],rho[2],rho[3]\n",
    "    dt_rho_bb = -Rabi*b - Gamma*rho_bb\n",
    "    dt_rho_aa =  Rabi*b + Gamma*rho_bb\n",
    "    dt_a      =  -d_L*b -(Gamma/2)*a\n",
    "    dt_b      =   d_L*a -(Gamma/2)*b +(Rabi/2)*(rho_bb-rho_aa)\n",
    "    return [dt_rho_bb,dt_rho_aa,dt_a,dt_b]\n",
    "def rho_to_m(rho,one_el=False):\n",
    "    m_x,m_y,m_z = [],[],[]\n",
    "    if one_el == True:\n",
    "        m_x.append(2*rho[2])\n",
    "        m_y.append(-2*rho[3])\n",
    "        m_z.append(2*rho[0]-1)\n",
    "    else:\n",
    "        for el in rho:\n",
    "            m_x.append(2*el[2])\n",
    "            m_y.append(-2*el[3])\n",
    "            m_z.append(2*el[0]-1)\n",
    "    return np.array(m_x),np.array(m_y),np.array(m_z)"
   ]
  },
  {
   "cell_type": "code",
   "execution_count": 6,
   "metadata": {},
   "outputs": [],
   "source": [
    "t = np.linspace(0,20,300)\n",
    "#rho_init = [1/2,1/2,1/(np.sqrt(2)*2),1/(np.sqrt(2)*2)]\n",
    "rho_init = [1,0,0,0]\n",
    "rho = odeint(model_2_l,rho_init,t)\n",
    "\n",
    "m = rho_to_m(rho)\n",
    "#m =rho_to_m(rho_init,True)\n",
    "\n",
    "A = 2*d_L**2+(Gamma**2)/2\n",
    "Mz= -(A)/(A+Rabi**2)\n",
    "My= Gamma*(1+Mz)/Rabi\n",
    "Mx= (2*d_L*My)/Gamma"
   ]
  },
  {
   "cell_type": "code",
   "execution_count": 7,
   "metadata": {},
   "outputs": [],
   "source": [
    "B=Bloch3d()"
   ]
  },
  {
   "cell_type": "code",
   "execution_count": 8,
   "metadata": {},
   "outputs": [
    {
     "data": {
      "text/plain": [
       "'def RUNN():\\n    for i in range(len(m[0])):\\n        a = [m[0][i],m[1][i],m[2][i]]\\n        B.add_points(a,meth=\"s\")\\n    B.show()\\nRUNN()'"
      ]
     },
     "execution_count": 8,
     "metadata": {},
     "output_type": "execute_result"
    }
   ],
   "source": [
    "\n",
    "\n",
    "#B=Bloch()\n",
    "B.add_points([Mx,My,Mz])\n",
    "#B.add_vectors([0.,1.,0.])\n",
    "#B.add_points([1.,0.,0.])\n",
    "#B.show()\n",
    "B.add_points([m[0],m[1],m[2]],meth=\"s\")\n",
    "\"\"\"def RUNN():\n",
    "    for i in range(len(m[0])):\n",
    "        a = [m[0][i],m[1][i],m[2][i]]\n",
    "        B.add_points(a,meth=\"s\")\n",
    "    B.show()\n",
    "RUNN()\"\"\"\n",
    "#B.show()"
   ]
  },
  {
   "cell_type": "code",
   "execution_count": 9,
   "metadata": {},
   "outputs": [],
   "source": [
    "#B.show()"
   ]
  },
  {
   "cell_type": "code",
   "execution_count": 10,
   "metadata": {},
   "outputs": [
    {
     "data": {
      "text/latex": [
       "$\\displaystyle \\left[\\begin{matrix}- \\Gamma & \\Omega\\\\- \\Omega & - \\frac{\\Gamma}{2}\\end{matrix}\\right]$"
      ],
      "text/plain": [
       "Matrix([\n",
       "[-\\Gamma,    \\Omega],\n",
       "[-\\Omega, -\\Gamma/2]])"
      ]
     },
     "metadata": {},
     "output_type": "display_data"
    },
    {
     "data": {
      "text/latex": [
       "$\\displaystyle \\left[\\begin{matrix}\\frac{2 \\Omega}{\\sqrt{\\Gamma^{2} - 16 \\Omega^{2}}} & - \\frac{\\Gamma}{2 \\sqrt{\\Gamma^{2} - 16 \\Omega^{2}}} + \\frac{1}{2}\\\\- \\frac{2 \\Omega}{\\sqrt{\\Gamma^{2} - 16 \\Omega^{2}}} & \\frac{\\Gamma}{2 \\sqrt{\\Gamma^{2} - 16 \\Omega^{2}}} + \\frac{1}{2}\\end{matrix}\\right]$"
      ],
      "text/plain": [
       "Matrix([\n",
       "[ 2*\\Omega/sqrt(\\Gamma**2 - 16*\\Omega**2), -\\Gamma/(2*sqrt(\\Gamma**2 - 16*\\Omega**2)) + 1/2],\n",
       "[-2*\\Omega/sqrt(\\Gamma**2 - 16*\\Omega**2),  \\Gamma/(2*sqrt(\\Gamma**2 - 16*\\Omega**2)) + 1/2]])"
      ]
     },
     "metadata": {},
     "output_type": "display_data"
    },
    {
     "data": {
      "text/latex": [
       "$\\displaystyle \\left[\\begin{matrix}\\frac{4 A \\Omega}{\\Gamma - \\sqrt{\\Gamma^{2} - 16 \\Omega^{2}}} + \\frac{4 B \\Omega}{\\Gamma + \\sqrt{\\Gamma^{2} - 16 \\Omega^{2}}}\\\\A + B\\end{matrix}\\right]$"
      ],
      "text/plain": [
       "Matrix([\n",
       "[4*A*\\Omega/(\\Gamma - sqrt(\\Gamma**2 - 16*\\Omega**2)) + 4*B*\\Omega/(\\Gamma + sqrt(\\Gamma**2 - 16*\\Omega**2))],\n",
       "[                                                                                                      A + B]])"
      ]
     },
     "metadata": {},
     "output_type": "display_data"
    },
    {
     "data": {
      "text/latex": [
       "$\\displaystyle \\left[\\begin{matrix}- \\frac{3 \\Gamma}{4} - \\frac{\\sqrt{\\Gamma^{2} - 16 \\Omega^{2}}}{4} & 0\\\\0 & - \\frac{3 \\Gamma}{4} + \\frac{\\sqrt{\\Gamma^{2} - 16 \\Omega^{2}}}{4}\\end{matrix}\\right]$"
      ],
      "text/plain": [
       "Matrix([\n",
       "[-3*\\Gamma/4 - sqrt(\\Gamma**2 - 16*\\Omega**2)/4,                                              0],\n",
       "[                                             0, -3*\\Gamma/4 + sqrt(\\Gamma**2 - 16*\\Omega**2)/4]])"
      ]
     },
     "metadata": {},
     "output_type": "display_data"
    }
   ],
   "source": [
    "Om = sp.Symbol(\"\\Omega\")\n",
    "Ga = sp.Symbol(\"\\Gamma\")\n",
    "A= sp.Symbol(\"A\")\n",
    "B = sp.Symbol(\"B\")\n",
    "a = sp.Matrix([\n",
    "    [-Ga,Om],\n",
    "    [-Om,-Ga/2]\n",
    "])\n",
    "\n",
    "P,D =a.diagonalize()\n",
    "display(sp.simplify(P*D*(P.inv())))\n",
    "\n",
    "display(sp.simplify(P.inv()))\n",
    "display(P*sp.Matrix([[A],\n",
    "                    [B]]))\n",
    "display(D)"
   ]
  },
  {
   "cell_type": "code",
   "execution_count": 11,
   "metadata": {},
   "outputs": [],
   "source": [
    "import scipy as scp\n",
    "A = Gamma-scp.sqrt(Gamma**2-16*Rabi**2)\n",
    "B = Gamma+scp.sqrt(Gamma**2-16*Rabi**2)\n",
    "alpha = 3*Gamma/4\n",
    "beta  = scp.sqrt(Gamma**2-16*Rabi**2)/4\n",
    "A1 = Gamma*Rabi/(2*beta*(alpha+beta))\n",
    "A2 = Gamma*Rabi/(2*beta*(beta-alpha))\n",
    "\n",
    "M = sp.Matrix([\n",
    "    [4*Rabi/A,4*Rabi/B],\n",
    "    [1,1]\n",
    "])\n",
    "z_0 =sp.Symbol(\"z_0\")\n",
    "y_0 =sp.Symbol(\"y_0\")\n",
    "\n",
    "m_z_0 = 1\n",
    "m_y_0 = 0\n",
    "b = sp.Matrix([\n",
    "    [m_z_0+4*Rabi*A1/A+4*Rabi*A2/B],\n",
    "    [m_y_0+A1+A2]\n",
    "])\n",
    "\n",
    "M_z_0, M_y_0 =list(sp.linsolve((M,b),[z_0,y_0]))[0]\n",
    "\n",
    "M_z_l = M_z_0*np.e**((-alpha-beta)*t) - A1\n",
    "M_y_l = M_y_0*np.e**((-alpha+beta)*t) - A2\n",
    "\n",
    "m_z_l = 4*Rabi*(M_z_l/A + M_y_l/B)\n",
    "m_y_l = M_z_l + M_y_l\n",
    "\n",
    "display()\n",
    "\n"
   ]
  },
  {
   "cell_type": "code",
   "execution_count": 14,
   "metadata": {},
   "outputs": [
    {
     "data": {
      "text/latex": [
       "$\\displaystyle \\frac{\\Gamma^{2}}{4 \\Omega \\left(\\Gamma^{2} + 2 \\Omega^{2}\\right)}$"
      ],
      "text/plain": [
       "\\Gamma**2/(4*\\Omega*(\\Gamma**2 + 2*\\Omega**2))"
      ]
     },
     "metadata": {},
     "output_type": "display_data"
    },
    {
     "name": "stdout",
     "output_type": "stream",
     "text": [
      "- \\frac{2 \\Gamma \\Omega}{\\Gamma^{2} + 2 \\Omega^{2}}\n"
     ]
    }
   ],
   "source": [
    "A_s = Ga-sp.sqrt(Ga**2-16*Om**2)\n",
    "B_s = Ga+sp.sqrt(Ga**2-16*Om**2)\n",
    "alpha_s = 3*Ga/4\n",
    "beta_s  = sp.sqrt(Ga**2-16*Om**2)/4\n",
    "A1_s = Ga*Om/(2*beta_s*(alpha_s+beta_s))\n",
    "B1_s = Ga*Om/(2*beta_s*(beta_s-alpha_s))\n",
    "display(sp.simplify(A1_s/A_s + B1_s/B_s))\n",
    "print(sp.latex(sp.simplify(A1_s + B1_s)))"
   ]
  },
  {
   "cell_type": "code",
   "execution_count": 51,
   "metadata": {},
   "outputs": [],
   "source": [
    "#m_z_l = [sp.re(el) for el in m_z_l]\n",
    "m_y_l = [sp.re(el) for el in m_y_l]"
   ]
  },
  {
   "cell_type": "code",
   "execution_count": 59,
   "metadata": {},
   "outputs": [
    {
     "data": {
      "text/plain": [
       "[<matplotlib.lines.Line2D at 0x224b7508748>]"
      ]
     },
     "execution_count": 59,
     "metadata": {},
     "output_type": "execute_result"
    },
    {
     "data": {
      "image/png": "[encoded data removed]",
      "text/plain": [
       "<Figure size 432x288 with 1 Axes>"
      ]
     },
     "metadata": {
      "needs_background": "light"
     },
     "output_type": "display_data"
    }
   ],
   "source": [
    "plt.plot(m_y_l,m_z_l)\n",
    "plt.plot(My,Mz,\"ro\")\n",
    "plt.plot(m[1]+0.1,m[2])"
   ]
  },
  {
   "cell_type": "code",
   "execution_count": 25,
   "metadata": {},
   "outputs": [
    {
     "data": {
      "text/plain": [
       "<matplotlib.legend.Legend at 0x2433f3fb898>"
      ]
     },
     "execution_count": 25,
     "metadata": {},
     "output_type": "execute_result"
    }
   ],
   "source": [
    "%matplotlib qt\n",
    "fig, axs = plt.subplots()\n",
    "\n",
    "G_ = np.linspace(0,5,100)\n",
    "d_L_l = np.linspace(0,2,9)#[0,0.1,0.2,0.3,0.4,0.5,0.6]\n",
    "for d_L_ in d_L_l:\n",
    "    m_z_s = -(2*d_L_**2 + (G_**2)/2)/(2*d_L_**2 + (G_**2)/2 +1)\n",
    "    axs.plot(G_, m_z_s,label=(r\"$d_L' =$\"+str(d_L_)))\n",
    "axs.set_xlabel(r\"$\\Gamma'$\",fontsize=50)\n",
    "axs.set_ylabel(r\"$m_z$\",fontsize=50)\n",
    "axs.set_title(r\"The stationary point $m_z(t\\to \\infty)$\",fontsize = 40)\n",
    "axs.tick_params(axis='both', which='major', labelsize=20)\n",
    "axs.legend(fontsize = 20)"
   ]
  }
 ],
 "metadata": {
  "kernelspec": {
   "display_name": "Python 3",
   "language": "python",
   "name": "python3"
  },
  "language_info": {
   "codemirror_mode": {
    "name": "ipython",
    "version": 3
   },
   "file_extension": ".py",
   "mimetype": "text/x-python",
   "name": "python",
   "nbconvert_exporter": "python",
   "pygments_lexer": "ipython3",
   "version": "3.7.3"
  }
 },
 "nbformat": 4,
 "nbformat_minor": 2
}
