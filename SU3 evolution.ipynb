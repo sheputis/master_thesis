{
 "cells": [
  {
   "cell_type": "code",
   "execution_count": 1,
   "metadata": {},
   "outputs": [],
   "source": [
    "#imorting dependencies\n",
    "import numpy as np\n",
    "import sympy as sp\n"
   ]
  },
  {
   "cell_type": "code",
   "execution_count": 2,
   "metadata": {},
   "outputs": [],
   "source": [
    "class variables:\n",
    "    def __init__(self):\n",
    "        self.gen_variables()\n",
    "        self.gen_H()\n",
    "        self.H_scaled = self.normalize(self.H_A)\n",
    "        \n",
    "    def gen_variables(self):   \n",
    "        self.E_c    = sp.Symbol(\"E_c\")\n",
    "        self.E_b    = sp.Symbol(\"E_b\")\n",
    "        self.E_a    = sp.Symbol(\"E_a\")\n",
    "\n",
    "        self.h      = sp.Symbol(\"h\")\n",
    "        self.Om_cb  = sp.Symbol(\"\\Omega_{cb}\")\n",
    "        self.Om_ba  = sp.Symbol(\"\\Omega_{ba}\")\n",
    "        self.V_cb   = self.h*self.Om_cb/2\n",
    "        self.V_ba   = self.h*self.Om_ba/2\n",
    "        self.om_cb  = sp.Symbol(\"\\omega_{L'}\")\n",
    "        self.om_ba  = sp.Symbol(\"\\omega_{L}\")\n",
    "        self.I      = sp.Symbol(\"I\")\n",
    "        self.t      = sp.Symbol(\"t\")\n",
    "        self.e_cb_lower   = sp.exp(self.I*self.om_cb*self.t)\n",
    "        self.e_cb_upper   = sp.exp(-self.I*self.om_cb*self.t)\n",
    "        self.e_ba_lower   = sp.exp(self.I*self.om_ba*self.t)\n",
    "        self.e_ba_upper   = sp.exp(-self.I*self.om_ba*self.t)\n",
    "\n",
    "        self.values = [(self.E_c,5),(self.E_b,4),(self.E_a,1),(self.h,1),(self.Om_cb,0.05),(self.Om_ba,0.2),(self.om_cb,1.1),(self.om_ba,3),(self.I,1j)]\n",
    "        \n",
    "    def gen_H(self):\n",
    "        self.H_A =sp.Matrix([\n",
    "            [self.E_c,0,0],\n",
    "            [0,self.E_b,0],\n",
    "            [0,0,self.E_a]\n",
    "        ])\n",
    "\n",
    "        self.V_1 =self.V_cb*sp.Matrix([\n",
    "            [0,              self.e_cb_upper,0],\n",
    "            [self.e_cb_lower,0              ,0],\n",
    "            [0,              0              ,0]\n",
    "        ])\n",
    "        self.V_2 =self.V_ba*sp.Matrix([\n",
    "            [0, 0,                      0],\n",
    "            [0,0         ,self.e_ba_upper],\n",
    "            [0,self.e_ba_lower         ,0]\n",
    "        ])\n",
    "\n",
    "        self.H = self.H_A + self.V_1 + self.V_2\n",
    "    def Trace(self,H):\n",
    "        s=0\n",
    "        for i in range(H.shape[0]):\n",
    "            s+=H[i,i]\n",
    "        return s\n",
    "    def normalize(self,H): #normalizing some input hamiltonian\n",
    "        a=self.Trace(H*H)\n",
    "        scale = sp.sqrt(a/2)\n",
    "        H_scaled = H/scale\n",
    "        return H_scaled"
   ]
  },
  {
   "cell_type": "code",
   "execution_count": 3,
   "metadata": {},
   "outputs": [
    {
     "data": {
      "text/latex": [
       "$\\displaystyle \\left[\\begin{matrix}\\frac{5 \\sqrt{21}}{21} & 0 & 0\\\\0 & \\frac{4 \\sqrt{21}}{21} & 0\\\\0 & 0 & \\frac{\\sqrt{21}}{21}\\end{matrix}\\right]$"
      ],
      "text/plain": [
       "Matrix([\n",
       "[5*sqrt(21)/21,             0,           0],\n",
       "[            0, 4*sqrt(21)/21,           0],\n",
       "[            0,             0, sqrt(21)/21]])"
      ]
     },
     "execution_count": 3,
     "metadata": {},
     "output_type": "execute_result"
    }
   ],
   "source": [
    "var = variables()\n",
    "\n",
    "H_scaled = var.H_scaled.subs(var.values)\n",
    "H_scaled"
   ]
  },
  {
   "cell_type": "code",
   "execution_count": 4,
   "metadata": {},
   "outputs": [],
   "source": [
    "from sympy.physics.quantum.dagger import Dagger\n",
    "class SU_3:\n",
    "    def __init__(self,H):\n",
    "        self.H   = H \n",
    "        self.H_det = sp.det(self.H)\n",
    "        self.phi = self.det_to_phi()\n",
    "        self.t   = sp.Symbol(\"t\")\n",
    "        \n",
    "    \n",
    "    def det_to_phi(self):\n",
    "        phi  = sp.Symbol(\"\\phi\")\n",
    "        res  = sp.solvers.solve((2/(3*sp.sqrt(3)))*sp.sin(phi)+self.H_det,phi)\n",
    "        return min(res)\n",
    "    def term_k(self,k):\n",
    "        out_bra_u = (sp.exp((2/sp.sqrt(3))*1j*self.t*(sp.sin(self.phi+(2*sp.pi*k)/3)))).evalf()\n",
    "        out_bra_l = (1 - 2*sp.cos(2*(self.phi+(2*sp.pi*k)/3))).evalf()\n",
    "        out_bra   = out_bra_u/out_bra_l\n",
    "        first = self.H*self.H\n",
    "        second= (2/sp.sqrt(3))*self.H*(sp.sin(self.phi+(2*sp.pi*k)/3)).evalf()\n",
    "        third = -(1/3)*sp.eye((self.H).shape[0])*(1+2*sp.cos(2*(self.phi+(2*sp.pi*k)/3))).evalf()\n",
    "        return (first+second+third)*out_bra\n",
    "    def gen_unitary_m(self):\n",
    "        U = sp.Matrix(np.zeros((3,3)))\n",
    "        for k in range(3): \n",
    "            U+=self.term_k(k)\n",
    "        return U\n",
    "\n",
    "\n",
    "\n"
   ]
  },
  {
   "cell_type": "code",
   "execution_count": 14,
   "metadata": {},
   "outputs": [
    {
     "data": {
      "text/latex": [
       "$\\displaystyle \\left[\\begin{matrix}\\frac{5 \\sqrt{21}}{21} & 0 & 0\\\\0 & \\frac{4 \\sqrt{21}}{21} & 0\\\\0 & 0 & \\frac{\\sqrt{21}}{21}\\end{matrix}\\right]$"
      ],
      "text/plain": [
       "Matrix([\n",
       "[5*sqrt(21)/21,             0,           0],\n",
       "[            0, 4*sqrt(21)/21,           0],\n",
       "[            0,             0, sqrt(21)/21]])"
      ]
     },
     "execution_count": 14,
     "metadata": {},
     "output_type": "execute_result"
    }
   ],
   "source": [
    "inst = SU_3(H_scaled)\n",
    "U = sp.simplify(inst.gen_unitary_m())\n",
    "U_dagg = Dagger(U)\n",
    "H_scaled"
   ]
  },
  {
   "cell_type": "code",
   "execution_count": 6,
   "metadata": {},
   "outputs": [
    {
     "data": {
      "text/plain": [
       "0.9997463795155077"
      ]
     },
     "execution_count": 6,
     "metadata": {},
     "output_type": "execute_result"
    }
   ],
   "source": [
    "from sympy.utilities.lambdify import lambdify\n",
    "rho = sp.Matrix([\n",
    "    [0,1,0],\n",
    "    [1,0,0],\n",
    "    [0,0,0]\n",
    "])\n",
    "rho_evol = U*rho*U_dagg\n",
    "rho_evol_f = lambdify(inst.t,rho_evol)\n",
    "\n",
    "t=np.linspace(0,10,100)\n",
    "RHO_EVOL = rho_evol_f(t)\n",
    "np.real(RHO_EVOL[1][0][1])\n"
   ]
  },
  {
   "cell_type": "code",
   "execution_count": 13,
   "metadata": {},
   "outputs": [
    {
     "data": {
      "image/png": "[encoded data removed]",
      "text/plain": [
       "<Figure size 432x288 with 1 Axes>"
      ]
     },
     "metadata": {
      "needs_background": "light"
     },
     "output_type": "display_data"
    }
   ],
   "source": [
    "class m_vectors:\n",
    "    def __init__(self,RHO_EVOL,t):\n",
    "        self.t = t\n",
    "        self.RHO_EVOL = RHO_EVOL\n",
    "        self.gen_rho_el()\n",
    "        self.lengthen_arrays(self.rho_l)\n",
    "        self.m_l = self.gen_m()\n",
    "    def gen_rho_el(self):\n",
    "        self.rho_l  = [\n",
    "            self.RHO_EVOL[0][0],\n",
    "            self.RHO_EVOL[0][1],\n",
    "            self.RHO_EVOL[0][2],\n",
    "            self.RHO_EVOL[1][0],\n",
    "            self.RHO_EVOL[1][1],\n",
    "            self.RHO_EVOL[1][2],\n",
    "            self.RHO_EVOL[2][0],\n",
    "            self.RHO_EVOL[2][1],\n",
    "            self.RHO_EVOL[2][2],\n",
    "        ]\n",
    "       \n",
    "    def lengthen_arrays(self,arr):\n",
    "        self.rho_l_len=[]\n",
    "        for l in arr:\n",
    "            try:\n",
    "                len(l)\n",
    "                self.rho_l_len.append(l)\n",
    "            except TypeError:\n",
    "                self.rho_l_len.append(np.zeros(len(t))+l)\n",
    "    def gen_m(self):\n",
    "        arr = []\n",
    "        arr.append(np.sqrt(3)*np.real(self.rho_l_len[1]))\n",
    "        arr.append(np.sqrt(3)*np.imag(self.rho_l_len[1]))\n",
    "        return arr\n",
    "\n",
    "m_inst = m_vectors(RHO_EVOL,t)\n",
    "\n",
    "test = m_inst.m_l\n",
    "test = m_inst.rho_l[1]\n",
    "\n",
    "import matplotlib.pyplot as plt\n",
    "\n",
    "plt.plot(np.real(test))\n",
    "plt.show()"
   ]
  }
 ],
 "metadata": {
  "kernelspec": {
   "display_name": "Python 3",
   "language": "python",
   "name": "python3"
  },
  "language_info": {
   "codemirror_mode": {
    "name": "ipython",
    "version": 3
   },
   "file_extension": ".py",
   "mimetype": "text/x-python",
   "name": "python",
   "nbconvert_exporter": "python",
   "pygments_lexer": "ipython3",
   "version": "3.7.3"
  }
 },
 "nbformat": 4,
 "nbformat_minor": 2
}
