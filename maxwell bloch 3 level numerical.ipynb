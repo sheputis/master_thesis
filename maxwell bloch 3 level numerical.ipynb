{
 "cells": [
  {
   "cell_type": "code",
   "execution_count": 1,
   "metadata": {},
   "outputs": [],
   "source": [
    "from scipy.integrate import odeint\n",
    "import matplotlib.pyplot as plt\n",
    "import numpy as np\n",
    "from qutip import *\n",
    "from sympy.utilities.lambdify import lambdify\n",
    "\n",
    "import sympy as sp"
   ]
  },
  {
   "cell_type": "code",
   "execution_count": 2,
   "metadata": {},
   "outputs": [],
   "source": [
    "I = lambda_0 = sp.Matrix([\n",
    "        [1,0,0],\n",
    "        [0,1,0],\n",
    "        [0,0,1]\n",
    "    ])\n",
    "lambda_1 = sp.Matrix([\n",
    "        [0,1,0],\n",
    "        [1,0,0],\n",
    "        [0,0,0]\n",
    "    ])\n",
    "lambda_2 = sp.Matrix([\n",
    "        [0,-1j,0],\n",
    "        [1j,0,0],\n",
    "        [0,0,0]\n",
    "    ])\n",
    "lambda_3 = sp.Matrix([\n",
    "        [1,0,0],\n",
    "        [0,-1,0],\n",
    "        [0,0,0]\n",
    "    ])\n",
    "lambda_4 = sp.Matrix([\n",
    "        [0,0,1],\n",
    "        [0,0,0],\n",
    "        [1,0,0]\n",
    "    ])\n",
    "lambda_5 = sp.Matrix([\n",
    "        [0,0,-1j],\n",
    "        [0,0,0],\n",
    "        [1j,0,0]\n",
    "    ])\n",
    "lambda_6 = sp.Matrix([\n",
    "        [0,0,0],\n",
    "        [0,0,1],\n",
    "        [0,1,0]\n",
    "    ])\n",
    "lambda_7 = sp.Matrix([\n",
    "        [0,0,0],\n",
    "        [0,0,-1j],\n",
    "        [0,1j,0]\n",
    "    ])\n",
    "lambda_8 = (1/sp.sqrt(3))*sp.Matrix([\n",
    "        [1,0,0],\n",
    "        [0,1,0],\n",
    "        [0,0,-2]\n",
    "    ])\n",
    "m_1 = sp.Symbol(\"m_1\",real=True)\n",
    "m_2 = sp.Symbol(\"m_2\",real=True)\n",
    "m_3 = sp.Symbol(\"m_3\",real=True)\n",
    "m_4 = sp.Symbol(\"m_4\",real=True)\n",
    "m_5 = sp.Symbol(\"m_5\",real=True)\n",
    "m_6 = sp.Symbol(\"m_6\",real=True)\n",
    "m_7 = sp.Symbol(\"m_7\",real=True)\n",
    "m_8 = sp.Symbol(\"m_8\",real=True)\n",
    "rho_cc = sp.Symbol(\"rho_cc\",real=True)\n",
    "rho_bb = sp.Symbol(\"rho_bb\",real=True)\n",
    "rho_aa = sp.Symbol(\"rho_aa\",real=True)\n",
    "rho_cb = sp.Symbol(\"rho_cb\")\n",
    "rho_ca = sp.Symbol(\"rho_ca\")\n",
    "rho_ba = sp.Symbol(\"rho_ba\")\n",
    "rho_bc = sp.conjugate(rho_cb)#sp.Symbol(\"rho_bc\")\n",
    "rho_ac = sp.conjugate(rho_ca)#sp.Symbol(\"rho_ac\")\n",
    "rho_ab = sp.conjugate(rho_ba)#sp.Symbol(\"rho_ab\")\n",
    "rho = sp.Matrix([\n",
    "    [rho_cc,rho_cb,rho_ca],\n",
    "    [rho_bc,rho_bb,rho_ba],\n",
    "    [rho_ac,rho_ab,rho_aa]\n",
    "])\n",
    "G_c_to_b = sp.Symbol(\"\\Gamma_{c \\Rightarrow b}\",real=True)\n",
    "G_c_to_a = sp.Symbol(\"\\Gamma_{c \\Rightarrow a}\",real=True)\n",
    "G_b_to_a = sp.Symbol(\"\\Gamma_{b \\Rightarrow a}\",real=True)\n",
    "\n",
    "G_ba = G_b_to_a/2\n",
    "G_ac = (G_c_to_b + G_c_to_a)/2\n",
    "G_bc = (G_b_to_a + G_c_to_b + G_c_to_a)/2\n",
    "Rho_cc = (sp.sqrt(3)*m_3+m_8+1)/3\n",
    "Rho_bb = (-sp.sqrt(3)*m_3+m_8+1)/3\n",
    "Rho_aa = (1-2*m_8)/3\n",
    "Rho_cb = (m_1-sp.I*m_2)/sp.sqrt(3)\n",
    "Rho_bc = (m_1+sp.I*m_2)/sp.sqrt(3)\n",
    "Rho_ca = (m_4-sp.I*m_5)/sp.sqrt(3)\n",
    "Rho_ac = (m_4+sp.I*m_5)/sp.sqrt(3)\n",
    "Rho_ba = (m_6-sp.I*m_7)/sp.sqrt(3)\n",
    "Rho_ab = (m_6+sp.I*m_7)/sp.sqrt(3)\n",
    "\n",
    "d_cb   = sp.Symbol(\"\\delta_{cb}\",real=True)\n",
    "d_ba   = sp.Symbol(\"\\delta_{ba}\",real=True)\n",
    "w      = sp.Symbol(\"\\omega\",real=True)"
   ]
  },
  {
   "cell_type": "code",
   "execution_count": 3,
   "metadata": {},
   "outputs": [
    {
     "data": {
      "text/latex": [
       "$\\displaystyle \\left[\\begin{matrix}\\frac{i \\Omega_{cb} \\left(\\rho_{cb} e^{2 i \\omega_{L'} t} - \\overline{\\rho_{cb}}\\right) e^{- i \\omega_{L'} t}}{2} & \\frac{i \\left(\\Omega_{ba} \\rho_{ca} e^{i t \\left(\\omega_{L'} + \\omega_{L}\\right)} - \\Omega_{cb} \\rho_{bb} + \\Omega_{cb} \\rho_{cc}\\right) e^{- i \\omega_{L'} t}}{2} & \\frac{i \\Omega_{ba} \\rho_{cb} e^{- i \\omega_{L} t}}{2} - \\frac{i \\Omega_{cb} \\rho_{ba} e^{- i \\omega_{L'} t}}{2}\\\\- \\frac{i \\left(\\Omega_{ba} \\overline{\\rho_{ca}} - \\Omega_{cb} \\left(\\rho_{bb} - \\rho_{cc}\\right) e^{i t \\left(\\omega_{L'} + \\omega_{L}\\right)}\\right) e^{- i \\omega_{L} t}}{2} & \\frac{i \\Omega_{ba} \\rho_{ba} e^{i \\omega_{L} t}}{2} - \\frac{i \\Omega_{ba} e^{- i \\omega_{L} t} \\overline{\\rho_{ba}}}{2} - \\frac{i \\Omega_{cb} \\rho_{cb} e^{i \\omega_{L'} t}}{2} + \\frac{i \\Omega_{cb} e^{- i \\omega_{L'} t} \\overline{\\rho_{cb}}}{2} & \\frac{i \\left(- \\Omega_{ba} \\rho_{aa} + \\Omega_{ba} \\rho_{bb} - \\Omega_{cb} \\rho_{ca} e^{i t \\left(\\omega_{L'} + \\omega_{L}\\right)}\\right) e^{- i \\omega_{L} t}}{2}\\\\\\frac{i \\left(- \\Omega_{ba} e^{i \\omega_{L} t} \\overline{\\rho_{cb}} + \\Omega_{cb} e^{i \\omega_{L'} t} \\overline{\\rho_{ba}}\\right)}{2} & \\frac{i \\left(\\Omega_{ba} \\left(\\rho_{aa} - \\rho_{bb}\\right) e^{i t \\left(\\omega_{L'} + \\omega_{L}\\right)} + \\Omega_{cb} \\overline{\\rho_{ca}}\\right) e^{- i \\omega_{L'} t}}{2} & \\frac{i \\Omega_{ba} \\left(- \\rho_{ba} e^{2 i \\omega_{L} t} + \\overline{\\rho_{ba}}\\right) e^{- i \\omega_{L} t}}{2}\\end{matrix}\\right]$"
      ],
      "text/plain": [
       "Matrix([\n",
       "[                                    I*\\Omega_{cb}*(rho_cb*exp(2*I*\\omega_{L'}*t) - conjugate(rho_cb))*exp(-I*\\omega_{L'}*t)/2,                                                                                I*(\\Omega_{ba}*rho_ca*exp(I*t*(\\omega_{L'} + \\omega_{L})) - \\Omega_{cb}*rho_bb + \\Omega_{cb}*rho_cc)*exp(-I*\\omega_{L'}*t)/2,                                   I*\\Omega_{ba}*rho_cb*exp(-I*\\omega_{L}*t)/2 - I*\\Omega_{cb}*rho_ba*exp(-I*\\omega_{L'}*t)/2],\n",
       "[-I*(\\Omega_{ba}*conjugate(rho_ca) - \\Omega_{cb}*(rho_bb - rho_cc)*exp(I*t*(\\omega_{L'} + \\omega_{L})))*exp(-I*\\omega_{L}*t)/2, I*\\Omega_{ba}*rho_ba*exp(I*\\omega_{L}*t)/2 - I*\\Omega_{ba}*exp(-I*\\omega_{L}*t)*conjugate(rho_ba)/2 - I*\\Omega_{cb}*rho_cb*exp(I*\\omega_{L'}*t)/2 + I*\\Omega_{cb}*exp(-I*\\omega_{L'}*t)*conjugate(rho_cb)/2, I*(-\\Omega_{ba}*rho_aa + \\Omega_{ba}*rho_bb - \\Omega_{cb}*rho_ca*exp(I*t*(\\omega_{L'} + \\omega_{L})))*exp(-I*\\omega_{L}*t)/2],\n",
       "[                I*(-\\Omega_{ba}*exp(I*\\omega_{L}*t)*conjugate(rho_cb) + \\Omega_{cb}*exp(I*\\omega_{L'}*t)*conjugate(rho_ba))/2,                                                                               I*(\\Omega_{ba}*(rho_aa - rho_bb)*exp(I*t*(\\omega_{L'} + \\omega_{L})) + \\Omega_{cb}*conjugate(rho_ca))*exp(-I*\\omega_{L'}*t)/2,                                     I*\\Omega_{ba}*(-rho_ba*exp(2*I*\\omega_{L}*t) + conjugate(rho_ba))*exp(-I*\\omega_{L}*t)/2]])"
      ]
     },
     "execution_count": 3,
     "metadata": {},
     "output_type": "execute_result"
    }
   ],
   "source": [
    "E_c = sp.Symbol(\"E_c\")\n",
    "E_b = sp.Symbol(\"E_b\")\n",
    "E_a = sp.Symbol(\"E_a\")\n",
    "H_A =  sp.Matrix([\n",
    "        [E_c,0,0],\n",
    "        [0,E_b,0],\n",
    "        [0,0,E_a]\n",
    "    ])\n",
    "om_L_ = sp.Symbol(\"\\omega_{L'}\",real=True)\n",
    "om_L = sp.Symbol(\"\\omega_{L}\",real=True)\n",
    "Om_cb = sp.Symbol(\"\\Omega_{cb}\",real=True)\n",
    "Om_ba = sp.Symbol(\"\\Omega_{ba}\",real=True)\n",
    "t = sp.Symbol(\"t\",real=True)\n",
    "h = sp.Symbol(\"h\",real=True)\n",
    "H_cb = (1/sp.sympify(2))*h*Om_cb*sp.Matrix([\n",
    "        [0,sp.exp(-sp.I*om_L_*t),0],\n",
    "        [sp.exp(sp.I*om_L_*t),0,0],\n",
    "        [0,0,0]\n",
    "    ])\n",
    "H_ba = (1/sp.sympify(2))*h*Om_ba*sp.Matrix([\n",
    "        [0,0,0],\n",
    "        [0,0,sp.exp(-sp.I*om_L*t)],\n",
    "        [0,sp.exp(sp.I*om_L*t),0]\n",
    "    ])\n",
    "\n",
    "\n",
    "\n",
    "H =  H_cb + H_ba\n",
    "sp.simplify((1/(sp.I*h))*(H*rho - rho*H))"
   ]
  },
  {
   "cell_type": "code",
   "execution_count": 4,
   "metadata": {},
   "outputs": [],
   "source": [
    "sigma_cc =sp.simplify(sp.I*(Om_ba/2)*(Rho_cb - Rho_bc) - (G_c_to_b + G_c_to_a)*Rho_cc)\n",
    "sigma_bb =sp.simplify(-sp.I*(Om_ba/2)*(Rho_cb - Rho_bc)+sp.I*(Om_cb/2)*(Rho_ba - Rho_ab) + G_c_to_b*Rho_cc - G_b_to_a*Rho_bb)\n",
    "sigma_aa =sp.simplify(-sp.I*(Om_cb/2)*(Rho_ba - Rho_ab)+G_c_to_a*Rho_cc + G_b_to_a*Rho_bb)\n",
    "sigma_cb = -sp.I*(Om_ba/2)*(Rho_cc-Rho_bb) +(sp.I/2)*Om_cb*Rho_ca + sp.I*d_cb*Rho_cb - G_bc*Rho_cb\n",
    "sigma_ca = sp.I*w*Rho_ca -(sp.I/2)*Om_ba*Rho_ba + (sp.I/2)*Om_cb*Rho_cb - G_ac*Rho_ca\n",
    "sigma_ba = (sp.I/2)*Om_cb*(Rho_bb-Rho_aa) -(sp.I/2)*Om_ba*Rho_ca + sp.I*d_ba*Rho_ba -G_ba*Rho_ba\n",
    "sigma_cb_R, sigma_cb_I = sigma_cb.as_real_imag()\n",
    "sigma_ca_R, sigma_ca_I = sigma_ca.as_real_imag()\n",
    "sigma_ba_R, sigma_ba_I = sigma_ba.as_real_imag()\n",
    "\n"
   ]
  },
  {
   "cell_type": "code",
   "execution_count": 5,
   "metadata": {},
   "outputs": [
    {
     "data": {
      "text/latex": [
       "$\\displaystyle - \\frac{\\Gamma_{b \\Rightarrow a} \\rho_{ba}}{2} + \\frac{i \\Omega_{ba} \\left(- \\rho_{aa} + \\rho_{bb}\\right)}{2} - \\frac{i \\Omega_{cb} \\rho_{ca}}{2} + i \\delta_{ba} \\rho_{ba}$"
      ],
      "text/plain": [
       "-\\Gamma_{b \\Rightarrow a}*rho_ba/2 + I*\\Omega_{ba}*(-rho_aa + rho_bb)/2 - I*\\Omega_{cb}*rho_ca/2 + I*\\delta_{ba}*rho_ba"
      ]
     },
     "metadata": {},
     "output_type": "display_data"
    }
   ],
   "source": [
    "sigma_cc =sp.simplify(sp.I*(Om_cb/2)*(rho_cb - rho_bc) - (G_c_to_b + G_c_to_a)*rho_cc)\n",
    "sigma_bb =sp.simplify(-sp.I*(Om_cb/2)*(rho_cb - rho_bc)+sp.I*(Om_ba/2)*(rho_ba - rho_ab) + G_c_to_b*rho_cc - G_b_to_a*rho_bb)\n",
    "sigma_aa =sp.simplify(-sp.I*(Om_ba/2)*(rho_ba - rho_ab)+G_c_to_a*rho_cc + G_b_to_a*rho_bb)\n",
    "sigma_cb = sp.I*(Om_cb/2)*(rho_cc-rho_bb) +(sp.I/2)*Om_ba*rho_ca + sp.I*d_cb*rho_cb - G_bc*rho_cb\n",
    "sigma_ca =  (sp.I/2)*Om_ba*rho_cb - (sp.I/2)*Om_cb*rho_ba +sp.I*(d_cb+d_ba)*rho_ca - G_ac*rho_ca\n",
    "sigma_ba = (sp.I/2)*Om_ba*(rho_bb-rho_aa) -(sp.I/2)*Om_cb*rho_ca + sp.I*d_ba*rho_ba -G_ba*rho_ba\n",
    "sigma_cc_R = sigma_cc.as_real_imag()[0]\n",
    "sigma_bb_R = sigma_bb.as_real_imag()[0]\n",
    "sigma_aa_R = sigma_aa.as_real_imag()[0]\n",
    "sigma_cb_R, sigma_cb_I = sigma_cb.as_real_imag()\n",
    "sigma_ca_R, sigma_ca_I = sigma_ca.as_real_imag()\n",
    "sigma_ba_R, sigma_ba_I = sigma_ba.as_real_imag()\n",
    "display(sigma_ba)"
   ]
  },
  {
   "cell_type": "code",
   "execution_count": 6,
   "metadata": {},
   "outputs": [
    {
     "name": "stdout",
     "output_type": "stream",
     "text": [
      "sigma_cc\n"
     ]
    },
    {
     "data": {
      "text/latex": [
       "$\\displaystyle - \\Omega_{cb} \\operatorname{im}{\\left(\\rho_{cb}\\right)} - \\rho_{cc} \\left(\\Gamma_{c \\Rightarrow a} + \\Gamma_{c \\Rightarrow b}\\right)$"
      ],
      "text/plain": [
       "-\\Omega_{cb}*im(rho_cb) - rho_cc*(\\Gamma_{c \\Rightarrow a} + \\Gamma_{c \\Rightarrow b})"
      ]
     },
     "metadata": {},
     "output_type": "display_data"
    },
    {
     "name": "stdout",
     "output_type": "stream",
     "text": [
      "sigma_bb\n"
     ]
    },
    {
     "data": {
      "text/latex": [
       "$\\displaystyle - \\Gamma_{b \\Rightarrow a} \\rho_{bb} + \\Gamma_{c \\Rightarrow b} \\rho_{cc} - \\Omega_{ba} \\operatorname{im}{\\left(\\rho_{ba}\\right)} + \\Omega_{cb} \\operatorname{im}{\\left(\\rho_{cb}\\right)}$"
      ],
      "text/plain": [
       "-\\Gamma_{b \\Rightarrow a}*rho_bb + \\Gamma_{c \\Rightarrow b}*rho_cc - \\Omega_{ba}*im(rho_ba) + \\Omega_{cb}*im(rho_cb)"
      ]
     },
     "metadata": {},
     "output_type": "display_data"
    },
    {
     "name": "stdout",
     "output_type": "stream",
     "text": [
      "sigma_aa\n"
     ]
    },
    {
     "data": {
      "text/latex": [
       "$\\displaystyle \\Gamma_{b \\Rightarrow a} \\rho_{bb} + \\Gamma_{c \\Rightarrow a} \\rho_{cc} + \\Omega_{ba} \\operatorname{im}{\\left(\\rho_{ba}\\right)}$"
      ],
      "text/plain": [
       "\\Gamma_{b \\Rightarrow a}*rho_bb + \\Gamma_{c \\Rightarrow a}*rho_cc + \\Omega_{ba}*im(rho_ba)"
      ]
     },
     "metadata": {},
     "output_type": "display_data"
    },
    {
     "name": "stdout",
     "output_type": "stream",
     "text": [
      "sigma_cb_R\n"
     ]
    },
    {
     "data": {
      "text/latex": [
       "$\\displaystyle - \\frac{\\Omega_{ba} \\operatorname{im}{\\left(\\rho_{ca}\\right)}}{2} - \\delta_{cb} \\operatorname{im}{\\left(\\rho_{cb}\\right)} + \\left(- \\frac{\\Gamma_{b \\Rightarrow a}}{2} - \\frac{\\Gamma_{c \\Rightarrow a}}{2} - \\frac{\\Gamma_{c \\Rightarrow b}}{2}\\right) \\operatorname{re}{\\left(\\rho_{cb}\\right)}$"
      ],
      "text/plain": [
       "-\\Omega_{ba}*im(rho_ca)/2 - \\delta_{cb}*im(rho_cb) + (-\\Gamma_{b \\Rightarrow a}/2 - \\Gamma_{c \\Rightarrow a}/2 - \\Gamma_{c \\Rightarrow b}/2)*re(rho_cb)"
      ]
     },
     "metadata": {},
     "output_type": "display_data"
    },
    {
     "name": "stdout",
     "output_type": "stream",
     "text": [
      "sigma_cb_I\n"
     ]
    },
    {
     "data": {
      "text/latex": [
       "$\\displaystyle \\frac{\\Omega_{ba} \\operatorname{re}{\\left(\\rho_{ca}\\right)}}{2} + \\frac{\\Omega_{cb} \\left(- \\rho_{bb} + \\rho_{cc}\\right)}{2} + \\delta_{cb} \\operatorname{re}{\\left(\\rho_{cb}\\right)} + \\left(- \\frac{\\Gamma_{b \\Rightarrow a}}{2} - \\frac{\\Gamma_{c \\Rightarrow a}}{2} - \\frac{\\Gamma_{c \\Rightarrow b}}{2}\\right) \\operatorname{im}{\\left(\\rho_{cb}\\right)}$"
      ],
      "text/plain": [
       "\\Omega_{ba}*re(rho_ca)/2 + \\Omega_{cb}*(-rho_bb + rho_cc)/2 + \\delta_{cb}*re(rho_cb) + (-\\Gamma_{b \\Rightarrow a}/2 - \\Gamma_{c \\Rightarrow a}/2 - \\Gamma_{c \\Rightarrow b}/2)*im(rho_cb)"
      ]
     },
     "metadata": {},
     "output_type": "display_data"
    },
    {
     "name": "stdout",
     "output_type": "stream",
     "text": [
      "sigma_ca_R\n"
     ]
    },
    {
     "data": {
      "text/latex": [
       "$\\displaystyle - \\frac{\\Omega_{ba} \\operatorname{im}{\\left(\\rho_{cb}\\right)}}{2} + \\frac{\\Omega_{cb} \\operatorname{im}{\\left(\\rho_{ba}\\right)}}{2} + \\left(- \\frac{\\Gamma_{c \\Rightarrow a}}{2} - \\frac{\\Gamma_{c \\Rightarrow b}}{2}\\right) \\operatorname{re}{\\left(\\rho_{ca}\\right)} - \\left(\\delta_{ba} + \\delta_{cb}\\right) \\operatorname{im}{\\left(\\rho_{ca}\\right)}$"
      ],
      "text/plain": [
       "-\\Omega_{ba}*im(rho_cb)/2 + \\Omega_{cb}*im(rho_ba)/2 + (-\\Gamma_{c \\Rightarrow a}/2 - \\Gamma_{c \\Rightarrow b}/2)*re(rho_ca) - (\\delta_{ba} + \\delta_{cb})*im(rho_ca)"
      ]
     },
     "metadata": {},
     "output_type": "display_data"
    },
    {
     "name": "stdout",
     "output_type": "stream",
     "text": [
      "sigma_ca_I\n"
     ]
    },
    {
     "data": {
      "text/latex": [
       "$\\displaystyle \\frac{\\Omega_{ba} \\operatorname{re}{\\left(\\rho_{cb}\\right)}}{2} - \\frac{\\Omega_{cb} \\operatorname{re}{\\left(\\rho_{ba}\\right)}}{2} + \\left(- \\frac{\\Gamma_{c \\Rightarrow a}}{2} - \\frac{\\Gamma_{c \\Rightarrow b}}{2}\\right) \\operatorname{im}{\\left(\\rho_{ca}\\right)} + \\left(\\delta_{ba} + \\delta_{cb}\\right) \\operatorname{re}{\\left(\\rho_{ca}\\right)}$"
      ],
      "text/plain": [
       "\\Omega_{ba}*re(rho_cb)/2 - \\Omega_{cb}*re(rho_ba)/2 + (-\\Gamma_{c \\Rightarrow a}/2 - \\Gamma_{c \\Rightarrow b}/2)*im(rho_ca) + (\\delta_{ba} + \\delta_{cb})*re(rho_ca)"
      ]
     },
     "metadata": {},
     "output_type": "display_data"
    },
    {
     "name": "stdout",
     "output_type": "stream",
     "text": [
      "sigma_ba_R\n"
     ]
    },
    {
     "data": {
      "text/latex": [
       "$\\displaystyle - \\frac{\\Gamma_{b \\Rightarrow a} \\operatorname{re}{\\left(\\rho_{ba}\\right)}}{2} + \\frac{\\Omega_{cb} \\operatorname{im}{\\left(\\rho_{ca}\\right)}}{2} - \\delta_{ba} \\operatorname{im}{\\left(\\rho_{ba}\\right)}$"
      ],
      "text/plain": [
       "-\\Gamma_{b \\Rightarrow a}*re(rho_ba)/2 + \\Omega_{cb}*im(rho_ca)/2 - \\delta_{ba}*im(rho_ba)"
      ]
     },
     "metadata": {},
     "output_type": "display_data"
    },
    {
     "name": "stdout",
     "output_type": "stream",
     "text": [
      "sigma_ba_I\n"
     ]
    },
    {
     "data": {
      "text/latex": [
       "$\\displaystyle - \\frac{\\Gamma_{b \\Rightarrow a} \\operatorname{im}{\\left(\\rho_{ba}\\right)}}{2} - \\frac{\\Omega_{ba} \\left(\\rho_{aa} - \\rho_{bb}\\right)}{2} - \\frac{\\Omega_{cb} \\operatorname{re}{\\left(\\rho_{ca}\\right)}}{2} + \\delta_{ba} \\operatorname{re}{\\left(\\rho_{ba}\\right)}$"
      ],
      "text/plain": [
       "-\\Gamma_{b \\Rightarrow a}*im(rho_ba)/2 - \\Omega_{ba}*(rho_aa - rho_bb)/2 - \\Omega_{cb}*re(rho_ca)/2 + \\delta_{ba}*re(rho_ba)"
      ]
     },
     "metadata": {},
     "output_type": "display_data"
    }
   ],
   "source": [
    "print(\"sigma_cc\")\n",
    "display(sigma_cc_R)\n",
    "print(\"sigma_bb\")\n",
    "display(sigma_bb_R)\n",
    "print(\"sigma_aa\")\n",
    "display(sigma_aa_R)\n",
    "\n",
    "print(\"sigma_cb_R\")\n",
    "display(sigma_cb_R)\n",
    "print(\"sigma_cb_I\")\n",
    "display(sigma_cb_I)\n",
    "print(\"sigma_ca_R\")\n",
    "display(sigma_ca_R)\n",
    "print(\"sigma_ca_I\")\n",
    "display(sigma_ca_I)\n",
    "print(\"sigma_ba_R\")\n",
    "display(sigma_ba_R)\n",
    "print(\"sigma_ba_I\")\n",
    "display(sp.simplify(sigma_ba_I))"
   ]
  },
  {
   "cell_type": "code",
   "execution_count": 7,
   "metadata": {},
   "outputs": [],
   "source": [
    "Re_rho_cb, Im_rho_cb = sp.Symbol(\"R\\sigma_{cb}\"), sp.Symbol(\"I\\sigma_{cb}\")\n",
    "Re_rho_ca, Im_rho_ca = sp.Symbol(\"R\\sigma_{ca}\"), sp.Symbol(\"I\\sigma_{ca}\")\n",
    "Re_rho_ba, Im_rho_ba = sp.Symbol(\"R\\sigma_{ba}\"), sp.Symbol(\"I\\sigma_{ba}\")\n",
    "G,eps,d_cb_ = sp.Symbol(\"\\Gamma\"),sp.Symbol(\"\\epsilon\"),sp.Symbol(\"\\delta_{cb}'\")\n",
    "\n",
    "def SUBS(exp):\n",
    "    target = [(sp.re(rho_cb),Re_rho_cb),(sp.re(rho_ca),Re_rho_ca),\n",
    "             (sp.re(rho_ba),Re_rho_ba),(sp.im(rho_cb),Im_rho_cb),\n",
    "             (sp.im(rho_ca),Im_rho_ca),(sp.im(rho_ba),Im_rho_ba),\n",
    "             (rho_aa,1-rho_bb-rho_cc),\n",
    "             (G_c_to_a,G),(G_c_to_b,G),(G_b_to_a,G),#\n",
    "             (d_ba,0),(d_cb,d_cb_*Om_ba),(Om_cb,eps*Om_ba)]\n",
    "    return exp.subs(target)\n",
    "def SUBS_p(exp):\n",
    "    target = [(Re_rho_cb,Re_rho_cb_p),(Re_rho_ca,Re_rho_ca_p),\n",
    "             (Re_rho_ba,Re_rho_ba_p),(Im_rho_cb,Im_rho_cb_p),\n",
    "             (Im_rho_ca,Im_rho_ca_p),(Im_rho_ba,Im_rho_ba_p),\n",
    "              (rho_cc,rho_cc_p),(rho_bb,rho_bb_p)]\n",
    "    return exp.subs(target)\n",
    "def SUBS_numerical(exp):\n",
    "    target = [(G_c_to_a,G),(G_c_to_b,G),(G_b_to_a,G),(Om_cb,eps),(Om_ba,1)]\n",
    "    return exp.subs(target)\n",
    "eqns_with_aa = [sigma_cc_R,sigma_bb_R,sigma_aa_R,sigma_cb_R,sigma_ca_R,sigma_ba_R,sigma_cb_I,sigma_ca_I,sigma_ba_I]\n",
    "\n",
    "EQNS_num = [SUBS_numerical(el) for el in eqns_with_aa]\n"
   ]
  },
  {
   "cell_type": "code",
   "execution_count": 8,
   "metadata": {
    "scrolled": true
   },
   "outputs": [
    {
     "data": {
      "text/latex": [
       "$\\displaystyle - I\\sigma_{cb} \\epsilon - 2 \\Gamma \\rho_{cc}$"
      ],
      "text/plain": [
       "-I\\sigma_{cb}*\\epsilon - 2*\\Gamma*rho_cc"
      ]
     },
     "metadata": {},
     "output_type": "display_data"
    },
    {
     "data": {
      "text/latex": [
       "$\\displaystyle - I\\sigma_{ba} + I\\sigma_{cb} \\epsilon - \\Gamma \\rho_{bb} + \\Gamma \\rho_{cc}$"
      ],
      "text/plain": [
       "-I\\sigma_{ba} + I\\sigma_{cb}*\\epsilon - \\Gamma*rho_bb + \\Gamma*rho_cc"
      ]
     },
     "metadata": {},
     "output_type": "display_data"
    },
    {
     "data": {
      "text/latex": [
       "$\\displaystyle - \\frac{I\\sigma_{ca}}{2} - I\\sigma_{cb} \\delta_{cb}' - \\frac{3 R\\sigma_{cb} \\Gamma}{2}$"
      ],
      "text/plain": [
       "-I\\sigma_{ca}/2 - I\\sigma_{cb}*\\delta_{cb}' - 3*R\\sigma_{cb}*\\Gamma/2"
      ]
     },
     "metadata": {},
     "output_type": "display_data"
    },
    {
     "data": {
      "text/latex": [
       "$\\displaystyle - \\frac{3 I\\sigma_{cb} \\Gamma}{2} + \\frac{R\\sigma_{ca}}{2} + R\\sigma_{cb} \\delta_{cb}' + \\frac{\\epsilon \\left(- \\rho_{bb} + \\rho_{cc}\\right)}{2}$"
      ],
      "text/plain": [
       "-3*I\\sigma_{cb}*\\Gamma/2 + R\\sigma_{ca}/2 + R\\sigma_{cb}*\\delta_{cb}' + \\epsilon*(-rho_bb + rho_cc)/2"
      ]
     },
     "metadata": {},
     "output_type": "display_data"
    },
    {
     "data": {
      "text/latex": [
       "$\\displaystyle \\frac{I\\sigma_{ba} \\epsilon}{2} - I\\sigma_{ca} \\delta_{cb}' - \\frac{I\\sigma_{cb}}{2} - R\\sigma_{ca} \\Gamma$"
      ],
      "text/plain": [
       "I\\sigma_{ba}*\\epsilon/2 - I\\sigma_{ca}*\\delta_{cb}' - I\\sigma_{cb}/2 - R\\sigma_{ca}*\\Gamma"
      ]
     },
     "metadata": {},
     "output_type": "display_data"
    },
    {
     "data": {
      "text/latex": [
       "$\\displaystyle - I\\sigma_{ca} \\Gamma - \\frac{R\\sigma_{ba} \\epsilon}{2} + R\\sigma_{ca} \\delta_{cb}' + \\frac{R\\sigma_{cb}}{2}$"
      ],
      "text/plain": [
       "-I\\sigma_{ca}*\\Gamma - R\\sigma_{ba}*\\epsilon/2 + R\\sigma_{ca}*\\delta_{cb}' + R\\sigma_{cb}/2"
      ]
     },
     "metadata": {},
     "output_type": "display_data"
    },
    {
     "data": {
      "text/latex": [
       "$\\displaystyle \\frac{I\\sigma_{ca} \\epsilon}{2} - \\frac{R\\sigma_{ba} \\Gamma}{2}$"
      ],
      "text/plain": [
       "I\\sigma_{ca}*\\epsilon/2 - R\\sigma_{ba}*\\Gamma/2"
      ]
     },
     "metadata": {},
     "output_type": "display_data"
    },
    {
     "data": {
      "text/latex": [
       "$\\displaystyle - \\frac{I\\sigma_{ba} \\Gamma}{2} - \\frac{R\\sigma_{ca} \\epsilon}{2} + \\rho_{bb} + \\frac{\\rho_{cc}}{2} - \\frac{1}{2}$"
      ],
      "text/plain": [
       "-I\\sigma_{ba}*\\Gamma/2 - R\\sigma_{ca}*\\epsilon/2 + rho_bb + rho_cc/2 - 1/2"
      ]
     },
     "metadata": {},
     "output_type": "display_data"
    }
   ],
   "source": [
    "eqns = [sigma_cc_R,sigma_bb_R,sigma_cb_R,sigma_cb_I,sigma_ca_R,sigma_ca_I,sigma_ba_R,sigma_ba_I]\n",
    "EQNS = [SUBS(el) for el in eqns]\n",
    "EQNS = [el.subs(Om_ba,1) for el in EQNS]\n",
    "varis= [rho_cc,rho_bb,Re_rho_cb,Re_rho_ca,Re_rho_ba,Im_rho_cb,Im_rho_ca,Im_rho_ba]\n",
    "for el in EQNS:\n",
    "    display(el)\n"
   ]
  },
  {
   "cell_type": "code",
   "execution_count": 9,
   "metadata": {},
   "outputs": [
    {
     "name": "stderr",
     "output_type": "stream",
     "text": [
      "100%|█████████████████████████████████████████████████████████████████████████████████████████████████| 8/8 [00:00<00:00, 512.15it/s]\n",
      "100%|████████████████████████████████████████████████████████████████████████████████████████████████| 8/8 [00:00<00:00, 8013.96it/s]\n",
      "100%|████████████████████████████████████████████████████████████████████████████████████████████████| 8/8 [00:00<00:00, 8012.04it/s]"
     ]
    },
    {
     "name": "stdout",
     "output_type": "stream",
     "text": [
      "successfully returning from gauss_jordan_solveTrue\n"
     ]
    },
    {
     "name": "stderr",
     "output_type": "stream",
     "text": [
      "\n"
     ]
    }
   ],
   "source": [
    "def soolve(equations, variables):\n",
    "    A,b = sp.linear_eq_to_matrix(equations,variables)\n",
    "    D =sp.linsolve((A,b),variables)\n",
    "    return D\n",
    "A,b = sp.linear_eq_to_matrix(EQNS,varis)\n",
    "\"\"\"D =sp.linsolve((A,b),varis)\"\"\"\n",
    "D =soolve(EQNS,varis)"
   ]
  },
  {
   "cell_type": "code",
   "execution_count": null,
   "metadata": {},
   "outputs": [],
   "source": [
    "\n"
   ]
  },
  {
   "cell_type": "code",
   "execution_count": null,
   "metadata": {},
   "outputs": [],
   "source": []
  },
  {
   "cell_type": "code",
   "execution_count": 10,
   "metadata": {},
   "outputs": [],
   "source": [
    "#varis= [rho_cc,rho_bb,Re_rho_cb,Re_rho_ca,Re_rho_ba,Im_rho_cb,Im_rho_ca,Im_rho_ba]\n",
    "\n",
    "rho_cc0,rho_cc1,rho_cc2 = sp.Symbol(\"\\sigma_{cc0}\"),sp.Symbol(\"\\sigma_{cc1}\"),sp.Symbol(\"\\sigma_{cc2}\")\n",
    "rho_bb0,rho_bb1,rho_bb2 = sp.Symbol(\"\\sigma_{bb0}\"),sp.Symbol(\"\\sigma_{bb1}\"),sp.Symbol(\"\\sigma_{bb2}\")\n",
    "Re_rho_cb0,Re_rho_cb1,Re_rho_cb2 = sp.Symbol(\"R\\sigma_{cb0}\"),sp.Symbol(\"R\\sigma_{cb1}\"),sp.Symbol(\"R\\sigma_{cb2}\")\n",
    "Re_rho_ca0,Re_rho_ca1,Re_rho_ca2 = sp.Symbol(\"R\\sigma_{ca0}\"),sp.Symbol(\"R\\sigma_{ca1}\"),sp.Symbol(\"R\\sigma_{ca2}\")\n",
    "Re_rho_ba0,Re_rho_ba1,Re_rho_ba2 = sp.Symbol(\"R\\sigma_{ba0}\"),sp.Symbol(\"R\\sigma_{ba1}\"),sp.Symbol(\"R\\sigma_{ba2}\")\n",
    "\n",
    "Im_rho_cb0,Im_rho_cb1,Im_rho_cb2 = sp.Symbol(\"I\\sigma_{cb0}\"),sp.Symbol(\"I\\sigma_{cb1}\"),sp.Symbol(\"I\\sigma_{cb2}\")\n",
    "Im_rho_ca0,Im_rho_ca1,Im_rho_ca2 = sp.Symbol(\"I\\sigma_{ca0}\"),sp.Symbol(\"I\\sigma_{ca1}\"),sp.Symbol(\"I\\sigma_{ca2}\")\n",
    "Im_rho_ba0,Im_rho_ba1,Im_rho_ba2 = sp.Symbol(\"I\\sigma_{ba0}\"),sp.Symbol(\"I\\sigma_{ba1}\"),sp.Symbol(\"I\\sigma_{ba2}\")\n",
    "\n",
    "rho_cc_p = rho_cc0 + eps*rho_cc1 + (eps**2)*rho_cc2\n",
    "rho_bb_p = rho_bb0 + eps*rho_bb1 + (eps**2)*rho_bb2\n",
    "Re_rho_cb_p = Re_rho_cb0 + eps*Re_rho_cb1 + (eps**2)*Re_rho_cb2\n",
    "Re_rho_ca_p = Re_rho_ca0 + eps*Re_rho_ca1 + (eps**2)*Re_rho_ca2\n",
    "Re_rho_ba_p = Re_rho_ba0 + eps*Re_rho_ba1 + (eps**2)*Re_rho_ba2\n",
    "Im_rho_cb_p = Im_rho_cb0 + eps*Im_rho_cb1 + (eps**2)*Im_rho_cb2\n",
    "Im_rho_ca_p = Im_rho_ca0 + eps*Im_rho_ca1 + (eps**2)*Im_rho_ca2\n",
    "Im_rho_ba_p = Im_rho_ba0 + eps*Im_rho_ba1 + (eps**2)*Im_rho_ba2\n"
   ]
  },
  {
   "cell_type": "code",
   "execution_count": 11,
   "metadata": {},
   "outputs": [],
   "source": [
    "vars_0 = [rho_cc0,rho_bb0,Re_rho_cb0,Re_rho_ca0,Re_rho_ba0,\n",
    "    Im_rho_cb0,Im_rho_ca0,Im_rho_ba0]\n",
    "vars_1 = [rho_cc1,rho_bb1,Re_rho_cb1,Re_rho_ca1,Re_rho_ba1,\n",
    "    Im_rho_cb1,Im_rho_ca1,Im_rho_ba1]\n",
    "vars_2 = [rho_cc2,rho_bb2,Re_rho_cb2,Re_rho_ca2,Re_rho_ba2,\n",
    "    Im_rho_cb2,Im_rho_ca2,Im_rho_ba2]\n",
    "EQNS_p = [SUBS_p(el) for el in EQNS]\n"
   ]
  },
  {
   "cell_type": "code",
   "execution_count": 12,
   "metadata": {},
   "outputs": [],
   "source": [
    "def split_eqns(eqn,deg):\n",
    "    test = sp.expand(eqn)\n",
    "    return sp.expand(test/(eps**deg)).subs(eps,0).subs(sp.zoo,0)\n",
    "def split_eqns_G(eqn,deg):\n",
    "    test = sp.expand(eqn)\n",
    "    return sp.expand(test/(G**deg)).subs(G,0).subs(sp.zoo,0)\n",
    "EQNS_0 = [split_eqns(el,0) for el in EQNS_p]\n",
    "EQNS_1 = [split_eqns(el,1) for el in EQNS_p]\n",
    "EQNS_2 = [split_eqns(el,2) for el in EQNS_p]\n",
    "EQNS_3 = [split_eqns(el,3) for el in EQNS_p]\n"
   ]
  },
  {
   "cell_type": "code",
   "execution_count": 13,
   "metadata": {},
   "outputs": [],
   "source": [
    "ser = sp.series(sp.simplify(D[0]),eps)"
   ]
  },
  {
   "cell_type": "code",
   "execution_count": null,
   "metadata": {},
   "outputs": [],
   "source": []
  },
  {
   "cell_type": "code",
   "execution_count": null,
   "metadata": {
    "scrolled": true
   },
   "outputs": [],
   "source": []
  },
  {
   "cell_type": "code",
   "execution_count": 14,
   "metadata": {},
   "outputs": [
    {
     "name": "stderr",
     "output_type": "stream",
     "text": [
      "100%|██████████████████████████████████████████████████████████████████████████████████████████████████████████| 8/8 [00:00<?, ?it/s]\n",
      "100%|██████████████████████████████████████████████████████████████████████████████████████████████████████████| 8/8 [00:00<?, ?it/s]\n",
      "100%|██████████████████████████████████████████████████████████████████████████████████████████████████████████| 8/8 [00:00<?, ?it/s]"
     ]
    },
    {
     "name": "stdout",
     "output_type": "stream",
     "text": [
      "successfully returning from gauss_jordan_solveTrue\n"
     ]
    },
    {
     "name": "stderr",
     "output_type": "stream",
     "text": [
      "\n"
     ]
    },
    {
     "data": {
      "text/latex": [
       "$\\displaystyle 0$"
      ],
      "text/plain": [
       "0"
      ]
     },
     "metadata": {},
     "output_type": "display_data"
    },
    {
     "data": {
      "text/latex": [
       "$\\displaystyle \\frac{1}{\\Gamma^{2} + 2}$"
      ],
      "text/plain": [
       "1/(\\Gamma**2 + 2)"
      ]
     },
     "metadata": {},
     "output_type": "display_data"
    },
    {
     "data": {
      "text/latex": [
       "$\\displaystyle 0$"
      ],
      "text/plain": [
       "0"
      ]
     },
     "metadata": {},
     "output_type": "display_data"
    },
    {
     "data": {
      "text/latex": [
       "$\\displaystyle 0$"
      ],
      "text/plain": [
       "0"
      ]
     },
     "metadata": {},
     "output_type": "display_data"
    },
    {
     "data": {
      "text/latex": [
       "$\\displaystyle 0$"
      ],
      "text/plain": [
       "0"
      ]
     },
     "metadata": {},
     "output_type": "display_data"
    },
    {
     "data": {
      "text/latex": [
       "$\\displaystyle 0$"
      ],
      "text/plain": [
       "0"
      ]
     },
     "metadata": {},
     "output_type": "display_data"
    },
    {
     "data": {
      "text/latex": [
       "$\\displaystyle 0$"
      ],
      "text/plain": [
       "0"
      ]
     },
     "metadata": {},
     "output_type": "display_data"
    },
    {
     "data": {
      "text/latex": [
       "$\\displaystyle - \\frac{\\Gamma}{\\Gamma^{2} + 2}$"
      ],
      "text/plain": [
       "-\\Gamma/(\\Gamma**2 + 2)"
      ]
     },
     "metadata": {},
     "output_type": "display_data"
    }
   ],
   "source": [
    "D_0 = soolve(EQNS_0,vars_0)\n",
    "D_0 = [sp.simplify(el) for el in D_0]\n",
    "D_0_dic = list(zip(vars_0,D_0))\n",
    "\n",
    "for el in D_0:\n",
    "    display(el)"
   ]
  },
  {
   "cell_type": "code",
   "execution_count": 15,
   "metadata": {},
   "outputs": [
    {
     "name": "stderr",
     "output_type": "stream",
     "text": [
      "100%|██████████████████████████████████████████████████████████████████████████████████████████████████████████| 8/8 [00:00<?, ?it/s]\n",
      "100%|██████████████████████████████████████████████████████████████████████████████████████████████████████████| 8/8 [00:00<?, ?it/s]\n",
      "100%|██████████████████████████████████████████████████████████████████████████████████████████████████████████| 8/8 [00:00<?, ?it/s]\n"
     ]
    },
    {
     "name": "stdout",
     "output_type": "stream",
     "text": [
      "successfully returning from gauss_jordan_solveTrue\n"
     ]
    }
   ],
   "source": [
    "D_1 = soolve(EQNS_1,vars_1)\n",
    "D_1 = [sp.simplify(el) for el in D_1]\n",
    "D_1_dic = list(zip(vars_1,D_1))"
   ]
  },
  {
   "cell_type": "code",
   "execution_count": null,
   "metadata": {},
   "outputs": [],
   "source": []
  },
  {
   "cell_type": "code",
   "execution_count": 16,
   "metadata": {},
   "outputs": [
    {
     "name": "stderr",
     "output_type": "stream",
     "text": [
      "100%|████████████████████████████████████████████████████████████████████████████████████████████████| 8/8 [00:00<00:00, 7919.38it/s]\n",
      "100%|████████████████████████████████████████████████████████████████████████████████████████████████| 8/8 [00:00<00:00, 8021.62it/s]\n",
      "100%|██████████████████████████████████████████████████████████████████████████████████████████████████████████| 8/8 [00:00<?, ?it/s]\n"
     ]
    },
    {
     "name": "stdout",
     "output_type": "stream",
     "text": [
      "successfully returning from gauss_jordan_solveTrue\n"
     ]
    }
   ],
   "source": [
    "D_2 = soolve(EQNS_2,vars_2)\n",
    "D_2 = [sp.simplify(el) for el in D_2]\n",
    "D_2_dic = list(zip(vars_2,D_2))\n",
    "\n"
   ]
  },
  {
   "cell_type": "code",
   "execution_count": 17,
   "metadata": {},
   "outputs": [],
   "source": [
    "\"\"\"for el in D_2:\n",
    "    display(sp.simplify(el.subs(D_1_dic).subs(D_0_dic)))\"\"\"\n",
    "rho_cc_2_deg = sp.simplify(D_2[0].subs(D_1_dic).subs(D_0_dic))*(eps**2)\n",
    "rho_bb_2_deg = sp.simplify(D_2[1].subs(D_1_dic).subs(D_0_dic))*(eps**2)"
   ]
  },
  {
   "cell_type": "code",
   "execution_count": 18,
   "metadata": {},
   "outputs": [
    {
     "name": "stdout",
     "output_type": "stream",
     "text": [
      "\\frac{\\epsilon^{2} \\left(18 \\Gamma^{2} + 8 \\delta_{cb}'^{2} + 3\\right)}{2 \\left(\\Gamma^{2} + 2\\right) \\left(36 \\Gamma^{4} + 52 \\Gamma^{2} \\delta_{cb}'^{2} + 12 \\Gamma^{2} + 16 \\delta_{cb}'^{4} - 8 \\delta_{cb}'^{2} + 1\\right)}\n"
     ]
    }
   ],
   "source": [
    "print(sp.latex(rho_cc_2_deg))"
   ]
  },
  {
   "cell_type": "code",
   "execution_count": 28,
   "metadata": {},
   "outputs": [],
   "source": [
    "r_bb = sp.simplify(D[1])"
   ]
  },
  {
   "cell_type": "code",
   "execution_count": 19,
   "metadata": {},
   "outputs": [],
   "source": [
    "test =sp.simplify(D[0])"
   ]
  },
  {
   "cell_type": "code",
   "execution_count": 47,
   "metadata": {},
   "outputs": [],
   "source": [
    "\"\"\"for el in D:\n",
    "    display(sp.simplify(el))\"\"\"\n",
    "#test.subs(d_cb_,sol[3]).subs(eps,0.01).subs(G,0.00000000001).evalf()\n",
    "\"\"\"sp.limit(r_bb,d_cb_,sp.oo)\n",
    "testy = lambdify([d_cb_,G,eps],r_bb)\n",
    "d_cb_l = np.linspace(-10,10,20000)\n",
    "plt.plot(d_cb_l,testy(d_cb_l,0.001,1))\"\"\"\n",
    "%matplotlib qt\n",
    "fig,axs = plt.subplots()\n",
    "SET(r\"$m_3$\",r\"$m_8$\",\"\",axs)"
   ]
  },
  {
   "cell_type": "code",
   "execution_count": null,
   "metadata": {},
   "outputs": [],
   "source": [
    "\"\"\"test_diff =sp.diff(test,d_cb_)\n",
    "sol =sp.solve(test_diff,d_cb_)\n",
    "\n",
    "sol_p =sp.series(sol[3],eps,n=1)\"\"\""
   ]
  },
  {
   "cell_type": "code",
   "execution_count": null,
   "metadata": {},
   "outputs": [],
   "source": [
    "#test_peak =test.subs(d_cb_,sol[3])#.subs(eps,0)\n",
    "#test_peak =sp.simplify(test_peak)\n"
   ]
  },
  {
   "cell_type": "code",
   "execution_count": null,
   "metadata": {},
   "outputs": [],
   "source": [
    "#testpeak_ser = sp.series(sp.expand(test_peak),eps)\n",
    "\n",
    "\"\"\"k = sp.Symbol(\"k\")\n",
    "t ,s = sp.symbols('t'),sp.symbols('s')\n",
    "x, y = sp.symbols('x, y', cls=sp.Function)\n",
    "x, y = x(t), y(t)\n",
    "eqs = (sp.Eq(x.diff(t),k*x-s*y),sp.Eq(y.diff(t),k*x+s*y))\n",
    "sols = sp.dsolve(eqs,hint=\"almost_linear\")\"\"\""
   ]
  },
  {
   "cell_type": "code",
   "execution_count": null,
   "metadata": {},
   "outputs": [],
   "source": []
  },
  {
   "cell_type": "code",
   "execution_count": null,
   "metadata": {},
   "outputs": [],
   "source": [
    "#EQNS,varis\n",
    "t = sp.Symbol(\"t\")\n",
    "rho_cc0,rho_cc1,rho_cc2 = sp.Function(\"\\sigma_{cc0}\")(t),sp.Function(\"\\sigma_{cc1}\")(t),sp.Function(\"\\sigma_{cc2}\")(t)\n",
    "rho_bb0,rho_bb1,rho_bb2 = sp.Function(\"\\sigma_{bb0}\")(t),sp.Function(\"\\sigma_{bb1}\")(t),sp.Function(\"\\sigma_{bb2}\")(t)\n",
    "Re_rho_cb0,Re_rho_cb1,Re_rho_cb2 = sp.Function(\"R\\sigma_{cb0}\")(t),sp.Function(\"R\\sigma_{cb1}\")(t),sp.Function(\"R\\sigma_{cb2}\")(t)\n",
    "Re_rho_ca0,Re_rho_ca1,Re_rho_ca2 = sp.Function(\"R\\sigma_{ca0}\")(t),sp.Function(\"R\\sigma_{ca1}\")(t),sp.Function(\"R\\sigma_{ca2}\")(t)\n",
    "Re_rho_ba0,Re_rho_ba1,Re_rho_ba2 = sp.Function(\"R\\sigma_{ba0}\")(t),sp.Symbol(\"R\\sigma_{ba1}\"),sp.Symbol(\"R\\sigma_{ba2}\")\n",
    "\n",
    "Im_rho_cb0,Im_rho_cb1,Im_rho_cb2 = sp.Function(\"I\\sigma_{cb0}\")(t),sp.Function(\"I\\sigma_{cb1}\")(t),sp.Function(\"I\\sigma_{cb2}\")(t)\n",
    "Im_rho_ca0,Im_rho_ca1,Im_rho_ca2 = sp.Function(\"I\\sigma_{ca0}\")(t),sp.Function(\"I\\sigma_{ca1}\")(t),sp.Function(\"I\\sigma_{ca2}\")(t)\n",
    "Im_rho_ba0,Im_rho_ba1,Im_rho_ba2 = sp.Function(\"I\\sigma_{ba0}\")(t),sp.Function(\"I\\sigma_{ba1}\")(t),sp.Function(\"I\\sigma_{ba2}\")(t)\n",
    "\n",
    "rho_cc_p = rho_cc0 + eps*rho_cc1 + (eps**2)*rho_cc2\n",
    "rho_bb_p = rho_bb0 + eps*rho_bb1 + (eps**2)*rho_bb2\n",
    "Re_rho_cb_p = Re_rho_cb0 + eps*Re_rho_cb1 + (eps**2)*Re_rho_cb2\n",
    "Re_rho_ca_p = Re_rho_ca0 + eps*Re_rho_ca1 + (eps**2)*Re_rho_ca2\n",
    "Re_rho_ba_p = Re_rho_ba0 + eps*Re_rho_ba1 + (eps**2)*Re_rho_ba2\n",
    "Im_rho_cb_p = Im_rho_cb0 + eps*Im_rho_cb1 + (eps**2)*Im_rho_cb2\n",
    "Im_rho_ca_p = Im_rho_ca0 + eps*Im_rho_ca1 + (eps**2)*Im_rho_ca2\n",
    "Im_rho_ba_p = Im_rho_ba0 + eps*Im_rho_ba1 + (eps**2)*Im_rho_ba2\n",
    "\n",
    "rho_cc_p = rho_cc0 + G*rho_cc1 + (G**2)*rho_cc2\n",
    "rho_bb_p = rho_bb0 + G*rho_bb1 + (G**2)*rho_bb2\n",
    "Re_rho_cb_p = Re_rho_cb0 + G*Re_rho_cb1 + (G**2)*Re_rho_cb2\n",
    "Re_rho_ca_p = Re_rho_ca0 + G*Re_rho_ca1 + (G**2)*Re_rho_ca2\n",
    "Re_rho_ba_p = Re_rho_ba0 + G*Re_rho_ba1 + (G**2)*Re_rho_ba2\n",
    "Im_rho_cb_p = Im_rho_cb0 + G*Im_rho_cb1 + (G**2)*Im_rho_cb2\n",
    "Im_rho_ca_p = Im_rho_ca0 + G*Im_rho_ca1 + (G**2)*Im_rho_ca2\n",
    "Im_rho_ba_p = Im_rho_ba0 + G*Im_rho_ba1 + (G**2)*Im_rho_ba2\n",
    "\n",
    "rho_cc_p_diff = rho_cc_p.diff(t)   \n",
    "rho_bb_p_diff = rho_bb_p.diff(t)\n",
    "Re_rho_cb_p_diff = Re_rho_cb_p.diff(t)\n",
    "Re_rho_ca_p_diff = Re_rho_ca_p.diff(t)\n",
    "Re_rho_ba_p_diff = Re_rho_ba_p.diff(t)\n",
    "Im_rho_cb_p_diff = Im_rho_cb_p.diff(t)\n",
    "Im_rho_ca_p_diff = Im_rho_ca_p.diff(t)\n",
    "Im_rho_ba_p_diff = Im_rho_ba_p.diff(t)  "
   ]
  },
  {
   "cell_type": "code",
   "execution_count": null,
   "metadata": {},
   "outputs": [],
   "source": [
    "# varis_f_0 = [rho_cc0,rho_bb0,Re_rho_cb0,Re_rho_ca0,Re_rho_ba0,Im_rho_cb0,Im_rho_ca0,Im_rho_ba0]\n",
    "Im_rho_ba_p_diff"
   ]
  },
  {
   "cell_type": "code",
   "execution_count": null,
   "metadata": {},
   "outputs": [],
   "source": [
    "\"\"\"test = sp.expand(SUBS_p(EQNS[0]))\n",
    "display(test)\n",
    "display(split_eqns(test,0))\n",
    "display(Im_rho_ba_p_diff)\"\"\"\n",
    "rho_cc_f,rho_bb_f,Re_rho_cb_f = sp.Function(\"\\sigma_{cc}\")(t),sp.Function(\"\\sigma_{bb}\")(t),sp.Function(\"R\\sigma_{cb}\")(t)\n",
    "Re_rho_ca_f, Re_rho_ba_f = sp.Function(\"R\\sigma_{ca}\")(t), sp.Function(\"R\\sigma_{ba}\")(t)\n",
    "Im_rho_cb_f, Im_rho_ca_f = sp.Function(\"I\\sigma_{cb}\")(t), sp.Function(\"I\\sigma_{ca}\")(t)\n",
    "Im_rho_ba_f = sp.Function(\"I\\sigma_{ba}\")(t)\n",
    "\n",
    "def SUBS_fun(expr):\n",
    "    target = list(zip(rho_syms,rho_funs))\n",
    "    return expr.subs(target)\n",
    "rho_syms = [rho_cc,rho_bb,Re_rho_cb,Re_rho_ca,Re_rho_ba,Im_rho_cb,Im_rho_ca,Im_rho_ba]\n",
    "rho_funs = [rho_cc_p,rho_bb_p,Re_rho_cb_p,Re_rho_ca_p,Re_rho_ba_p,Im_rho_cb_p,Im_rho_ca_p,Im_rho_ba_p]\n",
    "rho_diffs= [rho_cc_p_diff,rho_bb_p_diff,Re_rho_cb_p_diff,Re_rho_ca_p_diff,Re_rho_ba_p_diff,Im_rho_cb_p_diff,Im_rho_ca_p_diff,Im_rho_ba_p_diff]\n",
    "EQNS_p_f = [sp.expand(SUBS_fun(el1))-el2 for el1,el2 in list(zip(EQNS,rho_diffs))]\n",
    "EQNS_p_  = [sp.expand(SUBS_fun(el1)) for el1 in EQNS]\n",
    "EQNS_0_f = [split_eqns_G(el,0) for el in EQNS_p_f]\n",
    "EQNS_1_f = [split_eqns_G(el,1) for el in EQNS_p_f]\n",
    "for el in EQNS:\n",
    "    display(el)"
   ]
  },
  {
   "cell_type": "code",
   "execution_count": null,
   "metadata": {},
   "outputs": [],
   "source": []
  },
  {
   "cell_type": "code",
   "execution_count": 138,
   "metadata": {},
   "outputs": [],
   "source": [
    "test = sp.simplify(D[0])\n",
    "rho_cc_f_test = lambdify([G,eps,d_cb_],test)\n",
    "rho_cc_f_approx = lambdify([G,eps,d_cb_],rho_cc_2_deg)"
   ]
  },
  {
   "cell_type": "code",
   "execution_count": 144,
   "metadata": {},
   "outputs": [
    {
     "name": "stdout",
     "output_type": "stream",
     "text": [
      "\\frac{1}{7} + \\frac{10 \\epsilon^{2}}{49} - \\frac{172 \\epsilon^{4}}{1715} + O\\left(\\epsilon^{6}\\right)\n"
     ]
    }
   ],
   "source": [
    "test_ = test.subs(d_cb_,1/sp.sympify(2))\n",
    "print(sp.latex(sp.series(sp.limit(test_,G,0))))"
   ]
  },
  {
   "cell_type": "code",
   "execution_count": 59,
   "metadata": {},
   "outputs": [
    {
     "data": {
      "text/plain": [
       "<matplotlib.legend.Legend at 0x1b837173908>"
      ]
     },
     "execution_count": 59,
     "metadata": {},
     "output_type": "execute_result"
    }
   ],
   "source": [
    "%matplotlib qt\n",
    "fig, axs = plt.subplots(2)\n",
    "d_cb_vals = np.linspace(-1,1,100)\n",
    "G_val = 0.1\n",
    "EPS = 0.1\n",
    "axs[0].plot(d_cb_vals,rho_cc_f_test(G_val,EPS,d_cb_vals),label=r\"$\\hat{\\sigma}_{cc}^s$\")\n",
    "axs[0].plot(d_cb_vals,rho_cc_f_approx(G_val,EPS,d_cb_vals),label=r\"$\\hat{\\sigma}_{cc}^{s\\,approx}$\")\n",
    "\n",
    "G_val = 0.1\n",
    "EPS = 0.05\n",
    "axs[1].plot(d_cb_vals,rho_cc_f_test(G_val,EPS,d_cb_vals),label=r\"$\\hat{\\sigma}_{cc}^s$\")\n",
    "axs[1].plot(d_cb_vals,rho_cc_f_approx(G_val,EPS,d_cb_vals),label=r\"$\\hat{\\sigma}_{cc}^{s\\,approx}$\")\n",
    "SET(r\"\",r\"$\\hat{\\sigma}_{cc}$\",r\"$\\hat{\\sigma}_{cc}(t'\\to \\infty)$ component for $\\Gamma' = 0.1$ and $\\epsilon=0.1$\",axs[0])\n",
    "SET(r\"$\\delta_{cb}'$\",r\"$\\hat{\\sigma}_{cc}$\",r\"$\\hat{\\sigma}_{cc}(t'\\to \\infty)$ component for $\\Gamma' = 0.1$ and $\\epsilon=0.05$\",axs[1])\n",
    "axs[0].legend(fontsize=25)\n",
    "axs[1].legend(fontsize=25)"
   ]
  },
  {
   "cell_type": "code",
   "execution_count": 73,
   "metadata": {},
   "outputs": [],
   "source": [
    "test_diff = sp.diff(test,d_cb_)\n",
    "#test_diff_f = sp.lambdify([G,eps,d_cb_],test_diff)\n"
   ]
  },
  {
   "cell_type": "code",
   "execution_count": 74,
   "metadata": {},
   "outputs": [],
   "source": [
    "test_peak = sp.solve(test_diff,d_cb_)"
   ]
  },
  {
   "cell_type": "code",
   "execution_count": 137,
   "metadata": {},
   "outputs": [
    {
     "name": "stdout",
     "output_type": "stream",
     "text": [
      "yo\n"
     ]
    }
   ],
   "source": [
    "#display(test_peak[3])\n",
    "\"\"\"fff = lambdify([G,eps],test_peak[3].args[1].args[0])\n",
    "EPS =0.1\n",
    "G_vals = np.linspace(0,1,100)\n",
    "plt.plot(G_vals,fff(G_vals,EPS))\"\"\"\n",
    "\"\"\"sol =sp.solve(test_peak[3].args[1].args[0],G)\n",
    "print(sp.latex(sp.series(sol[5],eps)))\n",
    "print(sp.latex(sol[5].subs(eps,0.1)))\"\"\"\n",
    "print(\"yo\")\n"
   ]
  },
  {
   "cell_type": "code",
   "execution_count": 118,
   "metadata": {},
   "outputs": [],
   "source": [
    "test_peak_f_3 = lambdify([G,eps],test_peak[3])\n",
    "test_peak_f_4 = lambdify([G,eps],test_peak[4])"
   ]
  },
  {
   "cell_type": "code",
   "execution_count": 119,
   "metadata": {},
   "outputs": [],
   "source": [
    "G_val = np.linspace(0.00001,1,100)\n",
    "a = test_peak_f_3(G_val,0.1)"
   ]
  },
  {
   "cell_type": "code",
   "execution_count": null,
   "metadata": {},
   "outputs": [],
   "source": [
    "a_r,a_i = np.real(a), np.imag(a)\n",
    "plt.plot(G_val,a_r,label=\"real\")\n",
    "plt.plot(G_val,a_i)\n",
    "plt.legend()"
   ]
  },
  {
   "cell_type": "code",
   "execution_count": null,
   "metadata": {},
   "outputs": [],
   "source": []
  },
  {
   "cell_type": "code",
   "execution_count": null,
   "metadata": {},
   "outputs": [],
   "source": []
  },
  {
   "cell_type": "code",
   "execution_count": null,
   "metadata": {},
   "outputs": [],
   "source": [
    "TEST = test.subs(eps,0.01).subs(G,0)\n",
    "TEST_f = lambdify([d_cb_],TEST)"
   ]
  },
  {
   "cell_type": "code",
   "execution_count": 125,
   "metadata": {},
   "outputs": [
    {
     "name": "stdout",
     "output_type": "stream",
     "text": [
      "[1.00000e-05 1.00009e-01 2.00008e-01 3.00007e-01 4.00006e-01 5.00005e-01\n",
      " 6.00004e-01 7.00003e-01 8.00002e-01 9.00001e-01 1.00000e+00]\n"
     ]
    },
    {
     "data": {
      "text/plain": [
       "<matplotlib.legend.Legend at 0x1b8429c3e10>"
      ]
     },
     "execution_count": 125,
     "metadata": {},
     "output_type": "execute_result"
    }
   ],
   "source": [
    "\n",
    "\n",
    "#%matplotlib qt\n",
    "\n",
    "test = D[0]\n",
    "fig, axs = plt.subplots()\n",
    "G_val = np.linspace(0.00001,1,10)\n",
    "print(G_val)\n",
    "d_cb_l = np.linspace(-1,1,10000)\n",
    "EPS = 0.1\n",
    "for i, G_ in enumerate(G_val):\n",
    "    TEST = test.subs(eps,EPS).subs(G,G_)\n",
    "    #TEST_2 =rho_cc_2_deg.subs(eps,0.1).subs(G,G_)\n",
    "    TEST_f = lambdify([d_cb_],TEST)\n",
    "    #TEST_f_2 = lambdify([d_cb_],TEST_2)\n",
    "    #axs.plot(d_cb_l,TEST_f(d_cb_l))\n",
    "    if i == 0:\n",
    "        axs.semilogy(d_cb_l,TEST_f(d_cb_l),\"r\",label=r\"$\\epsilon = $\"+ str(EPS) ) #semilogy\n",
    "    else :\n",
    "        axs.semilogy(d_cb_l,TEST_f(d_cb_l),\"r\") #semilogy\n",
    "    X = np.real(test_peak_f_3(G_,EPS))\n",
    "    Y = rho_cc_f_test(G_,EPS,X)\n",
    "    X2 = np.real(test_peak_f_4(G_,EPS))\n",
    "    Y2 = rho_cc_f_test(G_,EPS,X)\n",
    "    axs.semilogy(X,Y,\"ro\")\n",
    "    axs.semilogy(X2,Y2,\"ro\")\n",
    "    #axs.plot(d_cb_l,TEST_f_2(d_cb_l),\"o\")\n",
    "axs.legend()"
   ]
  },
  {
   "cell_type": "code",
   "execution_count": null,
   "metadata": {},
   "outputs": [],
   "source": [
    "axs.legend(fontsize=22)\n",
    "axs.set_xlabel(r\"$\\delta_{cb}'$\",fontsize=40)\n",
    "axs.set_ylabel(r\"$\\hat{\\sigma}_{cc}(t\\to \\infty)$\",fontsize=40)\n",
    "axs.set_title(r\"Stationary points $\\hat{\\sigma}_{cc}$ for $\\Gamma'=[0.0,0.1,...,1.0]}$ and $\\epsilon = [0.1,0.01,0.001]$\",fontsize=27)\n",
    "axs.tick_params(axis='x', labelsize=20)\n",
    "axs.tick_params(axis='y', labelsize=20)"
   ]
  },
  {
   "cell_type": "code",
   "execution_count": null,
   "metadata": {},
   "outputs": [],
   "source": [
    "\"\"\"\n",
    "d_cb_l = np.linspace(-10,10,1000)\n",
    "\n",
    "\n",
    "\n",
    "%matplotlib qt\n",
    "\n",
    "fig, axs = plt.subplots()\n",
    "#Om_val = np.array([1,2,3,4,6,10,20,30,40,50,70,100,150,250,1000])\n",
    "val =100\n",
    "RHO_CC = lambdify([d_cb],subb(test))\n",
    "RHO_CC_arr = np.array(RHO_CC(d_cb_l))\n",
    "#RHO_CC_corr = lambdify([d_cb_],subb_scaled(test2,val))\n",
    "#RHO_CC_arr_corr = np.array(RHO_CC(d_cb_l))\n",
    "#axs.semilogy(d_cb_l,RHO_CC_arr)\n",
    "axs.plot(d_cb_l,RHO_CC_arr)\n",
    "#axs.plot(d_cb_l,RHO_CC_arr_corr)\"\"\""
   ]
  },
  {
   "cell_type": "code",
   "execution_count": null,
   "metadata": {},
   "outputs": [],
   "source": [
    "\"\"\"RHO_CC = lambdify([d_cb],subb(D[0]))\n",
    "RHO_BB = lambdify([d_cb],subb(D[1]))\n",
    "d_cb_l = np.linspace(1,10,100)\n",
    "RHO_CC_arr = np.array(RHO_CC(d_cb_l))\n",
    "RHO_BB_arr = np.array(RHO_BB(d_cb_l))\n",
    "M_8_arr = (3/2)*(RHO_CC_arr+RHO_BB_arr)-1\n",
    "M_3_arr = (np.sqrt(3)/2)*(RHO_CC_arr-RHO_BB_arr)\n",
    "\n",
    "%matplotlib qt\n",
    "plotting = plotting_m_2()\n",
    "fig, axs = plt.subplots()\n",
    "plotting.circle(axs)\n",
    "plotting.plot_cartan(axs)\n",
    "axs.plot(M_3_arr,M_8_arr)\"\"\""
   ]
  },
  {
   "cell_type": "code",
   "execution_count": 28,
   "metadata": {},
   "outputs": [],
   "source": [
    "def subb(expr,G_val):\n",
    "    #l = [[G_b_to_a,0.0001],[G_c_to_a,0.0001],[G_c_to_b,0.0001],[Om_cb,0.1],[Om_ba,10]]#,\n",
    "    l = [[G,G_val],[eps,1],[Om_ba,1]] #Om_ba must be =1, because its scaled, G=G/Om_ba\n",
    "    for el in l:\n",
    "        expr = expr.subs(el[0],el[1])\n",
    "    return expr\n",
    "\"\"\"def subb_scaled(expr,om_val):\n",
    "    l = [[Om_ba,om_val],[eps,0.01],[AA,1],[BB,1],[G,1]]\n",
    "    for el in l:\n",
    "        expr = expr.subs(el[0],el[1])\n",
    "    return expr\"\"\"\n",
    "def subb2(expr,val_ba,val_cb):\n",
    "    return (expr.subs(d_ba,val_ba)).subs(d_cb,val_cb)\n",
    "rho_syms = [rho_cc,rho_bb,rho_aa,\n",
    "            sp.re(rho_cb),sp.re(rho_ca),sp.re(rho_ba),\n",
    "            sp.im(rho_cb),sp.im(rho_ca),sp.im(rho_ba)]\n",
    "der_0=[sigma_cc_R,sigma_bb_R,sigma_aa_R,\n",
    "       sigma_cb_R,sigma_ca_R,sigma_ba_R,\n",
    "      sigma_cb_I,sigma_ca_I,sigma_ba_I]\n",
    "\n"
   ]
  },
  {
   "cell_type": "code",
   "execution_count": 41,
   "metadata": {},
   "outputs": [
    {
     "data": {
      "text/plain": [
       "'M_3,M_8 = run(0,100)\\nplt.plot(M_3,M_8)\\nplt.ylim(-1,0.5)\\nplt.xlim(-0.8,0.25)'"
      ]
     },
     "execution_count": 41,
     "metadata": {},
     "output_type": "execute_result"
    }
   ],
   "source": [
    "\n",
    "\n",
    "\n",
    "\n",
    "def run(d_ba_val,d_cb_val,init_val,G_val):\n",
    "    der_1 = [subb(el,G_val) for el in EQNS_num] #der_0\n",
    "    der_2 = [subb2(el,d_ba_val,d_cb_val) for el in der_1]\n",
    "    der_3 = [lambdify([rho_syms],el) for el in der_2]\n",
    "    def model_2_l(rho,t):\n",
    "        return [f(rho) for f in der_3]\n",
    "    \"\"\"if True;#G_val>0.001:\n",
    "        t = np.linspace(0,10000,100000)\n",
    "    else:\n",
    "        t= np.linspace(0,3000,10000)\"\"\"\n",
    "    t = np.linspace(0,100,1000)\n",
    "    #rho_init = [1/2,1/2,1/(np.sqrt(2)*2),1/(np.sqrt(2)*2)]\n",
    "    x = init_val\n",
    "    rho_init = [x,1-x,0,0,0,0,0,0,0] #cc, bb, aa, Re(cb, ca, ba) , Im(cb, ca ,ba)\n",
    "    RHO = odeint(model_2_l,rho_init,t)\n",
    "    rho_CC,rho_AA,rho_BB = [],[],[]\n",
    "    rho_CB_R,rho_CB_I = [],[]\n",
    "    rho_CA_R,rho_CA_I = [],[]\n",
    "    for el in RHO:\n",
    "        rho_CC.append(el[0]);rho_CB_R.append(el[3]);rho_CA_I.append(el[7])\n",
    "        rho_BB.append(el[1]);rho_CB_I.append(el[6])\n",
    "        rho_AA.append(el[2]);rho_CA_R.append(el[4])\n",
    "        \n",
    "    rho_CC,rho_BB,rho_AA = np.array(rho_CC),np.array(rho_BB),np.array(rho_AA)\n",
    "    \n",
    "    M_8 = (1/2)*(1-3*rho_AA)\n",
    "    M_3 = (np.sqrt(3)/2)*(rho_CC-rho_BB)\n",
    "    M_1 =  np.sqrt(3)*np.array(rho_CB_R)\n",
    "    M_2 = -np.sqrt(3)*np.array(rho_CB_I)\n",
    "    M_4 =  np.sqrt(3)*np.array(rho_CA_R)\n",
    "    M_5 = -np.sqrt(3)*np.array(rho_CA_I)\n",
    "    return M_3,M_8,rho_CC,rho_BB,rho_AA,M_1,M_2,M_4,M_5,t\n",
    "\n",
    "\"\"\"M_3,M_8 = run(0,100)\n",
    "plt.plot(M_3,M_8)\n",
    "plt.ylim(-1,0.5)\n",
    "plt.xlim(-0.8,0.25)\"\"\""
   ]
  },
  {
   "cell_type": "code",
   "execution_count": 66,
   "metadata": {},
   "outputs": [],
   "source": [
    "\n",
    "%matplotlib qt\n",
    "#N=1.0\n",
    "fig, axs = plt.subplots(2,2)\n",
    "init_vals= np.linspace(0,1,15)\n",
    "fig.suptitle(r\"Evolution of $\\hat{\\sigma}_{cc}$ for different initial values,$\\epsilon = 0.1$\", fontsize = 40)\n",
    "#G_vals = np.lin\n",
    "#for G_val in G_vals:\n",
    "G_vals = [0.00001,0.01,0.03,0.1]\n",
    "for i,G_val in enumerate(G_vals):\n",
    "    for init_val in init_vals:\n",
    "        M_3,M_8,rho_CCC,rho_BBB,rho_AAA,M_1,M_2,M_4,M_5,t = run(0,0.5,init_val,G_val)\n",
    "        axs[int(np.floor(i/2))][i%2].plot(t,rho_CCC)\n",
    "        SET(r\"$t'$\",r\"$\\hat{\\sigma}_{cc}$\",r\"\",axs[int(np.floor(i/2))][i%2])\n",
    "\n",
    "#axs.legend()"
   ]
  },
  {
   "cell_type": "code",
   "execution_count": null,
   "metadata": {},
   "outputs": [],
   "source": [
    "axs[0][0].text(10,0.9,r\"$\\Gamma' = 1e-6$\",fontsize=20)\n",
    "axs[0][1].text(50,0.9,r\"$\\Gamma' = 0.01$\",fontsize=20)\n",
    "axs[1][0].text(50,0.9,r\"$\\Gamma' = 0.03$\",fontsize=20)\n",
    "axs[1][1].text(50,0.9,r\"$\\Gamma' = 0.1$\",fontsize=20)\n",
    "\"\"\"axs[0][0].text(3, 8, 'boxed italics text in data coords', style='italic',\n",
    "        bbox={'facecolor': 'red', 'alpha': 0.5, 'pad': 10})\"\"\""
   ]
  },
  {
   "cell_type": "code",
   "execution_count": null,
   "metadata": {},
   "outputs": [],
   "source": [
    "\"\"\"#%matplotlib qt\n",
    "#N=1.0\n",
    "#fig, axs = plt.subplots()\n",
    "init_vals= np.linspace(0,1,15)\n",
    "#G_vals = np.lin\n",
    "#for G_val in G_vals:\n",
    "G_vals = [0.00001,0.001,0.01,0.1,0.5,1]#\n",
    "special_package = []\n",
    "for i,G_val in enumerate(G_vals):\n",
    "    M_3,M_8,rho_CCC,rho_BBB,rho_AAA,M_1,M_2,M_4,M_5,t = run(0,0.5,0,G_val)\n",
    "    special_package.append([M_3,M_8,rho_CCC,rho_BBB,rho_AAA,M_1,M_2,M_4,M_5,t,G_val])\n",
    "    \n",
    "    #axs.loglog(t,rho_CCC,label = r\"\\Gamma' =\"+str(G_val))\"\"\""
   ]
  },
  {
   "cell_type": "code",
   "execution_count": null,
   "metadata": {},
   "outputs": [],
   "source": [
    "\"\"\"%matplotlib qt\n",
    "fig, axs = plt.subplots(2,2)\n",
    "spes_el = special_package[0]\n",
    "MM = plotting_m_2()\n",
    "MM.plot_cartan(axs[0][0]);MM.plot_cartan(axs[0][1]);MM.plot_cartan(axs[1][0]);MM.plot_cartan(axs[1][1])\n",
    "MM.circle(axs[0][0]);MM.circle(axs[0][1]);MM.circle(axs[1][0]);MM.circle(axs[1][1])\n",
    "axs[0][0].plot(spes_el[0][0:500],spes_el[1][0:500],\"b\",label = r\"$t' = [0,500]$\")\n",
    "axs[0][0].plot(spes_el[0][-1],spes_el[1][-1],\"ro\",label = r\"$t'\\to \\infty $\")\n",
    "axs[0][1].plot(spes_el[0][300000:300500],spes_el[1][300000:300500],\"b\",label = r\"$t' =3e5 + [0,500]$\")\n",
    "axs[0][1].plot(spes_el[0][-1],spes_el[1][-1],\"ro\",label = r\"$t'\\to \\infty $\")\n",
    "axs[1][0].plot(spes_el[0][1000000:1000500],spes_el[1][1000000:1000500],\"b\",label = r\"$t' =1e6 + [0,500]$\")\n",
    "axs[1][0].plot(spes_el[0][-1],spes_el[1][-1],\"ro\",label = r\"$t'\\to \\infty $\")\n",
    "axs[1][1].plot(spes_el[0][2000000:2000500],spes_el[1][2000000:2000500],\"b\",label = r\"$t' =2e6 + [0,500]$\")\n",
    "axs[1][1].plot(spes_el[0][-1],spes_el[1][-1],\"ro\",label =r\"$t'\\to \\infty $\")\n",
    "axs[0][0].legend();axs[0][1].legend();axs[1][0].legend();axs[1][1].legend()\n",
    "SET(\"\",\"\",\"Subplot 1\",axs[0][0]),SET(\"\",\"\",\"Subplot 2\",axs[0][1]),SET(\"\",\"\",\"Subplot 3\",axs[1][0]),SET(\"\",\"\",\"Subplot 4\",axs[1][1])\"\"\""
   ]
  },
  {
   "cell_type": "code",
   "execution_count": null,
   "metadata": {},
   "outputs": [],
   "source": [
    "\n",
    "RHO_CC_an = sp.simplify(D[0])\n",
    "RHO_BB_an = sp.simplify(D[1])\n",
    "RHO_CC_an = lambdify([G,eps,d_cb_], RHO_CC_an)\n",
    "RHO_BB_an = lambdify([G,eps,d_cb_], RHO_BB_an)"
   ]
  },
  {
   "cell_type": "code",
   "execution_count": null,
   "metadata": {},
   "outputs": [],
   "source": [
    "fig, axs = plt.subplots()\n",
    "MM = plotting_m_2()\n",
    "MM.circle(axs);MM.plot_cartan(axs)\n",
    "G_vals = [0.00001,0.0001,0.001,0.01,0.1,1,2]\n",
    "G_vals = np.linspace(0.00001,0.8,20)\n",
    "EPS = 0.1\n",
    "d_cb_l = np.linspace(-10,10,100000)\n",
    "#d_cb_l_2 = np.linspace(-1.1,1,10)\n",
    "for g_val in G_vals:\n",
    "    cc = RHO_CC_an(g_val,EPS,d_cb_l)\n",
    "    bb = RHO_BB_an(g_val,EPS,d_cb_l)\n",
    "    MM8 = (3/2)*(cc+bb)-1\n",
    "    MM3 = (np.sqrt(3)/2)*(cc-bb)\n",
    "    axs.plot(MM3,MM8,label=r\"$\\Gamma' \\approx$ \"+str(np.round(g_val,2)),linewidth=2)\n",
    "\n",
    "    cc = RHO_CC_an(g_val,EPS,0)\n",
    "    bb = RHO_BB_an(g_val,EPS,0)\n",
    "    MM8 = (3/2)*(cc+bb)-1\n",
    "    MM3 = (np.sqrt(3)/2)*(cc-bb)\n",
    "    axs.plot(MM3,MM8,\"ro\",linewidth=3)\n",
    "    \n",
    "    cc = RHO_CC_an(g_val,EPS,0.5)\n",
    "    bb = RHO_BB_an(g_val,EPS,0.5)\n",
    "    MM8 = (3/2)*(cc+bb)-1\n",
    "    MM3 = (np.sqrt(3)/2)*(cc-bb)\n",
    "    axs.plot(MM3,MM8,\"bo\",linewidth=3)\n",
    "\n",
    "\"\"\"for cb in d_cb_l_2:\n",
    "    cc = RHO_CC_an(Gval,EPS,cb)\n",
    "    bb = RHO_BB_an(Gval,EPS,cb)\n",
    "    MM8 = (3/2)*(cc+bb)-1\n",
    "    MM3 = (np.sqrt(3)/2)*(cc-bb)\n",
    "    axs.plot(MM3,MM8,\"o\",label=str(cb))\"\"\"\n",
    "axs.set_ylim([-0.9,0.51])\n",
    "axs.set_xlim([-0.8,0.8])\n",
    "axs.legend()\n",
    "SET(\"\",\"\",r\"Stationary Points for $\\epsilon = 0.1$ \",axs)"
   ]
  },
  {
   "cell_type": "code",
   "execution_count": 46,
   "metadata": {},
   "outputs": [],
   "source": [
    "#axs.set_ylim(0.0001,0.7)\n",
    "#test = sp.simplify(D[0])\n",
    "def SET(xlabel,ylabel,title,axs):\n",
    "    axs.set_xlabel(xlabel,fontsize=40)\n",
    "    #axs.legend(fontsize=14)\n",
    "    axs.set_ylabel(ylabel,fontsize=40)\n",
    "    axs.set_title(title,fontsize=27)\n",
    "    axs.tick_params(axis='x', labelsize=20)\n",
    "    axs.tick_params(axis='y', labelsize=20)"
   ]
  },
  {
   "cell_type": "code",
   "execution_count": 21,
   "metadata": {},
   "outputs": [
    {
     "ename": "NameError",
     "evalue": "name 'test' is not defined",
     "output_type": "error",
     "traceback": [
      "\u001b[1;31m---------------------------------------------------------------------------\u001b[0m",
      "\u001b[1;31mNameError\u001b[0m                                 Traceback (most recent call last)",
      "\u001b[1;32m<ipython-input-21-1da842b369ee>\u001b[0m in \u001b[0;36m<module>\u001b[1;34m\u001b[0m\n\u001b[0;32m      1\u001b[0m \u001b[1;31m#axs.legend()\u001b[0m\u001b[1;33m\u001b[0m\u001b[1;33m\u001b[0m\u001b[1;33m\u001b[0m\u001b[0m\n\u001b[1;32m----> 2\u001b[1;33m \u001b[0mf_test\u001b[0m \u001b[1;33m=\u001b[0m \u001b[0mlambdify\u001b[0m\u001b[1;33m(\u001b[0m\u001b[1;33m[\u001b[0m\u001b[0meps\u001b[0m\u001b[1;33m,\u001b[0m\u001b[0md_cb_\u001b[0m\u001b[1;33m,\u001b[0m\u001b[0mG\u001b[0m\u001b[1;33m]\u001b[0m\u001b[1;33m,\u001b[0m\u001b[0mtest\u001b[0m\u001b[1;33m)\u001b[0m\u001b[1;33m\u001b[0m\u001b[1;33m\u001b[0m\u001b[0m\n\u001b[0m\u001b[0;32m      3\u001b[0m \u001b[1;31m#G_vals = np.linspace(0.00001,1,1000)\u001b[0m\u001b[1;33m\u001b[0m\u001b[1;33m\u001b[0m\u001b[1;33m\u001b[0m\u001b[0m\n\u001b[0;32m      4\u001b[0m \u001b[0mG_vals\u001b[0m \u001b[1;33m=\u001b[0m \u001b[0mnp\u001b[0m\u001b[1;33m.\u001b[0m\u001b[0marray\u001b[0m\u001b[1;33m(\u001b[0m\u001b[1;33m[\u001b[0m\u001b[1;36m0.00001\u001b[0m\u001b[1;33m,\u001b[0m\u001b[1;36m0.001\u001b[0m\u001b[1;33m,\u001b[0m\u001b[1;36m0.01\u001b[0m\u001b[1;33m,\u001b[0m\u001b[1;36m0.1\u001b[0m\u001b[1;33m,\u001b[0m\u001b[1;36m0.5\u001b[0m\u001b[1;33m,\u001b[0m\u001b[1;36m1\u001b[0m\u001b[1;33m]\u001b[0m\u001b[1;33m)\u001b[0m\u001b[1;33m\u001b[0m\u001b[1;33m\u001b[0m\u001b[0m\n\u001b[0;32m      5\u001b[0m \u001b[0maxs\u001b[0m\u001b[1;33m.\u001b[0m\u001b[0mloglog\u001b[0m\u001b[1;33m(\u001b[0m\u001b[1;36m8\u001b[0m\u001b[1;33m/\u001b[0m\u001b[0mG_vals\u001b[0m\u001b[1;33m,\u001b[0m\u001b[0mf_test\u001b[0m\u001b[1;33m(\u001b[0m\u001b[1;36m0.1\u001b[0m\u001b[1;33m,\u001b[0m\u001b[1;36m0.5\u001b[0m\u001b[1;33m,\u001b[0m\u001b[0mG_vals\u001b[0m\u001b[1;33m)\u001b[0m\u001b[1;33m,\u001b[0m\u001b[1;34m\"ro\"\u001b[0m\u001b[1;33m)\u001b[0m\u001b[1;33m\u001b[0m\u001b[1;33m\u001b[0m\u001b[0m\n",
      "\u001b[1;31mNameError\u001b[0m: name 'test' is not defined"
     ]
    }
   ],
   "source": [
    "#axs.legend()\n",
    "f_test = lambdify([eps,d_cb_,G],test)\n",
    "#G_vals = np.linspace(0.00001,1,1000)\n",
    "G_vals = np.array([0.00001,0.001,0.01,0.1,0.5,1])\n",
    "axs.loglog(8/G_vals,f_test(0.1,0.5,G_vals),\"ro\")"
   ]
  },
  {
   "cell_type": "code",
   "execution_count": null,
   "metadata": {},
   "outputs": [],
   "source": [
    "#G_vals = [0.00001,0.001,0.01,0.1,0.5,1]\n",
    "G_vals = np.array([0.00001,0.001,0.01,0.1,0.5,1])\n",
    "f_test(0.1,0.5,G_vals)"
   ]
  },
  {
   "cell_type": "code",
   "execution_count": null,
   "metadata": {},
   "outputs": [],
   "source": [
    "z = []\n",
    "d_cb_val_l = np.linspace(4.5,5.5,11)\n",
    "\n",
    "\"\"\"for d_cb_val in d_cb_val_l:\n",
    "    M_3,M_8,ll = run(0,d_cb_val)\n",
    "    z.append([M_3,M_8])\"\"\"\n"
   ]
  },
  {
   "cell_type": "code",
   "execution_count": null,
   "metadata": {},
   "outputs": [],
   "source": [
    "\n",
    "%matplotlib qt\n",
    "plotting = plotting_m_2()\n",
    "fig, axs = plt.subplots()\n",
    "for el in d_cb_val_l:\n",
    "    M_3,M_8,rho_CCC,t = run(0,el)\n",
    "    if el ==5:\n",
    "        Z_cc = rho_CCC\n",
    "    axs.plot(t,rho_CCC,label=str(el))\n",
    " \n",
    "axs.legend()"
   ]
  },
  {
   "cell_type": "code",
   "execution_count": null,
   "metadata": {},
   "outputs": [],
   "source": [
    "axs.plot(t,0.3*np.e**(-0.01*t)+Z_cc[-1]) "
   ]
  },
  {
   "cell_type": "code",
   "execution_count": null,
   "metadata": {},
   "outputs": [],
   "source": [
    "M_3,M_8,ll = run(0,5)\n",
    "%matplotlib qt\n",
    "plotting = plotting_m_2()\n",
    "fig, axs = plt.subplots()\n",
    "plotting.circle(axs)\n",
    "plotting.plot_cartan(axs)\n",
    "axs.plot(M_3,M_8)"
   ]
  },
  {
   "cell_type": "code",
   "execution_count": null,
   "metadata": {},
   "outputs": [],
   "source": [
    "%matplotlib qt\n",
    "plotting = plotting_m_2()\n",
    "fig, axs = plt.subplots()\n",
    "plotting.circle(axs)\n",
    "plotting.plot_cartan(axs)\n",
    "for el in z:\n",
    "    axs.plot(el[0][-1],el[1][-1],\"o\")\n"
   ]
  },
  {
   "cell_type": "code",
   "execution_count": 1,
   "metadata": {},
   "outputs": [],
   "source": [
    "class plotting_m_2:\n",
    "    def __init__(self):\n",
    "        print(\"plotting_m_2 initialized\")\n",
    "    def circle(self,ax):\n",
    "        theta = np.linspace(0,2*np.pi,100)\n",
    "        x= np.cos(theta)\n",
    "        y= np.sin(theta)\n",
    "        ax.plot(x,y) # outer boundary\n",
    "        ax.plot((1/2)*x,(1/2)*y) # inner boundary\n",
    "        ax.plot((1/np.sqrt(3))*x,(1/np.sqrt(3))*y) # middle boundary\n",
    "        ax.plot([0],[0],marker=\"o\", markersize=3, color=\"blue\")\n",
    "\n",
    "    def plot_cartan(self,ax):\n",
    "        ax.plot([-np.sqrt(3)/2,np.sqrt(3)/2],[1/2,1/2],'b')\n",
    "        ax.plot([0,-np.sqrt(3)/2],[-1,1/2],'b')\n",
    "        ax.plot([0,np.sqrt(3)/2],[-1,1/2],'b')\n",
    "        ax.text(np.sqrt(3)/2+0.01, 1/2+0.02, 'state C', fontsize=12)\n",
    "        ax.text(-np.sqrt(3)/2-0.14, 1/2+0.02, 'state B', fontsize=12)\n",
    "        ax.text(-0.045, -1-0.1, 'state A', fontsize=12)\n",
    "        \n",
    "        D = 1.2 #the displacement size of the plot\n",
    "        ax.axis([-D, D, -D, D])\n",
    "        #axis.xlabel(\"m_3\",fontsize=16)\n",
    "        #axis.ylabel(\"m_8\",fontsize=16)\n",
    "\n",
    "    def plot_m_n(self,m,n,ax,text):\n",
    "        ax.plot(m,n,label = text)\n",
    "        ax.legend()"
   ]
  },
  {
   "cell_type": "code",
   "execution_count": null,
   "metadata": {},
   "outputs": [],
   "source": []
  },
  {
   "cell_type": "code",
   "execution_count": null,
   "metadata": {},
   "outputs": [],
   "source": []
  }
 ],
 "metadata": {
  "kernelspec": {
   "display_name": "Python 3",
   "language": "python",
   "name": "python3"
  },
  "language_info": {
   "codemirror_mode": {
    "name": "ipython",
    "version": 3
   },
   "file_extension": ".py",
   "mimetype": "text/x-python",
   "name": "python",
   "nbconvert_exporter": "python",
   "pygments_lexer": "ipython3",
   "version": "3.7.3"
  }
 },
 "nbformat": 4,
 "nbformat_minor": 2
}
