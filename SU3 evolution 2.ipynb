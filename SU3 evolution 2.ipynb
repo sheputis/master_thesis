{
 "cells": [
  {
   "cell_type": "code",
   "execution_count": 1,
   "metadata": {},
   "outputs": [],
   "source": [
    "#imorting dependencies\n",
    "import numpy as np\n",
    "import sympy as sp\n",
    "from sympy.utilities.lambdify import lambdify\n",
    "from sympy.physics.quantum.dagger import Dagger\n"
   ]
  },
  {
   "cell_type": "code",
   "execution_count": 14,
   "metadata": {},
   "outputs": [],
   "source": [
    "class variables:\n",
    "    def __init__(self):\n",
    "        self.gen_variables()\n",
    "        self.gen_H()\n",
    "        self.H_scaled = self.normalize(self.H) #here we decide which hamiltonian will get generated\n",
    "        self.G_scaled = self.normalize(self.G)\n",
    "        \n",
    "    def gen_variables(self):   \n",
    "        self.E_c    = sp.Symbol(\"E_c\")\n",
    "        self.E_b    = sp.Symbol(\"E_b\")\n",
    "        self.E_a    = sp.Symbol(\"E_a\")\n",
    "\n",
    "        self.h      = sp.Symbol(\"h\")\n",
    "        self.Om_cb  = sp.Symbol(\"\\Omega_{cb}\")\n",
    "        self.Om_ba  = sp.Symbol(\"\\Omega_{ba}\")\n",
    "        self.V_cb   = self.h*self.Om_cb/2\n",
    "        self.V_ba   = self.h*self.Om_ba/2\n",
    "        self.om_cb  = sp.Symbol(\"\\omega_{L'}\")\n",
    "        self.om_ba  = sp.Symbol(\"\\omega_{L}\")\n",
    "        self.I      = sp.Symbol(\"I\")\n",
    "        self.t      = sp.Symbol(\"t\")\n",
    "        self.e_cb_lower   = sp.exp(self.I*self.om_cb*self.t)\n",
    "        self.e_cb_upper   = sp.exp(-self.I*self.om_cb*self.t)\n",
    "        self.e_ba_lower   = sp.exp(self.I*self.om_ba*self.t)\n",
    "        self.e_ba_upper   = sp.exp(-self.I*self.om_ba*self.t)\n",
    "        \n",
    "        self.d_cb   = sp.Symbol(\"\\delta_{CB}\")\n",
    "        self.d_ba   = sp.Symbol(\"\\delta_{BA}\")\n",
    "        \n",
    "        self.n_3_   = self.h*self.om_cb/2\n",
    "        self.n_8_   = (self.h/sp.sqrt(3))*(self.om_ba+self.om_cb/2)\n",
    "\n",
    "        self.values = [(self.E_c,5/3),(self.E_b,2/3),(self.E_a,-(7/3)),(self.h,1),(self.d_cb,0),(self.d_ba,0),(self.Om_cb,0.05),(self.Om_ba,0.2),(self.om_cb,1.1),(self.om_ba,3),(self.I,1j)]\n",
    "        \n",
    "    def gen_H(self):\n",
    "        self.H_A =sp.Matrix([\n",
    "            [self.E_c,0,0],\n",
    "            [0,self.E_b,0],\n",
    "            [0,0,self.E_a]\n",
    "        ])\n",
    "\n",
    "        self.V_1 =self.V_cb*sp.Matrix([\n",
    "            [0,              self.e_cb_upper,0],\n",
    "            [self.e_cb_lower,0              ,0],\n",
    "            [0,              0              ,0]\n",
    "        ])\n",
    "        self.V_2 =self.V_ba*sp.Matrix([\n",
    "            [0, 0,                      0],\n",
    "            [0,0         ,self.e_ba_upper],\n",
    "            [0,self.e_ba_lower         ,0]\n",
    "        ])\n",
    "        \n",
    "        self.lambda_3 = sp.Matrix([\n",
    "            [1, 0, 0],\n",
    "            [0,-1 ,0],\n",
    "            [0, 0 ,0]\n",
    "        ])\n",
    "        self.lambda_8 = (1/sp.sqrt(3))*sp.Matrix([\n",
    "            [1, 0 , 0],\n",
    "            [0, 1 , 0],\n",
    "            [0, 0 ,-2]\n",
    "        ])\n",
    "        self.lambda_1 = sp.Matrix([\n",
    "            [0, 1 , 0],\n",
    "            [1, 0 , 0],\n",
    "            [0, 0 , 0]\n",
    "        ])\n",
    "        self.lambda_6 = sp.Matrix([\n",
    "            [0, 0 , 0],\n",
    "            [0, 0 , 1],\n",
    "            [0, 1 , 0]\n",
    "        ])\n",
    "        self.G = (self.n_3_*self.lambda_3 + self.n_8_*self.lambda_8)\n",
    "        self.H = (self.d_cb*self.lambda_3 + (1/sp.sqrt(3))*(2*self.d_ba+self.d_cb)*self.lambda_8+self.Om_cb*self.lambda_1+self.Om_ba*self.lambda_6)\n",
    "    def Trace(self,H):\n",
    "        s=0\n",
    "        for i in range(H.shape[0]):\n",
    "            s+=H[i,i]\n",
    "        return s\n",
    "    def normalize(self,H): #normalizing some input hamiltonian\n",
    "        a=self.Trace(H*H)\n",
    "        scale = sp.sqrt(a/2)\n",
    "        H_scaled = H/scale\n",
    "        return H_scaled"
   ]
  },
  {
   "cell_type": "code",
   "execution_count": 3,
   "metadata": {},
   "outputs": [],
   "source": [
    "\n",
    "class SU_3:\n",
    "    def __init__(self): #only valid for 3 dim\n",
    "        #following is valid if the determinant of the generator does not vary\n",
    "        #self.phi = self.det_to_phi(sp.det(H_sample))\n",
    "        #generating coefficients:\n",
    "        #self.C_1,self.C_2,self.C_3 = self.gen_coefficients(self.phi)\n",
    "        #one extra thing: the unitary matrix:\n",
    "        self.Identity =  sp.eye(3)\n",
    "        \n",
    "    def det_to_phi(self,H_det):\n",
    "        phi  = sp.Symbol(\"\\phi\")\n",
    "        res  = sp.solvers.solve((2/(3*sp.sqrt(3)))*sp.sin(3*phi)+H_det,phi)\n",
    "        return min(res)\n",
    "    \n",
    "    def outside_brackets(self,phi,k): # used in self.gen_coefficients(phi)\n",
    "        out_bra_u = (sp.exp((2/sp.sqrt(3))*1j*sp.Symbol(\"t\")*(sp.sin(phi+(2*sp.pi*k)/3)))).evalf()\n",
    "        out_bra_l = (1 - 2*sp.cos(2*(phi+(2*sp.pi*k)/3))).evalf()\n",
    "        out_bra   = out_bra_u/out_bra_l\n",
    "        return out_bra     \n",
    "    \n",
    "    def gen_coefficients(self,phi):\n",
    "        C_1,C_2,C_3 = 0,0,0\n",
    "        for k in range(3):\n",
    "            out_bra = self.outside_brackets(phi,k)\n",
    "            C_1+=out_bra\n",
    "            C_2+=(2/sp.sqrt(3))*(sp.sin(phi+(2*sp.pi*k)/3))*out_bra\n",
    "            C_3+=-(1/3)*(1+2*sp.cos(2*(phi+(2*sp.pi*k)/3)))*out_bra #sp.eye((self.H).shape[0])\n",
    "        return C_1.evalf(),C_2.evalf(),C_3.evalf()\n",
    "\n",
    "    def gen_unitary_m(self,H): #input H/h must be evaluated already (no t dependence)\n",
    "        phi = self.det_to_phi(sp.det(H))\n",
    "        C_1,C_2,C_3 = self.gen_coefficients(phi)\n",
    "        return H*H*C_1+H*C_2+self.Identity*C_3\n",
    "\n",
    "\n"
   ]
  },
  {
   "cell_type": "code",
   "execution_count": 4,
   "metadata": {},
   "outputs": [],
   "source": [
    "import matplotlib.pyplot as plt\n",
    "class m_vectors:\n",
    "    def __init__(self,RHO_EVOL):\n",
    "        self.RHO_EVOL = RHO_EVOL\n",
    "        self.gen_rho_el()\n",
    "        self.m_l = self.gen_m()\n",
    "    def gen_rho_el(self):\n",
    "        self.rho_l =[\n",
    "            [],\n",
    "            [],\n",
    "            [],\n",
    "            [],\n",
    "            [],\n",
    "            [],\n",
    "            [],\n",
    "            [],\n",
    "            [],\n",
    "        ]\n",
    "        for mat in self.RHO_EVOL:\n",
    "            self.rho_l[0].append(complex(mat[0][0]))\n",
    "            self.rho_l[1].append(complex(mat[0][1]))\n",
    "            self.rho_l[2].append(complex(mat[0][2]))\n",
    "            self.rho_l[3].append(complex(mat[1][0]))\n",
    "            self.rho_l[4].append(complex(mat[1][1]))\n",
    "            self.rho_l[5].append(complex(mat[1][2]))\n",
    "            self.rho_l[6].append(complex(mat[2][0]))\n",
    "            self.rho_l[7].append(complex(mat[2][1]))\n",
    "            self.rho_l[8].append(complex(mat[2][2]))\n",
    "        self.rho_l = [np.array(el) for el in self.rho_l]\n",
    "    def gen_m(self):\n",
    "        arr = []\n",
    "        arr.append(np.sqrt(3)*np.real(self.rho_l[1]))\n",
    "        arr.append(np.sqrt(3)*np.imag(self.rho_l[1]))\n",
    "        arr.append((1/(2*np.sqrt(3)))*np.real(self.rho_l[0]-self.rho_l[4]))\n",
    "        arr.append(np.sqrt(3)*np.real(self.rho_l[2]))\n",
    "        arr.append(np.sqrt(3)*np.imag(self.rho_l[2]))\n",
    "        arr.append(np.sqrt(3)*np.real(self.rho_l[5]))\n",
    "        arr.append(np.sqrt(3)*np.imag(self.rho_l[5]))\n",
    "        arr.append((1/2)*(1-3*np.real(self.rho_l[8])))\n",
    "        return arr"
   ]
  },
  {
   "cell_type": "code",
   "execution_count": 12,
   "metadata": {},
   "outputs": [],
   "source": [
    "class plotting_m:\n",
    "    def __init__(self,m_l):\n",
    "        self.m_l = m_l\n",
    "\n",
    "    def plot_cartan(self):\n",
    "        plt.figure(figsize=[10, 10])\n",
    "        plt.plot(self.m_l[2],self.m_l[7],'g:')\n",
    "        plt.plot([-1./(2*np.sqrt(3)),1./(2*np.sqrt(3))],[1/2,1/2],'b')\n",
    "        plt.plot([0,-1/(2*np.sqrt(3))],[-1,1/2],'b')\n",
    "        plt.plot([0,1/(2*np.sqrt(3))],[-1,1/2],'b')\n",
    "        plt.text(1./(2*np.sqrt(3))+0.01, 1/2, 'state C', fontsize=12)\n",
    "        plt.text(-1./(2*np.sqrt(3))-0.14, 1/2, 'state B', fontsize=12)\n",
    "        plt.text(-0.045, -1-0.1, 'state A', fontsize=12)\n",
    "        D = 0 #the displacement size of the plot\n",
    "        plt.axis([-1/2-D, 1/2+D, -1.2-D, 2/3+D])\n",
    "        plt.xlabel(\"m_3\",fontsize=16)\n",
    "        plt.ylabel(\"m_8\",fontsize=16)\n",
    "        plt.title(\"Evolution of a 3-level quantum system\",fontsize=16)\n",
    "        plt.show()\n",
    "    def plot_1_2(self):\n",
    "        plt.figure(figsize=[10, 10])\n",
    "        plt.plot(self.m_l[0],self.m_l[1],'g:')\n",
    "        plt.axis([-2, 2, -2, 2])\n",
    "        \"\"\"plt.plot([-1./(2*np.sqrt(3)),1./(2*np.sqrt(3))],[1/2,1/2],'b')\n",
    "        plt.plot([0,-1/(2*np.sqrt(3))],[-1,1/2],'b')\n",
    "        plt.plot([0,1/(2*np.sqrt(3))],[-1,1/2],'b')\n",
    "        plt.text(1./(2*np.sqrt(3))+0.01, 1/2, 'state C', fontsize=12)\n",
    "        plt.text(-1./(2*np.sqrt(3))-0.14, 1/2, 'state B', fontsize=12)\n",
    "        plt.text(-0.045, -1-0.1, 'state A', fontsize=12)\n",
    "        D = 0.0 #the displacement size of the plot\n",
    "        \n",
    "        plt.xlabel(\"m_3\",fontsize=16)\n",
    "        plt.ylabel(\"m_8\",fontsize=16)\n",
    "        plt.title(\"Evolution of a 3-level quantum system\",fontsize=16)\"\"\"\n",
    "        plt.show()\n",
    "    def plot_4_5(self):\n",
    "        plt.figure(figsize=[10, 10])\n",
    "        plt.plot(self.m_l[3],self.m_l[4],'g:')\n",
    "        plt.axis([-2, 2, -2, 2])\n",
    "        plt.show()\n",
    "    def plot_6_7(self):\n",
    "        plt.figure(figsize=[10, 10])\n",
    "        plt.plot(self.m_l[5],self.m_l[6],'g:')\n",
    "        plt.axis([-2, 2, -2, 2])\n",
    "        plt.show()\n"
   ]
  },
  {
   "cell_type": "code",
   "execution_count": 15,
   "metadata": {},
   "outputs": [
    {
     "data": {
      "image/png": "[encoded data removed]",
      "text/plain": [
       "<Figure size 720x720 with 1 Axes>"
      ]
     },
     "metadata": {
      "needs_background": "light"
     },
     "output_type": "display_data"
    },
    {
     "data": {
      "image/png": "[encoded data removed]",
      "text/plain": [
       "<Figure size 720x720 with 1 Axes>"
      ]
     },
     "metadata": {
      "needs_background": "light"
     },
     "output_type": "display_data"
    },
    {
     "data": {
      "image/png": "[encoded data removed]",
      "text/plain": [
       "<Figure size 720x720 with 1 Axes>"
      ]
     },
     "metadata": {
      "needs_background": "light"
     },
     "output_type": "display_data"
    },
    {
     "data": {
      "image/png": "[encoded data removed]",
      "text/plain": [
       "<Figure size 720x720 with 1 Axes>"
      ]
     },
     "metadata": {
      "needs_background": "light"
     },
     "output_type": "display_data"
    }
   ],
   "source": [
    "def gen_rho_0():\n",
    "    rho = sp.Matrix([\n",
    "        [0,0,0],\n",
    "        [0,1,0],\n",
    "        [0,0,0]\n",
    "    ])\n",
    "    return rho\n",
    "\n",
    "def transform2(U,T):\n",
    "    U_dagg = Dagger(U)\n",
    "    T_dagg = Dagger(T)\n",
    "    rho_evol = T_dagg*U*rho*U_dagg*T\n",
    "    return np.array(rho_evol)\n",
    "\n",
    "def transform(U):\n",
    "    U_dagg = Dagger(U)\n",
    "    rho_evol = U*rho*U_dagg\n",
    "    return np.array(rho_evol)\n",
    "\n",
    "def run():\n",
    "    objects = variables()\n",
    "    H_scaled = objects.H_scaled.subs(objects.values)\n",
    "    G_scaled = objects.G_scaled.subs(objects.values)\n",
    "    \n",
    "    \n",
    "    matrix_to_unitary = SU_3()\n",
    "    U = matrix_to_unitary.gen_unitary_m(H_scaled)\n",
    "    T = matrix_to_unitary.gen_unitary_m(G_scaled)\n",
    "    \n",
    "    U_fun =  lambdify(sp.Symbol(\"t\"),U)\n",
    "    T_fun =  lambdify(sp.Symbol(\"t\"),T)\n",
    "    \n",
    "    \n",
    "    t = np.linspace(0,12,100)\n",
    "    U_list  = [sp.Matrix(U_fun(t_)) for t_ in t]\n",
    "    T_list  = [sp.Matrix(T_fun(t_)) for t_ in t]\n",
    "    \n",
    "    #generates the evolution of rho:\n",
    "    #rho = gen_rho_0()\n",
    "    #RHO_EVOL = list(map(transform2,U_list,T_list))\n",
    "    RHO_EVOL = list(map(transform,U_list))\n",
    "    \n",
    "    #for plotting\n",
    "    m_inst = m_vectors(RHO_EVOL)\n",
    "    m_l = m_inst.m_l\n",
    "    plotting = plotting_m(m_l)\n",
    "    plotting.plot_cartan()\n",
    "    plotting.plot_1_2()\n",
    "    plotting.plot_4_5()\n",
    "    plotting.plot_6_7()\n",
    "rho = gen_rho_0()\n",
    "run()"
   ]
  },
  {
   "cell_type": "code",
   "execution_count": 50,
   "metadata": {},
   "outputs": [
    {
     "data": {
      "text/latex": [
       "$\\displaystyle \\left[\\begin{matrix}0.816798707332489 & 0 & 0\\\\0 & 0.298445681525332 & 0\\\\0 & 0 & -1.11524438885782\\end{matrix}\\right]$"
      ],
      "text/plain": [
       "Matrix([\n",
       "[0.816798707332489,                 0,                 0],\n",
       "[                0, 0.298445681525332,                 0],\n",
       "[                0,                 0, -1.11524438885782]])"
      ]
     },
     "execution_count": 50,
     "metadata": {},
     "output_type": "execute_result"
    }
   ],
   "source": [
    "objects = variables()\n",
    "H_scaled = objects.G_scaled\n",
    "#H_A_scaled = H_scaled.subs(objects.values)\n",
    "H_scaled = H_scaled.subs(objects.values)\n",
    "H_scaled\n",
    "#H_A_scaled_intg = sp.integrate(H_A_scaled,(sp.Symbol(\"t\"),0,sp.Symbol(\"t^{'}\")))\n",
    "#print(\"this value must be time independent\")\n",
    "#print(sp.det(H_A_scaled))\n",
    "#sp.det(H_A_scaled_intg)\n"
   ]
  },
  {
   "cell_type": "code",
   "execution_count": 51,
   "metadata": {},
   "outputs": [],
   "source": [
    "#creating the instance with which we generate the unitary matrix\n",
    "\n",
    "H_to_U=SU_3()\n",
    "U = H_to_U.gen_unitary_m(H_scaled)\n",
    "U_fun =  lambdify(sp.Symbol(\"t\"),U)\n",
    "\n",
    "#H_A_scaled_intg_fun = lambdify(sp.Symbol(\"t\"),H_scaled)\n",
    "\n",
    "t = np.linspace(0,10,100)\n",
    "U_list  = [U_fun(t_) for t_ in t]"
   ]
  },
  {
   "cell_type": "code",
   "execution_count": 62,
   "metadata": {},
   "outputs": [
    {
     "name": "stdout",
     "output_type": "stream",
     "text": [
      "[[0 1 0]\n",
      " [1 0 0]\n",
      " [0 0 0]]\n",
      "[[0.67852083+0.73458117j 0.        +0.j         0.        +0.j        ]\n",
      " [0.        +0.j         0.95490393+0.29691495j 0.        +0.j        ]\n",
      " [0.        +0.j         0.        +0.j         0.42981407-0.90291742j]]\n"
     ]
    }
   ],
   "source": [
    "rho = np.array([\n",
    "    [0,1,0],\n",
    "    [1,0,0],\n",
    "    [0,0,0]\n",
    "])\n",
    "def transform(U):\n",
    "    U_dagg = Dagger(U)\n",
    "    rho_evol = U*rho*U_dagg\n",
    "    return np.array(rho_evol)\n",
    "RHO_EVOL = list(map(transform,U_list))\n",
    "u = U_list[10]\n",
    "u_dagg = Dagger(u)\n",
    "print(rho)\n",
    "print(u)"
   ]
  },
  {
   "cell_type": "code",
   "execution_count": 11,
   "metadata": {},
   "outputs": [],
   "source": [
    "\n",
    "m_inst = m_vectors(RHO_EVOL)\n",
    "\n",
    "m_l = m_inst.m_l\n",
    "\n",
    "plotting_m()"
   ]
  },
  {
   "cell_type": "code",
   "execution_count": null,
   "metadata": {},
   "outputs": [],
   "source": []
  }
 ],
 "metadata": {
  "kernelspec": {
   "display_name": "Python 3",
   "language": "python",
   "name": "python3"
  },
  "language_info": {
   "codemirror_mode": {
    "name": "ipython",
    "version": 3
   },
   "file_extension": ".py",
   "mimetype": "text/x-python",
   "name": "python",
   "nbconvert_exporter": "python",
   "pygments_lexer": "ipython3",
   "version": "3.7.3"
  }
 },
 "nbformat": 4,
 "nbformat_minor": 2
}
