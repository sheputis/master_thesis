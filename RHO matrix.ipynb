{
 "cells": [
  {
   "cell_type": "code",
   "execution_count": 1,
   "metadata": {},
   "outputs": [],
   "source": [
    "import numpy as np\n",
    "import sympy as sp\n",
    "from sympy.utilities.lambdify import lambdify\n",
    "from IPython.display import display\n",
    "import matplotlib.pyplot as plt"
   ]
  },
  {
   "cell_type": "code",
   "execution_count": 2,
   "metadata": {},
   "outputs": [],
   "source": [
    "I = lambda_0 = sp.Matrix([\n",
    "        [1,0,0],\n",
    "        [0,1,0],\n",
    "        [0,0,1]\n",
    "    ])\n",
    "lambda_1 = sp.Matrix([\n",
    "        [0,1,0],\n",
    "        [1,0,0],\n",
    "        [0,0,0]\n",
    "    ])\n",
    "lambda_2 = sp.Matrix([\n",
    "        [0,-1j,0],\n",
    "        [1j,0,0],\n",
    "        [0,0,0]\n",
    "    ])\n",
    "lambda_3 = sp.Matrix([\n",
    "        [1,0,0],\n",
    "        [0,-1,0],\n",
    "        [0,0,0]\n",
    "    ])\n",
    "lambda_4 = sp.Matrix([\n",
    "        [0,0,1],\n",
    "        [0,0,0],\n",
    "        [1,0,0]\n",
    "    ])\n",
    "lambda_5 = sp.Matrix([\n",
    "        [0,0,-1j],\n",
    "        [0,0,0],\n",
    "        [1j,0,0]\n",
    "    ])\n",
    "lambda_6 = sp.Matrix([\n",
    "        [0,0,0],\n",
    "        [0,0,1],\n",
    "        [0,1,0]\n",
    "    ])\n",
    "lambda_7 = sp.Matrix([\n",
    "        [0,0,0],\n",
    "        [0,0,-1j],\n",
    "        [0,1j,0]\n",
    "    ])\n",
    "lambda_8 = (1/sp.sqrt(3))*sp.Matrix([\n",
    "        [1,0,0],\n",
    "        [0,1,0],\n",
    "        [0,0,-2]\n",
    "    ])\n",
    "m_1 = sp.Symbol(\"m_1\")\n",
    "m_2 = sp.Symbol(\"m_2\")\n",
    "m_3 = sp.Symbol(\"m_3\")\n",
    "m_4 = sp.Symbol(\"m_4\")\n",
    "m_5 = sp.Symbol(\"m_5\")\n",
    "m_6 = sp.Symbol(\"m_6\")\n",
    "m_7 = sp.Symbol(\"m_7\")\n",
    "m_8 = sp.Symbol(\"m_8\")\n",
    "\n",
    "n_1 = sp.Symbol(\"n_1\")\n",
    "n_2 = sp.Symbol(\"n_2\")\n",
    "n_3 = sp.Symbol(\"n_3\")\n",
    "n_4 = sp.Symbol(\"n_4\")\n",
    "n_5 = sp.Symbol(\"n_5\")\n",
    "n_6 = sp.Symbol(\"n_6\")\n",
    "n_7 = sp.Symbol(\"n_7\")\n",
    "n_8 = sp.Symbol(\"n_8\")\n",
    "\n",
    "l_1=sp.Symbol(\"\\lambda_1\",commutative=False)\n",
    "l_2=sp.Symbol(\"\\lambda_2\",commutative=False)\n",
    "l_3=sp.Symbol(\"\\lambda_3\",commutative=False)\n",
    "l_4=sp.Symbol(\"\\lambda_4\",commutative=False)\n",
    "l_5=sp.Symbol(\"\\lambda_5\",commutative=False)\n",
    "l_6=sp.Symbol(\"\\lambda_6\",commutative=False)\n",
    "l_7=sp.Symbol(\"\\lambda_7\",commutative=False)\n",
    "l_8=sp.Symbol(\"\\lambda_8\",commutative=False)"
   ]
  },
  {
   "cell_type": "code",
   "execution_count": 3,
   "metadata": {},
   "outputs": [
    {
     "data": {
      "text/latex": [
       "$\\displaystyle \\left[\\begin{matrix}2.0 i & 0 & 0\\\\0 & 0 & 0\\\\0 & 0 & - 2.0 i\\end{matrix}\\right]$"
      ],
      "text/plain": [
       "Matrix([\n",
       "[2.0*I, 0,      0],\n",
       "[    0, 0,      0],\n",
       "[    0, 0, -2.0*I]])"
      ]
     },
     "execution_count": 3,
     "metadata": {},
     "output_type": "execute_result"
    }
   ],
   "source": [
    "def comm(A,B):\n",
    "    return (A*B-B*A)\n",
    "comm(lambda_4,lambda_5)\n"
   ]
  },
  {
   "cell_type": "code",
   "execution_count": null,
   "metadata": {},
   "outputs": [],
   "source": []
  },
  {
   "cell_type": "code",
   "execution_count": 4,
   "metadata": {},
   "outputs": [
    {
     "name": "stdout",
     "output_type": "stream",
     "text": [
      "writing out the permutations and parities\n",
      "{'perm': (0, 1, 2), 'parity': 1}\n",
      "{'perm': (0, 2, 1), 'parity': -1}\n",
      "{'perm': (1, 0, 2), 'parity': -1}\n",
      "{'perm': (1, 2, 0), 'parity': 1}\n",
      "{'perm': (2, 0, 1), 'parity': 1}\n",
      "{'perm': (2, 1, 0), 'parity': -1}\n"
     ]
    }
   ],
   "source": [
    "#generating the tensors\n",
    "import itertools\n",
    "\n",
    "def parity(new,old,sym=False): # returns the parity, 1 if even, -1 if odd\n",
    "    if sym == False:\n",
    "        for i in np.arange(len(new)):\n",
    "            if new[0] == old[0] and new[1] == old[1] and new[2] == old[2]:\n",
    "                return 1\n",
    "            old = old[1:] + old[:1]\n",
    "        return -1\n",
    "    else:\n",
    "        return 1\n",
    "def gen_perm_objects(perm_list,original,sym=False):\n",
    "    perm_objects = []\n",
    "    for perm_el in perm_list:\n",
    "        perm_objects.append({'perm':perm_el,'parity':parity(perm_el,original,sym)})\n",
    "    return perm_objects\n",
    "\n",
    "listA = [0, 1, 2]\n",
    "perm = itertools.permutations(listA)\n",
    "\n",
    "obj_list = gen_perm_objects(perm,listA)\n",
    "print(\"writing out the permutations and parities\")\n",
    "for obj in obj_list:\n",
    "    print(obj)\n",
    "\n",
    "M = np.zeros((3,3,3))\n",
    "def make_eps(obj_list):\n",
    "    M = np.zeros((3,3,3))\n",
    "    for obj in obj_list:\n",
    "        perm = obj['perm']\n",
    "        i,j,k = perm[0],perm[1],perm[2]\n",
    "        M[i][j][k] =1* obj['parity']\n",
    "    return M\n",
    "\n",
    "M = make_eps(obj_list)\n",
    "\n",
    "def gen_f():\n",
    "    a = []\n",
    "    half = sp.sympify(1)/sp.sympify(2)\n",
    "    a.append({'ind':[0,1,2],'num':sp.sympify(1)})\n",
    "    a.append({'ind':[3,4,7],'num':sp.sqrt(3)/2})\n",
    "    a.append({'ind':[5,6,7],'num':sp.sqrt(3)/2})\n",
    "    a.append({'ind':[0,3,6],'num':half})\n",
    "    a.append({'ind':[1,3,5],'num':half})\n",
    "    a.append({'ind':[1,4,6],'num':half})\n",
    "    a.append({'ind':[2,3,4],'num':half})\n",
    "    a.append({'ind':[4,0,5],'num':half})\n",
    "    a.append({'ind':[5,2,6],'num':half})\n",
    "    return a\n",
    "def gen_d():\n",
    "    a = []\n",
    "    half = sp.sympify(1)/sp.sympify(2)\n",
    "    inv_sq_r_3 = sp.sympify(1)/sp.sqrt(sp.sympify(3))\n",
    "    a.append({'ind':[0,0,7],'num':inv_sq_r_3})\n",
    "    a.append({'ind':[1,1,7],'num':inv_sq_r_3})\n",
    "    a.append({'ind':[2,2,7],'num':inv_sq_r_3})\n",
    "    a.append({'ind':[7,7,7],'num':-inv_sq_r_3})\n",
    "    a.append({'ind':[0,3,5],'num':half})\n",
    "    a.append({'ind':[0,4,6],'num':half})\n",
    "    a.append({'ind':[1,3,6],'num':-half})\n",
    "    a.append({'ind':[1,4,5],'num':half})\n",
    "    a.append({'ind':[2,3,3],'num':half})\n",
    "    a.append({'ind':[2,4,4],'num':half})\n",
    "    a.append({'ind':[2,5,5],'num':-half})\n",
    "    a.append({'ind':[2,6,6],'num':-half})\n",
    "    a.append({'ind':[3,3,7],'num':-half*inv_sq_r_3})\n",
    "    a.append({'ind':[4,4,7],'num':-half*inv_sq_r_3})\n",
    "    a.append({'ind':[5,5,7],'num':-half*inv_sq_r_3})\n",
    "    a.append({'ind':[6,6,7],'num':-half*inv_sq_r_3})\n",
    "    return a\n",
    "\n",
    "def fill_up_once(obj_list,M,numm):\n",
    "    for obj in obj_list:\n",
    "        perm = obj['perm']\n",
    "        i,j,k = perm[0],perm[1],perm[2]\n",
    "        M[i][j][k] =sp.sympify(numm * sp.sympify(obj['parity'],evaluate=False),evaluate=False)\n",
    "    return M\n",
    "def gen_tensor(component_list,sym=False):\n",
    "    f_list = component_list\n",
    "    M = np.full((8,8,8),sp.sympify(0))\n",
    "    for f in f_list:\n",
    "        perm = itertools.permutations(f['ind'])\n",
    "        obj_list = gen_perm_objects(perm,f['ind'],sym)\n",
    "        M=fill_up_once(obj_list,M,f['num'])\n",
    "    return M\n",
    "f = gen_tensor(gen_f())\n",
    "d = gen_tensor(gen_d(),True)\n",
    "\n",
    "def delta(i,j):\n",
    "    if i==j:\n",
    "        return 1\n",
    "    else:\n",
    "        return 0"
   ]
  },
  {
   "cell_type": "code",
   "execution_count": 5,
   "metadata": {},
   "outputs": [
    {
     "data": {
      "text/latex": [
       "$\\displaystyle \\frac{2}{3} + \\frac{\\sqrt{3} \\lambda_8}{3}$"
      ],
      "text/plain": [
       "2/3 + sqrt(3)*\\lambda_8/3"
      ]
     },
     "execution_count": 5,
     "metadata": {},
     "output_type": "execute_result"
    }
   ],
   "source": [
    "#creating a function multiplying two lambdas:\n",
    "def lamb_mul(lam1,lam2):\n",
    "    lam_dict = {1:l_1,2:l_2,3:l_3,4:l_4,5:l_5,6:l_6,7:l_7,8:l_8}\n",
    "    if (not lam1 in lam_dict.values()) or (not lam2 in lam_dict.values()):\n",
    "        raise Exception('the input in lamb_mul() function is invalid, should be a gell-mann matrix(well the sympy object of it)')\n",
    "    \n",
    "    key_1 = list(lam_dict.keys())[list(lam_dict.values()).index(lam1)] #finding the number of the gell man matrices\n",
    "    key_2 = list(lam_dict.keys())[list(lam_dict.values()).index(lam2)]\n",
    "    \n",
    "    #l_j l_k = 2/3 delta_j_k + d_j_k_l l_l + i f_j_k_l l_l\n",
    "    first_term = (sp.sympify(2)/sp.sympify(3))*delta(key_1,key_2)\n",
    "    second_term = sum([value*lam_dict[i+1] for i,value in enumerate(d[key_1-1][key_2-1])])\n",
    "    third_term = sp.I*sum([value*lam_dict[i+1] for i,value in enumerate(f[key_1-1][key_2-1])])\n",
    "    return first_term+second_term+third_term\n",
    "\n",
    "lamb_mul(l_2,l_2) #test\n"
   ]
  },
  {
   "cell_type": "code",
   "execution_count": 6,
   "metadata": {},
   "outputs": [
    {
     "data": {
      "text/latex": [
       "$\\displaystyle \\frac{\\lambda_4}{2} + \\frac{i \\lambda_5}{2}$"
      ],
      "text/plain": [
       "\\lambda_4/2 + I*\\lambda_5/2"
      ]
     },
     "metadata": {},
     "output_type": "display_data"
    },
    {
     "data": {
      "text/latex": [
       "$\\displaystyle \\frac{\\lambda_4}{2} - \\frac{i \\lambda_5}{2}$"
      ],
      "text/plain": [
       "\\lambda_4/2 - I*\\lambda_5/2"
      ]
     },
     "metadata": {},
     "output_type": "display_data"
    },
    {
     "data": {
      "text/latex": [
       "$\\displaystyle \\lambda_4$"
      ],
      "text/plain": [
       "\\lambda_4"
      ]
     },
     "execution_count": 6,
     "metadata": {},
     "output_type": "execute_result"
    }
   ],
   "source": [
    "display(lamb_mul(l_1,l_6))\n",
    "display(lamb_mul(l_6,l_1))\n",
    "sp.simplify(lamb_mul(l_1,l_6)+lamb_mul(l_6,l_1))"
   ]
  },
  {
   "cell_type": "code",
   "execution_count": null,
   "metadata": {},
   "outputs": [],
   "source": []
  },
  {
   "cell_type": "code",
   "execution_count": null,
   "metadata": {},
   "outputs": [],
   "source": []
  },
  {
   "cell_type": "code",
   "execution_count": null,
   "metadata": {},
   "outputs": [],
   "source": []
  },
  {
   "cell_type": "code",
   "execution_count": 7,
   "metadata": {
    "scrolled": true
   },
   "outputs": [],
   "source": [
    "\n",
    "\n",
    "def check_term(term):\n",
    "    lam_args=[]\n",
    "    lam_dict = {1:l_1,2:l_2,3:l_3,4:l_4,5:l_5,6:l_6,7:l_7,8:l_8}\n",
    "    if term.func == sp.Mul:\n",
    "        args = term.args\n",
    "        for arg in args:\n",
    "            if arg.is_Symbol and arg in lam_dict.values():\n",
    "                lam_args.append(arg)\n",
    "            if arg.is_Pow and arg.args[0] in lam_dict.values():\n",
    "                for i in range(arg.args[1]):\n",
    "                    lam_args.append(arg.args[0])\n",
    "    if len(lam_args)>1:\n",
    "        lie_prod = lamb_mul(lam_args[0],lam_args[1])\n",
    "        if len(lam_args)>2:\n",
    "            for i in range(2,len(lam_args)):\n",
    "                lie_prod=lie_prod*lam_args[i]\n",
    "            return term.subs(np.array(lam_args).prod(),lie_prod)\n",
    "        else:\n",
    "            return term.subs(np.array(lam_args).prod(),lie_prod)\n",
    "            \n",
    "    else:\n",
    "        \n",
    "        return term\n",
    "\n",
    "\n",
    "def check_expr(expr):\n",
    "    new_expr = sp.sympify(0)\n",
    "    for term in expr.args:\n",
    "        new_expr += check_term(term)\n",
    "    \n",
    "    return new_expr.expand()\n",
    "\n",
    "\n",
    "\n"
   ]
  },
  {
   "cell_type": "code",
   "execution_count": 8,
   "metadata": {},
   "outputs": [],
   "source": [
    "\n",
    "# the functioning function that takes an expression and simplifies, needs to be used a few times to simplify completely\n",
    "class check_term_2_class:\n",
    "    def __init__(self):\n",
    "        self.lam_dict = {1:l_1,2:l_2,3:l_3,4:l_4,5:l_5,6:l_6,7:l_7,8:l_8}\n",
    "        self.lam_args = []\n",
    "        \n",
    "    def check_term_2(self,term):\n",
    "        Type = term.func\n",
    "        if Type == sp.Mul:\n",
    "            for arg in term.args:\n",
    "                self.check_term_2(arg)\n",
    "        elif Type == sp.Pow and term.args[0] in self.lam_dict.values():\n",
    "            for times in range(term.args[1]):\n",
    "                self.lam_args.append(term.args[0])\n",
    "        elif Type == sp.Symbol and term in self.lam_dict.values():\n",
    "            self.lam_args.append(term)\n",
    "            \n",
    "    def check_expr(self,expr):\n",
    "        \n",
    "        new_expr = sp.sympify(0)\n",
    "        if expr.func == sp.Add:\n",
    "            for term in expr.args:\n",
    "                self.lam_args = []\n",
    "                self.check_term_2(term)\n",
    "                try:\n",
    "                    new_expr += term.subs(np.array(self.lam_args)[:2].prod(),lamb_mul(self.lam_args[0],self.lam_args[1]))\n",
    "                except:  \n",
    "                    #print(\"did not do the multiplication\")\n",
    "                    new_expr += term\n",
    "            return new_expr\n",
    "\n",
    "        elif expr.func == sp.Mul:\n",
    "            #print(\"in check_expr, the input expression is sp.Mul() object\")\n",
    "            return expr\n",
    "        else:\n",
    "            raise Exception(\"in check_expr, the input expression is not sp.Add() object\")\n"
   ]
  },
  {
   "cell_type": "code",
   "execution_count": 9,
   "metadata": {},
   "outputs": [],
   "source": [
    "#lam_dict = {1:l_1,2:l_2,3:l_3,4:l_4,5:l_5,6:l_6,7:l_7,8:l_8}\n",
    "def is_inside(el): # used in con_to_rho()\n",
    "    lam_dict = {1:l_1,2:l_2,3:l_3,4:l_4,5:l_5,6:l_6,7:l_7,8:l_8}\n",
    "    for El in lam_dict.values():\n",
    "        if El in el.args:\n",
    "            return True\n",
    "    return False\n",
    "\n",
    "def con_to_rho(expr): #converts the expression to a dictionary of rho elements\n",
    "    lam_dict = {1:l_1,2:l_2,3:l_3,4:l_4,5:l_5,6:l_6,7:l_7,8:l_8}\n",
    "    rho_l ={}\n",
    "    for key in lam_dict:\n",
    "        Term=sp.sympify(0)\n",
    "        for term in expr.args:\n",
    "            if lam_dict[key] in term.args:\n",
    "                Term+=term\n",
    "        rho_l[key] = sp.factor(sp.simplify(sp.sqrt(3)*Term))#sp.factor(sp.simplify(sp.sqrt(3)*sp.trigsimp(Term)))#\n",
    "    Term = 0\n",
    "    for term in expr.args:\n",
    "            if not is_inside(term):\n",
    "                Term+=term\n",
    "    rho_l[0] = sp.simplify(3*Term)\n",
    "    return rho_l\n",
    "def print_out(dic): #takes the output dictionary of con_to_rho and displays the elements\n",
    "    for key in dic:\n",
    "        print(\"lambda \"+str(key),end = \" \")\n",
    "        display(dic[key])\n",
    "\n",
    "def calculate(expr): # uses all functions to just simplify an expression\n",
    "    checking = check_term_2_class()\n",
    "    for i in range(7):\n",
    "        expr = checking.check_expr(expr).expand()\n",
    "    #print_out(con_to_rho(expr))\n",
    "    return con_to_rho(expr)\n",
    "\n",
    "def calculate_2(expr): # uses all functions to just simplify an expression\n",
    "    checking = check_term_2_class()\n",
    "    for i in range(7):\n",
    "        expr = checking.check_expr(expr).expand()\n",
    "    #print_out(con_to_rho(expr))\n",
    "    return expr"
   ]
  },
  {
   "cell_type": "code",
   "execution_count": 10,
   "metadata": {},
   "outputs": [],
   "source": [
    "class plotting_m_2:\n",
    "    def __init__(self):\n",
    "        print(\"plotting_m_2 initialized\")\n",
    "    def circle(self,ax):\n",
    "        theta = np.linspace(0,2*np.pi,100)\n",
    "        x= np.cos(theta)\n",
    "        y= np.sin(theta)\n",
    "        ax.plot(x,y) # outer boundary\n",
    "        ax.plot((1/2)*x,(1/2)*y) # inner boundary\n",
    "        ax.plot((1/np.sqrt(3))*x,(1/np.sqrt(3))*y) # middle boundary\n",
    "        ax.plot([0],[0],marker=\"o\", markersize=3, color=\"blue\")\n",
    "\n",
    "    def plot_cartan(self,ax):\n",
    "        ax.plot([-np.sqrt(3)/2,np.sqrt(3)/2],[1/2,1/2],'b')\n",
    "        ax.plot([0,-np.sqrt(3)/2],[-1,1/2],'b')\n",
    "        ax.plot([0,np.sqrt(3)/2],[-1,1/2],'b')\n",
    "        ax.text(np.sqrt(3)/2+0.01, 1/2+0.02, 'state C', fontsize=12)\n",
    "        ax.text(-np.sqrt(3)/2-0.14, 1/2+0.02, 'state B', fontsize=12)\n",
    "        ax.text(-0.045, -1-0.1, 'state A', fontsize=12)\n",
    "        \n",
    "        D = 1.2 #the displacement size of the plot\n",
    "        ax.axis([-D, D, -D, D])\n",
    "        #axis.xlabel(\"m_3\",fontsize=16)\n",
    "        #axis.ylabel(\"m_8\",fontsize=16)\n",
    "\n",
    "    def plot_m_n(self,m,n,ax,text):\n",
    "        ax.plot(m,n,label = text)\n",
    "        ax.legend()"
   ]
  },
  {
   "cell_type": "code",
   "execution_count": 11,
   "metadata": {},
   "outputs": [],
   "source": [
    "class SU_3:\n",
    "    def __init__(self): #only valid for 3 dim\n",
    "        #following is valid if the determinant of the generator does not vary\n",
    "        #self.phi = self.det_to_phi(sp.det(H_sample))\n",
    "        #generating coefficients:\n",
    "        #self.C_1,self.C_2,self.C_3 = self.gen_coefficients(self.phi)\n",
    "        #one extra thing: the unitary matrix:\n",
    "        self.Identity =  sp.eye(3)\n",
    "\n",
    "    def det_to_phi(self,H_det):\n",
    "        pickle  = sp.Symbol(\"pickle\")\n",
    "        res  = sp.solvers.solve((2/(3*sp.sqrt(3)))*sp.sin(3*pickle)+H_det,pickle)\n",
    "        return min(res)\n",
    "\n",
    "    def outside_brackets(self,phi,k): # used in self.gen_coefficients(phi)\n",
    "        out_bra_u = (sp.exp((2/sp.sqrt(3))*1j*sp.Symbol(\"t\")*(sp.sin(phi+(2*sp.pi*k)/3)))).evalf()\n",
    "        out_bra_l = (1 - 2*sp.cos(2*(phi+(2*sp.pi*k)/3))).evalf()\n",
    "        out_bra   = out_bra_u/out_bra_l\n",
    "        return out_bra     \n",
    "\n",
    "    def gen_coefficients(self,phi):\n",
    "        C_1,C_2,C_3 = 0,0,0\n",
    "        for k in range(3):\n",
    "            out_bra = self.outside_brackets(phi,k)\n",
    "            C_1+=out_bra\n",
    "            C_2+=(2/sp.sqrt(3))*(sp.sin(phi+(2*sp.pi*k)/3))*out_bra\n",
    "            C_3+=-(1/3)*(1+2*sp.cos(2*(phi+(2*sp.pi*k)/3)))*out_bra #sp.eye((self.H).shape[0])\n",
    "        return C_1.evalf(),C_2.evalf(),C_3.evalf()\n",
    "    def gen_matrix(self,H):\n",
    "        l_list =[l_1,l_2,l_3,l_4,l_5,l_6,l_7,l_8]\n",
    "        lambda_list = [lambda_1,lambda_2,lambda_3,lambda_4,lambda_5,lambda_6,lambda_7,lambda_8]\n",
    "        for i in range(8):\n",
    "            H = H.subs(l_list[i],lambda_list[i])\n",
    "        return H\n",
    "\n",
    "    def gen_unitary_m(self,H): #input H/h must be evaluated already (no t dependence)\n",
    "        #H_matrix = self.gen_matrix(H)\n",
    "\n",
    "        phi = self.det_to_phi(sp.det(H))\n",
    "        C_1,C_2,C_3 = self.gen_coefficients(phi)\n",
    "        return H*H*C_1+H*C_2+sp.sympify(1)*C_3\n"
   ]
  },
  {
   "cell_type": "code",
   "execution_count": null,
   "metadata": {},
   "outputs": [],
   "source": []
  },
  {
   "cell_type": "code",
   "execution_count": null,
   "metadata": {},
   "outputs": [],
   "source": []
  },
  {
   "cell_type": "code",
   "execution_count": 12,
   "metadata": {},
   "outputs": [
    {
     "data": {
      "text/latex": [
       "$\\displaystyle \\frac{e^{0.0333333333333333 i t} \\left(2 + \\sqrt{3} \\lambda_8\\right)}{3} + \\frac{e^{- 0.0666666666666667 i t} \\left(1 - \\sqrt{3} \\lambda_8\\right)}{3}$"
      ],
      "text/plain": [
       "exp(0.0333333333333333*I*t)*(2 + sqrt(3)*\\lambda_8)/3 + exp(-0.0666666666666667*I*t)*(1 - sqrt(3)*\\lambda_8)/3"
      ]
     },
     "metadata": {},
     "output_type": "display_data"
    },
    {
     "data": {
      "text/latex": [
       "$\\displaystyle \\frac{e^{0.0666666666666667 i t} \\left(1 - \\sqrt{3} \\lambda_8\\right)}{3} + \\frac{e^{- 0.0333333333333333 i t} \\left(2 + \\sqrt{3} \\lambda_8\\right)}{3}$"
      ],
      "text/plain": [
       "exp(0.0666666666666667*I*t)*(1 - sqrt(3)*\\lambda_8)/3 + exp(-0.0333333333333333*I*t)*(2 + sqrt(3)*\\lambda_8)/3"
      ]
     },
     "metadata": {},
     "output_type": "display_data"
    },
    {
     "data": {
      "text/plain": [
       "\"nu = sp.Symbol('\\\\eta')\\nH =sp.cos(nu)*lambda_8 +sp.sin(nu)*sp.cos(phi)*lambda_1+sp.sin(nu)*sp.sin(phi)*lambda_6\\nsu3 = SU_3()\\nU_full = su3.gen_unitary_m(H)\""
      ]
     },
     "execution_count": 12,
     "metadata": {},
     "output_type": "execute_result"
    }
   ],
   "source": [
    "\n",
    "#n_3=-sp.sqrt(3)/2#sp.Symbol(\"n_3\")\n",
    "#n_8=sp.sympify(1)/2#sp.Symbol(\"n_8\")\n",
    "\n",
    "RHO = (sp.sympify(1)/sp.sympify(3))*(sp.sympify(1)+sp.sqrt(3)*(n_3*l_3+n_8*l_8+n_1*l_1+n_2*l_2+n_4*l_4+n_5*l_5+n_6*l_6+n_7*l_7))\n",
    "#RHO = (sp.sympify(1)/sp.sympify(3))*(sp.sympify(1)+sp.sqrt(3)*(n_4*l_4))\n",
    "\n",
    "#RHO = sp.sympify(1)\n",
    "#RHO = (sp.sympify(1)/3)*(1+sp.sqrt(3)*((sp.sympify(-sp.sqrt(3))/sp.sympify(2))*l_3+(sp.sympify(1)/sp.sympify(2))*l_8))\n",
    "RHO = (sp.sympify(1)/3)*(1+sp.sqrt(3)*((sp.sympify(1)/sp.sympify(2))*l_8))\n",
    "RHO = n_6*l_6+n_1*l_1+n_8*l_8\n",
    "#H = l_6 #sp.Symbol(\"H\",commutative=False)\n",
    "#H = ((1/sp.sqrt(2))*l_1+(1/sp.sqrt(2))*l_6)\n",
    "phi = sp.Symbol(\"\\phi\")\n",
    "b=sp.sin(phi)#sp.sympify(99)/sp.sympify(100)\n",
    "a=sp.cos(phi)#sp.sqrt(sp.sympify(1)-b**2)\n",
    "#b= b.subs(phi,0.2)\n",
    "#a= a.subs(phi,0.2)\n",
    "#H = (a*l_1+b*l_6)\n",
    "H = l_2\n",
    "#H = n_1*l_1+n_2*l_2+n_3*l_3+n_4*l_4+n_5*l_5+n_6*l_6+n_7*l_7+n_8*l_8\n",
    "t=sp.Symbol(\"t\")\n",
    "U=1+sp.I*H*sp.sin(t)+(H**2)*(sp.cos(t)-1)\n",
    "U_=1-sp.I*H*sp.sin(t)+(H**2)*(sp.cos(t)-1)\n",
    "expr = sp.expand(U*RHO*U_)\n",
    "\n",
    "t_ = (0.1/sp.sqrt(3))*t\n",
    "UU = (sp.sympify(1)/sp.sympify(3))*(2+sp.sqrt(3)*l_8)*sp.exp((1/sp.sqrt(3))*sp.I*t_) + (sp.sympify(1)/sp.sympify(3))*(1-sp.sqrt(3)*l_8)*sp.exp((-sp.sympify(2)/sp.sqrt(3))*sp.I*t_)\n",
    "UU_ =(sp.sympify(1)/sp.sympify(3))*(2+sp.sqrt(3)*l_8)*sp.exp((-1/sp.sqrt(3))*sp.I*t_) + (sp.sympify(1)/sp.sympify(3))*(1-sp.sqrt(3)*l_8)*sp.exp((sp.sympify(2)/sp.sqrt(3))*sp.I*t_)\n",
    "expr8 = sp.expand(UU*RHO*UU_)\n",
    "display(UU)\n",
    "display(UU_)\n",
    "full_expr = sp.expand(UU*U*RHO*U_*UU_)\n",
    "#display(sp.simplify(UU*UU_))\n",
    "\"\"\"nu = sp.Symbol('\\eta')\n",
    "H =sp.cos(nu)*lambda_8 +sp.sin(nu)*sp.cos(phi)*lambda_1+sp.sin(nu)*sp.sin(phi)*lambda_6\n",
    "su3 = SU_3()\n",
    "U_full = su3.gen_unitary_m(H)\"\"\"\n",
    "#display(U_full)"
   ]
  },
  {
   "cell_type": "code",
   "execution_count": null,
   "metadata": {},
   "outputs": [],
   "source": [
    "\n"
   ]
  },
  {
   "cell_type": "code",
   "execution_count": 13,
   "metadata": {},
   "outputs": [
    {
     "data": {
      "text/latex": [
       "$\\displaystyle \\frac{3 A^{2}}{4} + \\frac{B^{2}}{4} - \\frac{B C}{2} + \\frac{C^{2}}{4}$"
      ],
      "text/plain": [
       "3*A**2/4 + B**2/4 - B*C/2 + C**2/4"
      ]
     },
     "execution_count": 13,
     "metadata": {},
     "output_type": "execute_result"
    }
   ],
   "source": [
    "A = sp.Symbol(\"A\")\n",
    "B = sp.Symbol(\"B\")\n",
    "C = sp.Symbol(\"C\")\n",
    "J8 = -(sp.sqrt(3)/2)*A\n",
    "J3 = (1/sp.sympify(2))*(C-B)\n",
    "sp.expand(J8**2+J3**2)"
   ]
  },
  {
   "cell_type": "code",
   "execution_count": 14,
   "metadata": {},
   "outputs": [
    {
     "data": {
      "text/plain": [
       "{1: -sqrt(3)*n_1*(2*sin(t)**2 - 1)*\\lambda_1,\n",
       " 2: 0,\n",
       " 3: sqrt(3)*n_1*sin(2*t)*\\lambda_3,\n",
       " 4: sqrt(3)*n_6*sin(t)*\\lambda_4,\n",
       " 5: 0,\n",
       " 6: sqrt(3)*n_6*cos(t)*\\lambda_6,\n",
       " 7: 0,\n",
       " 8: sqrt(3)*n_8*\\lambda_8,\n",
       " 0: 0}"
      ]
     },
     "metadata": {},
     "output_type": "display_data"
    }
   ],
   "source": [
    "m_l_sym = calculate(expr) #use calculate_2\n",
    "display(sp.simplify(m_l_sym))"
   ]
  },
  {
   "cell_type": "code",
   "execution_count": 15,
   "metadata": {},
   "outputs": [],
   "source": [
    "#m_l_sym2 =  calculate(expr8)"
   ]
  },
  {
   "cell_type": "code",
   "execution_count": 16,
   "metadata": {},
   "outputs": [],
   "source": [
    "#m_l_sym_full =   calculate(full_expr)"
   ]
  },
  {
   "cell_type": "code",
   "execution_count": 17,
   "metadata": {},
   "outputs": [],
   "source": [
    "def from_sym_to_num(m_l_dic,t_array): #takes a dictionary of sympy objects(and a time span) and returns the numpy m_l\n",
    "    m_l=[]\n",
    "    lam_dict = {1:l_1,2:l_2,3:l_3,4:l_4,5:l_5,6:l_6,7:l_7,8:l_8}\n",
    "    for i in range(1,9):\n",
    "        expr = m_l_dic[i].subs(lam_dict[i],1)\n",
    "        f = lambdify(sp.Symbol(\"t\"),expr,\"numpy\")\n",
    "        l = f(t_array)\n",
    "        if not type(l) == \"numpy.ndarray\":\n",
    "            l=t_array*0+l\n",
    "        m_l.append(l)\n",
    "    return m_l\n",
    "#m_l = from_sym_to_num(m_l_sym,np.linspace(0,15,100))\n",
    "\n",
    "#m_l = from_sym_to_num(m_l_sym_full,np.linspace(0,15,100))"
   ]
  },
  {
   "cell_type": "code",
   "execution_count": 18,
   "metadata": {},
   "outputs": [
    {
     "data": {
      "text/plain": [
       "'fig, axs = plt.subplots(2,2)\\nfig.set_size_inches(10, 10)\\nplotting = plotting_m_2()\\nplotting.circle(axs[0][0])\\nplotting.circle(axs[0][1])\\nplotting.circle(axs[1][0])\\nplotting.circle(axs[1][1])\\nplotting.plot_cartan(axs[0][0])\\nplotting.plot_m_n(m_l[2],m_l[7],axs[0][0],\"3,8\")\\nplotting.plot_m_n(m_l[0],m_l[1],axs[0][1],\"1,2\")\\nplotting.plot_m_n(m_l[3],m_l[4],axs[1][0],\"4,5\")\\nplotting.plot_m_n(m_l[5],m_l[6],axs[1][1],\"6,7\")'"
      ]
     },
     "execution_count": 18,
     "metadata": {},
     "output_type": "execute_result"
    }
   ],
   "source": [
    "\"\"\"fig, axs = plt.subplots(2,2)\n",
    "fig.set_size_inches(10, 10)\n",
    "plotting = plotting_m_2()\n",
    "plotting.circle(axs[0][0])\n",
    "plotting.circle(axs[0][1])\n",
    "plotting.circle(axs[1][0])\n",
    "plotting.circle(axs[1][1])\n",
    "plotting.plot_cartan(axs[0][0])\n",
    "plotting.plot_m_n(m_l[2],m_l[7],axs[0][0],\"3,8\")\n",
    "plotting.plot_m_n(m_l[0],m_l[1],axs[0][1],\"1,2\")\n",
    "plotting.plot_m_n(m_l[3],m_l[4],axs[1][0],\"4,5\")\n",
    "plotting.plot_m_n(m_l[5],m_l[6],axs[1][1],\"6,7\")\"\"\""
   ]
  },
  {
   "cell_type": "code",
   "execution_count": 19,
   "metadata": {},
   "outputs": [
    {
     "name": "stdout",
     "output_type": "stream",
     "text": [
      "lambda 1 "
     ]
    },
    {
     "data": {
      "text/latex": [
       "$\\displaystyle - \\sqrt{3} n_{1} \\left(2 \\sin^{2}{\\left(t \\right)} - 1\\right) \\lambda_1$"
      ],
      "text/plain": [
       "-sqrt(3)*n_1*(2*sin(t)**2 - 1)*\\lambda_1"
      ]
     },
     "metadata": {},
     "output_type": "display_data"
    },
    {
     "name": "stdout",
     "output_type": "stream",
     "text": [
      "lambda 2 "
     ]
    },
    {
     "data": {
      "text/latex": [
       "$\\displaystyle 0$"
      ],
      "text/plain": [
       "0"
      ]
     },
     "metadata": {},
     "output_type": "display_data"
    },
    {
     "name": "stdout",
     "output_type": "stream",
     "text": [
      "lambda 3 "
     ]
    },
    {
     "data": {
      "text/latex": [
       "$\\displaystyle \\sqrt{3} n_{1} \\sin{\\left(2 t \\right)} \\lambda_3$"
      ],
      "text/plain": [
       "sqrt(3)*n_1*sin(2*t)*\\lambda_3"
      ]
     },
     "metadata": {},
     "output_type": "display_data"
    },
    {
     "name": "stdout",
     "output_type": "stream",
     "text": [
      "lambda 4 "
     ]
    },
    {
     "data": {
      "text/latex": [
       "$\\displaystyle \\sqrt{3} n_{6} \\sin{\\left(t \\right)} \\lambda_4$"
      ],
      "text/plain": [
       "sqrt(3)*n_6*sin(t)*\\lambda_4"
      ]
     },
     "metadata": {},
     "output_type": "display_data"
    },
    {
     "name": "stdout",
     "output_type": "stream",
     "text": [
      "lambda 5 "
     ]
    },
    {
     "data": {
      "text/latex": [
       "$\\displaystyle 0$"
      ],
      "text/plain": [
       "0"
      ]
     },
     "metadata": {},
     "output_type": "display_data"
    },
    {
     "name": "stdout",
     "output_type": "stream",
     "text": [
      "lambda 6 "
     ]
    },
    {
     "data": {
      "text/latex": [
       "$\\displaystyle \\sqrt{3} n_{6} \\cos{\\left(t \\right)} \\lambda_6$"
      ],
      "text/plain": [
       "sqrt(3)*n_6*cos(t)*\\lambda_6"
      ]
     },
     "metadata": {},
     "output_type": "display_data"
    },
    {
     "name": "stdout",
     "output_type": "stream",
     "text": [
      "lambda 7 "
     ]
    },
    {
     "data": {
      "text/latex": [
       "$\\displaystyle 0$"
      ],
      "text/plain": [
       "0"
      ]
     },
     "metadata": {},
     "output_type": "display_data"
    },
    {
     "name": "stdout",
     "output_type": "stream",
     "text": [
      "lambda 8 "
     ]
    },
    {
     "data": {
      "text/latex": [
       "$\\displaystyle \\sqrt{3} n_{8} \\lambda_8$"
      ],
      "text/plain": [
       "sqrt(3)*n_8*\\lambda_8"
      ]
     },
     "metadata": {},
     "output_type": "display_data"
    },
    {
     "name": "stdout",
     "output_type": "stream",
     "text": [
      "lambda 0 "
     ]
    },
    {
     "data": {
      "text/latex": [
       "$\\displaystyle 0$"
      ],
      "text/plain": [
       "0"
      ]
     },
     "metadata": {},
     "output_type": "display_data"
    }
   ],
   "source": [
    "\n",
    "print_out(m_l_sym)"
   ]
  },
  {
   "cell_type": "code",
   "execution_count": 20,
   "metadata": {},
   "outputs": [
    {
     "data": {
      "text/latex": [
       "$\\displaystyle \\frac{2}{3} - \\frac{\\sqrt{3} \\lambda_8}{3}$"
      ],
      "text/plain": [
       "2/3 - sqrt(3)*\\lambda_8/3"
      ]
     },
     "execution_count": 20,
     "metadata": {},
     "output_type": "execute_result"
    }
   ],
   "source": [
    "lamb_mul(l_8,l_8)"
   ]
  },
  {
   "cell_type": "code",
   "execution_count": 21,
   "metadata": {},
   "outputs": [],
   "source": [
    "a =lambdify([n_4,phi,t],m_l_sym[0],\"numpy\") #cheking if the last one is really 1"
   ]
  },
  {
   "cell_type": "code",
   "execution_count": 22,
   "metadata": {},
   "outputs": [
    {
     "data": {
      "text/plain": [
       "0"
      ]
     },
     "execution_count": 22,
     "metadata": {},
     "output_type": "execute_result"
    }
   ],
   "source": [
    "a(1,1,1)"
   ]
  },
  {
   "cell_type": "code",
   "execution_count": 23,
   "metadata": {},
   "outputs": [],
   "source": [
    "\"\"\"H1 =n_8*lambda_8\n",
    "H2 = n_1*lambda_1+n_6*lambda_6\n",
    "display(H1)\n",
    "display(H2)\n",
    "display(sp.simplify(H1*H2-H2*H1))\n",
    "\n",
    "#display(lamb_mul(l_6,l_8))\n",
    "#display(lamb_mul(l_8,l_6))\n",
    "display(sp.simplify(lamb_mul(l_6,l_8)-lamb_mul(l_8,l_6)))\n",
    "display(sp.simplify(lamb_mul(l_1,l_8)-lamb_mul(l_8,l_1)))\n",
    "display(sp.simplify(lamb_mul(l_1,l_6)-lamb_mul(l_6,l_1)))\n",
    "\"\"\"\n",
    "\n",
    "\"\"\"H_test = (d_ba/sp.sqrt(3))*lambda_8 + (1/sp.sympify(2))*lambda_1+(Om_ba/sp.sympify(2))*lambda_6\n",
    "H_1 = (d_ba/sp.sqrt(3))*lambda_8\n",
    "H_2 = (1/sp.sympify(2))*lambda_1+(Om_ba/sp.sympify(2))*lambda_6\n",
    "display(H_1*H_2-H_2*H_1)\n",
    "H_1_ = (d_ba/sp.sqrt(3))*l_8\n",
    "H_2_ = (1/sp.sympify(2))*l_1+(Om_ba/sp.sympify(2))*l_6\n",
    "exprr = sp.expand(H_1_*H_2_-H_2_*H_1_)\n",
    "display(exprr)\n",
    "print(exprr.func)\n",
    "print(exprr.args)\n",
    "dic = calculate_2(exprr)\n",
    "display(dic)\"\"\"\n",
    "d_ba =sp.Symbol(\"\\delta_{ba}\")\n",
    "D =sp.Symbol(\"\\Delta\")\n",
    "Om_ba =sp.Symbol(\"\\Omega_{ba}\")\n",
    "Om_cb = sp.Symbol(\"\\Omega_{cb}\")\n",
    "X = (D/sp.sqrt(3))*l_8\n",
    "Y = (sp.sympify(1)/sp.sympify(2))*(sp.cos(phi)*l_1 + sp.sin(phi)*l_6)"
   ]
  },
  {
   "cell_type": "code",
   "execution_count": 24,
   "metadata": {},
   "outputs": [
    {
     "data": {
      "text/latex": [
       "$\\displaystyle \\frac{i \\Delta \\sin{\\left(\\phi \\right)} \\lambda_7}{2}$"
      ],
      "text/plain": [
       "I*\\Delta*sin(\\phi)*\\lambda_7/2"
      ]
     },
     "metadata": {},
     "output_type": "display_data"
    },
    {
     "data": {
      "text/latex": [
       "$\\displaystyle \\frac{\\Delta^{2} \\sin{\\left(\\phi \\right)} \\lambda_6}{2} + \\frac{\\Delta \\sin^{2}{\\left(\\phi \\right)} \\lambda_3}{2} - \\frac{\\sqrt{3} \\Delta \\sin^{2}{\\left(\\phi \\right)} \\lambda_8}{2} + \\frac{\\Delta \\sin{\\left(\\phi \\right)} \\cos{\\left(\\phi \\right)} \\lambda_4}{2}$"
      ],
      "text/plain": [
       "\\Delta**2*sin(\\phi)*\\lambda_6/2 + \\Delta*sin(\\phi)**2*\\lambda_3/2 - sqrt(3)*\\Delta*sin(\\phi)**2*\\lambda_8/2 + \\Delta*sin(\\phi)*cos(\\phi)*\\lambda_4/2"
      ]
     },
     "execution_count": 24,
     "metadata": {},
     "output_type": "execute_result"
    }
   ],
   "source": [
    "first=calculate_2(sp.expand(X*Y-Y*X))\n",
    "display(first)\n",
    "second = calculate_2(sp.expand(sp.sympify(2)*(Y*first-first*Y)+(X*first-first*X)))\n",
    "#sp.expand(sp.sympify(2)*(Y*first-first*Y)+(X*first-first*X))\n",
    "second"
   ]
  },
  {
   "cell_type": "code",
   "execution_count": 25,
   "metadata": {},
   "outputs": [
    {
     "data": {
      "text/latex": [
       "$\\displaystyle - \\frac{\\sqrt{3} \\sin^{2}{\\left(\\eta \\right)} \\sin^{2}{\\left(\\phi \\right)} \\cos{\\left(\\eta \\right)}}{3} + \\frac{2 \\sqrt{3} \\sin^{2}{\\left(\\eta \\right)} \\cos{\\left(\\eta \\right)} \\cos^{2}{\\left(\\phi \\right)}}{3} - \\frac{2 \\sqrt{3} \\cos^{3}{\\left(\\eta \\right)}}{9}$"
      ],
      "text/plain": [
       "-sqrt(3)*sin(\\eta)**2*sin(\\phi)**2*cos(\\eta)/3 + 2*sqrt(3)*sin(\\eta)**2*cos(\\eta)*cos(\\phi)**2/3 - 2*sqrt(3)*cos(\\eta)**3/9"
      ]
     },
     "metadata": {},
     "output_type": "display_data"
    },
    {
     "data": {
      "text/latex": [
       "$\\displaystyle \\sqrt{3} \\left(- \\sin^{2}{\\left(\\eta \\right)} \\sin^{2}{\\left(\\phi \\right)} + \\frac{8 \\sin^{2}{\\left(\\eta \\right)}}{9} - \\frac{2}{9}\\right) \\cos{\\left(\\eta \\right)}$"
      ],
      "text/plain": [
       "sqrt(3)*(-sin(\\eta)**2*sin(\\phi)**2 + 8*sin(\\eta)**2/9 - 2/9)*cos(\\eta)"
      ]
     },
     "metadata": {},
     "output_type": "display_data"
    }
   ],
   "source": [
    "nu = sp.Symbol('\\eta')\n",
    "\n",
    "H =sp.cos(nu)*lambda_8 +sp.sin(nu)*sp.cos(phi)*lambda_1+sp.sin(nu)*sp.sin(phi)*lambda_6\n",
    "display(sp.det(H))\n",
    "display(sp.trigsimp(sp.det(H)))"
   ]
  },
  {
   "cell_type": "code",
   "execution_count": 26,
   "metadata": {},
   "outputs": [
    {
     "data": {
      "text/latex": [
       "$\\displaystyle \\frac{\\operatorname{asin}{\\left(\\left(\\frac{9 \\sin^{2}{\\left(\\eta \\right)} \\sin^{2}{\\left(\\phi \\right)}}{2} - 4 \\sin^{2}{\\left(\\eta \\right)} + 1\\right) \\cos{\\left(\\eta \\right)} \\right)}}{3}$"
      ],
      "text/plain": [
       "asin((9*sin(\\eta)**2*sin(\\phi)**2/2 - 4*sin(\\eta)**2 + 1)*cos(\\eta))/3"
      ]
     },
     "execution_count": 26,
     "metadata": {},
     "output_type": "execute_result"
    }
   ],
   "source": [
    "H_det = sp.det(H)\n",
    "res  = sp.solvers.solve((2/(3*sp.sqrt(3)))*sp.sin(3*D)+H_det,D)\n",
    "res[1]\n"
   ]
  },
  {
   "cell_type": "code",
   "execution_count": null,
   "metadata": {},
   "outputs": [],
   "source": []
  },
  {
   "cell_type": "code",
   "execution_count": null,
   "metadata": {},
   "outputs": [],
   "source": []
  },
  {
   "cell_type": "code",
   "execution_count": null,
   "metadata": {},
   "outputs": [],
   "source": []
  },
  {
   "cell_type": "code",
   "execution_count": null,
   "metadata": {},
   "outputs": [],
   "source": []
  },
  {
   "cell_type": "code",
   "execution_count": 27,
   "metadata": {},
   "outputs": [
    {
     "data": {
      "text/latex": [
       "$\\displaystyle \\left[\\begin{matrix}0\\end{matrix}\\right]$"
      ],
      "text/plain": [
       "Matrix([[0]])"
      ]
     },
     "execution_count": 27,
     "metadata": {},
     "output_type": "execute_result"
    }
   ],
   "source": [
    "from sympy.physics.quantum.dagger import Dagger\n",
    "import re\n",
    "sig_0 = sp.Matrix([\n",
    "        [1,0],\n",
    "        [0,1],\n",
    "    ])\n",
    "sig_x = sp.Matrix([\n",
    "        [0,1],\n",
    "        [1,0],\n",
    "    ])\n",
    "sig_y = sp.Matrix([\n",
    "        [0,-sp.I],\n",
    "        [sp.I,0],\n",
    "    ])\n",
    "sig_z = sp.Matrix([\n",
    "        [1,0],\n",
    "        [0,-1],\n",
    "    ])\n",
    "vec_x = (1/sp.sqrt(2))*sp.Matrix([\n",
    "        [1],\n",
    "        [1],\n",
    "    ])\n",
    "vec_y = (1/sp.sqrt(2))*sp.Matrix([\n",
    "        [1],\n",
    "        [sp.I],\n",
    "    ])\n",
    "vec_z = (1/sp.sqrt(2))*sp.Matrix([\n",
    "        [1],\n",
    "        [0],\n",
    "    ])\n",
    "Dagger(vec_y)*sig_x*vec_y"
   ]
  },
  {
   "cell_type": "code",
   "execution_count": 28,
   "metadata": {},
   "outputs": [],
   "source": [
    "eig_3 = lambda_3.eigenvects()[1][2][0]\n",
    "eig_3\n",
    "eig_2 = sp.Matrix([\n",
    "        [0],\n",
    "        [1],\n",
    "        [0]\n",
    "    ])\n",
    "eig_3 = sp.Matrix([\n",
    "        [0],\n",
    "        [0],\n",
    "        [1]\n",
    "    ])\n",
    "eig_1 = sp.Matrix([\n",
    "        [1],\n",
    "        [0],\n",
    "        [0]\n",
    "    ])"
   ]
  },
  {
   "cell_type": "code",
   "execution_count": 29,
   "metadata": {},
   "outputs": [
    {
     "name": "stdout",
     "output_type": "stream",
     "text": [
      "\\left[\\begin{matrix}1\\\\0\\\\0\\end{matrix}\\right]\n"
     ]
    }
   ],
   "source": [
    "print(sp.latex(eig_1))"
   ]
  },
  {
   "cell_type": "code",
   "execution_count": 30,
   "metadata": {},
   "outputs": [
    {
     "name": "stdout",
     "output_type": "stream",
     "text": [
      "\\left[\\begin{matrix}\\frac{\\sqrt{3} \\left(n_{3} + \\frac{\\sqrt{3} n_{8}}{3}\\right)}{3} + \\frac{1}{3} & \\frac{\\sqrt{3} \\left(n_{1} - 1.0 i n_{2}\\right)}{3} & \\frac{\\sqrt{3} \\left(n_{4} - 1.0 i n_{5}\\right)}{3}\\\\\\frac{\\sqrt{3} \\left(n_{1} + 1.0 i n_{2}\\right)}{3} & \\frac{\\sqrt{3} \\left(- n_{3} + \\frac{\\sqrt{3} n_{8}}{3}\\right)}{3} + \\frac{1}{3} & \\frac{\\sqrt{3} \\left(n_{6} - 1.0 i n_{7}\\right)}{3}\\\\\\frac{\\sqrt{3} \\left(n_{4} + 1.0 i n_{5}\\right)}{3} & \\frac{\\sqrt{3} \\left(n_{6} + 1.0 i n_{7}\\right)}{3} & \\frac{1}{3} - \\frac{2 n_{8}}{3}\\end{matrix}\\right]\n"
     ]
    },
    {
     "data": {
      "text/latex": [
       "$\\displaystyle \\left[\\begin{matrix}\\frac{\\sqrt{3} \\left(n_{3} + \\frac{\\sqrt{3} n_{8}}{3}\\right)}{3} + \\frac{1}{3} & \\frac{\\sqrt{3} \\left(n_{1} - 1.0 i n_{2}\\right)}{3} & \\frac{\\sqrt{3} \\left(n_{4} - 1.0 i n_{5}\\right)}{3}\\\\\\frac{\\sqrt{3} \\left(n_{1} + 1.0 i n_{2}\\right)}{3} & \\frac{\\sqrt{3} \\left(- n_{3} + \\frac{\\sqrt{3} n_{8}}{3}\\right)}{3} + \\frac{1}{3} & \\frac{\\sqrt{3} \\left(n_{6} - 1.0 i n_{7}\\right)}{3}\\\\\\frac{\\sqrt{3} \\left(n_{4} + 1.0 i n_{5}\\right)}{3} & \\frac{\\sqrt{3} \\left(n_{6} + 1.0 i n_{7}\\right)}{3} & \\frac{1}{3} - \\frac{2 n_{8}}{3}\\end{matrix}\\right]$"
      ],
      "text/plain": [
       "Matrix([\n",
       "[sqrt(3)*(n_3 + sqrt(3)*n_8/3)/3 + 1/3,            sqrt(3)*(n_1 - 1.0*I*n_2)/3, sqrt(3)*(n_4 - 1.0*I*n_5)/3],\n",
       "[          sqrt(3)*(n_1 + 1.0*I*n_2)/3, sqrt(3)*(-n_3 + sqrt(3)*n_8/3)/3 + 1/3, sqrt(3)*(n_6 - 1.0*I*n_7)/3],\n",
       "[          sqrt(3)*(n_4 + 1.0*I*n_5)/3,            sqrt(3)*(n_6 + 1.0*I*n_7)/3,               1/3 - 2*n_8/3]])"
      ]
     },
     "execution_count": 30,
     "metadata": {},
     "output_type": "execute_result"
    }
   ],
   "source": [
    "RHO = (sp.sympify(1)/sp.sympify(3))*(lambda_0+sp.sqrt(3)*(n_3*lambda_3+n_8*lambda_8+n_1*lambda_1+n_2*lambda_2+n_4*lambda_4+n_5*lambda_5+n_6*lambda_6+n_7*lambda_7))\n",
    "rho = (sp.sympify(1)/sp.sympify(3))*(sp.sympify(1)+sp.sqrt(3)*(n_3*l_3+n_8*l_8+n_1*l_1+n_2*l_2+n_4*l_4+n_5*l_5+n_6*l_6+n_7*l_7))\n",
    "print(sp.latex(RHO))\n",
    "#print(sp.latex(rho))\n",
    "RHO"
   ]
  },
  {
   "cell_type": "code",
   "execution_count": 31,
   "metadata": {},
   "outputs": [
    {
     "data": {
      "text/latex": [
       "$\\displaystyle \\left[\\begin{matrix}\\frac{\\sqrt{3} \\left(n_{3} + \\frac{\\sqrt{3} n_{8}}{3}\\right)}{3} + \\frac{1}{3}\\end{matrix}\\right]$"
      ],
      "text/plain": [
       "Matrix([[sqrt(3)*(n_3 + sqrt(3)*n_8/3)/3 + 1/3]])"
      ]
     },
     "execution_count": 31,
     "metadata": {},
     "output_type": "execute_result"
    }
   ],
   "source": [
    "Dagger(eig_1)*RHO*eig_1"
   ]
  },
  {
   "cell_type": "code",
   "execution_count": 32,
   "metadata": {},
   "outputs": [
    {
     "name": "stdout",
     "output_type": "stream",
     "text": [
      "\\left[\\begin{matrix}\\frac{1}{2} & 0 & 0\\\\0 & \\frac{1}{2} & 0\\\\0 & 0 & 0\\end{matrix}\\right]\n"
     ]
    }
   ],
   "source": [
    "print(sp.latex((1/sp.sympify(3))*(lambda_0+(sp.sqrt(3)/2)*lambda_8)))"
   ]
  },
  {
   "cell_type": "code",
   "execution_count": 33,
   "metadata": {},
   "outputs": [
    {
     "data": {
      "text/latex": [
       "$\\displaystyle a$"
      ],
      "text/plain": [
       "a"
      ]
     },
     "metadata": {},
     "output_type": "display_data"
    },
    {
     "data": {
      "text/latex": [
       "$\\displaystyle b$"
      ],
      "text/plain": [
       "b"
      ]
     },
     "metadata": {},
     "output_type": "display_data"
    },
    {
     "data": {
      "text/latex": [
       "$\\displaystyle 2 n_{1}^{2} + 2 n_{6}^{2} + 2 n_{8}^{2}$"
      ],
      "text/plain": [
       "2*n_1**2 + 2*n_6**2 + 2*n_8**2"
      ]
     },
     "execution_count": 33,
     "metadata": {},
     "output_type": "execute_result"
    }
   ],
   "source": [
    "a = sp.Symbol(\"a\")\n",
    "b = sp.Symbol(\"b\")\n",
    "eps = sp.Symbol(\"\\epsilon\")\n",
    "display(a)\n",
    "display(b)\n",
    "H =n_8*l_8+n_1*l_1+n_6*l_6\n",
    "H_M = n_8*lambda_8+n_1*lambda_1+n_6*lambda_6\n",
    "N6 = sp.sqrt((1-n_8**2)/(1+1/(eps**2)))\n",
    "N1 = N6/eps\n",
    "H_M_scaled = n_8*lambda_8 + N1*lambda_1+N6*lambda_6\n",
    "H_M2 = sp.cos(a)*lambda_8+sp.sin(a)*sp.cos(b)*lambda_1+sp.sin(a)*sp.sin(b)*lambda_6\n",
    "det_exp = sp.det(H_M)\n",
    "det_exp_scaled = sp.det(H_M_scaled)\n",
    "\n",
    "#for key in H_M2.eigenvals():\n",
    "#        display(sp.trigsimp(key))\n",
    "(H_M*H_M)[0]+(H_M*H_M)[4]+(H_M*H_M)[8]"
   ]
  },
  {
   "cell_type": "code",
   "execution_count": 34,
   "metadata": {},
   "outputs": [
    {
     "data": {
      "text/latex": [
       "$\\displaystyle \\left[\\begin{matrix}1.0 i\\end{matrix}\\right]$"
      ],
      "text/plain": [
       "Matrix([[1.0*I]])"
      ]
     },
     "execution_count": 34,
     "metadata": {},
     "output_type": "execute_result"
    }
   ],
   "source": [
    "Dagger(eig_3)*lambda_5*eig_1"
   ]
  },
  {
   "cell_type": "code",
   "execution_count": null,
   "metadata": {},
   "outputs": [],
   "source": []
  },
  {
   "cell_type": "code",
   "execution_count": 35,
   "metadata": {},
   "outputs": [],
   "source": [
    "class expressions:\n",
    "    def __init__(self):\n",
    "        self.k = sp.Symbol(\"k\")\n",
    "        self.phi = sp.Symbol(\"\\phi\")\n",
    "        self.t   = sp.Symbol(\"t\")\n",
    "        self.B_k = 1-2*sp.cos(2*(self.phi+(2*sp.pi*self.k)/3))\n",
    "        self.h_k = (2/sp.sqrt(3))*sp.sin(self.phi+(2*sp.pi*self.k)/3)\n",
    "        \n",
    "        self.B_0 = self.B_k.subs(self.k,0)\n",
    "        self.B_1 = self.B_k.subs(self.k,1)\n",
    "        self.B_2 = self.B_k.subs(self.k,2)\n",
    "        \n",
    "        self.h_0 = self.h_k.subs(self.k,0)\n",
    "        self.h_1 = self.h_k.subs(self.k,1)\n",
    "        self.h_2 = self.h_k.subs(self.k,2)\n",
    "        \n",
    "        self.h0  = sp.Symbol(\"h_0\")\n",
    "        self.h1  = sp.Symbol(\"h_1\")\n",
    "        self.h2  = sp.Symbol(\"h_2\")\n",
    "        \n",
    "        self.B0  = 2+3*self.h1*self.h2\n",
    "        self.B1  = 2+3*self.h0*self.h2\n",
    "        self.B2  = 2+3*self.h1*self.h0"
   ]
  },
  {
   "cell_type": "code",
   "execution_count": 36,
   "metadata": {},
   "outputs": [],
   "source": [
    "class C_to_A(expressions):\n",
    "    def __init__(self):   \n",
    "        expressions.__init__(self)\n",
    "        #k = sp.Symbol(\"k\")\n",
    "        #upper = sp.exp((2/sp.sqrt(3))*sp.I*t*sp.sin(phi+(2*sp.pi*k)/3))\n",
    "        #upper_ = sp.exp(-(2/sp.sqrt(3))*sp.I*t*sp.sin(phi+(2*sp.pi*k)/3))\n",
    "        #lower = 1-2*sp.cos(2*(phi+(2*sp.pi*k)/3))\n",
    "        #A = (upper.subs(k,0))/(lower.subs(k,0))+(upper.subs(k,1))/(lower.subs(k,1))+(upper.subs(k,2))/(lower.subs(k,2))\n",
    "        #A_ = (upper_.subs(k,0))/(lower.subs(k,0))+(upper_.subs(k,1))/(lower.subs(k,1))+(upper_.subs(k,2))/(lower.subs(k,2))\n",
    "        #self.naked_F = A*A_\n",
    "        \n",
    "    def gen_exp_1(self):\n",
    "        zeroth = 1/(self.B_0**2)+1/(self.B_1**2)+1/(self.B_2**2)\n",
    "        first  = sp.cos((self.h_0-self.h_1)*self.t)/(self.B_0*self.B_1)\n",
    "        second = sp.cos((self.h_0-self.h_2)*self.t)/(self.B_0*self.B_2)\n",
    "        third  = sp.cos((self.h_1-self.h_2)*self.t)/(self.B_1*self.B_2)\n",
    "        return zeroth + 2*(first + second + third)\n",
    "    def gen_exp_2(self):   \n",
    "        factor = 2/(self.B_0*self.B_1*self.B_2)\n",
    "        zeroth = -3\n",
    "        first  = self.B_2 * sp.cos((self.h_0-self.h_1)*self.t)\n",
    "        second = self.B_1 * sp.cos((self.h_0-self.h_2)*self.t)\n",
    "        third  = self.B_0 * sp.cos((self.h_1-self.h_2)*self.t)\n",
    "        return factor*(zeroth + first + second + third)\n",
    "    def gen_exp_3(self):   \n",
    "        factor = 2/(27*(self.h_0*self.h_1*self.h_2)**2-4)\n",
    "        zeroth = -3\n",
    "        first  = (2+3*self.h_0*self.h_1) * sp.cos((self.h_0-self.h_1)*self.t)\n",
    "        second = (2+3*self.h_0*self.h_2) * sp.cos((self.h_0-self.h_2)*self.t)\n",
    "        third  = (2+3*self.h_1*self.h_2) * sp.cos((self.h_1-self.h_2)*self.t)\n",
    "        return (zeroth + first + second + third)*factor\n",
    "    \n",
    "    def det_to_phi(self,H_det):\n",
    "        pickle  = sp.Symbol(\"pickle\")\n",
    "        res  = sp.solvers.solve((2/(3*sp.sqrt(3)))*sp.sin(3*pickle)+H_det,pickle)\n",
    "        return float(min(res))\n",
    "    \n",
    "    def gen_phi(self,d_ba_s_val,EPS): #input d_ba scaled value and epsilon\n",
    "        d_ba_s = sp.Symbol(\"\\delta_{BA}\")\n",
    "        eps = sp.Symbol(\"\\epsilon\")\n",
    "        Om_cb =sp.sqrt(1/((1/sp.sympify(3))*d_ba_s**2 + (1/sp.sympify(4))*(1+eps**2) )) #2*sp.sqrt((1-(d_ba**2)/3)/(1+eps**2))\n",
    "        Om_ba = eps*Om_cb\n",
    "        d_ba = d_ba_s*Om_cb\n",
    "        H_M = (1/sp.sqrt(3))*d_ba*lambda_8 + (1/sp.sympify(2))*Om_cb*lambda_1 +(1/sp.sympify(2))*Om_ba*lambda_6 \n",
    "        det_H = (sp.det(H_M).subs(d_ba_s,d_ba_s_val)).subs(eps,EPS)\n",
    "        factor =(((1/sp.sympify(4))*(Om_cb*Om_ba)).subs(d_ba_s,d_ba_s_val)).subs(eps,EPS)\n",
    "        return factor**2,self.det_to_phi(det_H)\n",
    "\n",
    "   \n",
    "    \n",
    "inst = C_to_A()\n",
    "\n",
    "EXP3 = inst.gen_exp_3()\n",
    "F3   =lambdify([sp.Symbol(\"\\phi\"),sp.Symbol(\"t\")],EXP3,\"numpy\")\n",
    "\n",
    "EXP2 = inst.gen_exp_2()\n",
    "F2   = lambdify([sp.Symbol(\"\\phi\"),sp.Symbol(\"t\")],EXP2,\"numpy\")\n",
    "\n",
    "EXP1 = inst.gen_exp_1()\n",
    "F1   = lambdify([sp.Symbol(\"\\phi\"),sp.Symbol(\"t\")],EXP1,\"numpy\")\n",
    "\n",
    "\n",
    "#inst = C_to_A()\n",
    "#FFF = lambdify([sp.Symbol(\"\\phi\"),sp.Symbol(\"t\")],inst.gen_exp_1(),\"numpy\")\n",
    "#FFFF = lambdify([sp.Symbol(\"\\phi\"),sp.Symbol(\"t\")],inst.gen_exp_2(),\"numpy\")\n",
    "#F5   = lambdify([sp.Symbol(\"\\phi\"),sp.Symbol(\"t\")],inst.gen_exp_3(),\"numpy\")"
   ]
  },
  {
   "cell_type": "code",
   "execution_count": 102,
   "metadata": {},
   "outputs": [],
   "source": [
    "\n",
    "def gen_max_amp(inst_,d_ba_s_l_,t__,EPS_):\n",
    "    max_l_3 = []\n",
    "    max_times = []\n",
    "    for d_ba_s_val in d_ba_s_l_:\n",
    "        factor_sqr,PHI = inst_.gen_phi(d_ba_s_val,EPS_)\n",
    "        #factors.append((2*factor_sqr)/(27*(inst.h_1.subs(sp.Symbol(\"\\phi\"),PHI)*inst.h_0.subs(sp.Symbol(\"\\phi\"),PHI)*inst.h_2.subs(sp.Symbol(\"\\phi\"),PHI))**2  -4))\n",
    "        #max_l_1.append(max(F1(PHI,t_))*factor_sqr)#*res[0])\n",
    "        #max_l_2.append(max(F1(PHI,t_))*factor_sqr)#*res[0])\n",
    "        amp_per_t = F3(PHI,t__)\n",
    "        \n",
    "        max_amp  = max(amp_per_t)\n",
    "        max_l_3.append(max_amp*factor_sqr)\n",
    "        \n",
    "        max_times.append(t__[np.where(amp_per_t == max_amp)])\n",
    "    return max_l_3,max_times\n"
   ]
  },
  {
   "cell_type": "code",
   "execution_count": 132,
   "metadata": {},
   "outputs": [],
   "source": [
    "EPS_arr = list(np.linspace(0.01,0.2,30))#[0.01,0.02,0.03,0.05,0.07,0.09,0.1,0.2,0.3,0.4,0.5]\n",
    "d_ba_s_l = np.linspace(-0.51,-0.49,100)\n",
    "t_ = np.linspace(0,300,1000)\n",
    "max_max_l_2 = []\n",
    "max_max_t_l_2 =[]\n",
    "\n",
    "for EPS in EPS_arr:\n",
    "    max_amp_arr,max_times_arr = gen_max_amp(inst,d_ba_s_l,t_,EPS)\n",
    "    max_max_amp = max(max_amp_arr)\n",
    "    max_max_l_2.append(max_max_amp)\n",
    "    max_max_t_l_2.append(max_times_arr[max_amp_arr.index(max_max_amp)])\n"
   ]
  },
  {
   "cell_type": "code",
   "execution_count": 121,
   "metadata": {},
   "outputs": [
    {
     "data": {
      "text/plain": [
       "[<matplotlib.lines.Line2D at 0x17828c53710>]"
      ]
     },
     "execution_count": 121,
     "metadata": {},
     "output_type": "execute_result"
    },
    {
     "data": {
      "image/png": "[encoded data removed]",
      "text/plain": [
       "<Figure size 432x288 with 1 Axes>"
      ]
     },
     "metadata": {
      "needs_background": "light"
     },
     "output_type": "display_data"
    },
    {
     "data": {
      "image/png": "[encoded data removed]",
      "text/plain": [
       "<Figure size 432x288 with 1 Axes>"
      ]
     },
     "metadata": {
      "needs_background": "light"
     },
     "output_type": "display_data"
    }
   ],
   "source": [
    "\n",
    "#%matplotlib inline\n",
    "#plt.plot(t_,F3(0.0,t_))\n",
    "#plt.plot(t_,F3(0.1,t_))\n",
    "#plt.plot(t_,F3(0.2,t_))\n",
    "#plt.plot(t_,F3(0.3,t_))\n",
    "#plt.plot(t_,F3(0.4,t_))\n",
    "#plt.plot(t_,F3(0.5,t_))\n",
    "#plt.plot(t_,F3(0.6,t_))\n",
    "#plt.plot(t_,F3(0.7,t_))\n",
    "#plt.plot(d_ba_s_l,max_l_3_no_f)\n",
    "\n",
    "\n",
    "#plt.plot(t_,F3(phis[phi_max_ind],t_),label=\"supposedly max\")\n",
    "#plt.legend()\n",
    "#plt.figure()\n",
    "#plt.plot(d_ba_s_l,np.array(phis))\n",
    "#plt.plot(d_ba_s_l,max_l_3)\n",
    "plt.plot(EPS_arr,max_max_t_l)\n",
    "plt.figure()\n",
    "plt.plot(EPS_arr,max_max_l)"
   ]
  },
  {
   "cell_type": "code",
   "execution_count": 153,
   "metadata": {},
   "outputs": [
    {
     "data": {
      "text/plain": [
       "<matplotlib.legend.Legend at 0x17833ca34a8>"
      ]
     },
     "execution_count": 153,
     "metadata": {},
     "output_type": "execute_result"
    }
   ],
   "source": [
    "%matplotlib qt\n",
    "fig, axs = plt.subplots(1,2)\n",
    "#fig.set_size_inches(10, 5)\n",
    "axs[0].plot(EPS_arr,max_max_l,label = r\"Max after $t \\approx \\frac{2\\pi}{\\sqrt{6}\\epsilon}$\")\n",
    "axs[0].plot(EPS_arr,max_max_l_2,label =r\"Max P after a long $t$\")\n",
    "axs[0].set_xlabel(r\"$\\epsilon$\",fontsize=50)\n",
    "axs[0].set_ylabel(r\"$P_{max}(C\\to A)$\",fontsize=50)\n",
    "axs[0].set_title(r\"Max probability to be in state A \",fontsize = 30)\n",
    "axs[0].tick_params(axis='both', which='major', labelsize=20)\n",
    "axs[0].legend(fontsize = 20)\n",
    "\n",
    "axs[1].plot(EPS_arr,max_max_t_l,label = r\"$t_{max}'$ when simulating until $t =\\frac{2\\pi}{\\sqrt{6}\\epsilon}$\")\n",
    "axs[1].set_xlabel(r\"$\\epsilon$\",fontsize=50)\n",
    "axs[1].set_ylabel(r\"$t_{max}(C\\to A)$\",fontsize=50)\n",
    "axs[1].set_title(r\"Time $t_{max}$ to reach $P_{max}(C\\to A)$ \",fontsize = 30)\n",
    "axs[1].tick_params(axis='both', which='major', labelsize=20)\n",
    "\n",
    "\n",
    "eps_l_2 = np.linspace(0.01,0.2,1000)\n",
    "t_max_an =(2*np.pi)/(np.sqrt(6)*eps_l_2) \n",
    "axs[1].plot(eps_l_2,t_max_an,\"-r\",label =r\"$t =\\frac{2\\pi}{\\sqrt{6}\\epsilon}$\")\n",
    "axs[1].legend(fontsize = 20)"
   ]
  },
  {
   "cell_type": "code",
   "execution_count": 39,
   "metadata": {},
   "outputs": [
    {
     "data": {
      "text/plain": [
       "<matplotlib.legend.Legend at 0x1781a846978>"
      ]
     },
     "execution_count": 39,
     "metadata": {},
     "output_type": "execute_result"
    },
    {
     "data": {
      "image/png": "[encoded data removed]",
      "text/plain": [
       "<Figure size 720x360 with 1 Axes>"
      ]
     },
     "metadata": {
      "needs_background": "light"
     },
     "output_type": "display_data"
    }
   ],
   "source": [
    "#%matplotlib qt\n",
    "\n",
    "\n",
    "h_0_f = lambdify([sp.Symbol(\"\\phi\")],inst.h_0,\"numpy\")\n",
    "h_1_f = lambdify([sp.Symbol(\"\\phi\")],inst.h_1,\"numpy\")\n",
    "h_2_f = lambdify([sp.Symbol(\"\\phi\")],inst.h_2,\"numpy\")\n",
    "\n",
    "fig, axs = plt.subplots()\n",
    "fig.set_size_inches(10, 5)\n",
    "\n",
    "H_0_vals = h_0_f(phis)\n",
    "H_1_vals = h_1_f(phis)\n",
    "H_2_vals = h_2_f(phis)\n",
    "\n",
    "axs.plot(d_ba_s_l,H_1_vals ,label=r\"$h_1$\",linewidth=3)\n",
    "axs.plot(d_ba_s_l,H_0_vals ,label=r\"$h_0$\",linewidth=3)\n",
    "axs.plot(d_ba_s_l,H_2_vals ,label=r\"$h_2$\",linewidth=3)\n",
    "axs.plot(d_ba_s_l,H_1_vals*H_0_vals*H_2_vals ,label=r\"$h_2$\",linewidth=3)\n",
    "\n",
    "axs.set_xlabel(r\"$\\frac{\\delta_{BA}}{\\Omega_{cb}}$\",fontsize=50)\n",
    "axs.set_ylabel(\"values\",fontsize=50)\n",
    "axs.set_title(r\"The eigenvalues $h_k $\",fontsize = 60)\n",
    "axs.tick_params(axis='both', which='major', labelsize=20)\n",
    "axs.legend(fontsize = 30)"
   ]
  },
  {
   "cell_type": "code",
   "execution_count": 40,
   "metadata": {},
   "outputs": [
    {
     "data": {
      "text/plain": [
       "'from mpl_toolkits import mplot3d\\n#%matplotlib qt\\n\\nfig = plt.figure()\\nax = plt.axes(projection=\"3d\")\\nax.plot3D(h_0_f(phis), h_1_f(phis), h_2_f(phis), \\'gray\\')\\nb = np.linspace(0,2*np.pi,100)\\n\\nax.plot3D(2*np.cos(b), 2*np.sin(b), b*0, color=\\'green\\')\\nax.plot3D(b*0, 2*np.sin(b),2*np.cos(b) , color=\\'green\\')\\nplt.show()'"
      ]
     },
     "execution_count": 40,
     "metadata": {},
     "output_type": "execute_result"
    }
   ],
   "source": [
    "\"\"\"from mpl_toolkits import mplot3d\n",
    "#%matplotlib qt\n",
    "\n",
    "fig = plt.figure()\n",
    "ax = plt.axes(projection=\"3d\")\n",
    "ax.plot3D(h_0_f(phis), h_1_f(phis), h_2_f(phis), 'gray')\n",
    "b = np.linspace(0,2*np.pi,100)\n",
    "\n",
    "ax.plot3D(2*np.cos(b), 2*np.sin(b), b*0, color='green')\n",
    "ax.plot3D(b*0, 2*np.sin(b),2*np.cos(b) , color='green')\n",
    "plt.show()\"\"\""
   ]
  },
  {
   "cell_type": "code",
   "execution_count": null,
   "metadata": {},
   "outputs": [],
   "source": []
  },
  {
   "cell_type": "code",
   "execution_count": 41,
   "metadata": {},
   "outputs": [
    {
     "name": "stdout",
     "output_type": "stream",
     "text": [
      "0.06120817059587347\n",
      "0.0012488133825645164\n",
      "corr\n"
     ]
    },
    {
     "data": {
      "text/latex": [
       "$\\displaystyle - 6 H^{2} \\sin^{2}{\\left(a t \\right)} - 12 H^{2} \\cos{\\left(3 H t \\right)} \\cos{\\left(a t \\right)} + 3 H^{2} + 12 H a \\sin{\\left(3 H t \\right)} \\sin{\\left(a t \\right)} + 6 a^{2} \\sin^{2}{\\left(a t \\right)} - 3 a^{2} - 4 \\sin^{2}{\\left(a t \\right)} + 4 \\cos{\\left(3 H t \\right)} \\cos{\\left(a t \\right)} - 1$"
      ],
      "text/plain": [
       "-6*H**2*sin(a*t)**2 - 12*H**2*cos(3*H*t)*cos(a*t) + 3*H**2 + 12*H*a*sin(3*H*t)*sin(a*t) + 6*a**2*sin(a*t)**2 - 3*a**2 - 4*sin(a*t)**2 + 4*cos(3*H*t)*cos(a*t) - 1"
      ]
     },
     "metadata": {},
     "output_type": "display_data"
    },
    {
     "name": "stdout",
     "output_type": "stream",
     "text": [
      "- 6 H^{2} \\sin^{2}{\\left(a t \\right)} - 12 H^{2} \\cos{\\left(3 H t \\right)} \\cos{\\left(a t \\right)} + 3 H^{2} + 12 H a \\sin{\\left(3 H t \\right)} \\sin{\\left(a t \\right)} + 6 a^{2} \\sin^{2}{\\left(a t \\right)} - 3 a^{2} - 4 \\sin^{2}{\\left(a t \\right)} + 4 \\cos{\\left(3 H t \\right)} \\cos{\\left(a t \\right)} - 1\n"
     ]
    },
    {
     "data": {
      "text/latex": [
       "$\\displaystyle 6 a^{2} \\sin^{2}{\\left(a t \\right)} - 3 a^{2} + 4 \\sqrt{3} a \\sin{\\left(\\sqrt{3} t \\right)} \\sin{\\left(a t \\right)} - 6 \\sin^{2}{\\left(a t \\right)}$"
      ],
      "text/plain": [
       "6*a**2*sin(a*t)**2 - 3*a**2 + 4*sqrt(3)*a*sin(sqrt(3)*t)*sin(a*t) - 6*sin(a*t)**2"
      ]
     },
     "metadata": {},
     "output_type": "display_data"
    },
    {
     "name": "stdout",
     "output_type": "stream",
     "text": [
      "(-1, -4*sin(a*t)**2, -3*a**2, 3*H**2, -6*H**2*sin(a*t)**2, 4*cos(3*H*t)*cos(a*t), 6*a**2*sin(a*t)**2, -12*H**2*cos(3*H*t)*cos(a*t), 12*H*a*sin(3*H*t)*sin(a*t))\n",
      "(-6, sin(a*t)**2)\n",
      "appr\n"
     ]
    },
    {
     "data": {
      "text/latex": [
       "$\\displaystyle - 6 \\sin^{2}{\\left(a t \\right)}$"
      ],
      "text/plain": [
       "-6*sin(a*t)**2"
      ]
     },
     "metadata": {},
     "output_type": "display_data"
    },
    {
     "name": "stdout",
     "output_type": "stream",
     "text": [
      "corr\n"
     ]
    },
    {
     "data": {
      "text/latex": [
       "$\\displaystyle 8 a^{2} \\sin^{2}{\\left(a t \\right)} + 4 a^{2} \\cos{\\left(a t \\right)} \\cos{\\left(\\sqrt{3} t \\sqrt{1 - a^{2}} \\right)} - 4 a^{2} + 4 a \\sqrt{3 - 3 a^{2}} \\sin{\\left(a t \\right)} \\sin{\\left(\\sqrt{3} t \\sqrt{1 - a^{2}} \\right)} - 6 \\sin^{2}{\\left(a t \\right)}$"
      ],
      "text/plain": [
       "8*a**2*sin(a*t)**2 + 4*a**2*cos(a*t)*cos(sqrt(3)*t*sqrt(1 - a**2)) - 4*a**2 + 4*a*sqrt(3 - 3*a**2)*sin(a*t)*sin(sqrt(3)*t*sqrt(1 - a**2)) - 6*sin(a*t)**2"
      ]
     },
     "metadata": {},
     "output_type": "display_data"
    },
    {
     "name": "stdout",
     "output_type": "stream",
     "text": [
      "8 a^{2} \\sin^{2}{\\left(a t \\right)} + 4 a^{2} \\cos{\\left(a t \\right)} \\cos{\\left(\\sqrt{3} t \\sqrt{1 - a^{2}} \\right)} - 4 a^{2} + 4 a \\sqrt{3 - 3 a^{2}} \\sin{\\left(a t \\right)} \\sin{\\left(\\sqrt{3} t \\sqrt{1 - a^{2}} \\right)} - 6 \\sin^{2}{\\left(a t \\right)}\n",
      "a\n",
      "0.06120817059587347\n"
     ]
    },
    {
     "data": {
      "text/plain": [
       "<matplotlib.legend.Legend at 0x1781b96ef98>"
      ]
     },
     "execution_count": 41,
     "metadata": {},
     "output_type": "execute_result"
    },
    {
     "data": {
      "image/png": "[encoded data removed]",
      "text/plain": [
       "<Figure size 432x288 with 1 Axes>"
      ]
     },
     "metadata": {
      "needs_background": "light"
     },
     "output_type": "display_data"
    }
   ],
   "source": [
    "#%matplotlib qt\n",
    "h0_max = inst.h_0.subs(sp.Symbol(\"\\phi\"),phi_max)\n",
    "h1_max = inst.h_1.subs(sp.Symbol(\"\\phi\"),phi_max)\n",
    "h2_max = inst.h_2.subs(sp.Symbol(\"\\phi\"),phi_max)\n",
    "a_max = float(h1_max-h0_max)\n",
    "print(float(a_max/2))\n",
    "print((1/3)*(float(a_max/2)**2))\n",
    "\n",
    "t_ = np.linspace(0,100,1000)\n",
    "H = sp.Symbol(\"H\")\n",
    "a = sp.Symbol(\"a\")\n",
    "h0 =H-a\n",
    "h1 = H+a\n",
    "h2 = -2*H\n",
    "t = sp.Symbol(\"t\")\n",
    "\"\"\"zeroth = -3\n",
    "first  = (2+3*h0*h1) * sp.cos((h0-h1)*t)\n",
    "second = (2+3*h0*h2) * sp.cos((h0-h2)*t)\n",
    "third  = (2+3*h1*h2) * sp.cos((h1-h2)*t)\"\"\"\n",
    "e = (2+3*h0*h1)*sp.cos((h0-h1)*t) + (2+3*h0*h2)*sp.cos((h0-h2)*t)+ (2+3*h1*h2)*sp.cos((h1-h2)*t)-3\n",
    "e_s =sp.trigsimp(sp.expand(e))\n",
    "print(\"corr\")\n",
    "display(e_s)\n",
    "print(sp.latex(e_s))\n",
    "display(e_s.subs(H,1/sp.sqrt(3)))\n",
    "print(e_s.args)\n",
    "e_s_app = ((e_s.subs(H,1/sp.sqrt(3))).subs(a**2,0)).args[0] #e_s- e_s.args[2] -e_s.args[6])\n",
    "print(e_s_app.args)\n",
    "print(\"appr\")\n",
    "display(e_s_app)\n",
    "\n",
    "cor_exp =e_s.subs(H,sp.sqrt((1-(a**2))/3))\n",
    "app_exp =e_s_app#.subs(H,sp.sqrt((1-(a**2))/3))\n",
    "#term    =(e_s.args[1]).subs(H,sp.sqrt((1-(a**2))/3))\n",
    "print(\"corr\")\n",
    "display(sp.simplify(cor_exp))\n",
    "print(sp.latex(sp.simplify(cor_exp)))\n",
    "\n",
    "\n",
    "f =lambdify([a,t],cor_exp)\n",
    "g =lambdify([a,t],app_exp)\n",
    "#term = lambdify([a,t],term)\n",
    "fig, axs = plt.subplots()\n",
    "\n",
    "axs.plot(t_,f(a_max/2,t_),label = \"T\",linewidth=5)\n",
    "axs.plot(t_,g(a_max/2,t_),label = \"approximate T\",linewidth=5)\n",
    "print(\"a\")\n",
    "print(a_max/2)\n",
    "axs.set_xlabel(r\"$t$\",fontsize=50)\n",
    "axs.set_ylabel(\"T values\",fontsize=50)\n",
    "axs.set_title(r\"T plotted against the approximated T\",fontsize = 60)\n",
    "axs.tick_params(axis='both', which='major', labelsize=20)\n",
    "axs.legend(fontsize = 30)\n",
    "plt.legend(fontsize = 30)"
   ]
  },
  {
   "cell_type": "code",
   "execution_count": 42,
   "metadata": {},
   "outputs": [
    {
     "name": "stdout",
     "output_type": "stream",
     "text": [
      "6 H^{2} + 2 a^{2}\n"
     ]
    }
   ],
   "source": [
    "print(sp.latex(sp.expand(h0**2+h1**2+h2**2)))"
   ]
  },
  {
   "cell_type": "code",
   "execution_count": 43,
   "metadata": {},
   "outputs": [
    {
     "data": {
      "text/latex": [
       "$\\displaystyle \\sqrt{3 - 3 a^{2}} \\left(\\frac{8 a^{2}}{9} - \\frac{2}{9}\\right)$"
      ],
      "text/plain": [
       "sqrt(3 - 3*a**2)*(8*a**2/9 - 2/9)"
      ]
     },
     "metadata": {},
     "output_type": "display_data"
    }
   ],
   "source": [
    "display(sp.simplify(sp.expand(h0*h1*h2).subs(H,sp.sqrt((1-a**2)/3))))\n",
    "det_of_a = sp.simplify(sp.expand(h0*h1*h2).subs(H,sp.sqrt((1-a**2)/3)))"
   ]
  },
  {
   "cell_type": "code",
   "execution_count": 64,
   "metadata": {},
   "outputs": [
    {
     "name": "stdout",
     "output_type": "stream",
     "text": [
      "the determinat\n"
     ]
    },
    {
     "data": {
      "text/latex": [
       "$\\displaystyle \\frac{2 \\sqrt{3} \\delta_{BA}^{*} \\left(- 8 \\left(\\delta_{BA}^{*}\\right)^{2} - 9 \\epsilon^{2} + 18\\right)}{9 \\left(4 \\left(\\delta_{BA}^{*}\\right)^{2} + 3 \\epsilon^{2} + 3\\right)^{\\frac{3}{2}}}$"
      ],
      "text/plain": [
       "2*sqrt(3)*\\delta_{BA}^{*}*(-8*\\delta_{BA}^{*}**2 - 9*\\epsilon**2 + 18)/(9*(4*\\delta_{BA}^{*}**2 + 3*\\epsilon**2 + 3)**(3/2))"
      ]
     },
     "metadata": {},
     "output_type": "display_data"
    },
    {
     "data": {
      "text/latex": [
       "$\\displaystyle \\frac{12 \\epsilon}{4 \\left(\\delta_{BA}^{*}\\right)^{2} + 3 \\epsilon^{2} + 3}$"
      ],
      "text/plain": [
       "12*\\epsilon/(4*\\delta_{BA}^{*}**2 + 3*\\epsilon**2 + 3)"
      ]
     },
     "metadata": {},
     "output_type": "display_data"
    },
    {
     "name": "stdout",
     "output_type": "stream",
     "text": [
      " the factor\n"
     ]
    },
    {
     "data": {
      "text/latex": [
       "$\\displaystyle \\frac{\\epsilon^{2}}{8 \\left(\\frac{\\epsilon^{2}}{4} + \\frac{1}{3}\\right)^{2} \\left(\\frac{81 \\left(\\frac{16}{9} - \\epsilon^{2}\\right)^{2}}{\\left(3 \\epsilon^{2} + 4\\right)^{3}} - 4\\right)}$"
      ],
      "text/plain": [
       "\\epsilon**2/(8*(\\epsilon**2/4 + 1/3)**2*(81*(16/9 - \\epsilon**2)**2/(3*\\epsilon**2 + 4)**3 - 4))"
      ]
     },
     "metadata": {},
     "output_type": "display_data"
    },
    {
     "data": {
      "text/latex": [
       "$\\displaystyle - \\frac{6 \\epsilon^{2} + 8}{12 \\epsilon^{4} + 39 \\epsilon^{2} + 96}$"
      ],
      "text/plain": [
       "-(6*\\epsilon**2 + 8)/(12*\\epsilon**4 + 39*\\epsilon**2 + 96)"
      ]
     },
     "metadata": {},
     "output_type": "display_data"
    },
    {
     "data": {
      "text/latex": [
       "$\\displaystyle - \\frac{1}{12} - \\frac{11 \\epsilon^{2}}{384} + \\frac{271 \\epsilon^{4}}{12288} + O\\left(\\epsilon^{6}\\right)$"
      ],
      "text/plain": [
       "-1/12 - 11*\\epsilon**2/384 + 271*\\epsilon**4/12288 + O(\\epsilon**6)"
      ]
     },
     "metadata": {},
     "output_type": "display_data"
    },
    {
     "name": "stderr",
     "output_type": "stream",
     "text": [
      "<string>:2: RuntimeWarning: invalid value encountered in true_divide\n"
     ]
    },
    {
     "data": {
      "text/latex": [
       "$\\displaystyle \\frac{\\sqrt{3} \\left(\\frac{16}{9} - \\epsilon^{2}\\right)}{\\left(3 \\epsilon^{2} + 4\\right)^{\\frac{3}{2}}}$"
      ],
      "text/plain": [
       "sqrt(3)*(16/9 - \\epsilon**2)/(3*\\epsilon**2 + 4)**(3/2)"
      ]
     },
     "metadata": {},
     "output_type": "display_data"
    },
    {
     "data": {
      "text/latex": [
       "$\\displaystyle \\frac{\\left(9 \\epsilon^{2} - 16\\right)^{2}}{27 \\left(3 \\epsilon^{2} + 4\\right)^{3}}$"
      ],
      "text/plain": [
       "(9*\\epsilon**2 - 16)**2/(27*(3*\\epsilon**2 + 4)**3)"
      ]
     },
     "metadata": {},
     "output_type": "display_data"
    },
    {
     "data": {
      "image/png": "[encoded data removed]",
      "text/plain": [
       "<Figure size 432x288 with 1 Axes>"
      ]
     },
     "metadata": {
      "needs_background": "light"
     },
     "output_type": "display_data"
    }
   ],
   "source": [
    "d_ba_s = sp.Symbol(\"\\delta_{BA}^{*}\")\n",
    "eps = sp.Symbol(\"\\epsilon\")\n",
    "S = sp.Symbol(\"S\")\n",
    "Om_cb = 1/sp.sqrt((d_ba_s**2)/3 + (1+eps**2)/4)\n",
    "Om_ba = eps*Om_cb\n",
    "d_ba  = d_ba_s*Om_cb\n",
    "\n",
    "#Om_cb = Om_cb/sp.sqrt(S)\n",
    "#Om_ba = Om_ba/sp.sqrt(S)\n",
    "#d_ba  =d_ba/sp.sqrt(S) \n",
    "\n",
    "\n",
    "N8 = d_ba/sp.sqrt(3)\n",
    "N1 = Om_cb/2\n",
    "N6 = Om_ba/2\n",
    "\n",
    "exp = ((2)/(3*sp.sqrt(3)))*(3*(N1**2)*N8  -(3*(N6**2)*N8)/2 -N8**3)\n",
    "print(\"the determinat\")\n",
    "display(sp.simplify(exp))\n",
    "display(sp.simplify(Om_cb*Om_ba))\n",
    "print(\" the factor\")\n",
    "Om_cb_ = Om_cb.subs(d_ba_s,1/sp.sympify(2))\n",
    "Om_ba_ = Om_ba.subs(d_ba_s,1/sp.sympify(2))\n",
    "Factor = 2*(((1/sp.sympify(4))*Om_cb_*Om_ba_)**2)/(27*det_of_eps**2-4)\n",
    "display(Factor)\n",
    "display(sp.simplify(Factor))\n",
    "display((sp.series(Factor,eps)))\n",
    "Factor_f = lambdify([eps],Factor)\n",
    "plt.plot(eps_arr,-6*Factor_f(eps_arr))\n",
    "display(det_of_eps)\n",
    "display(sp.simplify(det_of_eps**2))"
   ]
  },
  {
   "cell_type": "code",
   "execution_count": 45,
   "metadata": {},
   "outputs": [
    {
     "name": "stdout",
     "output_type": "stream",
     "text": [
      "determinant\n"
     ]
    },
    {
     "data": {
      "text/latex": [
       "$\\displaystyle \\frac{2 \\sqrt{3} \\delta_{BA}^{*} \\left(- 8 \\left(\\delta_{BA}^{*}\\right)^{2} - 9 \\epsilon^{2} + 18\\right)}{9 \\left(4 \\left(\\delta_{BA}^{*}\\right)^{2} + 3 \\epsilon^{2} + 3\\right)^{\\frac{3}{2}}}$"
      ],
      "text/plain": [
       "2*sqrt(3)*\\delta_{BA}^{*}*(-8*\\delta_{BA}^{*}**2 - 9*\\epsilon**2 + 18)/(9*(4*\\delta_{BA}^{*}**2 + 3*\\epsilon**2 + 3)**(3/2))"
      ]
     },
     "metadata": {},
     "output_type": "display_data"
    },
    {
     "name": "stdout",
     "output_type": "stream",
     "text": [
      "determinant with d_ba_s = 0.5\n"
     ]
    },
    {
     "data": {
      "text/latex": [
       "$\\displaystyle \\frac{\\sqrt{3} \\left(\\frac{16}{9} - \\epsilon^{2}\\right)}{\\left(3 \\epsilon^{2} + 4\\right)^{\\frac{3}{2}}}$"
      ],
      "text/plain": [
       "sqrt(3)*(16/9 - \\epsilon**2)/(3*\\epsilon**2 + 4)**(3/2)"
      ]
     },
     "metadata": {},
     "output_type": "display_data"
    },
    {
     "name": "stdout",
     "output_type": "stream",
     "text": [
      "\\frac{\\sqrt{3} \\left(\\frac{16}{9} - \\epsilon^{2}\\right)}{\\left(3 \\epsilon^{2} + 4\\right)^{\\frac{3}{2}}}\n"
     ]
    },
    {
     "data": {
      "text/latex": [
       "$\\displaystyle - \\frac{8 \\sqrt{3} \\left(\\delta_{BA}^{*}\\right)^{2} \\left(- 8 \\left(\\delta_{BA}^{*}\\right)^{2} - 9 \\epsilon^{2} + 18\\right)}{3 \\left(4 \\left(\\delta_{BA}^{*}\\right)^{2} + 3 \\epsilon^{2} + 3\\right)^{\\frac{5}{2}}} - \\frac{32 \\sqrt{3} \\left(\\delta_{BA}^{*}\\right)^{2}}{9 \\left(4 \\left(\\delta_{BA}^{*}\\right)^{2} + 3 \\epsilon^{2} + 3\\right)^{\\frac{3}{2}}} + \\frac{2 \\sqrt{3} \\left(- 8 \\left(\\delta_{BA}^{*}\\right)^{2} - 9 \\epsilon^{2} + 18\\right)}{9 \\left(4 \\left(\\delta_{BA}^{*}\\right)^{2} + 3 \\epsilon^{2} + 3\\right)^{\\frac{3}{2}}}$"
      ],
      "text/plain": [
       "-8*sqrt(3)*\\delta_{BA}^{*}**2*(-8*\\delta_{BA}^{*}**2 - 9*\\epsilon**2 + 18)/(3*(4*\\delta_{BA}^{*}**2 + 3*\\epsilon**2 + 3)**(5/2)) - 32*sqrt(3)*\\delta_{BA}^{*}**2/(9*(4*\\delta_{BA}^{*}**2 + 3*\\epsilon**2 + 3)**(3/2)) + 2*sqrt(3)*(-8*\\delta_{BA}^{*}**2 - 9*\\epsilon**2 + 18)/(9*(4*\\delta_{BA}^{*}**2 + 3*\\epsilon**2 + 3)**(3/2))"
      ]
     },
     "metadata": {},
     "output_type": "display_data"
    },
    {
     "data": {
      "text/latex": [
       "$\\displaystyle 18 \\sqrt{3} \\left(- 8 \\left(\\delta_{BA}^{*}\\right)^{2} - \\epsilon^{4} + \\epsilon^{2} + 2\\right)$"
      ],
      "text/plain": [
       "18*sqrt(3)*(-8*\\delta_{BA}^{*}**2 - \\epsilon**4 + \\epsilon**2 + 2)"
      ]
     },
     "metadata": {},
     "output_type": "display_data"
    },
    {
     "data": {
      "text/plain": [
       "'H_M = H_M.subs(eps,1/sp.sympify(100))\\nexps = []\\nfor eig in H_M.eigenvals():\\n    exps.append(eig)\\nHHA = lambdify([d_ba_s],exps[0])\\nHHB = lambdify([d_ba_s],exps[1])\\nHHC = lambdify([d_ba_s],exps[2])\\nd_ba_s_arr = np.linspace(-10,10,100)\\n\\n\\nplt.plot(d_ba_s_arr,HHA(d_ba_s_arr))\\nplt.plot(d_ba_s_arr,HHB(d_ba_s_arr))\\nplt.plot(d_ba_s_arr,HHC(d_ba_s_arr))\\nplt.plot(d_ba_s_arr,HHB(d_ba_s_arr)*HHA(d_ba_s_arr)*HHC(d_ba_s_arr))'"
      ]
     },
     "execution_count": 45,
     "metadata": {},
     "output_type": "execute_result"
    }
   ],
   "source": [
    "H_M =(1/sp.sqrt(3))*d_ba*lambda_8 + (1/sp.sympify(2))*Om_cb*lambda_1 + (1/sp.sympify(2))*Om_ba*lambda_6\n",
    "print(\"determinant\")\n",
    "display(sp.simplify(sp.det(H_M)))\n",
    "print(\"determinant with d_ba_s = 0.5\")\n",
    "\n",
    "det_of_eps = sp.simplify(sp.det(H_M).subs(d_ba_s,1/sp.sympify(2)))\n",
    "display(det_of_eps)\n",
    "print(sp.latex(sp.simplify(sp.det(H_M).subs(d_ba_s,1/sp.sympify(2)))))\n",
    "display(sp.diff(sp.simplify(sp.det(H_M)),d_ba_s))\n",
    "display(sp.simplify(sp.diff(sp.simplify(sp.det(H_M)),d_ba_s)*3*(4*d_ba_s**2+3*eps**2+3)**(5/sp.sympify(2))))\n",
    "\"\"\"H_M = H_M.subs(eps,1/sp.sympify(100))\n",
    "exps = []\n",
    "for eig in H_M.eigenvals():\n",
    "    exps.append(eig)\n",
    "HHA = lambdify([d_ba_s],exps[0])\n",
    "HHB = lambdify([d_ba_s],exps[1])\n",
    "HHC = lambdify([d_ba_s],exps[2])\n",
    "d_ba_s_arr = np.linspace(-10,10,100)\n",
    "\n",
    "\n",
    "plt.plot(d_ba_s_arr,HHA(d_ba_s_arr))\n",
    "plt.plot(d_ba_s_arr,HHB(d_ba_s_arr))\n",
    "plt.plot(d_ba_s_arr,HHC(d_ba_s_arr))\n",
    "plt.plot(d_ba_s_arr,HHB(d_ba_s_arr)*HHA(d_ba_s_arr)*HHC(d_ba_s_arr))\"\"\""
   ]
  },
  {
   "cell_type": "code",
   "execution_count": 46,
   "metadata": {},
   "outputs": [],
   "source": [
    "A =sp.Symbol(\"A\")\n",
    "sol =sp.solve(det_of_a-A,a)"
   ]
  },
  {
   "cell_type": "code",
   "execution_count": 47,
   "metadata": {},
   "outputs": [
    {
     "data": {
      "text/latex": [
       "$\\displaystyle - \\frac{\\sqrt{2} \\sqrt{- 2^{\\frac{2}{3}} \\sqrt[3]{\\frac{81 \\left(\\frac{16}{9} - \\epsilon^{2}\\right)^{2}}{\\left(3 \\epsilon^{2} + 4\\right)^{3}} + 3 \\sqrt{3} \\sqrt{\\frac{243 \\left(\\frac{16}{9} - \\epsilon^{2}\\right)^{4}}{\\left(3 \\epsilon^{2} + 4\\right)^{6}} - \\frac{12 \\left(\\frac{16}{9} - \\epsilon^{2}\\right)^{2}}{\\left(3 \\epsilon^{2} + 4\\right)^{3}}} - 2} + 4 - \\frac{2 \\sqrt[3]{2}}{\\sqrt[3]{\\frac{81 \\left(\\frac{16}{9} - \\epsilon^{2}\\right)^{2}}{\\left(3 \\epsilon^{2} + 4\\right)^{3}} + 3 \\sqrt{3} \\sqrt{\\frac{243 \\left(\\frac{16}{9} - \\epsilon^{2}\\right)^{4}}{\\left(3 \\epsilon^{2} + 4\\right)^{6}} - \\frac{12 \\left(\\frac{16}{9} - \\epsilon^{2}\\right)^{2}}{\\left(3 \\epsilon^{2} + 4\\right)^{3}}} - 2}}}}{4}$"
      ],
      "text/plain": [
       "-sqrt(2)*sqrt(-2**(2/3)*(81*(16/9 - \\epsilon**2)**2/(3*\\epsilon**2 + 4)**3 + 3*sqrt(3)*sqrt(243*(16/9 - \\epsilon**2)**4/(3*\\epsilon**2 + 4)**6 - 12*(16/9 - \\epsilon**2)**2/(3*\\epsilon**2 + 4)**3) - 2)**(1/3) + 4 - 2*2**(1/3)/(81*(16/9 - \\epsilon**2)**2/(3*\\epsilon**2 + 4)**3 + 3*sqrt(3)*sqrt(243*(16/9 - \\epsilon**2)**4/(3*\\epsilon**2 + 4)**6 - 12*(16/9 - \\epsilon**2)**2/(3*\\epsilon**2 + 4)**3) - 2)**(1/3))/4"
      ]
     },
     "metadata": {},
     "output_type": "display_data"
    },
    {
     "name": "stderr",
     "output_type": "stream",
     "text": [
      "C:\\Users\\Bruker\\Anaconda3\\lib\\site-packages\\numpy\\core\\_asarray.py:85: ComplexWarning: Casting complex values to real discards the imaginary part\n",
      "  return array(a, dtype, copy=False, order=order)\n"
     ]
    },
    {
     "name": "stdout",
     "output_type": "stream",
     "text": [
      "(-0.06098033064239021-2.8447262546833783e-17j)\n"
     ]
    },
    {
     "data": {
      "image/png": "[encoded data removed]",
      "text/plain": [
       "<Figure size 432x288 with 1 Axes>"
      ]
     },
     "metadata": {
      "needs_background": "light"
     },
     "output_type": "display_data"
    }
   ],
   "source": [
    "\n",
    "sol0 = sol[0].subs(A,det_of_eps)\n",
    "display(sol0)\n",
    "al = lambdify([eps],sol0)\n",
    "eps_arr= np.linspace(0,1,100)\n",
    "plt.plot(eps_arr,al(eps_arr))\n",
    "print(al(0.1))\n",
    "#eq = (sp.sqrt(3)/8)*(16/sp.sympify(9)-3*eps**2)-(2/(3*sp.sqrt(3)))*((9*a**2)/2 - 1)\n",
    "series = sp.series(sol0,eps)\n",
    "#print(series.args)"
   ]
  },
  {
   "cell_type": "code",
   "execution_count": 48,
   "metadata": {},
   "outputs": [
    {
     "data": {
      "text/latex": [
       "$\\displaystyle - \\frac{1927 \\sqrt{6} \\epsilon^{5}}{32768}$"
      ],
      "text/plain": [
       "-1927*sqrt(6)*\\epsilon**5/32768"
      ]
     },
     "metadata": {},
     "output_type": "display_data"
    },
    {
     "data": {
      "text/latex": [
       "$\\displaystyle - \\frac{\\sqrt{6} \\epsilon}{4}$"
      ],
      "text/plain": [
       "-sqrt(6)*\\epsilon/4"
      ]
     },
     "metadata": {},
     "output_type": "display_data"
    },
    {
     "data": {
      "text/latex": [
       "$\\displaystyle \\frac{27 \\sqrt{6} \\epsilon^{3}}{256}$"
      ],
      "text/plain": [
       "27*sqrt(6)*\\epsilon**3/256"
      ]
     },
     "metadata": {},
     "output_type": "display_data"
    },
    {
     "data": {
      "text/latex": [
       "$\\displaystyle O\\left(\\epsilon^{6}\\right)$"
      ],
      "text/plain": [
       "O(\\epsilon**6)"
      ]
     },
     "metadata": {},
     "output_type": "display_data"
    },
    {
     "data": {
      "text/plain": [
       "[<matplotlib.lines.Line2D at 0x1781bcbc588>]"
      ]
     },
     "execution_count": 48,
     "metadata": {},
     "output_type": "execute_result"
    },
    {
     "data": {
      "image/png": "[encoded data removed]",
      "text/plain": [
       "<Figure size 432x288 with 1 Axes>"
      ]
     },
     "metadata": {
      "needs_background": "light"
     },
     "output_type": "display_data"
    }
   ],
   "source": [
    "approx = lambdify([eps],series.args[1]) #+series.args[2]\n",
    "for el in series.args:\n",
    "    display(el)\n",
    "plt.plot(eps_arr,al(eps_arr))\n",
    "plt.plot(eps_arr,approx(eps_arr))"
   ]
  },
  {
   "cell_type": "code",
   "execution_count": null,
   "metadata": {},
   "outputs": [],
   "source": []
  },
  {
   "cell_type": "code",
   "execution_count": null,
   "metadata": {},
   "outputs": [],
   "source": []
  },
  {
   "cell_type": "code",
   "execution_count": null,
   "metadata": {},
   "outputs": [],
   "source": []
  },
  {
   "cell_type": "code",
   "execution_count": null,
   "metadata": {},
   "outputs": [],
   "source": [
    "%matplotlib qt\n",
    "#plt.plot(d_ba_s_l,np.array(max_l_3))\n",
    "print(\"d_ba_scaled value\")\n",
    "print(d_ba_s_l[max_l_3.index(max(max_l_3))])\n",
    "print(\"max val\")\n",
    "print(max(max_l_3))\n",
    "fig, axs = plt.subplots()\n",
    "fig.set_size_inches(10, 5)\n",
    "print(axs)\n",
    "axs.plot(d_ba_s_l,np.array(max_l_3),linewidth=3)\n",
    "axs.set_xlabel(r\"$\\frac{\\delta_{BA}}{\\Omega_{cb}}$\",fontsize=37)\n",
    "axs.set_ylabel(r\"$ P_{max}(C\\to A) $\",fontsize=31)\n",
    "axs.set_title(\"The maximum probability for the state to evolve to A\",fontsize = 40)\n",
    "axs.tick_params(axis='both', which='major', labelsize=20)\n",
    "#axs.text(np.sqrt(3)/2+0.01, 1/2+0.02, 'state C', fontsize=12)\n",
    "#axs.plot(-0.045, -1-0.1, 'state A', fontsize=12)"
   ]
  },
  {
   "cell_type": "code",
   "execution_count": null,
   "metadata": {},
   "outputs": [],
   "source": []
  },
  {
   "cell_type": "code",
   "execution_count": null,
   "metadata": {},
   "outputs": [],
   "source": [
    "sp.simplify(inst.another_F()-inst.naked_F)\n"
   ]
  },
  {
   "cell_type": "code",
   "execution_count": null,
   "metadata": {},
   "outputs": [],
   "source": []
  },
  {
   "cell_type": "code",
   "execution_count": null,
   "metadata": {},
   "outputs": [],
   "source": [
    "i = expressions()\n",
    "i.B_k\n",
    "display(i.B_0)\n",
    "display(i.B_1)\n",
    "display(i.B_2)\n",
    "display(sp.expand(i.B0*i.B1*i.B2))\n",
    "display(sp.simplify(i.h_1*i.h_0+i.h_2*i.h_0+i.h_1*i.h_2))\n",
    "display(sp.simplify(i.B_0+i.B_1+i.B_2))\n"
   ]
  },
  {
   "cell_type": "code",
   "execution_count": null,
   "metadata": {},
   "outputs": [],
   "source": []
  },
  {
   "cell_type": "code",
   "execution_count": null,
   "metadata": {},
   "outputs": [],
   "source": []
  },
  {
   "cell_type": "code",
   "execution_count": null,
   "metadata": {},
   "outputs": [],
   "source": []
  },
  {
   "cell_type": "code",
   "execution_count": null,
   "metadata": {},
   "outputs": [],
   "source": []
  },
  {
   "cell_type": "code",
   "execution_count": null,
   "metadata": {},
   "outputs": [],
   "source": []
  },
  {
   "cell_type": "code",
   "execution_count": null,
   "metadata": {},
   "outputs": [],
   "source": [
    "\n"
   ]
  },
  {
   "cell_type": "markdown",
   "metadata": {},
   "source": [
    "sp.factor(81*phi**2-324*phi+24)"
   ]
  },
  {
   "cell_type": "code",
   "execution_count": null,
   "metadata": {},
   "outputs": [],
   "source": []
  },
  {
   "cell_type": "code",
   "execution_count": null,
   "metadata": {},
   "outputs": [],
   "source": []
  },
  {
   "cell_type": "code",
   "execution_count": null,
   "metadata": {},
   "outputs": [],
   "source": []
  },
  {
   "cell_type": "code",
   "execution_count": null,
   "metadata": {},
   "outputs": [],
   "source": []
  },
  {
   "cell_type": "code",
   "execution_count": null,
   "metadata": {},
   "outputs": [],
   "source": []
  },
  {
   "cell_type": "code",
   "execution_count": null,
   "metadata": {},
   "outputs": [],
   "source": []
  },
  {
   "cell_type": "code",
   "execution_count": null,
   "metadata": {},
   "outputs": [],
   "source": []
  },
  {
   "cell_type": "code",
   "execution_count": null,
   "metadata": {},
   "outputs": [],
   "source": []
  },
  {
   "cell_type": "code",
   "execution_count": null,
   "metadata": {},
   "outputs": [],
   "source": []
  },
  {
   "cell_type": "code",
   "execution_count": null,
   "metadata": {},
   "outputs": [],
   "source": []
  },
  {
   "cell_type": "code",
   "execution_count": null,
   "metadata": {},
   "outputs": [],
   "source": []
  },
  {
   "cell_type": "code",
   "execution_count": null,
   "metadata": {},
   "outputs": [],
   "source": []
  },
  {
   "cell_type": "code",
   "execution_count": null,
   "metadata": {},
   "outputs": [],
   "source": []
  },
  {
   "cell_type": "code",
   "execution_count": null,
   "metadata": {},
   "outputs": [],
   "source": []
  },
  {
   "cell_type": "code",
   "execution_count": null,
   "metadata": {},
   "outputs": [],
   "source": []
  },
  {
   "cell_type": "code",
   "execution_count": null,
   "metadata": {},
   "outputs": [],
   "source": []
  },
  {
   "cell_type": "code",
   "execution_count": null,
   "metadata": {},
   "outputs": [],
   "source": [
    "rho = (1/3)*(I+sp.sqrt(3)*(m_1*lambda_1+m_2*lambda_2+m_3*lambda_3+m_4*lambda_4+m_5*lambda_5+m_6*lambda_6+m_7*lambda_7+m_8*lambda_8))"
   ]
  },
  {
   "cell_type": "code",
   "execution_count": null,
   "metadata": {},
   "outputs": [],
   "source": [
    "\n",
    "class m_vectors:\n",
    "    def __init__(self,RHO_EVOL):\n",
    "        self.RHO_EVOL = RHO_EVOL\n",
    "        self.gen_rho_el()\n",
    "        self.m_l = self.gen_m()\n",
    "    def gen_rho_el(self):\n",
    "        self.rho_l =[\n",
    "            [],\n",
    "            [],\n",
    "            [],\n",
    "            [],\n",
    "            [],\n",
    "            [],\n",
    "            [],\n",
    "            [],\n",
    "            [],\n",
    "        ]\n",
    "        for mat in self.RHO_EVOL:\n",
    "            self.rho_l[0].append(complex(mat[0][0]))\n",
    "            self.rho_l[1].append(complex(mat[0][1]))\n",
    "            self.rho_l[2].append(complex(mat[0][2]))\n",
    "            self.rho_l[3].append(complex(mat[1][0]))\n",
    "            self.rho_l[4].append(complex(mat[1][1]))\n",
    "            self.rho_l[5].append(complex(mat[1][2]))\n",
    "            self.rho_l[6].append(complex(mat[2][0]))\n",
    "            self.rho_l[7].append(complex(mat[2][1]))\n",
    "            self.rho_l[8].append(complex(mat[2][2]))\n",
    "        self.rho_l = [np.array(el) for el in self.rho_l]\n",
    "    def gen_m(self):\n",
    "        arr = []\n",
    "        arr.append(np.sqrt(3)*np.real(self.rho_l[1]))\n",
    "        arr.append(np.sqrt(3)*np.imag(self.rho_l[1]))\n",
    "        arr.append((np.sqrt(3)/(2))*np.real(self.rho_l[0]-self.rho_l[4]))\n",
    "        arr.append(np.sqrt(3)*np.real(self.rho_l[2]))\n",
    "        arr.append(np.sqrt(3)*np.imag(self.rho_l[2]))\n",
    "        arr.append(np.sqrt(3)*np.real(self.rho_l[5]))\n",
    "        arr.append(np.sqrt(3)*np.imag(self.rho_l[5]))\n",
    "        arr.append((1/2)*(1-3*np.real(self.rho_l[8])))\n",
    "        return arr"
   ]
  },
  {
   "cell_type": "code",
   "execution_count": null,
   "metadata": {},
   "outputs": [],
   "source": [
    "class plotting_m:\n",
    "    def __init__(self,m_l):\n",
    "        self.m_l = m_l\n",
    "\n",
    "    def circle(self):\n",
    "        theta = np.linspace(0,2*np.pi,100)\n",
    "        x= np.cos(theta)\n",
    "        y= np.sin(theta)\n",
    "        plt.plot(x,y) # outer boundary\n",
    "        plt.plot((1/2)*x,(1/2)*y) # inner boundary\n",
    "        plt.plot((1/np.sqrt(3))*x,(1/np.sqrt(3))*y) # middle boundary\n",
    "\n",
    "    def plot_cartan(self):\n",
    "        plt.figure(figsize=[10, 10])\n",
    "        plt.plot(self.m_l[2],self.m_l[7],'o')\n",
    "        plt.plot([-np.sqrt(3)/2,np.sqrt(3)/2],[1/2,1/2],'b')\n",
    "        plt.plot([0,-np.sqrt(3)/2],[-1,1/2],'b')\n",
    "        plt.plot([0,np.sqrt(3)/2],[-1,1/2],'b')\n",
    "        \n",
    "        \n",
    "        self.circle()\n",
    "        \n",
    "        plt.text(np.sqrt(3)/2+0.01, 1/2, 'state C', fontsize=12)\n",
    "        plt.text(-np.sqrt(3)/2-0.14, 1/2, 'state B', fontsize=12)\n",
    "        plt.text(-0.045, -1-0.1, 'state A', fontsize=12)\n",
    "        D = 0.5 #the displacement size of the plot\n",
    "        plt.axis([-1/2-D, 1/2+D, -1.2-D, 2/3+D])\n",
    "        plt.xlabel(\"m_3\",fontsize=16)\n",
    "        plt.ylabel(\"m_8\",fontsize=16)\n",
    "        plt.title(\"Evolution of a 3-level quantum system\",fontsize=16)\n",
    "        plt.show()\n",
    "    def plot_1_2(self):\n",
    "        plt.figure(figsize=[10, 10])\n",
    "        plt.plot(self.m_l[0],self.m_l[1],'g:')\n",
    "        plt.axis([-2, 2, -2, 2])\n",
    "        self.circle()\n",
    "        plt.show()\n",
    "    def plot_4_5(self):\n",
    "        plt.figure(figsize=[10, 10])\n",
    "        plt.plot(self.m_l[3],self.m_l[4],'g:')\n",
    "        plt.axis([-2, 2, -2, 2])\n",
    "        self.circle()\n",
    "        plt.show()\n",
    "    def plot_6_7(self):\n",
    "        plt.figure(figsize=[10, 10])\n",
    "        plt.plot(self.m_l[5],self.m_l[6],'g:')\n",
    "        plt.axis([-2, 2, -2, 2])\n",
    "        self.circle()\n",
    "        plt.show()\n",
    "    def plot_1_8(self):\n",
    "        plt.figure(figsize=[10, 10])\n",
    "        plt.plot(self.m_l[0],self.m_l[7],'g:')\n",
    "        plt.axis([-2, 2, -2, 2])\n",
    "        self.circle()\n",
    "        plt.show()\n",
    "    def plot_3_4(self):\n",
    "        plt.figure(figsize=[10, 10])\n",
    "        plt.plot(self.m_l[2],self.m_l[3],'g:')\n",
    "        plt.axis([-2, 2, -2, 2])\n",
    "        self.circle()\n",
    "        plt.show()\n",
    "    def plot_4_8(self):\n",
    "        plt.figure(figsize=[10, 10])\n",
    "        plt.plot(self.m_l[3],self.m_l[7],'g:')\n",
    "        plt.axis([-2, 2, -2, 2])\n",
    "        self.circle()\n",
    "        plt.show()"
   ]
  },
  {
   "cell_type": "code",
   "execution_count": null,
   "metadata": {},
   "outputs": [],
   "source": [
    "RHO = lambdify([[m_1,m_2,m_3,m_4,m_5,m_6,m_7,m_8]],rho)\n",
    "RHO_l =[]\n",
    "N=100\n",
    "for i in range(N):\n",
    "    for j in range(N):\n",
    "        m3 = (2*i)/N - 1\n",
    "        m8 = (2*j)/N - 1\n",
    "        rn = np.array([m3,m8,0,0,0,0,0,0])\n",
    "        RHO_ = RHO(rn)\n",
    "        w,v= np.linalg.eig(RHO_)\n",
    "        eig = np.real(w)\n",
    "        pos_elements = eig>=0\n",
    "        if np.all(pos_elements):   \n",
    "            RHO_l.append(RHO_)\n",
    "print(len(RHO_l))\n",
    "m_inst = m_vectors(RHO_l)\n",
    "m = plotting_m(m_inst.m_l)\n",
    "m.plot_cartan()\n",
    "m.plot_1_2()\n",
    "m.plot_4_5()\n",
    "m.plot_6_7()\n",
    "m.plot_1_8()\n",
    "m.plot_3_4()\n",
    "m.plot_4_8()"
   ]
  },
  {
   "cell_type": "code",
   "execution_count": null,
   "metadata": {},
   "outputs": [],
   "source": [
    "\"\"\"RHO = lambdify([[m_1,m_2,m_3,m_4,m_5,m_6,m_7,m_8]],rho)\n",
    "\n",
    "#rn = np.random.rand(8)*2-1\n",
    "rn = np.array([0.5,0,0,0,0,0,0,0]) #0.5775\n",
    "RHO_ = RHO(rn)\n",
    "w,v= np.linalg.eig(RHO_)\n",
    "eig = np.real(w)\n",
    "print(eig)\n",
    "pos_elements = eig>=0\n",
    "np.all(pos_elements)\n",
    "\n",
    "\n",
    "m_inst = m_vectors([RHO_])\n",
    "m = plotting_m(m_inst.m_l)\n",
    "m.plot_cartan()\n",
    "m.plot_1_2()\n",
    "m.plot_4_5()\n",
    "m.plot_6_7()\"\"\""
   ]
  },
  {
   "cell_type": "code",
   "execution_count": null,
   "metadata": {},
   "outputs": [],
   "source": [
    "# Some example data to display\n",
    "x = np.linspace(0, 2 * np.pi, 400)\n",
    "y = np.sin(x ** 2)\n",
    "fig, axs = plt.subplots(2,2)\n",
    "print(axs)\n",
    "fig.suptitle('Vertically stacked subplots')\n",
    "axs[0][0].plot(x, y)\n",
    "axs[0][1].plot(x, -y)\n",
    "axs[1][0].plot(x, y)\n",
    "axs[1][1].plot(x, -y)"
   ]
  },
  {
   "cell_type": "code",
   "execution_count": null,
   "metadata": {},
   "outputs": [],
   "source": [
    "s = \"]][[]]]][[]]\""
   ]
  }
 ],
 "metadata": {
  "kernelspec": {
   "display_name": "Python 3",
   "language": "python",
   "name": "python3"
  },
  "language_info": {
   "codemirror_mode": {
    "name": "ipython",
    "version": 3
   },
   "file_extension": ".py",
   "mimetype": "text/x-python",
   "name": "python",
   "nbconvert_exporter": "python",
   "pygments_lexer": "ipython3",
   "version": "3.7.3"
  }
 },
 "nbformat": 4,
 "nbformat_minor": 2
}
